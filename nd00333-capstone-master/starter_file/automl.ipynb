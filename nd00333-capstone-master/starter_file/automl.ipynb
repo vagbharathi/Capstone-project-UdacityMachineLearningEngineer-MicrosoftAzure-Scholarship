{
  "cells": [
    {
      "cell_type": "markdown",
      "source": [
        "# Automated ML\n",
        "\n",
        "TODO: Import Dependencies. In the cell below, import all the dependencies that you will need to complete the project."
      ],
      "metadata": {}
    },
    {
      "cell_type": "code",
      "source": [
        "import logging\n",
        "import os\n",
        "import csv\n",
        "\n",
        "from matplotlib import pyplot as plt\n",
        "import numpy as np\n",
        "import pandas as pd\n",
        "from sklearn import datasets\n",
        "import pkg_resources\n",
        "\n",
        "import azureml.core\n",
        "from azureml.core.experiment import Experiment\n",
        "from azureml.core.workspace import Workspace\n",
        "from azureml.train.automl import AutoMLConfig\n",
        "from azureml.core.dataset import Dataset\n",
        "from azureml.core.compute import ComputeTarget, AmlCompute\n",
        "from azureml.data.dataset_factory import TabularDatasetFactory\n",
        "from azureml.core.compute_target import ComputeTargetException\n",
        "\n",
        "# Check core SDK version number\n",
        "print(\"SDK version:\", azureml.core.VERSION)"
      ],
      "outputs": [
        {
          "output_type": "stream",
          "name": "stdout",
          "text": [
            "SDK version: 1.26.0\n"
          ]
        }
      ],
      "execution_count": 4,
      "metadata": {
        "gather": {
          "logged": 1618849748370
        },
        "jupyter": {
          "outputs_hidden": false,
          "source_hidden": false
        },
        "nteract": {
          "transient": {
            "deleting": false
          }
        }
      }
    },
    {
      "cell_type": "markdown",
      "source": [
        "## Dataset\n",
        "\n",
        "### Overview\n",
        "TODO: In this markdown cell, give an overview of the dataset you are using. Also mention the task you will be performing.\n",
        "\n",
        "\n",
        "TODO: Get data. In the cell below, write code to access the data you will be using in this project. Remember that the dataset needs to be external."
      ],
      "metadata": {}
    },
    {
      "cell_type": "code",
      "source": [
        "ws = Workspace.from_config()\n",
        "\n",
        "# choose a name for experiment\n",
        "experiment_name = 'AutoMLversion'\n",
        "\n",
        "experiment=Experiment(ws, experiment_name)"
      ],
      "outputs": [],
      "execution_count": 5,
      "metadata": {
        "gather": {
          "logged": 1618849754297
        },
        "jupyter": {
          "outputs_hidden": false,
          "source_hidden": false
        },
        "nteract": {
          "transient": {
            "deleting": false
          }
        }
      }
    },
    {
      "cell_type": "code",
      "source": [
        "amlcompute_cluster_name = \"automl-compute\"\n",
        "\n",
        "# Verify that cluster does not exist already\n",
        "try:\n",
        "    training_cluster = ComputeTarget(workspace=ws, name=amlcompute_cluster_name)\n",
        "    print('Found existing cluster, use it.')\n",
        "except ComputeTargetException:\n",
        "    compute_config = AmlCompute.provisioning_configuration(vm_size='STANDARD_D2_V2',# for GPU, use \"STANDARD_NC6\"\n",
        "                                                           #vm_priority = 'lowpriority', # optional\n",
        "                                                           max_nodes=6)\n",
        "    training_cluster = ComputeTarget.create(ws, amlcompute_cluster_name, compute_config)\n",
        "\n",
        "training_cluster.wait_for_completion(show_output=True, min_node_count = 1, timeout_in_minutes = 10)\n"
      ],
      "outputs": [
        {
          "output_type": "stream",
          "name": "stdout",
          "text": [
            "Found existing cluster, use it.\n",
            "Succeeded.....................................................................................................................\n",
            "AmlCompute wait for completion finished\n",
            "\n",
            "Wait timeout has been reached\n",
            "Current provisioning state of AmlCompute is \"Succeeded\" and current node count is \"0\"\n"
          ]
        }
      ],
      "execution_count": 6,
      "metadata": {
        "gather": {
          "logged": 1618850362312
        }
      }
    },
    {
      "cell_type": "code",
      "source": [
        "found = False\n",
        "key = \"**Breast Cancer Classification**\"\n",
        "description_text = \"**Breast Cancer Classification Dataset for Capstone Peoject Udacity**\"\n",
        "\n",
        "if key in ws.datasets.keys(): \n",
        "        found = True\n",
        "        dataset = ws.datasets[key] \n",
        "\n",
        "if not found:\n",
        "        # Create AML Dataset and register it into Workspace\n",
        "        example_data = 'https://raw.githubusercontent.com/vagbharathi/Capstone-project-UdacityMachineLearningEngineer-MicrosoftAzure-Scholarship/main/nd00333-capstone-master/starter_file/breast_cancer_data.csv'\n",
        "        dataset = Dataset.Tabular.from_delimited_files(example_data)        \n",
        "        #Register Dataset in Workspace\n",
        "        dataset = dataset.register(workspace=ws,\n",
        "                                   name=key,\n",
        "                                   description=description_text)\n",
        "\n",
        "\n",
        "df = dataset.to_pandas_dataframe()\n",
        "df.describe()"
      ],
      "outputs": [
        {
          "output_type": "execute_result",
          "execution_count": 8,
          "data": {
            "text/plain": "       mean_radius  mean_texture  mean_perimeter    mean_area  \\\ncount   569.000000    569.000000      569.000000   569.000000   \nmean     14.127292     19.289649       91.969033   654.889104   \nstd       3.524049      4.301036       24.298981   351.914129   \nmin       6.981000      9.710000       43.790000   143.500000   \n25%      11.700000     16.170000       75.170000   420.300000   \n50%      13.370000     18.840000       86.240000   551.100000   \n75%      15.780000     21.800000      104.100000   782.700000   \nmax      28.110000     39.280000      188.500000  2501.000000   \n\n       mean_smoothness   diagnosis  \ncount       569.000000  569.000000  \nmean          0.096360    0.627417  \nstd           0.014064    0.483918  \nmin           0.052630    0.000000  \n25%           0.086370    0.000000  \n50%           0.095870    1.000000  \n75%           0.105300    1.000000  \nmax           0.163400    1.000000  ",
            "text/html": "<div>\n<style scoped>\n    .dataframe tbody tr th:only-of-type {\n        vertical-align: middle;\n    }\n\n    .dataframe tbody tr th {\n        vertical-align: top;\n    }\n\n    .dataframe thead th {\n        text-align: right;\n    }\n</style>\n<table border=\"1\" class=\"dataframe\">\n  <thead>\n    <tr style=\"text-align: right;\">\n      <th></th>\n      <th>mean_radius</th>\n      <th>mean_texture</th>\n      <th>mean_perimeter</th>\n      <th>mean_area</th>\n      <th>mean_smoothness</th>\n      <th>diagnosis</th>\n    </tr>\n  </thead>\n  <tbody>\n    <tr>\n      <th>count</th>\n      <td>569.000000</td>\n      <td>569.000000</td>\n      <td>569.000000</td>\n      <td>569.000000</td>\n      <td>569.000000</td>\n      <td>569.000000</td>\n    </tr>\n    <tr>\n      <th>mean</th>\n      <td>14.127292</td>\n      <td>19.289649</td>\n      <td>91.969033</td>\n      <td>654.889104</td>\n      <td>0.096360</td>\n      <td>0.627417</td>\n    </tr>\n    <tr>\n      <th>std</th>\n      <td>3.524049</td>\n      <td>4.301036</td>\n      <td>24.298981</td>\n      <td>351.914129</td>\n      <td>0.014064</td>\n      <td>0.483918</td>\n    </tr>\n    <tr>\n      <th>min</th>\n      <td>6.981000</td>\n      <td>9.710000</td>\n      <td>43.790000</td>\n      <td>143.500000</td>\n      <td>0.052630</td>\n      <td>0.000000</td>\n    </tr>\n    <tr>\n      <th>25%</th>\n      <td>11.700000</td>\n      <td>16.170000</td>\n      <td>75.170000</td>\n      <td>420.300000</td>\n      <td>0.086370</td>\n      <td>0.000000</td>\n    </tr>\n    <tr>\n      <th>50%</th>\n      <td>13.370000</td>\n      <td>18.840000</td>\n      <td>86.240000</td>\n      <td>551.100000</td>\n      <td>0.095870</td>\n      <td>1.000000</td>\n    </tr>\n    <tr>\n      <th>75%</th>\n      <td>15.780000</td>\n      <td>21.800000</td>\n      <td>104.100000</td>\n      <td>782.700000</td>\n      <td>0.105300</td>\n      <td>1.000000</td>\n    </tr>\n    <tr>\n      <th>max</th>\n      <td>28.110000</td>\n      <td>39.280000</td>\n      <td>188.500000</td>\n      <td>2501.000000</td>\n      <td>0.163400</td>\n      <td>1.000000</td>\n    </tr>\n  </tbody>\n</table>\n</div>"
          },
          "metadata": {}
        }
      ],
      "execution_count": 8,
      "metadata": {
        "gather": {
          "logged": 1618850402134
        }
      }
    },
    {
      "cell_type": "code",
      "source": [
        "dataset.take(5).to_pandas_dataframe()"
      ],
      "outputs": [
        {
          "output_type": "execute_result",
          "execution_count": 9,
          "data": {
            "text/plain": "   mean_radius  mean_texture  mean_perimeter  mean_area  mean_smoothness  \\\n0        17.99         10.38          122.80     1001.0          0.11840   \n1        20.57         17.77          132.90     1326.0          0.08474   \n2        19.69         21.25          130.00     1203.0          0.10960   \n3        11.42         20.38           77.58      386.1          0.14250   \n4        20.29         14.34          135.10     1297.0          0.10030   \n\n   diagnosis  \n0          0  \n1          0  \n2          0  \n3          0  \n4          0  ",
            "text/html": "<div>\n<style scoped>\n    .dataframe tbody tr th:only-of-type {\n        vertical-align: middle;\n    }\n\n    .dataframe tbody tr th {\n        vertical-align: top;\n    }\n\n    .dataframe thead th {\n        text-align: right;\n    }\n</style>\n<table border=\"1\" class=\"dataframe\">\n  <thead>\n    <tr style=\"text-align: right;\">\n      <th></th>\n      <th>mean_radius</th>\n      <th>mean_texture</th>\n      <th>mean_perimeter</th>\n      <th>mean_area</th>\n      <th>mean_smoothness</th>\n      <th>diagnosis</th>\n    </tr>\n  </thead>\n  <tbody>\n    <tr>\n      <th>0</th>\n      <td>17.99</td>\n      <td>10.38</td>\n      <td>122.80</td>\n      <td>1001.0</td>\n      <td>0.11840</td>\n      <td>0</td>\n    </tr>\n    <tr>\n      <th>1</th>\n      <td>20.57</td>\n      <td>17.77</td>\n      <td>132.90</td>\n      <td>1326.0</td>\n      <td>0.08474</td>\n      <td>0</td>\n    </tr>\n    <tr>\n      <th>2</th>\n      <td>19.69</td>\n      <td>21.25</td>\n      <td>130.00</td>\n      <td>1203.0</td>\n      <td>0.10960</td>\n      <td>0</td>\n    </tr>\n    <tr>\n      <th>3</th>\n      <td>11.42</td>\n      <td>20.38</td>\n      <td>77.58</td>\n      <td>386.1</td>\n      <td>0.14250</td>\n      <td>0</td>\n    </tr>\n    <tr>\n      <th>4</th>\n      <td>20.29</td>\n      <td>14.34</td>\n      <td>135.10</td>\n      <td>1297.0</td>\n      <td>0.10030</td>\n      <td>0</td>\n    </tr>\n  </tbody>\n</table>\n</div>"
          },
          "metadata": {}
        }
      ],
      "execution_count": 9,
      "metadata": {
        "gather": {
          "logged": 1618850411510
        }
      }
    },
    {
      "cell_type": "code",
      "source": [
        "# Split data into train and test sets\n",
        "train, test = dataset.random_split(percentage=0.75, seed=121)"
      ],
      "outputs": [],
      "execution_count": 10,
      "metadata": {
        "gather": {
          "logged": 1618850416806
        }
      }
    },
    {
      "cell_type": "markdown",
      "source": [
        "## AutoML Configuration\n",
        "\n",
        "TODO: Explain why you chose the automl settings and cofiguration you used below."
      ],
      "metadata": {}
    },
    {
      "cell_type": "code",
      "source": [
        "# TODO: Put your automl settings here\n",
        "automl_settings = {\n",
        "    \"experiment_timeout_minutes\": 30,\n",
        "    \"max_concurrent_iterations\": 5,\n",
        "    \"primary_metric\" : 'accuracy'\n",
        "}\n",
        "\n",
        "# TODO: Put your automl config here\n",
        "automl_config = AutoMLConfig(compute_target=training_cluster,\n",
        "                             task = \"classification\",\n",
        "                             training_data=dataset,\n",
        "                             label_column_name=\"diagnosis\",   \n",
        "                             enable_early_stopping= True,\n",
        "                             n_cross_validations=5,\n",
        "                             featurization= 'auto',\n",
        "                             debug_log = \"automl_errors.log\",\n",
        "                             **automl_settings)"
      ],
      "outputs": [],
      "execution_count": 11,
      "metadata": {
        "gather": {
          "logged": 1618850421732
        },
        "jupyter": {
          "outputs_hidden": false,
          "source_hidden": false
        },
        "nteract": {
          "transient": {
            "deleting": false
          }
        }
      }
    },
    {
      "cell_type": "code",
      "source": [
        "# TODO: Submit your experiment\n",
        "remote_run = experiment.submit(automl_config)"
      ],
      "outputs": [
        {
          "output_type": "stream",
          "name": "stdout",
          "text": [
            "Submitting remote run.\n"
          ]
        },
        {
          "output_type": "display_data",
          "data": {
            "text/plain": "<IPython.core.display.HTML object>",
            "text/html": "<table style=\"width:100%\"><tr><th>Experiment</th><th>Id</th><th>Type</th><th>Status</th><th>Details Page</th><th>Docs Page</th></tr><tr><td>AutoMLversion</td><td>AutoML_87f624e4-05d2-4fef-9f6c-7cb0a7ecfcec</td><td>automl</td><td>NotStarted</td><td><a href=\"https://ml.azure.com/runs/AutoML_87f624e4-05d2-4fef-9f6c-7cb0a7ecfcec?wsid=/subscriptions/5a4ab2ba-6c51-4805-8155-58759ad589d8/resourcegroups/aml-quickstarts-143162/workspaces/quick-starts-ws-143162&amp;tid=660b3398-b80e-49d2-bc5b-ac1dc93b5254\" target=\"_blank\" rel=\"noopener\">Link to Azure Machine Learning studio</a></td><td><a href=\"https://docs.microsoft.com/en-us/python/api/overview/azure/ml/intro?view=azure-ml-py\" target=\"_blank\" rel=\"noopener\">Link to Documentation</a></td></tr></table>"
          },
          "metadata": {}
        }
      ],
      "execution_count": 12,
      "metadata": {
        "gather": {
          "logged": 1618850430962
        },
        "jupyter": {
          "outputs_hidden": false,
          "source_hidden": false
        },
        "nteract": {
          "transient": {
            "deleting": false
          }
        }
      }
    },
    {
      "cell_type": "markdown",
      "source": [
        "## Run Details\n",
        "\n",
        "OPTIONAL: Write about the different models trained and their performance. Why do you think some models did better than others?\n",
        "\n",
        "TODO: In the cell below, use the `RunDetails` widget to show the different experiments."
      ],
      "metadata": {}
    },
    {
      "cell_type": "code",
      "source": [
        "from azureml.widgets import RunDetails\n",
        "RunDetails(remote_run).show()\n",
        "remote_run.wait_for_completion(show_output=True)"
      ],
      "outputs": [
        {
          "output_type": "display_data",
          "data": {
            "text/plain": "_AutoMLWidget(widget_settings={'childWidgetDisplay': 'popup', 'send_telemetry': False, 'log_level': 'INFO', 's…",
            "application/vnd.jupyter.widget-view+json": {
              "version_major": 2,
              "version_minor": 0,
              "model_id": "08cea8a906304de896d70ae92974abc6"
            }
          },
          "metadata": {}
        },
        {
          "output_type": "display_data",
          "data": {
            "application/aml.mini.widget.v1": "{\"status\": \"Completed\", \"workbench_run_details_uri\": \"https://ml.azure.com/runs/AutoML_87f624e4-05d2-4fef-9f6c-7cb0a7ecfcec?wsid=/subscriptions/5a4ab2ba-6c51-4805-8155-58759ad589d8/resourcegroups/aml-quickstarts-143162/workspaces/quick-starts-ws-143162&tid=660b3398-b80e-49d2-bc5b-ac1dc93b5254\", \"run_id\": \"AutoML_87f624e4-05d2-4fef-9f6c-7cb0a7ecfcec\", \"run_properties\": {\"run_id\": \"AutoML_87f624e4-05d2-4fef-9f6c-7cb0a7ecfcec\", \"created_utc\": \"2021-04-19T16:40:28.531935Z\", \"properties\": {\"num_iterations\": \"1000\", \"training_type\": \"TrainFull\", \"acquisition_function\": \"EI\", \"primary_metric\": \"accuracy\", \"train_split\": \"0\", \"acquisition_parameter\": \"0\", \"num_cross_validation\": \"5\", \"target\": \"automl-compute\", \"AMLSettingsJsonString\": \"{\\\"path\\\":null,\\\"name\\\":\\\"AutoMLversion\\\",\\\"subscription_id\\\":\\\"5a4ab2ba-6c51-4805-8155-58759ad589d8\\\",\\\"resource_group\\\":\\\"aml-quickstarts-143162\\\",\\\"workspace_name\\\":\\\"quick-starts-ws-143162\\\",\\\"region\\\":\\\"southcentralus\\\",\\\"compute_target\\\":\\\"automl-compute\\\",\\\"spark_service\\\":null,\\\"azure_service\\\":\\\"remote\\\",\\\"many_models\\\":false,\\\"pipeline_fetch_max_batch_size\\\":1,\\\"enable_batch_run\\\":false,\\\"enable_run_restructure\\\":false,\\\"iterations\\\":1000,\\\"primary_metric\\\":\\\"accuracy\\\",\\\"task_type\\\":\\\"classification\\\",\\\"data_script\\\":null,\\\"test_size\\\":0.0,\\\"validation_size\\\":0.0,\\\"n_cross_validations\\\":5,\\\"y_min\\\":null,\\\"y_max\\\":null,\\\"num_classes\\\":null,\\\"featurization\\\":\\\"auto\\\",\\\"_ignore_package_version_incompatibilities\\\":false,\\\"is_timeseries\\\":false,\\\"max_cores_per_iteration\\\":1,\\\"max_concurrent_iterations\\\":5,\\\"iteration_timeout_minutes\\\":null,\\\"mem_in_mb\\\":null,\\\"enforce_time_on_windows\\\":false,\\\"experiment_timeout_minutes\\\":30,\\\"experiment_exit_score\\\":null,\\\"whitelist_models\\\":null,\\\"blacklist_algos\\\":[\\\"TensorFlowLinearClassifier\\\",\\\"TensorFlowDNN\\\"],\\\"supported_models\\\":[\\\"LogisticRegression\\\",\\\"GradientBoosting\\\",\\\"DecisionTree\\\",\\\"SGD\\\",\\\"KNN\\\",\\\"AveragedPerceptronClassifier\\\",\\\"XGBoostClassifier\\\",\\\"TensorFlowDNN\\\",\\\"BernoulliNaiveBayes\\\",\\\"LightGBM\\\",\\\"LinearSVM\\\",\\\"SVM\\\",\\\"MultinomialNaiveBayes\\\",\\\"ExtremeRandomTrees\\\",\\\"TensorFlowLinearClassifier\\\",\\\"RandomForest\\\"],\\\"private_models\\\":[],\\\"auto_blacklist\\\":true,\\\"blacklist_samples_reached\\\":false,\\\"exclude_nan_labels\\\":true,\\\"verbosity\\\":20,\\\"_debug_log\\\":\\\"azureml_automl.log\\\",\\\"show_warnings\\\":false,\\\"model_explainability\\\":true,\\\"service_url\\\":null,\\\"sdk_url\\\":null,\\\"sdk_packages\\\":null,\\\"enable_onnx_compatible_models\\\":false,\\\"enable_split_onnx_featurizer_estimator_models\\\":false,\\\"vm_type\\\":\\\"STANDARD_D2_V2\\\",\\\"telemetry_verbosity\\\":20,\\\"send_telemetry\\\":true,\\\"enable_dnn\\\":false,\\\"scenario\\\":\\\"SDK-1.13.0\\\",\\\"environment_label\\\":null,\\\"save_mlflow\\\":false,\\\"force_text_dnn\\\":false,\\\"enable_feature_sweeping\\\":true,\\\"enable_early_stopping\\\":true,\\\"early_stopping_n_iters\\\":10,\\\"metrics\\\":null,\\\"enable_metric_confidence\\\":false,\\\"enable_ensembling\\\":true,\\\"enable_stack_ensembling\\\":true,\\\"ensemble_iterations\\\":15,\\\"enable_tf\\\":false,\\\"enable_subsampling\\\":null,\\\"subsample_seed\\\":null,\\\"enable_nimbusml\\\":false,\\\"enable_streaming\\\":false,\\\"force_streaming\\\":false,\\\"track_child_runs\\\":true,\\\"allowed_private_models\\\":[],\\\"label_column_name\\\":\\\"diagnosis\\\",\\\"weight_column_name\\\":null,\\\"cv_split_column_names\\\":null,\\\"enable_local_managed\\\":false,\\\"_local_managed_run_id\\\":null,\\\"cost_mode\\\":1,\\\"lag_length\\\":0,\\\"metric_operation\\\":\\\"maximize\\\",\\\"preprocess\\\":true}\", \"DataPrepJsonString\": \"{\\\\\\\"training_data\\\\\\\": {\\\\\\\"datasetId\\\\\\\": \\\\\\\"c87b4c8c-0aff-4c97-873f-3a0e8981f805\\\\\\\"}, \\\\\\\"datasets\\\\\\\": 0}\", \"EnableSubsampling\": null, \"runTemplate\": \"AutoML\", \"azureml.runsource\": \"automl\", \"display_task_type\": \"classification\", \"dependencies_versions\": \"{\\\"azureml-widgets\\\": \\\"1.26.0\\\", \\\"azureml-train\\\": \\\"1.26.0\\\", \\\"azureml-train-restclients-hyperdrive\\\": \\\"1.26.0\\\", \\\"azureml-train-core\\\": \\\"1.26.0\\\", \\\"azureml-train-automl\\\": \\\"1.26.0\\\", \\\"azureml-train-automl-runtime\\\": \\\"1.26.0\\\", \\\"azureml-train-automl-client\\\": \\\"1.26.0\\\", \\\"azureml-tensorboard\\\": \\\"1.26.0\\\", \\\"azureml-telemetry\\\": \\\"1.26.0\\\", \\\"azureml-sdk\\\": \\\"1.26.0\\\", \\\"azureml-samples\\\": \\\"0+unknown\\\", \\\"azureml-pipeline\\\": \\\"1.26.0\\\", \\\"azureml-pipeline-steps\\\": \\\"1.26.0\\\", \\\"azureml-pipeline-core\\\": \\\"1.26.0\\\", \\\"azureml-opendatasets\\\": \\\"1.26.0\\\", \\\"azureml-model-management-sdk\\\": \\\"1.0.1b6.post1\\\", \\\"azureml-mlflow\\\": \\\"1.26.0\\\", \\\"azureml-interpret\\\": \\\"1.26.0\\\", \\\"azureml-explain-model\\\": \\\"1.26.0\\\", \\\"azureml-defaults\\\": \\\"1.26.0\\\", \\\"azureml-dataset-runtime\\\": \\\"1.26.0\\\", \\\"azureml-dataprep\\\": \\\"2.13.2\\\", \\\"azureml-dataprep-rslex\\\": \\\"1.11.2\\\", \\\"azureml-dataprep-native\\\": \\\"32.0.0\\\", \\\"azureml-datadrift\\\": \\\"1.26.0\\\", \\\"azureml-core\\\": \\\"1.26.0\\\", \\\"azureml-contrib-services\\\": \\\"1.26.0\\\", \\\"azureml-contrib-server\\\": \\\"1.26.0\\\", \\\"azureml-contrib-reinforcementlearning\\\": \\\"1.26.0\\\", \\\"azureml-contrib-pipeline-steps\\\": \\\"1.26.0\\\", \\\"azureml-contrib-notebook\\\": \\\"1.26.0\\\", \\\"azureml-contrib-gbdt\\\": \\\"1.26.0\\\", \\\"azureml-contrib-fairness\\\": \\\"1.26.0\\\", \\\"azureml-contrib-dataset\\\": \\\"1.26.0\\\", \\\"azureml-cli-common\\\": \\\"1.26.0\\\", \\\"azureml-automl-runtime\\\": \\\"1.26.0\\\", \\\"azureml-automl-dnn-nlp\\\": \\\"1.26.0\\\", \\\"azureml-automl-core\\\": \\\"1.26.0\\\", \\\"azureml-accel-models\\\": \\\"1.26.0\\\"}\", \"_aml_system_scenario_identification\": \"Remote.Parent\", \"ClientType\": \"SDK\", \"environment_cpu_name\": \"AzureML-AutoML\", \"environment_cpu_label\": \"prod\", \"environment_gpu_name\": \"AzureML-AutoML-GPU\", \"environment_gpu_label\": \"prod\", \"root_attribution\": \"automl\", \"attribution\": \"AutoML\", \"Orchestrator\": \"AutoML\", \"CancelUri\": \"https://southcentralus.experiments.azureml.net/jasmine/v1.0/subscriptions/5a4ab2ba-6c51-4805-8155-58759ad589d8/resourceGroups/aml-quickstarts-143162/providers/Microsoft.MachineLearningServices/workspaces/quick-starts-ws-143162/experimentids/39170c3b-c31e-4df5-a16d-5de3ee4ffc73/cancel/AutoML_87f624e4-05d2-4fef-9f6c-7cb0a7ecfcec\", \"ClientSdkVersion\": \"1.26.0\", \"snapshotId\": \"00000000-0000-0000-0000-000000000000\", \"SetupRunId\": \"AutoML_87f624e4-05d2-4fef-9f6c-7cb0a7ecfcec_setup\", \"SetupRunContainerId\": \"dcid.AutoML_87f624e4-05d2-4fef-9f6c-7cb0a7ecfcec_setup\", \"FeaturizationRunJsonPath\": \"featurizer_container.json\", \"FeaturizationRunId\": \"AutoML_87f624e4-05d2-4fef-9f6c-7cb0a7ecfcec_featurize\", \"ProblemInfoJsonString\": \"{\\\"dataset_num_categorical\\\": 0, \\\"is_sparse\\\": false, \\\"subsampling\\\": false, \\\"dataset_classes\\\": 2, \\\"dataset_features\\\": 5, \\\"dataset_samples\\\": 569, \\\"single_frequency_class_detected\\\": false}\", \"ModelExplainRunId\": \"AutoML_87f624e4-05d2-4fef-9f6c-7cb0a7ecfcec_ModelExplain\"}, \"tags\": {\"model_explain_run\": \"best_run\", \"_aml_system_azureml.automlComponent\": \"AutoML\", \"pipeline_id\": \"\", \"score\": \"\", \"predicted_cost\": \"\", \"fit_time\": \"\", \"training_percent\": \"\", \"iteration\": \"\", \"run_preprocessor\": \"\", \"run_algorithm\": \"\", \"dynamic_whitelisting_iterations\": \"<25>;<30>;<35>;\", \"automl_best_child_run_id\": \"AutoML_87f624e4-05d2-4fef-9f6c-7cb0a7ecfcec_38\", \"model_explain_best_run_child_id\": \"AutoML_87f624e4-05d2-4fef-9f6c-7cb0a7ecfcec_38\"}, \"end_time_utc\": \"2021-04-19T17:07:08.330389Z\", \"status\": \"Completed\", \"log_files\": {}, \"log_groups\": [], \"run_duration\": \"0:26:39\", \"run_number\": \"1\", \"run_queued_details\": {\"status\": \"Completed\", \"details\": null}}, \"child_runs\": [{\"run_id\": \"AutoML_87f624e4-05d2-4fef-9f6c-7cb0a7ecfcec_0\", \"run_number\": 5, \"metric\": null, \"status\": \"Completed\", \"run_type\": \"azureml.scriptrun\", \"training_percent\": \"100\", \"start_time\": \"2021-04-19T16:51:50.123632Z\", \"end_time\": \"2021-04-19T16:52:38.690753Z\", \"created_time\": \"2021-04-19T16:51:37.751882Z\", \"created_time_dt\": \"2021-04-19T16:51:37.751882Z\", \"duration\": \"0:01:00\", \"iteration\": \"0\", \"goal\": \"accuracy_max\", \"run_name\": \"MaxAbsScaler, LightGBM\", \"run_properties\": \"copy=True\", \"primary_metric\": 0.92440615, \"best_metric\": 0.92440615}, {\"run_id\": \"AutoML_87f624e4-05d2-4fef-9f6c-7cb0a7ecfcec_3\", \"run_number\": 6, \"metric\": null, \"status\": \"Completed\", \"run_type\": \"azureml.scriptrun\", \"training_percent\": \"100\", \"start_time\": \"2021-04-19T16:53:56.548119Z\", \"end_time\": \"2021-04-19T16:56:03.564882Z\", \"created_time\": \"2021-04-19T16:51:37.882932Z\", \"created_time_dt\": \"2021-04-19T16:51:37.882932Z\", \"duration\": \"0:04:25\", \"iteration\": \"3\", \"goal\": \"accuracy_max\", \"run_name\": \"MinMaxScaler, RandomForest\", \"run_properties\": \"copy=True, feature_range=(0, 1\", \"primary_metric\": 0.91557212, \"best_metric\": 0.92440615}, {\"run_id\": \"AutoML_87f624e4-05d2-4fef-9f6c-7cb0a7ecfcec_1\", \"run_number\": 7, \"metric\": null, \"status\": \"Completed\", \"run_type\": \"azureml.scriptrun\", \"training_percent\": \"100\", \"start_time\": \"2021-04-19T16:52:54.326928Z\", \"end_time\": \"2021-04-19T16:53:44.52025Z\", \"created_time\": \"2021-04-19T16:51:37.913078Z\", \"created_time_dt\": \"2021-04-19T16:51:37.913078Z\", \"duration\": \"0:02:06\", \"iteration\": \"1\", \"goal\": \"accuracy_max\", \"run_name\": \"MaxAbsScaler, XGBoostClassifier\", \"run_properties\": \"copy=True\", \"primary_metric\": 0.92262071, \"best_metric\": 0.92440615}, {\"run_id\": \"AutoML_87f624e4-05d2-4fef-9f6c-7cb0a7ecfcec_4\", \"run_number\": 8, \"metric\": null, \"status\": \"Completed\", \"run_type\": \"azureml.scriptrun\", \"training_percent\": \"100\", \"start_time\": \"2021-04-19T16:53:58.142851Z\", \"end_time\": \"2021-04-19T16:56:25.687436Z\", \"created_time\": \"2021-04-19T16:51:37.883051Z\", \"created_time_dt\": \"2021-04-19T16:51:37.883051Z\", \"duration\": \"0:04:47\", \"iteration\": \"4\", \"goal\": \"accuracy_max\", \"run_name\": \"MinMaxScaler, RandomForest\", \"run_properties\": \"copy=True, feature_range=(0, 1\", \"primary_metric\": 0.92614501, \"best_metric\": 0.92614501}, {\"run_id\": \"AutoML_87f624e4-05d2-4fef-9f6c-7cb0a7ecfcec_2\", \"run_number\": 9, \"metric\": null, \"status\": \"Completed\", \"run_type\": \"azureml.scriptrun\", \"training_percent\": \"100\", \"start_time\": \"2021-04-19T16:53:58.906546Z\", \"end_time\": \"2021-04-19T16:57:04.122938Z\", \"created_time\": \"2021-04-19T16:51:37.891546Z\", \"created_time_dt\": \"2021-04-19T16:51:37.891546Z\", \"duration\": \"0:05:26\", \"iteration\": \"2\", \"goal\": \"accuracy_max\", \"run_name\": \"MinMaxScaler, RandomForest\", \"run_properties\": \"copy=True, feature_range=(0, 1\", \"primary_metric\": 0.90858562, \"best_metric\": 0.92440615}, {\"run_id\": \"AutoML_87f624e4-05d2-4fef-9f6c-7cb0a7ecfcec_5\", \"run_number\": 10, \"metric\": null, \"status\": \"Completed\", \"run_type\": \"azureml.scriptrun\", \"training_percent\": \"100\", \"start_time\": \"2021-04-19T16:53:58.273625Z\", \"end_time\": \"2021-04-19T16:56:07.832861Z\", \"created_time\": \"2021-04-19T16:52:40.221948Z\", \"created_time_dt\": \"2021-04-19T16:52:40.221948Z\", \"duration\": \"0:03:27\", \"iteration\": \"5\", \"goal\": \"accuracy_max\", \"run_name\": \"MinMaxScaler, LogisticRegression\", \"run_properties\": \"copy=True, feature_range=(0, 1\", \"primary_metric\": 0.91561869, \"best_metric\": 0.92614501}, {\"run_id\": \"AutoML_87f624e4-05d2-4fef-9f6c-7cb0a7ecfcec_6\", \"run_number\": 11, \"metric\": null, \"status\": \"Completed\", \"run_type\": \"azureml.scriptrun\", \"training_percent\": \"100\", \"start_time\": \"2021-04-19T16:53:58.925467Z\", \"end_time\": \"2021-04-19T16:54:42.601302Z\", \"created_time\": \"2021-04-19T16:53:45.886132Z\", \"created_time_dt\": \"2021-04-19T16:53:45.886132Z\", \"duration\": \"0:00:56\", \"iteration\": \"6\", \"goal\": \"accuracy_max\", \"run_name\": \"StandardScalerWrapper, LogisticRegression\", \"run_properties\": \"<azureml.automl.runtime.shared.model_wrappers.StandardScalerWrapper object at 0x7fe8c34e5588\", \"primary_metric\": 0.92614501, \"best_metric\": 0.92614501}, {\"run_id\": \"AutoML_87f624e4-05d2-4fef-9f6c-7cb0a7ecfcec_7\", \"run_number\": 12, \"metric\": null, \"status\": \"Completed\", \"run_type\": \"azureml.scriptrun\", \"training_percent\": \"100\", \"start_time\": \"2021-04-19T16:54:59.52556Z\", \"end_time\": \"2021-04-19T16:55:55.655161Z\", \"created_time\": \"2021-04-19T16:54:46.629637Z\", \"created_time_dt\": \"2021-04-19T16:54:46.629637Z\", \"duration\": \"0:01:09\", \"iteration\": \"7\", \"goal\": \"accuracy_max\", \"run_name\": \"MaxAbsScaler, LightGBM\", \"run_properties\": \"copy=True\", \"primary_metric\": 0.93491694, \"best_metric\": 0.93491694}, {\"run_id\": \"AutoML_87f624e4-05d2-4fef-9f6c-7cb0a7ecfcec_8\", \"run_number\": 13, \"metric\": null, \"status\": \"Completed\", \"run_type\": \"azureml.scriptrun\", \"training_percent\": \"100\", \"start_time\": \"2021-04-19T16:56:12.082154Z\", \"end_time\": \"2021-04-19T16:56:58.868604Z\", \"created_time\": \"2021-04-19T16:55:59.248285Z\", \"created_time_dt\": \"2021-04-19T16:55:59.248285Z\", \"duration\": \"0:00:59\", \"iteration\": \"8\", \"goal\": \"accuracy_max\", \"run_name\": \"SparseNormalizer, XGBoostClassifier\", \"run_properties\": \"<azureml.automl.runtime.shared.model_wrappers.SparseNormalizer object at 0x7fe62ce65128\", \"primary_metric\": 0.91557212, \"best_metric\": 0.93491694}, {\"run_id\": \"AutoML_87f624e4-05d2-4fef-9f6c-7cb0a7ecfcec_9\", \"run_number\": 14, \"metric\": null, \"status\": \"Completed\", \"run_type\": \"azureml.scriptrun\", \"training_percent\": \"100\", \"start_time\": \"2021-04-19T16:56:19.011967Z\", \"end_time\": \"2021-04-19T16:57:07.422743Z\", \"created_time\": \"2021-04-19T16:56:06.725252Z\", \"created_time_dt\": \"2021-04-19T16:56:06.725252Z\", \"duration\": \"0:01:00\", \"iteration\": \"9\", \"goal\": \"accuracy_max\", \"run_name\": \"MaxAbsScaler, LightGBM\", \"run_properties\": \"copy=True\", \"primary_metric\": 0.92614501, \"best_metric\": 0.93491694}, {\"run_id\": \"AutoML_87f624e4-05d2-4fef-9f6c-7cb0a7ecfcec_10\", \"run_number\": 15, \"metric\": null, \"status\": \"Completed\", \"run_type\": \"azureml.scriptrun\", \"training_percent\": \"100\", \"start_time\": \"2021-04-19T16:56:21.072992Z\", \"end_time\": \"2021-04-19T16:57:05.891326Z\", \"created_time\": \"2021-04-19T16:56:10.676886Z\", \"created_time_dt\": \"2021-04-19T16:56:10.676886Z\", \"duration\": \"0:00:55\", \"iteration\": \"10\", \"goal\": \"accuracy_max\", \"run_name\": \"SparseNormalizer, XGBoostClassifier\", \"run_properties\": \"<azureml.automl.runtime.shared.model_wrappers.SparseNormalizer object at 0x7f6d46fefa20\", \"primary_metric\": 0.92260519, \"best_metric\": 0.93491694}, {\"run_id\": \"AutoML_87f624e4-05d2-4fef-9f6c-7cb0a7ecfcec_11\", \"run_number\": 16, \"metric\": null, \"status\": \"Completed\", \"run_type\": \"azureml.scriptrun\", \"training_percent\": \"100\", \"start_time\": \"2021-04-19T16:56:40.509163Z\", \"end_time\": \"2021-04-19T16:57:26.899431Z\", \"created_time\": \"2021-04-19T16:56:30.210083Z\", \"created_time_dt\": \"2021-04-19T16:56:30.210083Z\", \"duration\": \"0:00:56\", \"iteration\": \"11\", \"goal\": \"accuracy_max\", \"run_name\": \"SparseNormalizer, XGBoostClassifier\", \"run_properties\": \"<azureml.automl.runtime.shared.model_wrappers.SparseNormalizer object at 0x7f865abb58d0\", \"primary_metric\": 0.92963825, \"best_metric\": 0.93491694}, {\"run_id\": \"AutoML_87f624e4-05d2-4fef-9f6c-7cb0a7ecfcec_12\", \"run_number\": 17, \"metric\": null, \"status\": \"Completed\", \"run_type\": \"azureml.scriptrun\", \"training_percent\": \"100\", \"start_time\": \"2021-04-19T16:57:11.226179Z\", \"end_time\": \"2021-04-19T16:58:02.419485Z\", \"created_time\": \"2021-04-19T16:57:01.337628Z\", \"created_time_dt\": \"2021-04-19T16:57:01.337628Z\", \"duration\": \"0:01:01\", \"iteration\": \"12\", \"goal\": \"accuracy_max\", \"run_name\": \"MaxAbsScaler, GradientBoosting\", \"run_properties\": \"copy=True\", \"primary_metric\": 0.92439062, \"best_metric\": 0.93491694}, {\"run_id\": \"AutoML_87f624e4-05d2-4fef-9f6c-7cb0a7ecfcec_13\", \"run_number\": 18, \"metric\": null, \"status\": \"Completed\", \"run_type\": \"azureml.scriptrun\", \"training_percent\": \"100\", \"start_time\": \"2021-04-19T16:57:15.74474Z\", \"end_time\": \"2021-04-19T16:57:58.277199Z\", \"created_time\": \"2021-04-19T16:57:05.927651Z\", \"created_time_dt\": \"2021-04-19T16:57:05.927651Z\", \"duration\": \"0:00:52\", \"iteration\": \"13\", \"goal\": \"accuracy_max\", \"run_name\": \"StandardScalerWrapper, LightGBM\", \"run_properties\": \"<azureml.automl.runtime.shared.model_wrappers.StandardScalerWrapper object at 0x7fec53945ef0\", \"primary_metric\": 0.92263624, \"best_metric\": 0.93491694}, {\"run_id\": \"AutoML_87f624e4-05d2-4fef-9f6c-7cb0a7ecfcec_14\", \"run_number\": 19, \"metric\": null, \"status\": \"Completed\", \"run_type\": \"azureml.scriptrun\", \"training_percent\": \"100\", \"start_time\": \"2021-04-19T16:58:19.528597Z\", \"end_time\": \"2021-04-19T16:59:03.773862Z\", \"created_time\": \"2021-04-19T16:57:09.693526Z\", \"created_time_dt\": \"2021-04-19T16:57:09.693526Z\", \"duration\": \"0:01:54\", \"iteration\": \"14\", \"goal\": \"accuracy_max\", \"run_name\": \"RobustScaler, KNN\", \"run_properties\": \"copy=True, quantile_range=[25, 75], with_centering=True,\\n             with_scaling=False\", \"primary_metric\": 0.89624282, \"best_metric\": 0.93491694}, {\"run_id\": \"AutoML_87f624e4-05d2-4fef-9f6c-7cb0a7ecfcec_15\", \"run_number\": 20, \"metric\": null, \"status\": \"Completed\", \"run_type\": \"azureml.scriptrun\", \"training_percent\": \"100\", \"start_time\": \"2021-04-19T16:58:57.598085Z\", \"end_time\": \"2021-04-19T16:59:41.556891Z\", \"created_time\": \"2021-04-19T16:57:09.816081Z\", \"created_time_dt\": \"2021-04-19T16:57:09.816081Z\", \"duration\": \"0:02:31\", \"iteration\": \"15\", \"goal\": \"accuracy_max\", \"run_name\": \"MinMaxScaler, LightGBM\", \"run_properties\": \"copy=True, feature_range=(0, 1\", \"primary_metric\": 0.90680019, \"best_metric\": 0.93491694}, {\"run_id\": \"AutoML_87f624e4-05d2-4fef-9f6c-7cb0a7ecfcec_16\", \"run_number\": 21, \"metric\": null, \"status\": \"Completed\", \"run_type\": \"azureml.scriptrun\", \"training_percent\": \"100\", \"start_time\": \"2021-04-19T16:59:22.415029Z\", \"end_time\": \"2021-04-19T17:00:07.875088Z\", \"created_time\": \"2021-04-19T16:57:29.364083Z\", \"created_time_dt\": \"2021-04-19T16:57:29.364083Z\", \"duration\": \"0:02:38\", \"iteration\": \"16\", \"goal\": \"accuracy_max\", \"run_name\": \"SparseNormalizer, XGBoostClassifier\", \"run_properties\": \"<azureml.automl.runtime.shared.model_wrappers.SparseNormalizer object at 0x7fb35bc19240\", \"primary_metric\": 0.91734203, \"best_metric\": 0.93491694}, {\"run_id\": \"AutoML_87f624e4-05d2-4fef-9f6c-7cb0a7ecfcec_17\", \"run_number\": 22, \"metric\": null, \"status\": \"Completed\", \"run_type\": \"azureml.scriptrun\", \"training_percent\": \"100\", \"start_time\": \"2021-04-19T16:59:43.214175Z\", \"end_time\": \"2021-04-19T17:00:22.570558Z\", \"created_time\": \"2021-04-19T16:58:00.414025Z\", \"created_time_dt\": \"2021-04-19T16:58:00.414025Z\", \"duration\": \"0:02:22\", \"iteration\": \"17\", \"goal\": \"accuracy_max\", \"run_name\": \"SparseNormalizer, XGBoostClassifier\", \"run_properties\": \"<azureml.automl.runtime.shared.model_wrappers.SparseNormalizer object at 0x7f8646f03860\", \"primary_metric\": 0.91731098, \"best_metric\": 0.93491694}, {\"run_id\": \"AutoML_87f624e4-05d2-4fef-9f6c-7cb0a7ecfcec_18\", \"run_number\": 23, \"metric\": null, \"status\": \"Completed\", \"run_type\": \"azureml.scriptrun\", \"training_percent\": \"100\", \"start_time\": \"2021-04-19T16:59:45.549691Z\", \"end_time\": \"2021-04-19T17:02:08.571858Z\", \"created_time\": \"2021-04-19T16:58:04.418306Z\", \"created_time_dt\": \"2021-04-19T16:58:04.418306Z\", \"duration\": \"0:04:04\", \"iteration\": \"18\", \"goal\": \"accuracy_max\", \"run_name\": \"SparseNormalizer, XGBoostClassifier\", \"run_properties\": \"<azureml.automl.runtime.shared.model_wrappers.SparseNormalizer object at 0x7f1a722ecf60\", \"primary_metric\": 0.90853905, \"best_metric\": 0.93491694}, {\"run_id\": \"AutoML_87f624e4-05d2-4fef-9f6c-7cb0a7ecfcec_19\", \"run_number\": 24, \"metric\": null, \"status\": \"Completed\", \"run_type\": \"azureml.scriptrun\", \"training_percent\": \"100\", \"start_time\": \"2021-04-19T16:59:52.947348Z\", \"end_time\": \"2021-04-19T17:00:39.297367Z\", \"created_time\": \"2021-04-19T16:59:06.041899Z\", \"created_time_dt\": \"2021-04-19T16:59:06.041899Z\", \"duration\": \"0:01:33\", \"iteration\": \"19\", \"goal\": \"accuracy_max\", \"run_name\": \"SparseNormalizer, XGBoostClassifier\", \"run_properties\": \"<azureml.automl.runtime.shared.model_wrappers.SparseNormalizer object at 0x7fca28195d68\", \"primary_metric\": 0.91034001, \"best_metric\": 0.93491694}, {\"run_id\": \"AutoML_87f624e4-05d2-4fef-9f6c-7cb0a7ecfcec_20\", \"run_number\": 25, \"metric\": null, \"status\": \"Completed\", \"run_type\": \"azureml.scriptrun\", \"training_percent\": \"100\", \"start_time\": \"2021-04-19T17:00:36.181195Z\", \"end_time\": \"2021-04-19T17:01:23.700066Z\", \"created_time\": \"2021-04-19T16:59:43.356252Z\", \"created_time_dt\": \"2021-04-19T16:59:43.356252Z\", \"duration\": \"0:01:40\", \"iteration\": \"20\", \"goal\": \"accuracy_max\", \"run_name\": \"StandardScalerWrapper, XGBoostClassifier\", \"run_properties\": \"<azureml.automl.runtime.shared.model_wrappers.StandardScalerWrapper object at 0x7fa55d7c7668\", \"primary_metric\": 0.89799721, \"best_metric\": 0.93491694}, {\"run_id\": \"AutoML_87f624e4-05d2-4fef-9f6c-7cb0a7ecfcec_21\", \"run_number\": 26, \"metric\": null, \"status\": \"Completed\", \"run_type\": \"azureml.scriptrun\", \"training_percent\": \"100\", \"start_time\": \"2021-04-19T17:00:54.21266Z\", \"end_time\": \"2021-04-19T17:01:39.999259Z\", \"created_time\": \"2021-04-19T17:00:09.973793Z\", \"created_time_dt\": \"2021-04-19T17:00:09.973793Z\", \"duration\": \"0:01:30\", \"iteration\": \"21\", \"goal\": \"accuracy_max\", \"run_name\": \"MinMaxScaler, LogisticRegression\", \"run_properties\": \"copy=True, feature_range=(0, 1\", \"primary_metric\": 0.92616053, \"best_metric\": 0.93491694}, {\"run_id\": \"AutoML_87f624e4-05d2-4fef-9f6c-7cb0a7ecfcec_22\", \"run_number\": 27, \"metric\": null, \"status\": \"Completed\", \"run_type\": \"azureml.scriptrun\", \"training_percent\": \"100\", \"start_time\": \"2021-04-19T17:01:28.765031Z\", \"end_time\": \"2021-04-19T17:02:15.674752Z\", \"created_time\": \"2021-04-19T17:00:24.370938Z\", \"created_time_dt\": \"2021-04-19T17:00:24.370938Z\", \"duration\": \"0:01:51\", \"iteration\": \"22\", \"goal\": \"accuracy_max\", \"run_name\": \"StandardScalerWrapper, LightGBM\", \"run_properties\": \"<azureml.automl.runtime.shared.model_wrappers.StandardScalerWrapper object at 0x7feffd100a58\", \"primary_metric\": 0.91911194, \"best_metric\": 0.93491694}, {\"run_id\": \"AutoML_87f624e4-05d2-4fef-9f6c-7cb0a7ecfcec_23\", \"run_number\": 28, \"metric\": null, \"status\": \"Completed\", \"run_type\": \"azureml.scriptrun\", \"training_percent\": \"100\", \"start_time\": \"2021-04-19T17:01:35.67775Z\", \"end_time\": \"2021-04-19T17:02:27.383815Z\", \"created_time\": \"2021-04-19T17:00:41.377591Z\", \"created_time_dt\": \"2021-04-19T17:00:41.377591Z\", \"duration\": \"0:01:46\", \"iteration\": \"23\", \"goal\": \"accuracy_max\", \"run_name\": \"MaxAbsScaler, RandomForest\", \"run_properties\": \"copy=True\", \"primary_metric\": 0.89448843, \"best_metric\": 0.93491694}, {\"run_id\": \"AutoML_87f624e4-05d2-4fef-9f6c-7cb0a7ecfcec_24\", \"run_number\": 29, \"metric\": null, \"status\": \"Completed\", \"run_type\": \"azureml.scriptrun\", \"training_percent\": \"100\", \"start_time\": \"2021-04-19T17:02:40.084364Z\", \"end_time\": \"2021-04-19T17:03:29.603266Z\", \"created_time\": \"2021-04-19T17:01:25.656861Z\", \"created_time_dt\": \"2021-04-19T17:01:25.656861Z\", \"duration\": \"0:02:03\", \"iteration\": \"24\", \"goal\": \"accuracy_max\", \"run_name\": \"SparseNormalizer, LightGBM\", \"run_properties\": \"<azureml.automl.runtime.shared.model_wrappers.SparseNormalizer object at 0x7f85bccdeeb8\", \"primary_metric\": 0.93142369, \"best_metric\": 0.93491694}, {\"run_id\": \"AutoML_87f624e4-05d2-4fef-9f6c-7cb0a7ecfcec_25\", \"run_number\": 30, \"metric\": null, \"status\": \"Completed\", \"run_type\": \"azureml.scriptrun\", \"training_percent\": \"100\", \"start_time\": \"2021-04-19T17:02:45.509922Z\", \"end_time\": \"2021-04-19T17:03:32.534806Z\", \"created_time\": \"2021-04-19T17:01:43.212157Z\", \"created_time_dt\": \"2021-04-19T17:01:43.212157Z\", \"duration\": \"0:01:49\", \"iteration\": \"25\", \"goal\": \"accuracy_max\", \"run_name\": \"SparseNormalizer, LightGBM\", \"run_properties\": \"<azureml.automl.runtime.shared.model_wrappers.SparseNormalizer object at 0x7f979e40df28\", \"primary_metric\": 0.87868343, \"best_metric\": 0.93491694}, {\"run_id\": \"AutoML_87f624e4-05d2-4fef-9f6c-7cb0a7ecfcec_26\", \"run_number\": 31, \"metric\": null, \"status\": \"Completed\", \"run_type\": \"azureml.scriptrun\", \"training_percent\": \"100\", \"start_time\": \"2021-04-19T17:02:47.478682Z\", \"end_time\": \"2021-04-19T17:03:35.140679Z\", \"created_time\": \"2021-04-19T17:02:10.749998Z\", \"created_time_dt\": \"2021-04-19T17:02:10.749998Z\", \"duration\": \"0:01:24\", \"iteration\": \"26\", \"goal\": \"accuracy_max\", \"run_name\": \"StandardScalerWrapper, ExtremeRandomTrees\", \"run_properties\": \"<azureml.automl.runtime.shared.model_wrappers.StandardScalerWrapper object at 0x7fd11e2ff048\", \"primary_metric\": 0.90329141, \"best_metric\": 0.93491694}, {\"run_id\": \"AutoML_87f624e4-05d2-4fef-9f6c-7cb0a7ecfcec_27\", \"run_number\": 32, \"metric\": null, \"status\": \"Completed\", \"run_type\": \"azureml.scriptrun\", \"training_percent\": \"100\", \"start_time\": \"2021-04-19T17:02:58.539479Z\", \"end_time\": \"2021-04-19T17:03:54.350551Z\", \"created_time\": \"2021-04-19T17:02:17.627216Z\", \"created_time_dt\": \"2021-04-19T17:02:17.627216Z\", \"duration\": \"0:01:36\", \"iteration\": \"27\", \"goal\": \"accuracy_max\", \"run_name\": \"SparseNormalizer, LightGBM\", \"run_properties\": \"<azureml.automl.runtime.shared.model_wrappers.SparseNormalizer object at 0x7fdbe75e1780\", \"primary_metric\": 0.89799721, \"best_metric\": 0.93491694}, {\"run_id\": \"AutoML_87f624e4-05d2-4fef-9f6c-7cb0a7ecfcec_28\", \"run_number\": 33, \"metric\": null, \"status\": \"Completed\", \"run_type\": \"azureml.scriptrun\", \"training_percent\": \"100\", \"start_time\": \"2021-04-19T17:03:46.414381Z\", \"end_time\": \"2021-04-19T17:04:33.842971Z\", \"created_time\": \"2021-04-19T17:02:29.302384Z\", \"created_time_dt\": \"2021-04-19T17:02:29.302384Z\", \"duration\": \"0:02:04\", \"iteration\": \"28\", \"goal\": \"accuracy_max\", \"run_name\": \"MaxAbsScaler, LightGBM\", \"run_properties\": \"copy=True\", \"primary_metric\": 0.92611396, \"best_metric\": 0.93491694}, {\"run_id\": \"AutoML_87f624e4-05d2-4fef-9f6c-7cb0a7ecfcec_29\", \"run_number\": 34, \"metric\": null, \"status\": \"Completed\", \"run_type\": \"azureml.scriptrun\", \"training_percent\": \"100\", \"start_time\": \"2021-04-19T17:03:44.679204Z\", \"end_time\": \"2021-04-19T17:04:34.360203Z\", \"created_time\": \"2021-04-19T17:03:31.930449Z\", \"created_time_dt\": \"2021-04-19T17:03:31.930449Z\", \"duration\": \"0:01:02\", \"iteration\": \"29\", \"goal\": \"accuracy_max\", \"run_name\": \"StandardScalerWrapper, LightGBM\", \"run_properties\": \"<azureml.automl.runtime.shared.model_wrappers.StandardScalerWrapper object at 0x7f5a79536f28\", \"primary_metric\": 0.9085701, \"best_metric\": 0.93491694}, {\"run_id\": \"AutoML_87f624e4-05d2-4fef-9f6c-7cb0a7ecfcec_30\", \"run_number\": 35, \"metric\": null, \"status\": \"Completed\", \"run_type\": \"azureml.scriptrun\", \"training_percent\": \"100\", \"start_time\": \"2021-04-19T17:03:52.795866Z\", \"end_time\": \"2021-04-19T17:04:47.263316Z\", \"created_time\": \"2021-04-19T17:03:35.86336Z\", \"created_time_dt\": \"2021-04-19T17:03:35.86336Z\", \"duration\": \"0:01:11\", \"iteration\": \"30\", \"goal\": \"accuracy_max\", \"run_name\": \"RobustScaler, LightGBM\", \"run_properties\": \"copy=True, quantile_range=[10, 90], with_centering=True,\\n             with_scaling=False\", \"primary_metric\": 0.91383326, \"best_metric\": 0.93491694}, {\"run_id\": \"AutoML_87f624e4-05d2-4fef-9f6c-7cb0a7ecfcec_31\", \"run_number\": 36, \"metric\": null, \"status\": \"Completed\", \"run_type\": \"azureml.scriptrun\", \"training_percent\": \"100\", \"start_time\": \"2021-04-19T17:04:09.183788Z\", \"end_time\": \"2021-04-19T17:04:58.371311Z\", \"created_time\": \"2021-04-19T17:03:39.520101Z\", \"created_time_dt\": \"2021-04-19T17:03:39.520101Z\", \"duration\": \"0:01:18\", \"iteration\": \"31\", \"goal\": \"accuracy_max\", \"run_name\": \"MaxAbsScaler, ExtremeRandomTrees\", \"run_properties\": \"copy=True\", \"primary_metric\": 0.90153703, \"best_metric\": 0.93491694}, {\"run_id\": \"AutoML_87f624e4-05d2-4fef-9f6c-7cb0a7ecfcec_32\", \"run_number\": 37, \"metric\": null, \"status\": \"Completed\", \"run_type\": \"azureml.scriptrun\", \"training_percent\": \"100\", \"start_time\": \"2021-04-19T17:04:09.497122Z\", \"end_time\": \"2021-04-19T17:04:55.441842Z\", \"created_time\": \"2021-04-19T17:03:56.5052Z\", \"created_time_dt\": \"2021-04-19T17:03:56.5052Z\", \"duration\": \"0:00:58\", \"iteration\": \"32\", \"goal\": \"accuracy_max\", \"run_name\": \"MaxAbsScaler, LogisticRegression\", \"run_properties\": \"copy=True\", \"primary_metric\": 0.9173886, \"best_metric\": 0.93491694}, {\"run_id\": \"AutoML_87f624e4-05d2-4fef-9f6c-7cb0a7ecfcec_33\", \"run_number\": 38, \"metric\": null, \"status\": \"Completed\", \"run_type\": \"azureml.scriptrun\", \"training_percent\": \"100\", \"start_time\": \"2021-04-19T17:04:44.988659Z\", \"end_time\": \"2021-04-19T17:05:29.871282Z\", \"created_time\": \"2021-04-19T17:04:36.908331Z\", \"created_time_dt\": \"2021-04-19T17:04:36.908331Z\", \"duration\": \"0:00:52\", \"iteration\": \"33\", \"goal\": \"accuracy_max\", \"run_name\": \"StandardScalerWrapper, LogisticRegression\", \"run_properties\": \"<azureml.automl.runtime.shared.model_wrappers.StandardScalerWrapper object at 0x7f1cd9024fd0\", \"primary_metric\": 0.92794597, \"best_metric\": 0.93491694}, {\"run_id\": \"AutoML_87f624e4-05d2-4fef-9f6c-7cb0a7ecfcec_34\", \"run_number\": 39, \"metric\": null, \"status\": \"Canceled\", \"run_type\": \"azureml.scriptrun\", \"training_percent\": \"100\", \"start_time\": \"2021-04-19T17:04:48.83207Z\", \"end_time\": \"2021-04-19T17:05:36.482939Z\", \"created_time\": \"2021-04-19T17:04:37.283785Z\", \"created_time_dt\": \"2021-04-19T17:04:37.283785Z\", \"duration\": \"0:00:59\", \"iteration\": \"34\", \"goal\": \"accuracy_max\", \"run_name\": \"RobustScaler, LogisticRegression\", \"run_properties\": \"copy=True, quantile_range=[10, 90], with_centering=True,\\n             with_scaling=True\", \"primary_metric\": 0.92619159, \"best_metric\": 0.93491694}, {\"run_id\": \"AutoML_87f624e4-05d2-4fef-9f6c-7cb0a7ecfcec_35\", \"run_number\": 40, \"metric\": null, \"status\": \"Canceled\", \"run_type\": \"azureml.scriptrun\", \"training_percent\": \"100\", \"start_time\": \"2021-04-19T17:05:01.048576Z\", \"end_time\": \"2021-04-19T17:05:35.990142Z\", \"created_time\": \"2021-04-19T17:04:51.657206Z\", \"created_time_dt\": \"2021-04-19T17:04:51.657206Z\", \"duration\": \"0:00:44\", \"iteration\": \"35\", \"goal\": \"accuracy_max\", \"run_name\": \"StandardScalerWrapper, LightGBM\", \"run_properties\": \"<azureml.automl.runtime.shared.model_wrappers.StandardScalerWrapper object at 0x7f4faf2f7d68\", \"primary_metric\": 0.91560317, \"best_metric\": 0.93491694}, {\"run_id\": \"AutoML_87f624e4-05d2-4fef-9f6c-7cb0a7ecfcec_36\", \"run_number\": 41, \"metric\": null, \"status\": \"Canceled\", \"run_type\": \"azureml.scriptrun\", \"training_percent\": \"100\", \"start_time\": \"2021-04-19T17:05:12.344163Z\", \"end_time\": \"2021-04-19T17:05:36.43019Z\", \"created_time\": \"2021-04-19T17:04:58.318558Z\", \"created_time_dt\": \"2021-04-19T17:04:58.318558Z\", \"duration\": \"0:00:38\", \"iteration\": \"36\", \"goal\": null, \"run_name\": \"SparseNormalizer, XGBoostClassifier\", \"run_properties\": null, \"primary_metric\": 0.92260519, \"best_metric\": 0.93491694}, {\"run_id\": \"AutoML_87f624e4-05d2-4fef-9f6c-7cb0a7ecfcec_37\", \"run_number\": 42, \"metric\": null, \"status\": \"Canceled\", \"run_type\": \"azureml.scriptrun\", \"training_percent\": \"100\", \"start_time\": \"2021-04-19T17:05:16.813202Z\", \"end_time\": \"2021-04-19T17:05:36.296658Z\", \"created_time\": \"2021-04-19T17:05:04.113543Z\", \"created_time_dt\": \"2021-04-19T17:05:04.113543Z\", \"duration\": \"0:00:32\", \"iteration\": \"37\", \"goal\": null, \"run_name\": \"Canceled\", \"run_properties\": null}, {\"run_id\": \"AutoML_87f624e4-05d2-4fef-9f6c-7cb0a7ecfcec_38\", \"run_number\": 43, \"metric\": null, \"status\": \"Completed\", \"run_type\": \"azureml.scriptrun\", \"training_percent\": \"100\", \"start_time\": \"2021-04-19T17:05:47.179415Z\", \"end_time\": \"2021-04-19T17:07:04.969023Z\", \"created_time\": \"2021-04-19T17:05:38.234797Z\", \"created_time_dt\": \"2021-04-19T17:05:38.234797Z\", \"duration\": \"0:01:26\", \"iteration\": \"38\", \"goal\": \"accuracy_max\", \"run_name\": \"VotingEnsemble\", \"run_properties\": \"classification_labels=None,\\n                              estimators=[('7',\\n                                           Pipeline(memory=None,\\n                                                    steps=[('maxabsscaler',\\n                                                            MaxAbsScaler(copy=True\", \"primary_metric\": 0.93673343, \"best_metric\": 0.93673343}, {\"run_id\": \"AutoML_87f624e4-05d2-4fef-9f6c-7cb0a7ecfcec_39\", \"run_number\": 44, \"metric\": null, \"status\": \"Completed\", \"run_type\": \"azureml.scriptrun\", \"training_percent\": \"100\", \"start_time\": \"2021-04-19T17:05:48.461018Z\", \"end_time\": \"2021-04-19T17:07:01.025817Z\", \"created_time\": \"2021-04-19T17:05:38.290445Z\", \"created_time_dt\": \"2021-04-19T17:05:38.290445Z\", \"duration\": \"0:01:22\", \"iteration\": \"39\", \"goal\": \"accuracy_max\", \"run_name\": \"StackEnsemble\", \"run_properties\": \"base_learners=[('7',\\n                                        Pipeline(memory=None,\\n                                                 steps=[('maxabsscaler',\\n                                                         MaxAbsScaler(copy=True\", \"primary_metric\": 0.93143922, \"best_metric\": 0.93673343}], \"children_metrics\": {\"categories\": [0], \"series\": {\"AUC_micro\": [{\"categories\": [\"0\", \"1\", \"2\", \"3\", \"4\", \"5\", \"6\", \"7\", \"8\", \"9\", \"10\", \"11\", \"12\", \"13\", \"14\", \"15\", \"16\", \"17\", \"18\", \"19\", \"20\", \"21\", \"22\", \"23\", \"24\", \"25\", \"26\", \"27\", \"28\", \"29\", \"30\", \"31\", \"32\", \"33\", \"34\", \"35\", \"36\", \"38\", \"39\"], \"mode\": \"markers\", \"name\": \"AUC_micro\", \"stepped\": false, \"type\": \"scatter\", \"data\": [0.9807295935753144, 0.9799942564422371, 0.967479568826288, 0.9713606945838574, 0.978648543365247, 0.9806771331123505, 0.9816961132471083, 0.9807406742933921, 0.9741557424453522, 0.973984134735361, 0.9745006005691348, 0.9789812951356371, 0.9803830939529433, 0.9774273130083027, 0.9498503512505676, 0.964561543554393, 0.9679000057874274, 0.9730021570159204, 0.9439547945751293, 0.9564769364265915, 0.9627721377477159, 0.981759038564876, 0.9754429762312208, 0.9644062134361311, 0.9779792771529598, 0.9230628297926738, 0.9638456308212788, 0.9517611616661341, 0.9748533251108957, 0.9626295310513321, 0.9691164490427615, 0.9650701441754002, 0.9802882956016443, 0.9803063520861169, 0.9801986266321311, 0.969405495009326, 0.9629719257220202, 0.9849371786920177, 0.9812466764775735]}, {\"categories\": [\"0\", \"1\", \"2\", \"3\", \"4\", \"5\", \"6\", \"7\", \"8\", \"9\", \"10\", \"11\", \"12\", \"13\", \"14\", \"15\", \"16\", \"17\", \"18\", \"19\", \"20\", \"21\", \"22\", \"23\", \"24\", \"25\", \"26\", \"27\", \"28\", \"29\", \"30\", \"31\", \"32\", \"33\", \"34\", \"35\", \"36\", \"38\", \"39\"], \"mode\": \"lines\", \"name\": \"AUC_micro_max\", \"stepped\": true, \"type\": \"scatter\", \"data\": [0.9807295935753144, 0.9807295935753144, 0.9807295935753144, 0.9807295935753144, 0.9807295935753144, 0.9807295935753144, 0.9816961132471083, 0.9816961132471083, 0.9816961132471083, 0.9816961132471083, 0.9816961132471083, 0.9816961132471083, 0.9816961132471083, 0.9816961132471083, 0.9816961132471083, 0.9816961132471083, 0.9816961132471083, 0.9816961132471083, 0.9816961132471083, 0.9816961132471083, 0.9816961132471083, 0.981759038564876, 0.981759038564876, 0.981759038564876, 0.981759038564876, 0.981759038564876, 0.981759038564876, 0.981759038564876, 0.981759038564876, 0.981759038564876, 0.981759038564876, 0.981759038564876, 0.981759038564876, 0.981759038564876, 0.981759038564876, 0.981759038564876, 0.981759038564876, 0.9849371786920177, 0.9849371786920177]}], \"recall_score_macro\": [{\"categories\": [\"0\", \"1\", \"2\", \"3\", \"4\", \"5\", \"6\", \"7\", \"8\", \"9\", \"10\", \"11\", \"12\", \"13\", \"14\", \"15\", \"16\", \"17\", \"18\", \"19\", \"20\", \"21\", \"22\", \"23\", \"24\", \"25\", \"26\", \"27\", \"28\", \"29\", \"30\", \"31\", \"32\", \"33\", \"34\", \"35\", \"36\", \"38\", \"39\"], \"mode\": \"markers\", \"name\": \"recall_score_macro\", \"stepped\": false, \"type\": \"scatter\", \"data\": [0.9169465588428338, 0.9137181580021647, 0.8954439818084164, 0.8999894048110326, 0.9234254800398359, 0.8993425327355427, 0.9198781444088013, 0.9268785570785143, 0.9013155133958553, 0.9124542877541764, 0.9110180416348787, 0.91934038701725, 0.9162252160166318, 0.9115786189345864, 0.8833494950122235, 0.8922293802241208, 0.9014764112959945, 0.905260879082396, 0.8908639064817834, 0.8955210257684083, 0.8757120303650472, 0.9188706817222343, 0.9044911622054495, 0.8714122282188848, 0.9202830371856298, 0.8486655787417133, 0.8805839576104869, 0.8803877582531039, 0.913525853004846, 0.8872457299138287, 0.9003521917980895, 0.88153253686645, 0.901516445779021, 0.9280681117013618, 0.9267167603500106, 0.8993801884897271, 0.9082071868888153, 0.9304077780742581, 0.9259301661339597]}, {\"categories\": [\"0\", \"1\", \"2\", \"3\", \"4\", \"5\", \"6\", \"7\", \"8\", \"9\", \"10\", \"11\", \"12\", \"13\", \"14\", \"15\", \"16\", \"17\", \"18\", \"19\", \"20\", \"21\", \"22\", \"23\", \"24\", \"25\", \"26\", \"27\", \"28\", \"29\", \"30\", \"31\", \"32\", \"33\", \"34\", \"35\", \"36\", \"38\", \"39\"], \"mode\": \"lines\", \"name\": \"recall_score_macro_max\", \"stepped\": true, \"type\": \"scatter\", \"data\": [0.9169465588428338, 0.9169465588428338, 0.9169465588428338, 0.9169465588428338, 0.9234254800398359, 0.9234254800398359, 0.9234254800398359, 0.9268785570785143, 0.9268785570785143, 0.9268785570785143, 0.9268785570785143, 0.9268785570785143, 0.9268785570785143, 0.9268785570785143, 0.9268785570785143, 0.9268785570785143, 0.9268785570785143, 0.9268785570785143, 0.9268785570785143, 0.9268785570785143, 0.9268785570785143, 0.9268785570785143, 0.9268785570785143, 0.9268785570785143, 0.9268785570785143, 0.9268785570785143, 0.9268785570785143, 0.9268785570785143, 0.9268785570785143, 0.9268785570785143, 0.9268785570785143, 0.9268785570785143, 0.9268785570785143, 0.9280681117013618, 0.9280681117013618, 0.9280681117013618, 0.9280681117013618, 0.9304077780742581, 0.9304077780742581]}], \"average_precision_score_micro\": [{\"categories\": [\"0\", \"1\", \"2\", \"3\", \"4\", \"5\", \"6\", \"7\", \"8\", \"9\", \"10\", \"11\", \"12\", \"13\", \"14\", \"15\", \"16\", \"17\", \"18\", \"19\", \"20\", \"21\", \"22\", \"23\", \"24\", \"25\", \"26\", \"27\", \"28\", \"29\", \"30\", \"31\", \"32\", \"33\", \"34\", \"35\", \"36\", \"38\", \"39\"], \"mode\": \"markers\", \"name\": \"average_precision_score_micro\", \"stepped\": false, \"type\": \"scatter\", \"data\": [0.9816574410420792, 0.98067090611261, 0.9670066970792865, 0.9704169513944132, 0.9795353331284182, 0.9816086308998825, 0.98259199628515, 0.9812284336188786, 0.9711955550783993, 0.9740059015762739, 0.9703041609662449, 0.9787340034178588, 0.9812657538137171, 0.9780566495146422, 0.9417723980823316, 0.9646803593354474, 0.9621865041211892, 0.9718921503943582, 0.9309614578000633, 0.9453242129484776, 0.9587945816101454, 0.9826478964262921, 0.9745538996006351, 0.9647240856931394, 0.9774982343905675, 0.9107122977218868, 0.9643187151470947, 0.9474862073464522, 0.9748266112011544, 0.9618682389581009, 0.967641720623706, 0.9665170067148328, 0.9812519207174883, 0.981303450046455, 0.9812032903126058, 0.9698982790007274, 0.9567896396109669, 0.9856428149344995, 0.9816458926334712]}, {\"categories\": [\"0\", \"1\", \"2\", \"3\", \"4\", \"5\", \"6\", \"7\", \"8\", \"9\", \"10\", \"11\", \"12\", \"13\", \"14\", \"15\", \"16\", \"17\", \"18\", \"19\", \"20\", \"21\", \"22\", \"23\", \"24\", \"25\", \"26\", \"27\", \"28\", \"29\", \"30\", \"31\", \"32\", \"33\", \"34\", \"35\", \"36\", \"38\", \"39\"], \"mode\": \"lines\", \"name\": \"average_precision_score_micro_max\", \"stepped\": true, \"type\": \"scatter\", \"data\": [0.9816574410420792, 0.9816574410420792, 0.9816574410420792, 0.9816574410420792, 0.9816574410420792, 0.9816574410420792, 0.98259199628515, 0.98259199628515, 0.98259199628515, 0.98259199628515, 0.98259199628515, 0.98259199628515, 0.98259199628515, 0.98259199628515, 0.98259199628515, 0.98259199628515, 0.98259199628515, 0.98259199628515, 0.98259199628515, 0.98259199628515, 0.98259199628515, 0.9826478964262921, 0.9826478964262921, 0.9826478964262921, 0.9826478964262921, 0.9826478964262921, 0.9826478964262921, 0.9826478964262921, 0.9826478964262921, 0.9826478964262921, 0.9826478964262921, 0.9826478964262921, 0.9826478964262921, 0.9826478964262921, 0.9826478964262921, 0.9826478964262921, 0.9826478964262921, 0.9856428149344995, 0.9856428149344995]}], \"recall_score_micro\": [{\"categories\": [\"0\", \"1\", \"2\", \"3\", \"4\", \"5\", \"6\", \"7\", \"8\", \"9\", \"10\", \"11\", \"12\", \"13\", \"14\", \"15\", \"16\", \"17\", \"18\", \"19\", \"20\", \"21\", \"22\", \"23\", \"24\", \"25\", \"26\", \"27\", \"28\", \"29\", \"30\", \"31\", \"32\", \"33\", \"34\", \"35\", \"36\", \"38\", \"39\"], \"mode\": \"markers\", \"name\": \"recall_score_micro\", \"stepped\": false, \"type\": \"scatter\", \"data\": [0.924406148113647, 0.9226207110697097, 0.9085856233504114, 0.9155721161310355, 0.9261450085390468, 0.915618692749573, 0.9261450085390468, 0.9349169383636081, 0.9155721161310355, 0.9261450085390466, 0.9226051855301971, 0.9296382549293588, 0.9243906225741345, 0.9226362366092221, 0.8962428194379756, 0.9068001863064741, 0.9173420276354604, 0.9173109765564353, 0.9085390467318739, 0.9103400093153237, 0.8979972054028877, 0.9261605340785592, 0.9191119391398852, 0.8944884334730631, 0.9314236919732961, 0.8786834342493401, 0.9032914143766495, 0.8979972054028877, 0.9261139574600218, 0.9085700978108988, 0.9138332557056359, 0.9015370284117372, 0.9173886042539978, 0.9279459711224964, 0.9261915851575843, 0.9156031672100605, 0.9226051855301971, 0.9367334264865704, 0.9314392175128086]}, {\"categories\": [\"0\", \"1\", \"2\", \"3\", \"4\", \"5\", \"6\", \"7\", \"8\", \"9\", \"10\", \"11\", \"12\", \"13\", \"14\", \"15\", \"16\", \"17\", \"18\", \"19\", \"20\", \"21\", \"22\", \"23\", \"24\", \"25\", \"26\", \"27\", \"28\", \"29\", \"30\", \"31\", \"32\", \"33\", \"34\", \"35\", \"36\", \"38\", \"39\"], \"mode\": \"lines\", \"name\": \"recall_score_micro_max\", \"stepped\": true, \"type\": \"scatter\", \"data\": [0.924406148113647, 0.924406148113647, 0.924406148113647, 0.924406148113647, 0.9261450085390468, 0.9261450085390468, 0.9261450085390468, 0.9349169383636081, 0.9349169383636081, 0.9349169383636081, 0.9349169383636081, 0.9349169383636081, 0.9349169383636081, 0.9349169383636081, 0.9349169383636081, 0.9349169383636081, 0.9349169383636081, 0.9349169383636081, 0.9349169383636081, 0.9349169383636081, 0.9349169383636081, 0.9349169383636081, 0.9349169383636081, 0.9349169383636081, 0.9349169383636081, 0.9349169383636081, 0.9349169383636081, 0.9349169383636081, 0.9349169383636081, 0.9349169383636081, 0.9349169383636081, 0.9349169383636081, 0.9349169383636081, 0.9349169383636081, 0.9349169383636081, 0.9349169383636081, 0.9349169383636081, 0.9367334264865704, 0.9367334264865704]}], \"precision_score_weighted\": [{\"categories\": [\"0\", \"1\", \"2\", \"3\", \"4\", \"5\", \"6\", \"7\", \"8\", \"9\", \"10\", \"11\", \"12\", \"13\", \"14\", \"15\", \"16\", \"17\", \"18\", \"19\", \"20\", \"21\", \"22\", \"23\", \"24\", \"25\", \"26\", \"27\", \"28\", \"29\", \"30\", \"31\", \"32\", \"33\", \"34\", \"35\", \"36\", \"38\", \"39\"], \"mode\": \"markers\", \"name\": \"precision_score_weighted\", \"stepped\": false, \"type\": \"scatter\", \"data\": [0.9248510995787148, 0.9227167179886905, 0.9105158814371587, 0.918775049379614, 0.9273403885656224, 0.9194966079655311, 0.9272882740023205, 0.9353805302456, 0.9191236787564273, 0.9279928233404661, 0.9239621692587274, 0.9309434355105057, 0.9247544367062591, 0.9236878164476231, 0.8984784751548311, 0.9098807515378375, 0.9213203809517662, 0.9192000785077414, 0.9123848960038698, 0.9124384071536769, 0.9037848447288092, 0.9276742675340989, 0.9206428831392325, 0.8991759798114092, 0.9326838222584252, 0.8861553608043886, 0.909774183799916, 0.9038406429379624, 0.9275816708367757, 0.9142667061886879, 0.9146122778116121, 0.9074701475360177, 0.9208194738901669, 0.9304373850602292, 0.9290453894805907, 0.9180767400972496, 0.9254678538924145, 0.938364314029862, 0.932067645395273]}, {\"categories\": [\"0\", \"1\", \"2\", \"3\", \"4\", \"5\", \"6\", \"7\", \"8\", \"9\", \"10\", \"11\", \"12\", \"13\", \"14\", \"15\", \"16\", \"17\", \"18\", \"19\", \"20\", \"21\", \"22\", \"23\", \"24\", \"25\", \"26\", \"27\", \"28\", \"29\", \"30\", \"31\", \"32\", \"33\", \"34\", \"35\", \"36\", \"38\", \"39\"], \"mode\": \"lines\", \"name\": \"precision_score_weighted_max\", \"stepped\": true, \"type\": \"scatter\", \"data\": [0.9248510995787148, 0.9248510995787148, 0.9248510995787148, 0.9248510995787148, 0.9273403885656224, 0.9273403885656224, 0.9273403885656224, 0.9353805302456, 0.9353805302456, 0.9353805302456, 0.9353805302456, 0.9353805302456, 0.9353805302456, 0.9353805302456, 0.9353805302456, 0.9353805302456, 0.9353805302456, 0.9353805302456, 0.9353805302456, 0.9353805302456, 0.9353805302456, 0.9353805302456, 0.9353805302456, 0.9353805302456, 0.9353805302456, 0.9353805302456, 0.9353805302456, 0.9353805302456, 0.9353805302456, 0.9353805302456, 0.9353805302456, 0.9353805302456, 0.9353805302456, 0.9353805302456, 0.9353805302456, 0.9353805302456, 0.9353805302456, 0.938364314029862, 0.938364314029862]}], \"matthews_correlation\": [{\"categories\": [\"0\", \"1\", \"2\", \"3\", \"4\", \"5\", \"6\", \"7\", \"8\", \"9\", \"10\", \"11\", \"12\", \"13\", \"14\", \"15\", \"16\", \"17\", \"18\", \"19\", \"20\", \"21\", \"22\", \"23\", \"24\", \"25\", \"26\", \"27\", \"28\", \"29\", \"30\", \"31\", \"32\", \"33\", \"34\", \"35\", \"36\", \"38\", \"39\"], \"mode\": \"markers\", \"name\": \"matthews_correlation\", \"stepped\": false, \"type\": \"scatter\", \"data\": [0.8379904309232561, 0.8334736354549545, 0.8044842672093864, 0.8208646857361043, 0.8436686908587298, 0.8202847403486471, 0.8424240319818017, 0.860773639740302, 0.8212840403138297, 0.8424794965583532, 0.8347171161093057, 0.8497054250903183, 0.8376869500853527, 0.8342360248718762, 0.7788930311814359, 0.8017621455838985, 0.8251361049925023, 0.8239867838414696, 0.8063158303858999, 0.8081643880191651, 0.7843377797273106, 0.8424695018628942, 0.8268497081354621, 0.7755069037249016, 0.8533137939416846, 0.7422669440933881, 0.7960994331750861, 0.785628045870091, 0.84245912371166, 0.8066328709678746, 0.8142531145268957, 0.792064550387737, 0.8236396621394455, 0.8484754299877901, 0.8451798144157466, 0.8197802233997894, 0.8358366329609488, 0.8650973280959008, 0.853172721291801]}, {\"categories\": [\"0\", \"1\", \"2\", \"3\", \"4\", \"5\", \"6\", \"7\", \"8\", \"9\", \"10\", \"11\", \"12\", \"13\", \"14\", \"15\", \"16\", \"17\", \"18\", \"19\", \"20\", \"21\", \"22\", \"23\", \"24\", \"25\", \"26\", \"27\", \"28\", \"29\", \"30\", \"31\", \"32\", \"33\", \"34\", \"35\", \"36\", \"38\", \"39\"], \"mode\": \"lines\", \"name\": \"matthews_correlation_max\", \"stepped\": true, \"type\": \"scatter\", \"data\": [0.8379904309232561, 0.8379904309232561, 0.8379904309232561, 0.8379904309232561, 0.8436686908587298, 0.8436686908587298, 0.8436686908587298, 0.860773639740302, 0.860773639740302, 0.860773639740302, 0.860773639740302, 0.860773639740302, 0.860773639740302, 0.860773639740302, 0.860773639740302, 0.860773639740302, 0.860773639740302, 0.860773639740302, 0.860773639740302, 0.860773639740302, 0.860773639740302, 0.860773639740302, 0.860773639740302, 0.860773639740302, 0.860773639740302, 0.860773639740302, 0.860773639740302, 0.860773639740302, 0.860773639740302, 0.860773639740302, 0.860773639740302, 0.860773639740302, 0.860773639740302, 0.860773639740302, 0.860773639740302, 0.860773639740302, 0.860773639740302, 0.8650973280959008, 0.8650973280959008]}], \"AUC_macro\": [{\"categories\": [\"0\", \"1\", \"2\", \"3\", \"4\", \"5\", \"6\", \"7\", \"8\", \"9\", \"10\", \"11\", \"12\", \"13\", \"14\", \"15\", \"16\", \"17\", \"18\", \"19\", \"20\", \"21\", \"22\", \"23\", \"24\", \"25\", \"26\", \"27\", \"28\", \"29\", \"30\", \"31\", \"32\", \"33\", \"34\", \"35\", \"36\", \"38\", \"39\"], \"mode\": \"markers\", \"name\": \"AUC_macro\", \"stepped\": false, \"type\": \"scatter\", \"data\": [0.980456139560934, 0.9788043826455024, 0.9669218795655512, 0.971659181898414, 0.9767102618051867, 0.9804770403105854, 0.9804605429509298, 0.979959638146547, 0.9741527176490727, 0.975442349275718, 0.972889765271991, 0.9786915701169191, 0.979375464045825, 0.9771137720279791, 0.9455238000103471, 0.9672878151088753, 0.9633509888543486, 0.9707471051617524, 0.9391730258173137, 0.9533827911581122, 0.9585461192452245, 0.9805254358776008, 0.9761148863956735, 0.9635214413288982, 0.9773733429607365, 0.9363002597461095, 0.9644296253292077, 0.9473156707286657, 0.9764868143474434, 0.9719477817450803, 0.9722674590594167, 0.963543246037567, 0.9803285503516973, 0.9804665549265948, 0.9802629802038085, 0.9705770901933238, 0.95803404169034, 0.9836830259299084, 0.9828365974353523]}, {\"categories\": [\"0\", \"1\", \"2\", \"3\", \"4\", \"5\", \"6\", \"7\", \"8\", \"9\", \"10\", \"11\", \"12\", \"13\", \"14\", \"15\", \"16\", \"17\", \"18\", \"19\", \"20\", \"21\", \"22\", \"23\", \"24\", \"25\", \"26\", \"27\", \"28\", \"29\", \"30\", \"31\", \"32\", \"33\", \"34\", \"35\", \"36\", \"38\", \"39\"], \"mode\": \"lines\", \"name\": \"AUC_macro_max\", \"stepped\": true, \"type\": \"scatter\", \"data\": [0.980456139560934, 0.980456139560934, 0.980456139560934, 0.980456139560934, 0.980456139560934, 0.9804770403105854, 0.9804770403105854, 0.9804770403105854, 0.9804770403105854, 0.9804770403105854, 0.9804770403105854, 0.9804770403105854, 0.9804770403105854, 0.9804770403105854, 0.9804770403105854, 0.9804770403105854, 0.9804770403105854, 0.9804770403105854, 0.9804770403105854, 0.9804770403105854, 0.9804770403105854, 0.9805254358776008, 0.9805254358776008, 0.9805254358776008, 0.9805254358776008, 0.9805254358776008, 0.9805254358776008, 0.9805254358776008, 0.9805254358776008, 0.9805254358776008, 0.9805254358776008, 0.9805254358776008, 0.9805254358776008, 0.9805254358776008, 0.9805254358776008, 0.9805254358776008, 0.9805254358776008, 0.9836830259299084, 0.9836830259299084]}], \"AUC_weighted\": [{\"categories\": [\"0\", \"1\", \"2\", \"3\", \"4\", \"5\", \"6\", \"7\", \"8\", \"9\", \"10\", \"11\", \"12\", \"13\", \"14\", \"15\", \"16\", \"17\", \"18\", \"19\", \"20\", \"21\", \"22\", \"23\", \"24\", \"25\", \"26\", \"27\", \"28\", \"29\", \"30\", \"31\", \"32\", \"33\", \"34\", \"35\", \"36\", \"38\", \"39\"], \"mode\": \"markers\", \"name\": \"AUC_weighted\", \"stepped\": false, \"type\": \"scatter\", \"data\": [0.980456139560934, 0.9788043826455024, 0.9669218795655512, 0.971659181898414, 0.9767102618051868, 0.9804770403105854, 0.9804605429509298, 0.979959638146547, 0.9741527176490727, 0.9754423492757182, 0.972889765271991, 0.9786915701169191, 0.9793754640458252, 0.9771137720279791, 0.9455238000103471, 0.9672878151088753, 0.9633509888543486, 0.9707471051617524, 0.9391730258173137, 0.9533827911581122, 0.9585461192452245, 0.9805254358776008, 0.9761148863956736, 0.9635214413288982, 0.9773733429607365, 0.9363002597461095, 0.9644296253292077, 0.9473156707286657, 0.9764868143474434, 0.9719477817450803, 0.9722674590594167, 0.9635432460375671, 0.9803285503516973, 0.9804665549265948, 0.9802629802038085, 0.9705770901933238, 0.95803404169034, 0.9836830259299084, 0.9828365974353522]}, {\"categories\": [\"0\", \"1\", \"2\", \"3\", \"4\", \"5\", \"6\", \"7\", \"8\", \"9\", \"10\", \"11\", \"12\", \"13\", \"14\", \"15\", \"16\", \"17\", \"18\", \"19\", \"20\", \"21\", \"22\", \"23\", \"24\", \"25\", \"26\", \"27\", \"28\", \"29\", \"30\", \"31\", \"32\", \"33\", \"34\", \"35\", \"36\", \"38\", \"39\"], \"mode\": \"lines\", \"name\": \"AUC_weighted_max\", \"stepped\": true, \"type\": \"scatter\", \"data\": [0.980456139560934, 0.980456139560934, 0.980456139560934, 0.980456139560934, 0.980456139560934, 0.9804770403105854, 0.9804770403105854, 0.9804770403105854, 0.9804770403105854, 0.9804770403105854, 0.9804770403105854, 0.9804770403105854, 0.9804770403105854, 0.9804770403105854, 0.9804770403105854, 0.9804770403105854, 0.9804770403105854, 0.9804770403105854, 0.9804770403105854, 0.9804770403105854, 0.9804770403105854, 0.9805254358776008, 0.9805254358776008, 0.9805254358776008, 0.9805254358776008, 0.9805254358776008, 0.9805254358776008, 0.9805254358776008, 0.9805254358776008, 0.9805254358776008, 0.9805254358776008, 0.9805254358776008, 0.9805254358776008, 0.9805254358776008, 0.9805254358776008, 0.9805254358776008, 0.9805254358776008, 0.9836830259299084, 0.9836830259299084]}], \"balanced_accuracy\": [{\"categories\": [\"0\", \"1\", \"2\", \"3\", \"4\", \"5\", \"6\", \"7\", \"8\", \"9\", \"10\", \"11\", \"12\", \"13\", \"14\", \"15\", \"16\", \"17\", \"18\", \"19\", \"20\", \"21\", \"22\", \"23\", \"24\", \"25\", \"26\", \"27\", \"28\", \"29\", \"30\", \"31\", \"32\", \"33\", \"34\", \"35\", \"36\", \"38\", \"39\"], \"mode\": \"markers\", \"name\": \"balanced_accuracy\", \"stepped\": false, \"type\": \"scatter\", \"data\": [0.9169465588428338, 0.9137181580021647, 0.8954439818084164, 0.8999894048110326, 0.9234254800398359, 0.8993425327355427, 0.9198781444088013, 0.9268785570785143, 0.9013155133958553, 0.9124542877541764, 0.9110180416348787, 0.91934038701725, 0.9162252160166318, 0.9115786189345864, 0.8833494950122235, 0.8922293802241208, 0.9014764112959945, 0.905260879082396, 0.8908639064817834, 0.8955210257684083, 0.8757120303650472, 0.9188706817222343, 0.9044911622054495, 0.8714122282188848, 0.9202830371856298, 0.8486655787417133, 0.8805839576104869, 0.8803877582531039, 0.913525853004846, 0.8872457299138287, 0.9003521917980895, 0.88153253686645, 0.901516445779021, 0.9280681117013618, 0.9267167603500106, 0.8993801884897271, 0.9082071868888153, 0.9304077780742581, 0.9259301661339597]}, {\"categories\": [\"0\", \"1\", \"2\", \"3\", \"4\", \"5\", \"6\", \"7\", \"8\", \"9\", \"10\", \"11\", \"12\", \"13\", \"14\", \"15\", \"16\", \"17\", \"18\", \"19\", \"20\", \"21\", \"22\", \"23\", \"24\", \"25\", \"26\", \"27\", \"28\", \"29\", \"30\", \"31\", \"32\", \"33\", \"34\", \"35\", \"36\", \"38\", \"39\"], \"mode\": \"lines\", \"name\": \"balanced_accuracy_max\", \"stepped\": true, \"type\": \"scatter\", \"data\": [0.9169465588428338, 0.9169465588428338, 0.9169465588428338, 0.9169465588428338, 0.9234254800398359, 0.9234254800398359, 0.9234254800398359, 0.9268785570785143, 0.9268785570785143, 0.9268785570785143, 0.9268785570785143, 0.9268785570785143, 0.9268785570785143, 0.9268785570785143, 0.9268785570785143, 0.9268785570785143, 0.9268785570785143, 0.9268785570785143, 0.9268785570785143, 0.9268785570785143, 0.9268785570785143, 0.9268785570785143, 0.9268785570785143, 0.9268785570785143, 0.9268785570785143, 0.9268785570785143, 0.9268785570785143, 0.9268785570785143, 0.9268785570785143, 0.9268785570785143, 0.9268785570785143, 0.9268785570785143, 0.9268785570785143, 0.9280681117013618, 0.9280681117013618, 0.9280681117013618, 0.9280681117013618, 0.9304077780742581, 0.9304077780742581]}], \"average_precision_score_macro\": [{\"categories\": [\"0\", \"1\", \"2\", \"3\", \"4\", \"5\", \"6\", \"7\", \"8\", \"9\", \"10\", \"11\", \"12\", \"13\", \"14\", \"15\", \"16\", \"17\", \"18\", \"19\", \"20\", \"21\", \"22\", \"23\", \"24\", \"25\", \"26\", \"27\", \"28\", \"29\", \"30\", \"31\", \"32\", \"33\", \"34\", \"35\", \"36\", \"38\", \"39\"], \"mode\": \"markers\", \"name\": \"average_precision_score_macro\", \"stepped\": false, \"type\": \"scatter\", \"data\": [0.9799668723739134, 0.9784634122826601, 0.9636110334971134, 0.9699168513438471, 0.9763441199630112, 0.9802527189057233, 0.9799957599725415, 0.9798334580912345, 0.9706163625554118, 0.9750065627356295, 0.9687221132176221, 0.9755765360770161, 0.9789303791708767, 0.9765993406439947, 0.9380576698528624, 0.9672561091192972, 0.9585502470771857, 0.9698985408145079, 0.9318276080915698, 0.9426008545359063, 0.9525375868532464, 0.9800664633570022, 0.9750454151916165, 0.9632113779477642, 0.9751338273002854, 0.9253751438276201, 0.964927094024547, 0.944071552693155, 0.9755577160544899, 0.9707537074510274, 0.9681429341180745, 0.9636532781371308, 0.9801714605099624, 0.9800302674793618, 0.9798199588087794, 0.9703712205282058, 0.9529412624003525, 0.9835416023796485, 0.9826797010564927]}, {\"categories\": [\"0\", \"1\", \"2\", \"3\", \"4\", \"5\", \"6\", \"7\", \"8\", \"9\", \"10\", \"11\", \"12\", \"13\", \"14\", \"15\", \"16\", \"17\", \"18\", \"19\", \"20\", \"21\", \"22\", \"23\", \"24\", \"25\", \"26\", \"27\", \"28\", \"29\", \"30\", \"31\", \"32\", \"33\", \"34\", \"35\", \"36\", \"38\", \"39\"], \"mode\": \"lines\", \"name\": \"average_precision_score_macro_max\", \"stepped\": true, \"type\": \"scatter\", \"data\": [0.9799668723739134, 0.9799668723739134, 0.9799668723739134, 0.9799668723739134, 0.9799668723739134, 0.9802527189057233, 0.9802527189057233, 0.9802527189057233, 0.9802527189057233, 0.9802527189057233, 0.9802527189057233, 0.9802527189057233, 0.9802527189057233, 0.9802527189057233, 0.9802527189057233, 0.9802527189057233, 0.9802527189057233, 0.9802527189057233, 0.9802527189057233, 0.9802527189057233, 0.9802527189057233, 0.9802527189057233, 0.9802527189057233, 0.9802527189057233, 0.9802527189057233, 0.9802527189057233, 0.9802527189057233, 0.9802527189057233, 0.9802527189057233, 0.9802527189057233, 0.9802527189057233, 0.9802527189057233, 0.9802527189057233, 0.9802527189057233, 0.9802527189057233, 0.9802527189057233, 0.9802527189057233, 0.9835416023796485, 0.9835416023796485]}], \"recall_score_weighted\": [{\"categories\": [\"0\", \"1\", \"2\", \"3\", \"4\", \"5\", \"6\", \"7\", \"8\", \"9\", \"10\", \"11\", \"12\", \"13\", \"14\", \"15\", \"16\", \"17\", \"18\", \"19\", \"20\", \"21\", \"22\", \"23\", \"24\", \"25\", \"26\", \"27\", \"28\", \"29\", \"30\", \"31\", \"32\", \"33\", \"34\", \"35\", \"36\", \"38\", \"39\"], \"mode\": \"markers\", \"name\": \"recall_score_weighted\", \"stepped\": false, \"type\": \"scatter\", \"data\": [0.924406148113647, 0.9226207110697097, 0.9085856233504114, 0.9155721161310355, 0.9261450085390468, 0.915618692749573, 0.9261450085390468, 0.9349169383636081, 0.9155721161310355, 0.9261450085390466, 0.9226051855301971, 0.9296382549293588, 0.9243906225741345, 0.9226362366092221, 0.8962428194379756, 0.9068001863064741, 0.9173420276354604, 0.9173109765564353, 0.9085390467318739, 0.9103400093153237, 0.8979972054028877, 0.9261605340785592, 0.9191119391398852, 0.8944884334730631, 0.9314236919732961, 0.8786834342493401, 0.9032914143766495, 0.8979972054028877, 0.9261139574600218, 0.9085700978108988, 0.9138332557056359, 0.9015370284117372, 0.9173886042539978, 0.9279459711224964, 0.9261915851575843, 0.9156031672100605, 0.9226051855301971, 0.9367334264865704, 0.9314392175128086]}, {\"categories\": [\"0\", \"1\", \"2\", \"3\", \"4\", \"5\", \"6\", \"7\", \"8\", \"9\", \"10\", \"11\", \"12\", \"13\", \"14\", \"15\", \"16\", \"17\", \"18\", \"19\", \"20\", \"21\", \"22\", \"23\", \"24\", \"25\", \"26\", \"27\", \"28\", \"29\", \"30\", \"31\", \"32\", \"33\", \"34\", \"35\", \"36\", \"38\", \"39\"], \"mode\": \"lines\", \"name\": \"recall_score_weighted_max\", \"stepped\": true, \"type\": \"scatter\", \"data\": [0.924406148113647, 0.924406148113647, 0.924406148113647, 0.924406148113647, 0.9261450085390468, 0.9261450085390468, 0.9261450085390468, 0.9349169383636081, 0.9349169383636081, 0.9349169383636081, 0.9349169383636081, 0.9349169383636081, 0.9349169383636081, 0.9349169383636081, 0.9349169383636081, 0.9349169383636081, 0.9349169383636081, 0.9349169383636081, 0.9349169383636081, 0.9349169383636081, 0.9349169383636081, 0.9349169383636081, 0.9349169383636081, 0.9349169383636081, 0.9349169383636081, 0.9349169383636081, 0.9349169383636081, 0.9349169383636081, 0.9349169383636081, 0.9349169383636081, 0.9349169383636081, 0.9349169383636081, 0.9349169383636081, 0.9349169383636081, 0.9349169383636081, 0.9349169383636081, 0.9349169383636081, 0.9367334264865704, 0.9367334264865704]}], \"f1_score_macro\": [{\"categories\": [\"0\", \"1\", \"2\", \"3\", \"4\", \"5\", \"6\", \"7\", \"8\", \"9\", \"10\", \"11\", \"12\", \"13\", \"14\", \"15\", \"16\", \"17\", \"18\", \"19\", \"20\", \"21\", \"22\", \"23\", \"24\", \"25\", \"26\", \"27\", \"28\", \"29\", \"30\", \"31\", \"32\", \"33\", \"34\", \"35\", \"36\", \"38\", \"39\"], \"mode\": \"markers\", \"name\": \"f1_score_macro\", \"stepped\": false, \"type\": \"scatter\", \"data\": [0.9185165118262966, 0.9163249255053444, 0.9000475385779145, 0.9072621737171496, 0.9212903544511555, 0.9066997116467951, 0.9203835356600454, 0.9297568248175446, 0.9073860120349565, 0.9193038449918539, 0.9158352871725274, 0.9234793751590569, 0.918283291191468, 0.9158650473354519, 0.8871503870861843, 0.8976783385483417, 0.9090443263993142, 0.9100429039084238, 0.8993539121286671, 0.9017720660380503, 0.8862755709772594, 0.920129270932736, 0.9114619841904986, 0.8825029056226924, 0.9253007731091261, 0.8632209454610182, 0.8919975577015435, 0.8876190970494976, 0.9195962132615577, 0.8979234234516685, 0.9058381183437344, 0.8905300364091687, 0.9087265990612631, 0.9232506912489982, 0.9214664134353084, 0.9071396774287546, 0.9152915552782146, 0.9315887372595574, 0.9262202207593171]}, {\"categories\": [\"0\", \"1\", \"2\", \"3\", \"4\", \"5\", \"6\", \"7\", \"8\", \"9\", \"10\", \"11\", \"12\", \"13\", \"14\", \"15\", \"16\", \"17\", \"18\", \"19\", \"20\", \"21\", \"22\", \"23\", \"24\", \"25\", \"26\", \"27\", \"28\", \"29\", \"30\", \"31\", \"32\", \"33\", \"34\", \"35\", \"36\", \"38\", \"39\"], \"mode\": \"lines\", \"name\": \"f1_score_macro_max\", \"stepped\": true, \"type\": \"scatter\", \"data\": [0.9185165118262966, 0.9185165118262966, 0.9185165118262966, 0.9185165118262966, 0.9212903544511555, 0.9212903544511555, 0.9212903544511555, 0.9297568248175446, 0.9297568248175446, 0.9297568248175446, 0.9297568248175446, 0.9297568248175446, 0.9297568248175446, 0.9297568248175446, 0.9297568248175446, 0.9297568248175446, 0.9297568248175446, 0.9297568248175446, 0.9297568248175446, 0.9297568248175446, 0.9297568248175446, 0.9297568248175446, 0.9297568248175446, 0.9297568248175446, 0.9297568248175446, 0.9297568248175446, 0.9297568248175446, 0.9297568248175446, 0.9297568248175446, 0.9297568248175446, 0.9297568248175446, 0.9297568248175446, 0.9297568248175446, 0.9297568248175446, 0.9297568248175446, 0.9297568248175446, 0.9297568248175446, 0.9315887372595574, 0.9315887372595574]}], \"average_precision_score_weighted\": [{\"categories\": [\"0\", \"1\", \"2\", \"3\", \"4\", \"5\", \"6\", \"7\", \"8\", \"9\", \"10\", \"11\", \"12\", \"13\", \"14\", \"15\", \"16\", \"17\", \"18\", \"19\", \"20\", \"21\", \"22\", \"23\", \"24\", \"25\", \"26\", \"27\", \"28\", \"29\", \"30\", \"31\", \"32\", \"33\", \"34\", \"35\", \"36\", \"38\", \"39\"], \"mode\": \"markers\", \"name\": \"average_precision_score_weighted\", \"stepped\": false, \"type\": \"scatter\", \"data\": [0.9822124287241889, 0.9807379755477619, 0.9680889699439493, 0.9724477915295944, 0.9788336020405346, 0.9824216109955166, 0.9822028575787595, 0.9817147103060483, 0.9744241643534686, 0.977378359447761, 0.9717723393842359, 0.9789624949969667, 0.9812400225006785, 0.9790017920453575, 0.9421741040751683, 0.9701341281147865, 0.9607781001891158, 0.9717614717848464, 0.9347021968169924, 0.946715320571381, 0.9572698793228265, 0.9822670184039822, 0.9770596940970192, 0.9666304742874082, 0.9784152596558918, 0.9291946166431243, 0.9681470047926475, 0.9481774559393902, 0.9778832510247402, 0.9733383702136894, 0.9715503248208307, 0.9672655334939584, 0.9823386220591962, 0.9822149560913663, 0.9820347897853339, 0.9731570199051116, 0.9555070061280799, 0.9852928431036251, 0.984499329634966]}, {\"categories\": [\"0\", \"1\", \"2\", \"3\", \"4\", \"5\", \"6\", \"7\", \"8\", \"9\", \"10\", \"11\", \"12\", \"13\", \"14\", \"15\", \"16\", \"17\", \"18\", \"19\", \"20\", \"21\", \"22\", \"23\", \"24\", \"25\", \"26\", \"27\", \"28\", \"29\", \"30\", \"31\", \"32\", \"33\", \"34\", \"35\", \"36\", \"38\", \"39\"], \"mode\": \"lines\", \"name\": \"average_precision_score_weighted_max\", \"stepped\": true, \"type\": \"scatter\", \"data\": [0.9822124287241889, 0.9822124287241889, 0.9822124287241889, 0.9822124287241889, 0.9822124287241889, 0.9824216109955166, 0.9824216109955166, 0.9824216109955166, 0.9824216109955166, 0.9824216109955166, 0.9824216109955166, 0.9824216109955166, 0.9824216109955166, 0.9824216109955166, 0.9824216109955166, 0.9824216109955166, 0.9824216109955166, 0.9824216109955166, 0.9824216109955166, 0.9824216109955166, 0.9824216109955166, 0.9824216109955166, 0.9824216109955166, 0.9824216109955166, 0.9824216109955166, 0.9824216109955166, 0.9824216109955166, 0.9824216109955166, 0.9824216109955166, 0.9824216109955166, 0.9824216109955166, 0.9824216109955166, 0.9824216109955166, 0.9824216109955166, 0.9824216109955166, 0.9824216109955166, 0.9824216109955166, 0.9852928431036251, 0.9852928431036251]}], \"accuracy\": [{\"categories\": [\"0\", \"1\", \"2\", \"3\", \"4\", \"5\", \"6\", \"7\", \"8\", \"9\", \"10\", \"11\", \"12\", \"13\", \"14\", \"15\", \"16\", \"17\", \"18\", \"19\", \"20\", \"21\", \"22\", \"23\", \"24\", \"25\", \"26\", \"27\", \"28\", \"29\", \"30\", \"31\", \"32\", \"33\", \"34\", \"35\", \"36\", \"38\", \"39\"], \"mode\": \"markers\", \"name\": \"accuracy\", \"stepped\": false, \"type\": \"scatter\", \"data\": [0.924406148113647, 0.9226207110697097, 0.9085856233504114, 0.9155721161310355, 0.9261450085390468, 0.915618692749573, 0.9261450085390468, 0.9349169383636081, 0.9155721161310355, 0.9261450085390466, 0.9226051855301971, 0.9296382549293588, 0.9243906225741345, 0.9226362366092221, 0.8962428194379756, 0.9068001863064741, 0.9173420276354604, 0.9173109765564353, 0.9085390467318739, 0.9103400093153237, 0.8979972054028877, 0.9261605340785592, 0.9191119391398852, 0.8944884334730631, 0.9314236919732961, 0.8786834342493401, 0.9032914143766495, 0.8979972054028877, 0.9261139574600218, 0.9085700978108988, 0.9138332557056359, 0.9015370284117372, 0.9173886042539978, 0.9279459711224964, 0.9261915851575843, 0.9156031672100605, 0.9226051855301971, 0.9367334264865704, 0.9314392175128086]}, {\"categories\": [\"0\", \"1\", \"2\", \"3\", \"4\", \"5\", \"6\", \"7\", \"8\", \"9\", \"10\", \"11\", \"12\", \"13\", \"14\", \"15\", \"16\", \"17\", \"18\", \"19\", \"20\", \"21\", \"22\", \"23\", \"24\", \"25\", \"26\", \"27\", \"28\", \"29\", \"30\", \"31\", \"32\", \"33\", \"34\", \"35\", \"36\", \"38\", \"39\"], \"mode\": \"lines\", \"name\": \"accuracy_max\", \"stepped\": true, \"type\": \"scatter\", \"data\": [0.924406148113647, 0.924406148113647, 0.924406148113647, 0.924406148113647, 0.9261450085390468, 0.9261450085390468, 0.9261450085390468, 0.9349169383636081, 0.9349169383636081, 0.9349169383636081, 0.9349169383636081, 0.9349169383636081, 0.9349169383636081, 0.9349169383636081, 0.9349169383636081, 0.9349169383636081, 0.9349169383636081, 0.9349169383636081, 0.9349169383636081, 0.9349169383636081, 0.9349169383636081, 0.9349169383636081, 0.9349169383636081, 0.9349169383636081, 0.9349169383636081, 0.9349169383636081, 0.9349169383636081, 0.9349169383636081, 0.9349169383636081, 0.9349169383636081, 0.9349169383636081, 0.9349169383636081, 0.9349169383636081, 0.9349169383636081, 0.9349169383636081, 0.9349169383636081, 0.9349169383636081, 0.9367334264865704, 0.9367334264865704]}], \"precision_score_macro\": [{\"categories\": [\"0\", \"1\", \"2\", \"3\", \"4\", \"5\", \"6\", \"7\", \"8\", \"9\", \"10\", \"11\", \"12\", \"13\", \"14\", \"15\", \"16\", \"17\", \"18\", \"19\", \"20\", \"21\", \"22\", \"23\", \"24\", \"25\", \"26\", \"27\", \"28\", \"29\", \"30\", \"31\", \"32\", \"33\", \"34\", \"35\", \"36\", \"38\", \"39\"], \"mode\": \"markers\", \"name\": \"precision_score_macro\", \"stepped\": false, \"type\": \"scatter\", \"data\": [0.9211067593599044, 0.91980059517124, 0.9093608252534112, 0.9213696452321665, 0.9203086926539268, 0.9214989981422212, 0.9226385853886647, 0.933971327617669, 0.9204298532918649, 0.9303036968901746, 0.923881030854715, 0.9305288173972384, 0.9215250393379284, 0.9228153394616809, 0.8958875935916117, 0.9100202884011763, 0.9241858588161053, 0.9189718492350071, 0.9160280534873918, 0.912944528385997, 0.9096849761048492, 0.9237336176679076, 0.9226892731329658, 0.9050152163886759, 0.9332058331407829, 0.895137784328961, 0.9166188417053813, 0.9061152169485502, 0.9291624184555713, 0.9203663225596653, 0.9141173627360759, 0.9114890866279157, 0.9226145492577723, 0.9205193534947057, 0.9185885548247764, 0.9208329802928457, 0.928008572375661, 0.9348021154244007, 0.927279726074301]}, {\"categories\": [\"0\", \"1\", \"2\", \"3\", \"4\", \"5\", \"6\", \"7\", \"8\", \"9\", \"10\", \"11\", \"12\", \"13\", \"14\", \"15\", \"16\", \"17\", \"18\", \"19\", \"20\", \"21\", \"22\", \"23\", \"24\", \"25\", \"26\", \"27\", \"28\", \"29\", \"30\", \"31\", \"32\", \"33\", \"34\", \"35\", \"36\", \"38\", \"39\"], \"mode\": \"lines\", \"name\": \"precision_score_macro_max\", \"stepped\": true, \"type\": \"scatter\", \"data\": [0.9211067593599044, 0.9211067593599044, 0.9211067593599044, 0.9213696452321665, 0.9213696452321665, 0.9214989981422212, 0.9226385853886647, 0.933971327617669, 0.933971327617669, 0.933971327617669, 0.933971327617669, 0.933971327617669, 0.933971327617669, 0.933971327617669, 0.933971327617669, 0.933971327617669, 0.933971327617669, 0.933971327617669, 0.933971327617669, 0.933971327617669, 0.933971327617669, 0.933971327617669, 0.933971327617669, 0.933971327617669, 0.933971327617669, 0.933971327617669, 0.933971327617669, 0.933971327617669, 0.933971327617669, 0.933971327617669, 0.933971327617669, 0.933971327617669, 0.933971327617669, 0.933971327617669, 0.933971327617669, 0.933971327617669, 0.933971327617669, 0.9348021154244007, 0.9348021154244007]}], \"norm_macro_recall\": [{\"categories\": [\"0\", \"1\", \"2\", \"3\", \"4\", \"5\", \"6\", \"7\", \"8\", \"9\", \"10\", \"11\", \"12\", \"13\", \"14\", \"15\", \"16\", \"17\", \"18\", \"19\", \"20\", \"21\", \"22\", \"23\", \"24\", \"25\", \"26\", \"27\", \"28\", \"29\", \"30\", \"31\", \"32\", \"33\", \"34\", \"35\", \"36\", \"38\", \"39\"], \"mode\": \"markers\", \"name\": \"norm_macro_recall\", \"stepped\": false, \"type\": \"scatter\", \"data\": [0.8338931176856678, 0.8274363160043292, 0.7908879636168329, 0.799978809622065, 0.8468509600796719, 0.7986850654710855, 0.8397562888176026, 0.8537571141570286, 0.8026310267917107, 0.8249085755083527, 0.8220360832697573, 0.8386807740344999, 0.8324504320332634, 0.8231572378691727, 0.766698990024447, 0.7844587604482414, 0.802952822591989, 0.8105217581647921, 0.7817278129635669, 0.7910420515368166, 0.7514240607300945, 0.8377413634444684, 0.8089823244108988, 0.7428244564377697, 0.8405660743712595, 0.6973311574834268, 0.7611679152209738, 0.7607755165062079, 0.8270517060096921, 0.7744914598276572, 0.8007043835961788, 0.7630650737329001, 0.8030328915580419, 0.8561362234027238, 0.853433520700021, 0.7987603769794543, 0.8164143737776307, 0.8608155561485162, 0.8518603322679195]}, {\"categories\": [\"0\", \"1\", \"2\", \"3\", \"4\", \"5\", \"6\", \"7\", \"8\", \"9\", \"10\", \"11\", \"12\", \"13\", \"14\", \"15\", \"16\", \"17\", \"18\", \"19\", \"20\", \"21\", \"22\", \"23\", \"24\", \"25\", \"26\", \"27\", \"28\", \"29\", \"30\", \"31\", \"32\", \"33\", \"34\", \"35\", \"36\", \"38\", \"39\"], \"mode\": \"lines\", \"name\": \"norm_macro_recall_max\", \"stepped\": true, \"type\": \"scatter\", \"data\": [0.8338931176856678, 0.8338931176856678, 0.8338931176856678, 0.8338931176856678, 0.8468509600796719, 0.8468509600796719, 0.8468509600796719, 0.8537571141570286, 0.8537571141570286, 0.8537571141570286, 0.8537571141570286, 0.8537571141570286, 0.8537571141570286, 0.8537571141570286, 0.8537571141570286, 0.8537571141570286, 0.8537571141570286, 0.8537571141570286, 0.8537571141570286, 0.8537571141570286, 0.8537571141570286, 0.8537571141570286, 0.8537571141570286, 0.8537571141570286, 0.8537571141570286, 0.8537571141570286, 0.8537571141570286, 0.8537571141570286, 0.8537571141570286, 0.8537571141570286, 0.8537571141570286, 0.8537571141570286, 0.8537571141570286, 0.8561362234027238, 0.8561362234027238, 0.8561362234027238, 0.8561362234027238, 0.8608155561485162, 0.8608155561485162]}], \"f1_score_micro\": [{\"categories\": [\"0\", \"1\", \"2\", \"3\", \"4\", \"5\", \"6\", \"7\", \"8\", \"9\", \"10\", \"11\", \"12\", \"13\", \"14\", \"15\", \"16\", \"17\", \"18\", \"19\", \"20\", \"21\", \"22\", \"23\", \"24\", \"25\", \"26\", \"27\", \"28\", \"29\", \"30\", \"31\", \"32\", \"33\", \"34\", \"35\", \"36\", \"38\", \"39\"], \"mode\": \"markers\", \"name\": \"f1_score_micro\", \"stepped\": false, \"type\": \"scatter\", \"data\": [0.924406148113647, 0.9226207110697097, 0.9085856233504114, 0.9155721161310355, 0.9261450085390468, 0.915618692749573, 0.9261450085390468, 0.9349169383636081, 0.9155721161310355, 0.9261450085390466, 0.9226051855301971, 0.9296382549293588, 0.9243906225741345, 0.9226362366092221, 0.8962428194379756, 0.9068001863064741, 0.9173420276354604, 0.9173109765564353, 0.9085390467318739, 0.9103400093153237, 0.8979972054028877, 0.9261605340785592, 0.9191119391398852, 0.8944884334730631, 0.9314236919732961, 0.8786834342493401, 0.9032914143766495, 0.8979972054028877, 0.9261139574600218, 0.9085700978108988, 0.9138332557056359, 0.9015370284117372, 0.9173886042539978, 0.9279459711224964, 0.9261915851575843, 0.9156031672100605, 0.9226051855301971, 0.9367334264865704, 0.9314392175128086]}, {\"categories\": [\"0\", \"1\", \"2\", \"3\", \"4\", \"5\", \"6\", \"7\", \"8\", \"9\", \"10\", \"11\", \"12\", \"13\", \"14\", \"15\", \"16\", \"17\", \"18\", \"19\", \"20\", \"21\", \"22\", \"23\", \"24\", \"25\", \"26\", \"27\", \"28\", \"29\", \"30\", \"31\", \"32\", \"33\", \"34\", \"35\", \"36\", \"38\", \"39\"], \"mode\": \"lines\", \"name\": \"f1_score_micro_max\", \"stepped\": true, \"type\": \"scatter\", \"data\": [0.924406148113647, 0.924406148113647, 0.924406148113647, 0.924406148113647, 0.9261450085390468, 0.9261450085390468, 0.9261450085390468, 0.9349169383636081, 0.9349169383636081, 0.9349169383636081, 0.9349169383636081, 0.9349169383636081, 0.9349169383636081, 0.9349169383636081, 0.9349169383636081, 0.9349169383636081, 0.9349169383636081, 0.9349169383636081, 0.9349169383636081, 0.9349169383636081, 0.9349169383636081, 0.9349169383636081, 0.9349169383636081, 0.9349169383636081, 0.9349169383636081, 0.9349169383636081, 0.9349169383636081, 0.9349169383636081, 0.9349169383636081, 0.9349169383636081, 0.9349169383636081, 0.9349169383636081, 0.9349169383636081, 0.9349169383636081, 0.9349169383636081, 0.9349169383636081, 0.9349169383636081, 0.9367334264865704, 0.9367334264865704]}], \"precision_score_micro\": [{\"categories\": [\"0\", \"1\", \"2\", \"3\", \"4\", \"5\", \"6\", \"7\", \"8\", \"9\", \"10\", \"11\", \"12\", \"13\", \"14\", \"15\", \"16\", \"17\", \"18\", \"19\", \"20\", \"21\", \"22\", \"23\", \"24\", \"25\", \"26\", \"27\", \"28\", \"29\", \"30\", \"31\", \"32\", \"33\", \"34\", \"35\", \"36\", \"38\", \"39\"], \"mode\": \"markers\", \"name\": \"precision_score_micro\", \"stepped\": false, \"type\": \"scatter\", \"data\": [0.924406148113647, 0.9226207110697097, 0.9085856233504114, 0.9155721161310355, 0.9261450085390468, 0.915618692749573, 0.9261450085390468, 0.9349169383636081, 0.9155721161310355, 0.9261450085390466, 0.9226051855301971, 0.9296382549293588, 0.9243906225741345, 0.9226362366092221, 0.8962428194379756, 0.9068001863064741, 0.9173420276354604, 0.9173109765564353, 0.9085390467318739, 0.9103400093153237, 0.8979972054028877, 0.9261605340785592, 0.9191119391398852, 0.8944884334730631, 0.9314236919732961, 0.8786834342493401, 0.9032914143766495, 0.8979972054028877, 0.9261139574600218, 0.9085700978108988, 0.9138332557056359, 0.9015370284117372, 0.9173886042539978, 0.9279459711224964, 0.9261915851575843, 0.9156031672100605, 0.9226051855301971, 0.9367334264865704, 0.9314392175128086]}, {\"categories\": [\"0\", \"1\", \"2\", \"3\", \"4\", \"5\", \"6\", \"7\", \"8\", \"9\", \"10\", \"11\", \"12\", \"13\", \"14\", \"15\", \"16\", \"17\", \"18\", \"19\", \"20\", \"21\", \"22\", \"23\", \"24\", \"25\", \"26\", \"27\", \"28\", \"29\", \"30\", \"31\", \"32\", \"33\", \"34\", \"35\", \"36\", \"38\", \"39\"], \"mode\": \"lines\", \"name\": \"precision_score_micro_max\", \"stepped\": true, \"type\": \"scatter\", \"data\": [0.924406148113647, 0.924406148113647, 0.924406148113647, 0.924406148113647, 0.9261450085390468, 0.9261450085390468, 0.9261450085390468, 0.9349169383636081, 0.9349169383636081, 0.9349169383636081, 0.9349169383636081, 0.9349169383636081, 0.9349169383636081, 0.9349169383636081, 0.9349169383636081, 0.9349169383636081, 0.9349169383636081, 0.9349169383636081, 0.9349169383636081, 0.9349169383636081, 0.9349169383636081, 0.9349169383636081, 0.9349169383636081, 0.9349169383636081, 0.9349169383636081, 0.9349169383636081, 0.9349169383636081, 0.9349169383636081, 0.9349169383636081, 0.9349169383636081, 0.9349169383636081, 0.9349169383636081, 0.9349169383636081, 0.9349169383636081, 0.9349169383636081, 0.9349169383636081, 0.9349169383636081, 0.9367334264865704, 0.9367334264865704]}], \"f1_score_weighted\": [{\"categories\": [\"0\", \"1\", \"2\", \"3\", \"4\", \"5\", \"6\", \"7\", \"8\", \"9\", \"10\", \"11\", \"12\", \"13\", \"14\", \"15\", \"16\", \"17\", \"18\", \"19\", \"20\", \"21\", \"22\", \"23\", \"24\", \"25\", \"26\", \"27\", \"28\", \"29\", \"30\", \"31\", \"32\", \"33\", \"34\", \"35\", \"36\", \"38\", \"39\"], \"mode\": \"markers\", \"name\": \"f1_score_weighted\", \"stepped\": false, \"type\": \"scatter\", \"data\": [0.9241779729343014, 0.9222768167417161, 0.9074799602594108, 0.9141532975284475, 0.9262383990362146, 0.9142636320107782, 0.9259167011299162, 0.9345497202672186, 0.9142157550030084, 0.9252269696909338, 0.9218224582056662, 0.9289683001277271, 0.9240392282697936, 0.9219683106810462, 0.8951828208951426, 0.905292785357951, 0.9159432122912816, 0.9163812793087546, 0.9068104991800275, 0.909170780196012, 0.8952594148921327, 0.9258489887971386, 0.9180329201203383, 0.8918441223854525, 0.930766081878707, 0.8749167414003916, 0.9007460414308455, 0.8959250491026298, 0.9252955146077673, 0.9062830955580242, 0.9130170982515982, 0.8992199233775187, 0.9161523724100663, 0.9282728064653047, 0.9265745878166218, 0.9142281333368482, 0.9215248072754691, 0.9366245992586416, 0.9314051699014911]}, {\"categories\": [\"0\", \"1\", \"2\", \"3\", \"4\", \"5\", \"6\", \"7\", \"8\", \"9\", \"10\", \"11\", \"12\", \"13\", \"14\", \"15\", \"16\", \"17\", \"18\", \"19\", \"20\", \"21\", \"22\", \"23\", \"24\", \"25\", \"26\", \"27\", \"28\", \"29\", \"30\", \"31\", \"32\", \"33\", \"34\", \"35\", \"36\", \"38\", \"39\"], \"mode\": \"lines\", \"name\": \"f1_score_weighted_max\", \"stepped\": true, \"type\": \"scatter\", \"data\": [0.9241779729343014, 0.9241779729343014, 0.9241779729343014, 0.9241779729343014, 0.9262383990362146, 0.9262383990362146, 0.9262383990362146, 0.9345497202672186, 0.9345497202672186, 0.9345497202672186, 0.9345497202672186, 0.9345497202672186, 0.9345497202672186, 0.9345497202672186, 0.9345497202672186, 0.9345497202672186, 0.9345497202672186, 0.9345497202672186, 0.9345497202672186, 0.9345497202672186, 0.9345497202672186, 0.9345497202672186, 0.9345497202672186, 0.9345497202672186, 0.9345497202672186, 0.9345497202672186, 0.9345497202672186, 0.9345497202672186, 0.9345497202672186, 0.9345497202672186, 0.9345497202672186, 0.9345497202672186, 0.9345497202672186, 0.9345497202672186, 0.9345497202672186, 0.9345497202672186, 0.9345497202672186, 0.9366245992586416, 0.9366245992586416]}], \"weighted_accuracy\": [{\"categories\": [\"0\", \"1\", \"2\", \"3\", \"4\", \"5\", \"6\", \"7\", \"8\", \"9\", \"10\", \"11\", \"12\", \"13\", \"14\", \"15\", \"16\", \"17\", \"18\", \"19\", \"20\", \"21\", \"22\", \"23\", \"24\", \"25\", \"26\", \"27\", \"28\", \"29\", \"30\", \"31\", \"32\", \"33\", \"34\", \"35\", \"36\", \"38\", \"39\"], \"mode\": \"markers\", \"name\": \"weighted_accuracy\", \"stepped\": false, \"type\": \"scatter\", \"data\": [0.9308519491806369, 0.930335212253531, 0.9200459910505312, 0.929298547998242, 0.9287206568303767, 0.9298764500592549, 0.9316803482833432, 0.9419586045303537, 0.9281851403382075, 0.9381109068721848, 0.9328135689687194, 0.9387103868754284, 0.9314843684004297, 0.9323381153953868, 0.9075928780610776, 0.9196815414071919, 0.9313235672481064, 0.9279681590209133, 0.924100398502976, 0.9233677061652539, 0.9175379539428443, 0.9325785321197827, 0.9318031721318663, 0.9146238577311271, 0.9411400657183224, 0.9047529466589703, 0.9231726360360014, 0.9136500904781031, 0.9371457615017569, 0.9271785006251425, 0.9254135291809972, 0.9191605207436357, 0.9312693342379074, 0.9279778300617127, 0.9258862528994742, 0.92979147586053, 0.935260203724817, 0.9423792552603283, 0.9363208560168813]}, {\"categories\": [\"0\", \"1\", \"2\", \"3\", \"4\", \"5\", \"6\", \"7\", \"8\", \"9\", \"10\", \"11\", \"12\", \"13\", \"14\", \"15\", \"16\", \"17\", \"18\", \"19\", \"20\", \"21\", \"22\", \"23\", \"24\", \"25\", \"26\", \"27\", \"28\", \"29\", \"30\", \"31\", \"32\", \"33\", \"34\", \"35\", \"36\", \"38\", \"39\"], \"mode\": \"lines\", \"name\": \"weighted_accuracy_max\", \"stepped\": true, \"type\": \"scatter\", \"data\": [0.9308519491806369, 0.9308519491806369, 0.9308519491806369, 0.9308519491806369, 0.9308519491806369, 0.9308519491806369, 0.9316803482833432, 0.9419586045303537, 0.9419586045303537, 0.9419586045303537, 0.9419586045303537, 0.9419586045303537, 0.9419586045303537, 0.9419586045303537, 0.9419586045303537, 0.9419586045303537, 0.9419586045303537, 0.9419586045303537, 0.9419586045303537, 0.9419586045303537, 0.9419586045303537, 0.9419586045303537, 0.9419586045303537, 0.9419586045303537, 0.9419586045303537, 0.9419586045303537, 0.9419586045303537, 0.9419586045303537, 0.9419586045303537, 0.9419586045303537, 0.9419586045303537, 0.9419586045303537, 0.9419586045303537, 0.9419586045303537, 0.9419586045303537, 0.9419586045303537, 0.9419586045303537, 0.9423792552603283, 0.9423792552603283]}], \"log_loss\": [{\"categories\": [\"0\", \"1\", \"2\", \"3\", \"4\", \"5\", \"6\", \"7\", \"8\", \"9\", \"10\", \"11\", \"12\", \"13\", \"14\", \"15\", \"16\", \"17\", \"18\", \"19\", \"20\", \"21\", \"22\", \"23\", \"24\", \"25\", \"26\", \"27\", \"28\", \"29\", \"30\", \"31\", \"32\", \"33\", \"34\", \"35\", \"36\", \"38\", \"39\"], \"mode\": \"markers\", \"name\": \"log_loss\", \"stepped\": false, \"type\": \"scatter\", \"data\": [0.23258020647063762, 0.18652531490887583, 0.2805957288003195, 0.2722791671681746, 0.1878766429375576, 0.20148116390854343, 0.17274771362811087, 0.1821009558791199, 0.20044142045599056, 0.2688531374000095, 0.20860228881381646, 0.18453305091014943, 0.19172202516859377, 0.2001633073604145, 0.8091264459702738, 0.2945211075590566, 0.2323549486354691, 0.21766568539937445, 0.38528803131372136, 0.3520014050905759, 0.3683639262381666, 0.1725439080546592, 0.2455555749140539, 0.2564690513284763, 0.18837824026342814, 0.4664119741799803, 0.3108775803882521, 0.29126413635297377, 0.2549425120255036, 0.35463300686551563, 0.3005508897040103, 0.2804740643036661, 0.20850570521794975, 0.17892783340120497, 0.17875525622248128, 0.26452729255164326, 0.2557304827749114, 0.16731568811134576, 0.18787998260624494]}, {\"categories\": [\"0\", \"1\", \"2\", \"3\", \"4\", \"5\", \"6\", \"7\", \"8\", \"9\", \"10\", \"11\", \"12\", \"13\", \"14\", \"15\", \"16\", \"17\", \"18\", \"19\", \"20\", \"21\", \"22\", \"23\", \"24\", \"25\", \"26\", \"27\", \"28\", \"29\", \"30\", \"31\", \"32\", \"33\", \"34\", \"35\", \"36\", \"38\", \"39\"], \"mode\": \"lines\", \"name\": \"log_loss_min\", \"stepped\": true, \"type\": \"scatter\", \"data\": [0.23258020647063762, 0.18652531490887583, 0.18652531490887583, 0.18652531490887583, 0.18652531490887583, 0.18652531490887583, 0.17274771362811087, 0.17274771362811087, 0.17274771362811087, 0.17274771362811087, 0.17274771362811087, 0.17274771362811087, 0.17274771362811087, 0.17274771362811087, 0.17274771362811087, 0.17274771362811087, 0.17274771362811087, 0.17274771362811087, 0.17274771362811087, 0.17274771362811087, 0.17274771362811087, 0.1725439080546592, 0.1725439080546592, 0.1725439080546592, 0.1725439080546592, 0.1725439080546592, 0.1725439080546592, 0.1725439080546592, 0.1725439080546592, 0.1725439080546592, 0.1725439080546592, 0.1725439080546592, 0.1725439080546592, 0.1725439080546592, 0.1725439080546592, 0.1725439080546592, 0.1725439080546592, 0.16731568811134576, 0.16731568811134576]}]}, \"metricName\": null, \"primaryMetricName\": \"accuracy\", \"showLegend\": false}, \"run_metrics\": [{\"name\": \"experiment_status\", \"run_id\": \"AutoML_87f624e4-05d2-4fef-9f6c-7cb0a7ecfcec\", \"categories\": [0, 1, 2, 3, 4, 5, 6, 7, 8, 9, 10, 11, 12, 13], \"series\": [{\"data\": [\"DatasetEvaluation\", \"FeaturesGeneration\", \"DatasetFeaturization\", \"DatasetFeaturizationCompleted\", \"DatasetCrossValidationSplit\", \"ModelSelection\", \"BestRunExplainModel\", \"ModelExplanationDataSetSetup\", \"PickSurrogateModel\", \"EngineeredFeatureExplanations\", \"EngineeredFeatureExplanations\", \"RawFeaturesExplanations\", \"RawFeaturesExplanations\", \"BestRunExplainModel\"]}]}, {\"name\": \"experiment_status_description\", \"run_id\": \"AutoML_87f624e4-05d2-4fef-9f6c-7cb0a7ecfcec\", \"categories\": [0, 1, 2, 3, 4, 5, 6, 7, 8, 9, 10, 11, 12, 13], \"series\": [{\"data\": [\"Gathering dataset statistics.\", \"Generating features for the dataset.\", \"Beginning to fit featurizers and featurize the dataset.\", \"Completed fit featurizers and featurizing the dataset.\", \"Generating individually featurized CV splits.\", \"Beginning model selection.\", \"Best run model explanations started\", \"Model explanations data setup completed\", \"Choosing LightGBM as the surrogate model for explanations\", \"Computation of engineered features started\", \"Computation of engineered features completed\", \"Computation of raw features started\", \"Computation of raw features completed\", \"Best run model explanations completed\"]}]}, {\"name\": \"precision_score_macro\", \"run_id\": \"AutoML_87f624e4-05d2-4fef-9f6c-7cb0a7ecfcec\", \"categories\": [0], \"series\": [{\"data\": [0.9348021154244007]}]}, {\"name\": \"f1_score_macro\", \"run_id\": \"AutoML_87f624e4-05d2-4fef-9f6c-7cb0a7ecfcec\", \"categories\": [0], \"series\": [{\"data\": [0.9315887372595574]}]}, {\"name\": \"norm_macro_recall\", \"run_id\": \"AutoML_87f624e4-05d2-4fef-9f6c-7cb0a7ecfcec\", \"categories\": [0], \"series\": [{\"data\": [0.8608155561485162]}]}, {\"name\": \"AUC_weighted\", \"run_id\": \"AutoML_87f624e4-05d2-4fef-9f6c-7cb0a7ecfcec\", \"categories\": [0], \"series\": [{\"data\": [0.9836830259299084]}]}, {\"name\": \"average_precision_score_macro\", \"run_id\": \"AutoML_87f624e4-05d2-4fef-9f6c-7cb0a7ecfcec\", \"categories\": [0], \"series\": [{\"data\": [0.9835416023796485]}]}, {\"name\": \"recall_score_weighted\", \"run_id\": \"AutoML_87f624e4-05d2-4fef-9f6c-7cb0a7ecfcec\", \"categories\": [0], \"series\": [{\"data\": [0.9367334264865704]}]}, {\"name\": \"precision_score_micro\", \"run_id\": \"AutoML_87f624e4-05d2-4fef-9f6c-7cb0a7ecfcec\", \"categories\": [0], \"series\": [{\"data\": [0.9367334264865704]}]}, {\"name\": \"average_precision_score_weighted\", \"run_id\": \"AutoML_87f624e4-05d2-4fef-9f6c-7cb0a7ecfcec\", \"categories\": [0], \"series\": [{\"data\": [0.9852928431036251]}]}, {\"name\": \"accuracy\", \"run_id\": \"AutoML_87f624e4-05d2-4fef-9f6c-7cb0a7ecfcec\", \"categories\": [0], \"series\": [{\"data\": [0.9367334264865704]}]}, {\"name\": \"average_precision_score_micro\", \"run_id\": \"AutoML_87f624e4-05d2-4fef-9f6c-7cb0a7ecfcec\", \"categories\": [0], \"series\": [{\"data\": [0.9856428149344995]}]}, {\"name\": \"matthews_correlation\", \"run_id\": \"AutoML_87f624e4-05d2-4fef-9f6c-7cb0a7ecfcec\", \"categories\": [0], \"series\": [{\"data\": [0.8650973280959008]}]}, {\"name\": \"recall_score_micro\", \"run_id\": \"AutoML_87f624e4-05d2-4fef-9f6c-7cb0a7ecfcec\", \"categories\": [0], \"series\": [{\"data\": [0.9367334264865704]}]}, {\"name\": \"f1_score_micro\", \"run_id\": \"AutoML_87f624e4-05d2-4fef-9f6c-7cb0a7ecfcec\", \"categories\": [0], \"series\": [{\"data\": [0.9367334264865704]}]}, {\"name\": \"recall_score_macro\", \"run_id\": \"AutoML_87f624e4-05d2-4fef-9f6c-7cb0a7ecfcec\", \"categories\": [0], \"series\": [{\"data\": [0.9304077780742581]}]}, {\"name\": \"weighted_accuracy\", \"run_id\": \"AutoML_87f624e4-05d2-4fef-9f6c-7cb0a7ecfcec\", \"categories\": [0], \"series\": [{\"data\": [0.9423792552603283]}]}, {\"name\": \"precision_score_weighted\", \"run_id\": \"AutoML_87f624e4-05d2-4fef-9f6c-7cb0a7ecfcec\", \"categories\": [0], \"series\": [{\"data\": [0.938364314029862]}]}, {\"name\": \"AUC_micro\", \"run_id\": \"AutoML_87f624e4-05d2-4fef-9f6c-7cb0a7ecfcec\", \"categories\": [0], \"series\": [{\"data\": [0.9849371786920177]}]}, {\"name\": \"f1_score_weighted\", \"run_id\": \"AutoML_87f624e4-05d2-4fef-9f6c-7cb0a7ecfcec\", \"categories\": [0], \"series\": [{\"data\": [0.9366245992586416]}]}, {\"name\": \"AUC_macro\", \"run_id\": \"AutoML_87f624e4-05d2-4fef-9f6c-7cb0a7ecfcec\", \"categories\": [0], \"series\": [{\"data\": [0.9836830259299084]}]}, {\"name\": \"balanced_accuracy\", \"run_id\": \"AutoML_87f624e4-05d2-4fef-9f6c-7cb0a7ecfcec\", \"categories\": [0], \"series\": [{\"data\": [0.9304077780742581]}]}, {\"name\": \"log_loss\", \"run_id\": \"AutoML_87f624e4-05d2-4fef-9f6c-7cb0a7ecfcec\", \"categories\": [0], \"series\": [{\"data\": [0.16731568811134576]}]}], \"run_logs\": \"\\nRun is completed.\", \"graph\": {}, \"widget_settings\": {\"childWidgetDisplay\": \"popup\", \"send_telemetry\": false, \"log_level\": \"INFO\", \"sdk_version\": \"1.26.0\"}, \"loading\": false}"
          },
          "metadata": {}
        },
        {
          "output_type": "display_data",
          "data": {
            "text/plain": "<IPython.core.display.HTML object>",
            "text/html": "<table style=\"width:100%\"><tr><th>Experiment</th><th>Id</th><th>Type</th><th>Status</th><th>Details Page</th><th>Docs Page</th></tr><tr><td>AutoMLversion</td><td>AutoML_87f624e4-05d2-4fef-9f6c-7cb0a7ecfcec</td><td>automl</td><td>NotStarted</td><td><a href=\"https://ml.azure.com/runs/AutoML_87f624e4-05d2-4fef-9f6c-7cb0a7ecfcec?wsid=/subscriptions/5a4ab2ba-6c51-4805-8155-58759ad589d8/resourcegroups/aml-quickstarts-143162/workspaces/quick-starts-ws-143162&amp;tid=660b3398-b80e-49d2-bc5b-ac1dc93b5254\" target=\"_blank\" rel=\"noopener\">Link to Azure Machine Learning studio</a></td><td><a href=\"https://docs.microsoft.com/en-us/python/api/overview/azure/ml/intro?view=azure-ml-py\" target=\"_blank\" rel=\"noopener\">Link to Documentation</a></td></tr></table>"
          },
          "metadata": {}
        },
        {
          "output_type": "stream",
          "name": "stdout",
          "text": [
            "\n",
            "\n",
            "****************************************************************************************************\n",
            "DATA GUARDRAILS: \n",
            "\n",
            "TYPE:         Class balancing detection\n",
            "STATUS:       PASSED\n",
            "DESCRIPTION:  Your inputs were analyzed, and all classes are balanced in your training data.\n",
            "              Learn more about imbalanced data: https://aka.ms/AutomatedMLImbalancedData\n",
            "\n",
            "****************************************************************************************************\n",
            "\n",
            "TYPE:         Missing feature values imputation\n",
            "STATUS:       PASSED\n",
            "DESCRIPTION:  No feature missing values were detected in the training data.\n",
            "              Learn more about missing value imputation: https://aka.ms/AutomatedMLFeaturization\n",
            "\n",
            "****************************************************************************************************\n",
            "\n",
            "TYPE:         High cardinality feature detection\n",
            "STATUS:       PASSED\n",
            "DESCRIPTION:  Your inputs were analyzed, and no high cardinality features were detected.\n",
            "              Learn more about high cardinality feature handling: https://aka.ms/AutomatedMLFeaturization\n",
            "\n",
            "****************************************************************************************************\n",
            "\n",
            "****************************************************************************************************\n",
            "ITERATION: The iteration being evaluated.\n",
            "PIPELINE: A summary description of the pipeline being evaluated.\n",
            "DURATION: Time taken for the current iteration.\n",
            "METRIC: The result of computing score on the fitted pipeline.\n",
            "BEST: The best observed score thus far.\n",
            "****************************************************************************************************\n",
            "\n",
            " ITERATION   PIPELINE                                       DURATION      METRIC      BEST\n",
            "         0   MaxAbsScaler LightGBM                          0:00:49       0.9244    0.9244\n",
            "         1   MaxAbsScaler XGBoostClassifier                 0:00:50       0.9226    0.9244\n",
            "         2   MinMaxScaler RandomForest                      0:03:05       0.9086    0.9244\n",
            "         3   MinMaxScaler RandomForest                      0:02:07       0.9156    0.9244\n",
            "         4   MinMaxScaler RandomForest                      0:02:28       0.9261    0.9261\n",
            "         5   MinMaxScaler LogisticRegression                0:02:10       0.9156    0.9261\n",
            "         6   StandardScalerWrapper LogisticRegression       0:00:44       0.9261    0.9261\n",
            "         7   MaxAbsScaler LightGBM                          0:00:56       0.9349    0.9349\n",
            "         8   SparseNormalizer XGBoostClassifier             0:00:47       0.9156    0.9349\n",
            "         9   MaxAbsScaler LightGBM                          0:00:48       0.9261    0.9349\n",
            "        10   SparseNormalizer XGBoostClassifier             0:00:45       0.9226    0.9349\n",
            "        11   SparseNormalizer XGBoostClassifier             0:00:46       0.9296    0.9349\n",
            "        12   MaxAbsScaler GradientBoosting                  0:00:51       0.9244    0.9349\n",
            "        13   StandardScalerWrapper LightGBM                 0:00:43       0.9226    0.9349\n",
            "        14   RobustScaler KNN                               0:00:44       0.8962    0.9349\n",
            "        15   MinMaxScaler LightGBM                          0:00:44       0.9068    0.9349\n",
            "        16   SparseNormalizer XGBoostClassifier             0:00:45       0.9173    0.9349\n",
            "        17   SparseNormalizer XGBoostClassifier             0:00:39       0.9173    0.9349\n",
            "        18   SparseNormalizer XGBoostClassifier             0:02:23       0.9085    0.9349\n",
            "        19   SparseNormalizer XGBoostClassifier             0:00:46       0.9103    0.9349\n",
            "        20   StandardScalerWrapper XGBoostClassifier        0:00:48       0.8980    0.9349\n",
            "        21   MinMaxScaler LogisticRegression                0:00:46       0.9262    0.9349\n",
            "        22   StandardScalerWrapper LightGBM                 0:00:47       0.9191    0.9349\n",
            "        23   MaxAbsScaler RandomForest                      0:00:52       0.8945    0.9349\n",
            "        24   SparseNormalizer LightGBM                      0:00:50       0.9314    0.9349\n",
            "        25   SparseNormalizer LightGBM                      0:00:47       0.8787    0.9349\n",
            "        26   StandardScalerWrapper ExtremeRandomTrees       0:00:48       0.9033    0.9349\n",
            "        27   SparseNormalizer LightGBM                      0:00:56       0.8980    0.9349\n",
            "        28   MaxAbsScaler LightGBM                          0:00:47       0.9261    0.9349\n",
            "        29   StandardScalerWrapper LightGBM                 0:00:50       0.9086    0.9349\n",
            "        30   RobustScaler LightGBM                          0:00:54       0.9138    0.9349\n",
            "        31   MaxAbsScaler ExtremeRandomTrees                0:00:49       0.9015    0.9349\n",
            "        32   MaxAbsScaler LogisticRegression                0:00:46       0.9174    0.9349\n",
            "        33   StandardScalerWrapper LogisticRegression       0:00:45       0.9279    0.9349\n",
            "        34   RobustScaler LogisticRegression                0:00:48       0.9262    0.9349\n",
            "        35   StandardScalerWrapper LightGBM                 0:00:35       0.9156    0.9349\n",
            "        36   SparseNormalizer XGBoostClassifier             0:00:24       0.9226    0.9349\n",
            "        37                                                  0:00:19          nan    0.9349\n",
            "        38    VotingEnsemble                                0:01:18       0.9367    0.9367\n",
            "        39    StackEnsemble                                 0:01:13       0.9314    0.9367\n"
          ]
        },
        {
          "output_type": "execute_result",
          "execution_count": 13,
          "data": {
            "text/plain": "{'runId': 'AutoML_87f624e4-05d2-4fef-9f6c-7cb0a7ecfcec',\n 'target': 'automl-compute',\n 'status': 'Completed',\n 'startTimeUtc': '2021-04-19T16:40:52.804859Z',\n 'endTimeUtc': '2021-04-19T17:07:08.330389Z',\n 'properties': {'num_iterations': '1000',\n  'training_type': 'TrainFull',\n  'acquisition_function': 'EI',\n  'primary_metric': 'accuracy',\n  'train_split': '0',\n  'acquisition_parameter': '0',\n  'num_cross_validation': '5',\n  'target': 'automl-compute',\n  'AMLSettingsJsonString': '{\"path\":null,\"name\":\"AutoMLversion\",\"subscription_id\":\"5a4ab2ba-6c51-4805-8155-58759ad589d8\",\"resource_group\":\"aml-quickstarts-143162\",\"workspace_name\":\"quick-starts-ws-143162\",\"region\":\"southcentralus\",\"compute_target\":\"automl-compute\",\"spark_service\":null,\"azure_service\":\"remote\",\"many_models\":false,\"pipeline_fetch_max_batch_size\":1,\"enable_batch_run\":false,\"enable_run_restructure\":false,\"iterations\":1000,\"primary_metric\":\"accuracy\",\"task_type\":\"classification\",\"data_script\":null,\"test_size\":0.0,\"validation_size\":0.0,\"n_cross_validations\":5,\"y_min\":null,\"y_max\":null,\"num_classes\":null,\"featurization\":\"auto\",\"_ignore_package_version_incompatibilities\":false,\"is_timeseries\":false,\"max_cores_per_iteration\":1,\"max_concurrent_iterations\":5,\"iteration_timeout_minutes\":null,\"mem_in_mb\":null,\"enforce_time_on_windows\":false,\"experiment_timeout_minutes\":30,\"experiment_exit_score\":null,\"whitelist_models\":null,\"blacklist_algos\":[\"TensorFlowLinearClassifier\",\"TensorFlowDNN\"],\"supported_models\":[\"LogisticRegression\",\"GradientBoosting\",\"DecisionTree\",\"SGD\",\"KNN\",\"AveragedPerceptronClassifier\",\"XGBoostClassifier\",\"TensorFlowDNN\",\"BernoulliNaiveBayes\",\"LightGBM\",\"LinearSVM\",\"SVM\",\"MultinomialNaiveBayes\",\"ExtremeRandomTrees\",\"TensorFlowLinearClassifier\",\"RandomForest\"],\"private_models\":[],\"auto_blacklist\":true,\"blacklist_samples_reached\":false,\"exclude_nan_labels\":true,\"verbosity\":20,\"_debug_log\":\"azureml_automl.log\",\"show_warnings\":false,\"model_explainability\":true,\"service_url\":null,\"sdk_url\":null,\"sdk_packages\":null,\"enable_onnx_compatible_models\":false,\"enable_split_onnx_featurizer_estimator_models\":false,\"vm_type\":\"STANDARD_D2_V2\",\"telemetry_verbosity\":20,\"send_telemetry\":true,\"enable_dnn\":false,\"scenario\":\"SDK-1.13.0\",\"environment_label\":null,\"save_mlflow\":false,\"force_text_dnn\":false,\"enable_feature_sweeping\":true,\"enable_early_stopping\":true,\"early_stopping_n_iters\":10,\"metrics\":null,\"enable_metric_confidence\":false,\"enable_ensembling\":true,\"enable_stack_ensembling\":true,\"ensemble_iterations\":15,\"enable_tf\":false,\"enable_subsampling\":null,\"subsample_seed\":null,\"enable_nimbusml\":false,\"enable_streaming\":false,\"force_streaming\":false,\"track_child_runs\":true,\"allowed_private_models\":[],\"label_column_name\":\"diagnosis\",\"weight_column_name\":null,\"cv_split_column_names\":null,\"enable_local_managed\":false,\"_local_managed_run_id\":null,\"cost_mode\":1,\"lag_length\":0,\"metric_operation\":\"maximize\",\"preprocess\":true}',\n  'DataPrepJsonString': '{\\\\\"training_data\\\\\": {\\\\\"datasetId\\\\\": \\\\\"c87b4c8c-0aff-4c97-873f-3a0e8981f805\\\\\"}, \\\\\"datasets\\\\\": 0}',\n  'EnableSubsampling': None,\n  'runTemplate': 'AutoML',\n  'azureml.runsource': 'automl',\n  'display_task_type': 'classification',\n  'dependencies_versions': '{\"azureml-widgets\": \"1.26.0\", \"azureml-train\": \"1.26.0\", \"azureml-train-restclients-hyperdrive\": \"1.26.0\", \"azureml-train-core\": \"1.26.0\", \"azureml-train-automl\": \"1.26.0\", \"azureml-train-automl-runtime\": \"1.26.0\", \"azureml-train-automl-client\": \"1.26.0\", \"azureml-tensorboard\": \"1.26.0\", \"azureml-telemetry\": \"1.26.0\", \"azureml-sdk\": \"1.26.0\", \"azureml-samples\": \"0+unknown\", \"azureml-pipeline\": \"1.26.0\", \"azureml-pipeline-steps\": \"1.26.0\", \"azureml-pipeline-core\": \"1.26.0\", \"azureml-opendatasets\": \"1.26.0\", \"azureml-model-management-sdk\": \"1.0.1b6.post1\", \"azureml-mlflow\": \"1.26.0\", \"azureml-interpret\": \"1.26.0\", \"azureml-explain-model\": \"1.26.0\", \"azureml-defaults\": \"1.26.0\", \"azureml-dataset-runtime\": \"1.26.0\", \"azureml-dataprep\": \"2.13.2\", \"azureml-dataprep-rslex\": \"1.11.2\", \"azureml-dataprep-native\": \"32.0.0\", \"azureml-datadrift\": \"1.26.0\", \"azureml-core\": \"1.26.0\", \"azureml-contrib-services\": \"1.26.0\", \"azureml-contrib-server\": \"1.26.0\", \"azureml-contrib-reinforcementlearning\": \"1.26.0\", \"azureml-contrib-pipeline-steps\": \"1.26.0\", \"azureml-contrib-notebook\": \"1.26.0\", \"azureml-contrib-gbdt\": \"1.26.0\", \"azureml-contrib-fairness\": \"1.26.0\", \"azureml-contrib-dataset\": \"1.26.0\", \"azureml-cli-common\": \"1.26.0\", \"azureml-automl-runtime\": \"1.26.0\", \"azureml-automl-dnn-nlp\": \"1.26.0\", \"azureml-automl-core\": \"1.26.0\", \"azureml-accel-models\": \"1.26.0\"}',\n  '_aml_system_scenario_identification': 'Remote.Parent',\n  'ClientType': 'SDK',\n  'environment_cpu_name': 'AzureML-AutoML',\n  'environment_cpu_label': 'prod',\n  'environment_gpu_name': 'AzureML-AutoML-GPU',\n  'environment_gpu_label': 'prod',\n  'root_attribution': 'automl',\n  'attribution': 'AutoML',\n  'Orchestrator': 'AutoML',\n  'CancelUri': 'https://southcentralus.experiments.azureml.net/jasmine/v1.0/subscriptions/5a4ab2ba-6c51-4805-8155-58759ad589d8/resourceGroups/aml-quickstarts-143162/providers/Microsoft.MachineLearningServices/workspaces/quick-starts-ws-143162/experimentids/39170c3b-c31e-4df5-a16d-5de3ee4ffc73/cancel/AutoML_87f624e4-05d2-4fef-9f6c-7cb0a7ecfcec',\n  'ClientSdkVersion': '1.26.0',\n  'snapshotId': '00000000-0000-0000-0000-000000000000',\n  'SetupRunId': 'AutoML_87f624e4-05d2-4fef-9f6c-7cb0a7ecfcec_setup',\n  'SetupRunContainerId': 'dcid.AutoML_87f624e4-05d2-4fef-9f6c-7cb0a7ecfcec_setup',\n  'FeaturizationRunJsonPath': 'featurizer_container.json',\n  'FeaturizationRunId': 'AutoML_87f624e4-05d2-4fef-9f6c-7cb0a7ecfcec_featurize',\n  'ProblemInfoJsonString': '{\"dataset_num_categorical\": 0, \"is_sparse\": false, \"subsampling\": false, \"dataset_classes\": 2, \"dataset_features\": 5, \"dataset_samples\": 569, \"single_frequency_class_detected\": false}',\n  'ModelExplainRunId': 'AutoML_87f624e4-05d2-4fef-9f6c-7cb0a7ecfcec_ModelExplain'},\n 'inputDatasets': [{'dataset': {'id': 'c87b4c8c-0aff-4c97-873f-3a0e8981f805'}, 'consumptionDetails': {'type': 'RunInput', 'inputName': 'training_data', 'mechanism': 'Direct'}}],\n 'outputDatasets': [],\n 'logFiles': {},\n 'submittedBy': 'ODL_User 143162'}"
          },
          "metadata": {}
        }
      ],
      "execution_count": 13,
      "metadata": {
        "gather": {
          "logged": 1618852316602
        },
        "jupyter": {
          "outputs_hidden": false,
          "source_hidden": false
        },
        "nteract": {
          "transient": {
            "deleting": false
          }
        }
      }
    },
    {
      "cell_type": "markdown",
      "source": [
        "## Best Model\n",
        "\n",
        "TODO: In the cell below, get the best model from the automl experiments and display all the properties of the model.\n",
        "\n"
      ],
      "metadata": {}
    },
    {
      "cell_type": "code",
      "source": [
        "best_run, fitted_model = remote_run.get_output()\n",
        "print(best_run)\n",
        "print(fitted_model)"
      ],
      "outputs": [
        {
          "output_type": "stream",
          "name": "stdout",
          "text": [
            "Run(Experiment: AutoMLversion,\n",
            "Id: AutoML_87f624e4-05d2-4fef-9f6c-7cb0a7ecfcec_38,\n",
            "Type: azureml.scriptrun,\n",
            "Status: Completed)\n",
            "Pipeline(memory=None,\n",
            "         steps=[('datatransformer',\n",
            "                 DataTransformer(enable_dnn=None, enable_feature_sweeping=None,\n",
            "                                 feature_sweeping_config=None,\n",
            "                                 feature_sweeping_timeout=None,\n",
            "                                 featurization_config=None, force_text_dnn=None,\n",
            "                                 is_cross_validation=None,\n",
            "                                 is_onnx_compatible=None, logger=None,\n",
            "                                 observer=None, task=None, working_dir=None)),\n",
            "                ('prefittedsoftvotingclassifier',...\n",
            "                                                                                               reg_alpha=0,\n",
            "                                                                                               reg_lambda=0.5208333333333334,\n",
            "                                                                                               scale_pos_weight=1,\n",
            "                                                                                               seed=None,\n",
            "                                                                                               silent=None,\n",
            "                                                                                               subsample=0.6,\n",
            "                                                                                               tree_method='auto',\n",
            "                                                                                               verbose=-10,\n",
            "                                                                                               verbosity=0))],\n",
            "                                                                     verbose=False))],\n",
            "                                               flatten_transform=None,\n",
            "                                               weights=[0.14285714285714285,\n",
            "                                                        0.14285714285714285,\n",
            "                                                        0.14285714285714285,\n",
            "                                                        0.14285714285714285,\n",
            "                                                        0.14285714285714285,\n",
            "                                                        0.14285714285714285,\n",
            "                                                        0.14285714285714285]))],\n",
            "         verbose=False)\n"
          ]
        }
      ],
      "execution_count": 14,
      "metadata": {
        "gather": {
          "logged": 1618853028792
        },
        "jupyter": {
          "outputs_hidden": false,
          "source_hidden": false
        },
        "nteract": {
          "transient": {
            "deleting": false
          }
        }
      }
    },
    {
      "cell_type": "code",
      "source": [
        "#TODO: Save the best model\n",
        "from azureml.core.model import Model\n",
        "best_run.register_model(model_path='outputs/model.pkl', model_name='breastcancer_bestautoml', model_framework=Model.Framework.SCIKITLEARN)\n",
        "model = ws.models['breastcancer_bestautoml']"
      ],
      "outputs": [],
      "execution_count": 15,
      "metadata": {
        "gather": {
          "logged": 1618853067695
        },
        "jupyter": {
          "outputs_hidden": false,
          "source_hidden": false
        },
        "nteract": {
          "transient": {
            "deleting": false
          }
        }
      }
    },
    {
      "cell_type": "code",
      "source": [
        "print(model)"
      ],
      "outputs": [
        {
          "output_type": "stream",
          "name": "stdout",
          "text": [
            "Model(workspace=Workspace.create(name='quick-starts-ws-143162', subscription_id='5a4ab2ba-6c51-4805-8155-58759ad589d8', resource_group='aml-quickstarts-143162'), name=breastcancer_bestautoml, id=breastcancer_bestautoml:1, version=1, tags={}, properties={})\n"
          ]
        }
      ],
      "execution_count": 16,
      "metadata": {
        "gather": {
          "logged": 1618853072045
        }
      }
    },
    {
      "cell_type": "markdown",
      "source": [
        "## Model Deployment\n",
        "\n",
        "Remember you have to deploy only one of the two models you trained.. Perform the steps in the rest of this notebook only if you wish to deploy this model.\n",
        "\n",
        "TODO: In the cell below, register the model, create an inference config and deploy the model as a web service."
      ],
      "metadata": {}
    },
    {
      "cell_type": "code",
      "source": [
        "from azureml.core import Environment\n",
        "best_run.download_file('outputs/conda_env_v_1_0_0.yml','conda_env.yml')\n",
        "myenv = Environment.from_conda_specification(name=\"myenv\", file_path=\"conda_env.yml\")\n",
        "best_run.download_file('outputs/scoring_file_v_1_0_0.py', 'score.py')"
      ],
      "outputs": [],
      "execution_count": 17,
      "metadata": {
        "gather": {
          "logged": 1618853187206
        },
        "jupyter": {
          "outputs_hidden": false,
          "source_hidden": false
        },
        "nteract": {
          "transient": {
            "deleting": false
          }
        }
      }
    },
    {
      "cell_type": "code",
      "source": [
        "from azureml.core.webservice import AciWebservice, Webservice\n",
        "from azureml.core.model import InferenceConfig\n",
        "\n",
        "# Configure the scoring environment\n",
        "inference_config = InferenceConfig(entry_script='score.py',\n",
        "                                   environment=myenv)\n",
        "\n",
        "service_name = 'automl-service'\n",
        "deployment_config = AciWebservice.deploy_configuration(cpu_cores = 1, memory_gb = 1, auth_enabled=True)\n",
        "aci_service = Model.deploy(workspace=ws,\n",
        "                           name= service_name,\n",
        "                           models= [model],\n",
        "                           inference_config= inference_config,\n",
        "                           deployment_config=deployment_config)\n",
        "aci_service.wait_for_deployment(show_output = True)"
      ],
      "outputs": [
        {
          "output_type": "stream",
          "name": "stdout",
          "text": [
            "Tips: You can try get_logs(): https://aka.ms/debugimage#dockerlog or local deployment: https://aka.ms/debugimage#debug-locally to debug if deployment takes longer than 10 minutes.\n",
            "Running\n",
            "2021-04-19 18:10:53+00:00 Creating Container Registry if not exists.\n",
            "2021-04-19 18:10:54+00:00 Registering the environment.\n",
            "2021-04-19 18:10:56+00:00 Use the existing image.\n",
            "2021-04-19 18:10:56+00:00 Generating deployment configuration.\n",
            "2021-04-19 18:10:57+00:00 Submitting deployment to compute..\n",
            "2021-04-19 18:11:00+00:00 Checking the status of deployment automl-service..\n",
            "2021-04-19 18:14:56+00:00 Checking the status of inference endpoint automl-service.\n",
            "Succeeded\n",
            "ACI service creation operation finished, operation \"Succeeded\"\n"
          ]
        }
      ],
      "execution_count": 28,
      "metadata": {
        "gather": {
          "logged": 1618856104704
        }
      }
    },
    {
      "cell_type": "code",
      "source": [
        "print(aci_service.state)"
      ],
      "outputs": [
        {
          "output_type": "stream",
          "name": "stdout",
          "text": [
            "Healthy\n"
          ]
        }
      ],
      "execution_count": 29,
      "metadata": {
        "gather": {
          "logged": 1618856115268
        }
      }
    },
    {
      "cell_type": "code",
      "source": [
        "# Enable AppInsights\n",
        "aci_service.update(enable_app_insights=True)\n",
        "print('AppInsights enabled!')"
      ],
      "outputs": [
        {
          "output_type": "stream",
          "name": "stdout",
          "text": [
            "AppInsights enabled!\n"
          ]
        }
      ],
      "execution_count": 30,
      "metadata": {
        "gather": {
          "logged": 1618856119722
        }
      }
    },
    {
      "cell_type": "markdown",
      "source": [
        "TODO: In the cell below, send a request to the web service you deployed to test it."
      ],
      "metadata": {
        "collapsed": true,
        "gather": {
          "logged": 1598431657736
        },
        "jupyter": {
          "outputs_hidden": false,
          "source_hidden": false
        },
        "nteract": {
          "transient": {
            "deleting": false
          }
        }
      }
    },
    {
      "cell_type": "code",
      "source": [
        "endpoint = aci_service.scoring_uri\n",
        "primary, secondary = aci_service.get_keys()\n",
        "print(primary)\n",
        "print(endpoint)"
      ],
      "outputs": [
        {
          "output_type": "stream",
          "name": "stdout",
          "text": [
            "TvJZlde7lCggnp2JPgFi3CnqvousoA5C\n",
            "http://d6ab9afc-3f9a-4d96-be3f-d94198e5f0fd.southcentralus.azurecontainer.io/score\n"
          ]
        }
      ],
      "execution_count": 31,
      "metadata": {
        "gather": {
          "logged": 1618856128260
        },
        "jupyter": {
          "outputs_hidden": false,
          "source_hidden": false
        },
        "nteract": {
          "transient": {
            "deleting": false
          }
        }
      }
    },
    {
      "cell_type": "code",
      "source": [
        "!python endpoint.py"
      ],
      "outputs": [
        {
          "output_type": "stream",
          "name": "stdout",
          "text": [
            "{\"result\": [1, 0]}\r\n"
          ]
        }
      ],
      "execution_count": 33,
      "metadata": {}
    },
    {
      "cell_type": "markdown",
      "source": [
        "TODO: In the cell below, print the logs of the web service and delete the service"
      ],
      "metadata": {
        "collapsed": true,
        "gather": {
          "logged": 1598432765711
        },
        "jupyter": {
          "outputs_hidden": false,
          "source_hidden": false
        },
        "nteract": {
          "transient": {
            "deleting": false
          }
        }
      }
    },
    {
      "cell_type": "code",
      "source": [
        "aci_service.delete()\n",
        "print('Service deleted.')"
      ],
      "outputs": [
        {
          "output_type": "stream",
          "name": "stdout",
          "text": [
            "Service deleted.\n"
          ]
        }
      ],
      "execution_count": 24,
      "metadata": {
        "jupyter": {
          "outputs_hidden": false,
          "source_hidden": false
        },
        "nteract": {
          "transient": {
            "deleting": false
          }
        },
        "gather": {
          "logged": 1618855586336
        }
      }
    },
    {
      "cell_type": "code",
      "source": [],
      "outputs": [],
      "execution_count": null,
      "metadata": {}
    }
  ],
  "metadata": {
    "kernel_info": {
      "name": "python3"
    },
    "kernelspec": {
      "name": "python3",
      "language": "python",
      "display_name": "Python 3"
    },
    "language_info": {
      "name": "python",
      "version": "3.6.9",
      "mimetype": "text/x-python",
      "codemirror_mode": {
        "name": "ipython",
        "version": 3
      },
      "pygments_lexer": "ipython3",
      "nbconvert_exporter": "python",
      "file_extension": ".py"
    },
    "nteract": {
      "version": "nteract-front-end@1.0.0"
    },
    "microsoft": {
      "host": {
        "AzureML": {
          "notebookHasBeenCompleted": true
        }
      }
    }
  },
  "nbformat": 4,
  "nbformat_minor": 2
}