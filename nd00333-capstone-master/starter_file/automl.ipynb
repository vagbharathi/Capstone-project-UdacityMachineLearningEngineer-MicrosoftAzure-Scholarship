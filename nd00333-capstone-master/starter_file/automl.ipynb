{
  "cells": [
    {
      "cell_type": "markdown",
      "source": [
        "# Automated ML\n",
        "\n",
        "TODO: Import Dependencies. In the cell below, import all the dependencies that you will need to complete the project."
      ],
      "metadata": {}
    },
    {
      "cell_type": "code",
      "source": [
        "import logging\n",
        "import os\n",
        "import csv\n",
        "\n",
        "from matplotlib import pyplot as plt\n",
        "import numpy as np\n",
        "import pandas as pd\n",
        "from sklearn import datasets\n",
        "import pkg_resources\n",
        "\n",
        "import azureml.core\n",
        "from azureml.core.experiment import Experiment\n",
        "from azureml.core.workspace import Workspace\n",
        "from azureml.train.automl import AutoMLConfig\n",
        "from azureml.core.dataset import Dataset\n",
        "from azureml.core.compute import ComputeTarget, AmlCompute\n",
        "from azureml.data.dataset_factory import TabularDatasetFactory\n",
        "from azureml.core.compute_target import ComputeTargetException\n",
        "\n",
        "# Check core SDK version number\n",
        "print(\"SDK version:\", azureml.core.VERSION)"
      ],
      "outputs": [
        {
          "output_type": "stream",
          "name": "stdout",
          "text": [
            "SDK version: 1.26.0\n"
          ]
        }
      ],
      "execution_count": 3,
      "metadata": {
        "gather": {
          "logged": 1618862764573
        },
        "jupyter": {
          "outputs_hidden": false,
          "source_hidden": false
        },
        "nteract": {
          "transient": {
            "deleting": false
          }
        }
      }
    },
    {
      "cell_type": "markdown",
      "source": [
        "## Dataset\n",
        "\n",
        "### Overview\n",
        "TODO: In this markdown cell, give an overview of the dataset you are using. Also mention the task you will be performing.\n",
        "\n",
        "\n",
        "TODO: Get data. In the cell below, write code to access the data you will be using in this project. Remember that the dataset needs to be external."
      ],
      "metadata": {}
    },
    {
      "cell_type": "code",
      "source": [
        "ws = Workspace.from_config()\n",
        "\n",
        "# choose a name for experiment\n",
        "experiment_name = 'AutoMLversion'\n",
        "\n",
        "experiment=Experiment(ws, experiment_name)"
      ],
      "outputs": [
        {
          "output_type": "stream",
          "name": "stdout",
          "text": [
            "Performing interactive authentication. Please follow the instructions on the terminal.\n",
            "To sign in, use a web browser to open the page https://microsoft.com/devicelogin and enter the code ECENTTKET to authenticate.\n",
            "You have logged in. Now let us find all the subscriptions to which you have access...\n",
            "Interactive authentication successfully completed.\n"
          ]
        }
      ],
      "execution_count": 4,
      "metadata": {
        "gather": {
          "logged": 1618862833047
        },
        "jupyter": {
          "outputs_hidden": false,
          "source_hidden": false
        },
        "nteract": {
          "transient": {
            "deleting": false
          }
        }
      }
    },
    {
      "cell_type": "code",
      "source": [
        "amlcompute_cluster_name = \"automl-compute\"\n",
        "\n",
        "# Verify that cluster does not exist already\n",
        "try:\n",
        "    training_cluster = ComputeTarget(workspace=ws, name=amlcompute_cluster_name)\n",
        "    print('Found existing cluster, use it.')\n",
        "except ComputeTargetException:\n",
        "    compute_config = AmlCompute.provisioning_configuration(vm_size='STANDARD_D2_V2',# for GPU, use \"STANDARD_NC6\"\n",
        "                                                           #vm_priority = 'lowpriority', # optional\n",
        "                                                           max_nodes=6)\n",
        "    training_cluster = ComputeTarget.create(ws, amlcompute_cluster_name, compute_config)\n",
        "\n",
        "training_cluster.wait_for_completion(show_output=True, min_node_count = 1, timeout_in_minutes = 10)\n"
      ],
      "outputs": [
        {
          "output_type": "stream",
          "name": "stdout",
          "text": [
            "Creating....\n",
            "SucceededProvisioning operation finished, operation \"Succeeded\"\n",
            "Succeeded....................................................................................................................\n",
            "AmlCompute wait for completion finished\n",
            "\n",
            "Wait timeout has been reached\n",
            "Current provisioning state of AmlCompute is \"Succeeded\" and current node count is \"0\"\n"
          ]
        }
      ],
      "execution_count": 5,
      "metadata": {
        "gather": {
          "logged": 1618863461190
        }
      }
    },
    {
      "cell_type": "code",
      "source": [
        "found = False\n",
        "key = \"Breast Cancer Classification\"\n",
        "description_text = \"Breast Cancer Classification Dataset for Capstone Project Udacity\"\n",
        "\n",
        "if key in ws.datasets.keys(): \n",
        "        found = True\n",
        "        dataset = ws.datasets[key] \n",
        "\n",
        "if not found:\n",
        "        # Create AML Dataset and register it into Workspace\n",
        "        example_data = 'https://raw.githubusercontent.com/vagbharathi/Capstone-project-UdacityMachineLearningEngineer-MicrosoftAzure-Scholarship/main/nd00333-capstone-master/starter_file/breast_cancer_data.csv'\n",
        "        dataset = Dataset.Tabular.from_delimited_files(example_data)        \n",
        "        #Register Dataset in Workspace\n",
        "        dataset = dataset.register(workspace=ws,\n",
        "                                   name=key,\n",
        "                                   description=description_text)\n",
        "\n",
        "\n",
        "df = dataset.to_pandas_dataframe()\n",
        "df.describe()"
      ],
      "outputs": [
        {
          "output_type": "execute_result",
          "execution_count": 6,
          "data": {
            "text/plain": "       mean_radius  mean_texture  mean_perimeter    mean_area  \\\ncount   569.000000    569.000000      569.000000   569.000000   \nmean     14.127292     19.289649       91.969033   654.889104   \nstd       3.524049      4.301036       24.298981   351.914129   \nmin       6.981000      9.710000       43.790000   143.500000   \n25%      11.700000     16.170000       75.170000   420.300000   \n50%      13.370000     18.840000       86.240000   551.100000   \n75%      15.780000     21.800000      104.100000   782.700000   \nmax      28.110000     39.280000      188.500000  2501.000000   \n\n       mean_smoothness   diagnosis  \ncount       569.000000  569.000000  \nmean          0.096360    0.627417  \nstd           0.014064    0.483918  \nmin           0.052630    0.000000  \n25%           0.086370    0.000000  \n50%           0.095870    1.000000  \n75%           0.105300    1.000000  \nmax           0.163400    1.000000  ",
            "text/html": "<div>\n<style scoped>\n    .dataframe tbody tr th:only-of-type {\n        vertical-align: middle;\n    }\n\n    .dataframe tbody tr th {\n        vertical-align: top;\n    }\n\n    .dataframe thead th {\n        text-align: right;\n    }\n</style>\n<table border=\"1\" class=\"dataframe\">\n  <thead>\n    <tr style=\"text-align: right;\">\n      <th></th>\n      <th>mean_radius</th>\n      <th>mean_texture</th>\n      <th>mean_perimeter</th>\n      <th>mean_area</th>\n      <th>mean_smoothness</th>\n      <th>diagnosis</th>\n    </tr>\n  </thead>\n  <tbody>\n    <tr>\n      <th>count</th>\n      <td>569.000000</td>\n      <td>569.000000</td>\n      <td>569.000000</td>\n      <td>569.000000</td>\n      <td>569.000000</td>\n      <td>569.000000</td>\n    </tr>\n    <tr>\n      <th>mean</th>\n      <td>14.127292</td>\n      <td>19.289649</td>\n      <td>91.969033</td>\n      <td>654.889104</td>\n      <td>0.096360</td>\n      <td>0.627417</td>\n    </tr>\n    <tr>\n      <th>std</th>\n      <td>3.524049</td>\n      <td>4.301036</td>\n      <td>24.298981</td>\n      <td>351.914129</td>\n      <td>0.014064</td>\n      <td>0.483918</td>\n    </tr>\n    <tr>\n      <th>min</th>\n      <td>6.981000</td>\n      <td>9.710000</td>\n      <td>43.790000</td>\n      <td>143.500000</td>\n      <td>0.052630</td>\n      <td>0.000000</td>\n    </tr>\n    <tr>\n      <th>25%</th>\n      <td>11.700000</td>\n      <td>16.170000</td>\n      <td>75.170000</td>\n      <td>420.300000</td>\n      <td>0.086370</td>\n      <td>0.000000</td>\n    </tr>\n    <tr>\n      <th>50%</th>\n      <td>13.370000</td>\n      <td>18.840000</td>\n      <td>86.240000</td>\n      <td>551.100000</td>\n      <td>0.095870</td>\n      <td>1.000000</td>\n    </tr>\n    <tr>\n      <th>75%</th>\n      <td>15.780000</td>\n      <td>21.800000</td>\n      <td>104.100000</td>\n      <td>782.700000</td>\n      <td>0.105300</td>\n      <td>1.000000</td>\n    </tr>\n    <tr>\n      <th>max</th>\n      <td>28.110000</td>\n      <td>39.280000</td>\n      <td>188.500000</td>\n      <td>2501.000000</td>\n      <td>0.163400</td>\n      <td>1.000000</td>\n    </tr>\n  </tbody>\n</table>\n</div>"
          },
          "metadata": {}
        }
      ],
      "execution_count": 6,
      "metadata": {
        "gather": {
          "logged": 1618863479656
        }
      }
    },
    {
      "cell_type": "code",
      "source": [
        "dataset.take(5).to_pandas_dataframe()"
      ],
      "outputs": [
        {
          "output_type": "execute_result",
          "execution_count": 7,
          "data": {
            "text/plain": "   mean_radius  mean_texture  mean_perimeter  mean_area  mean_smoothness  \\\n0        17.99         10.38          122.80     1001.0          0.11840   \n1        20.57         17.77          132.90     1326.0          0.08474   \n2        19.69         21.25          130.00     1203.0          0.10960   \n3        11.42         20.38           77.58      386.1          0.14250   \n4        20.29         14.34          135.10     1297.0          0.10030   \n\n   diagnosis  \n0          0  \n1          0  \n2          0  \n3          0  \n4          0  ",
            "text/html": "<div>\n<style scoped>\n    .dataframe tbody tr th:only-of-type {\n        vertical-align: middle;\n    }\n\n    .dataframe tbody tr th {\n        vertical-align: top;\n    }\n\n    .dataframe thead th {\n        text-align: right;\n    }\n</style>\n<table border=\"1\" class=\"dataframe\">\n  <thead>\n    <tr style=\"text-align: right;\">\n      <th></th>\n      <th>mean_radius</th>\n      <th>mean_texture</th>\n      <th>mean_perimeter</th>\n      <th>mean_area</th>\n      <th>mean_smoothness</th>\n      <th>diagnosis</th>\n    </tr>\n  </thead>\n  <tbody>\n    <tr>\n      <th>0</th>\n      <td>17.99</td>\n      <td>10.38</td>\n      <td>122.80</td>\n      <td>1001.0</td>\n      <td>0.11840</td>\n      <td>0</td>\n    </tr>\n    <tr>\n      <th>1</th>\n      <td>20.57</td>\n      <td>17.77</td>\n      <td>132.90</td>\n      <td>1326.0</td>\n      <td>0.08474</td>\n      <td>0</td>\n    </tr>\n    <tr>\n      <th>2</th>\n      <td>19.69</td>\n      <td>21.25</td>\n      <td>130.00</td>\n      <td>1203.0</td>\n      <td>0.10960</td>\n      <td>0</td>\n    </tr>\n    <tr>\n      <th>3</th>\n      <td>11.42</td>\n      <td>20.38</td>\n      <td>77.58</td>\n      <td>386.1</td>\n      <td>0.14250</td>\n      <td>0</td>\n    </tr>\n    <tr>\n      <th>4</th>\n      <td>20.29</td>\n      <td>14.34</td>\n      <td>135.10</td>\n      <td>1297.0</td>\n      <td>0.10030</td>\n      <td>0</td>\n    </tr>\n  </tbody>\n</table>\n</div>"
          },
          "metadata": {}
        }
      ],
      "execution_count": 7,
      "metadata": {
        "gather": {
          "logged": 1618863483566
        }
      }
    },
    {
      "cell_type": "code",
      "source": [
        "# Split data into train and test sets\n",
        "train, test = dataset.random_split(percentage=0.75, seed=121)"
      ],
      "outputs": [],
      "execution_count": null,
      "metadata": {
        "gather": {
          "logged": 1618850416806
        }
      }
    },
    {
      "cell_type": "markdown",
      "source": [
        "## AutoML Configuration\n",
        "\n",
        "TODO: Explain why you chose the automl settings and cofiguration you used below."
      ],
      "metadata": {}
    },
    {
      "cell_type": "code",
      "source": [
        "# TODO: Put your automl settings here\n",
        "automl_settings = {\n",
        "    \"experiment_timeout_minutes\": 30,\n",
        "    \"max_concurrent_iterations\": 5,\n",
        "    \"primary_metric\" : 'accuracy'\n",
        "}\n",
        "\n",
        "# TODO: Put your automl config here\n",
        "automl_config = AutoMLConfig(compute_target=training_cluster,\n",
        "                             task = \"classification\",\n",
        "                             training_data=dataset,\n",
        "                             label_column_name=\"diagnosis\",   \n",
        "                             enable_early_stopping= True,\n",
        "                             n_cross_validations=5,\n",
        "                             featurization= 'auto',\n",
        "                             debug_log = \"automl_errors.log\",\n",
        "                             **automl_settings)"
      ],
      "outputs": [],
      "execution_count": 8,
      "metadata": {
        "gather": {
          "logged": 1618863498018
        },
        "jupyter": {
          "outputs_hidden": false,
          "source_hidden": false
        },
        "nteract": {
          "transient": {
            "deleting": false
          }
        }
      }
    },
    {
      "cell_type": "code",
      "source": [
        "# TODO: Submit your experiment\n",
        "remote_run = experiment.submit(automl_config)"
      ],
      "outputs": [
        {
          "output_type": "stream",
          "name": "stdout",
          "text": [
            "Submitting remote run.\n"
          ]
        },
        {
          "output_type": "display_data",
          "data": {
            "text/plain": "<IPython.core.display.HTML object>",
            "text/html": "<table style=\"width:100%\"><tr><th>Experiment</th><th>Id</th><th>Type</th><th>Status</th><th>Details Page</th><th>Docs Page</th></tr><tr><td>AutoMLversion</td><td>AutoML_a5550912-ff01-4234-a43b-4f360b456122</td><td>automl</td><td>NotStarted</td><td><a href=\"https://ml.azure.com/runs/AutoML_a5550912-ff01-4234-a43b-4f360b456122?wsid=/subscriptions/6971f5ac-8af1-446e-8034-05acea24681f/resourcegroups/aml-quickstarts-143185/workspaces/quick-starts-ws-143185&amp;tid=660b3398-b80e-49d2-bc5b-ac1dc93b5254\" target=\"_blank\" rel=\"noopener\">Link to Azure Machine Learning studio</a></td><td><a href=\"https://docs.microsoft.com/en-us/python/api/overview/azure/ml/intro?view=azure-ml-py\" target=\"_blank\" rel=\"noopener\">Link to Documentation</a></td></tr></table>"
          },
          "metadata": {}
        }
      ],
      "execution_count": 9,
      "metadata": {
        "gather": {
          "logged": 1618863513277
        },
        "jupyter": {
          "outputs_hidden": false,
          "source_hidden": false
        },
        "nteract": {
          "transient": {
            "deleting": false
          }
        }
      }
    },
    {
      "cell_type": "markdown",
      "source": [
        "## Run Details\n",
        "\n",
        "OPTIONAL: Write about the different models trained and their performance. Why do you think some models did better than others?\n",
        "\n",
        "TODO: In the cell below, use the `RunDetails` widget to show the different experiments."
      ],
      "metadata": {}
    },
    {
      "cell_type": "code",
      "source": [
        "from azureml.widgets import RunDetails\n",
        "RunDetails(remote_run).show()\n",
        "remote_run.wait_for_completion(show_output=True)"
      ],
      "outputs": [
        {
          "output_type": "display_data",
          "data": {
            "text/plain": "_AutoMLWidget(widget_settings={'childWidgetDisplay': 'popup', 'send_telemetry': False, 'log_level': 'INFO', 's…",
            "application/vnd.jupyter.widget-view+json": {
              "version_major": 2,
              "version_minor": 0,
              "model_id": "5559f96d3a574b88a0a98d6c2646c7a4"
            }
          },
          "metadata": {}
        },
        {
          "output_type": "display_data",
          "data": {
            "application/aml.mini.widget.v1": "{\"status\": \"Completed\", \"workbench_run_details_uri\": \"https://ml.azure.com/runs/AutoML_a5550912-ff01-4234-a43b-4f360b456122?wsid=/subscriptions/6971f5ac-8af1-446e-8034-05acea24681f/resourcegroups/aml-quickstarts-143185/workspaces/quick-starts-ws-143185&tid=660b3398-b80e-49d2-bc5b-ac1dc93b5254\", \"run_id\": \"AutoML_a5550912-ff01-4234-a43b-4f360b456122\", \"run_properties\": {\"run_id\": \"AutoML_a5550912-ff01-4234-a43b-4f360b456122\", \"created_utc\": \"2021-04-19T20:18:30.817794Z\", \"properties\": {\"num_iterations\": \"1000\", \"training_type\": \"TrainFull\", \"acquisition_function\": \"EI\", \"primary_metric\": \"accuracy\", \"train_split\": \"0\", \"acquisition_parameter\": \"0\", \"num_cross_validation\": \"5\", \"target\": \"automl-compute\", \"AMLSettingsJsonString\": \"{\\\"path\\\":null,\\\"name\\\":\\\"AutoMLversion\\\",\\\"subscription_id\\\":\\\"6971f5ac-8af1-446e-8034-05acea24681f\\\",\\\"resource_group\\\":\\\"aml-quickstarts-143185\\\",\\\"workspace_name\\\":\\\"quick-starts-ws-143185\\\",\\\"region\\\":\\\"southcentralus\\\",\\\"compute_target\\\":\\\"automl-compute\\\",\\\"spark_service\\\":null,\\\"azure_service\\\":\\\"remote\\\",\\\"many_models\\\":false,\\\"pipeline_fetch_max_batch_size\\\":1,\\\"enable_batch_run\\\":false,\\\"enable_run_restructure\\\":false,\\\"iterations\\\":1000,\\\"primary_metric\\\":\\\"accuracy\\\",\\\"task_type\\\":\\\"classification\\\",\\\"data_script\\\":null,\\\"test_size\\\":0.0,\\\"validation_size\\\":0.0,\\\"n_cross_validations\\\":5,\\\"y_min\\\":null,\\\"y_max\\\":null,\\\"num_classes\\\":null,\\\"featurization\\\":\\\"auto\\\",\\\"_ignore_package_version_incompatibilities\\\":false,\\\"is_timeseries\\\":false,\\\"max_cores_per_iteration\\\":1,\\\"max_concurrent_iterations\\\":5,\\\"iteration_timeout_minutes\\\":null,\\\"mem_in_mb\\\":null,\\\"enforce_time_on_windows\\\":false,\\\"experiment_timeout_minutes\\\":30,\\\"experiment_exit_score\\\":null,\\\"whitelist_models\\\":null,\\\"blacklist_algos\\\":[\\\"TensorFlowLinearClassifier\\\",\\\"TensorFlowDNN\\\"],\\\"supported_models\\\":[\\\"LinearSVM\\\",\\\"KNN\\\",\\\"GradientBoosting\\\",\\\"TensorFlowLinearClassifier\\\",\\\"ExtremeRandomTrees\\\",\\\"SVM\\\",\\\"RandomForest\\\",\\\"BernoulliNaiveBayes\\\",\\\"MultinomialNaiveBayes\\\",\\\"LightGBM\\\",\\\"AveragedPerceptronClassifier\\\",\\\"LogisticRegression\\\",\\\"TensorFlowDNN\\\",\\\"XGBoostClassifier\\\",\\\"DecisionTree\\\",\\\"SGD\\\"],\\\"private_models\\\":[],\\\"auto_blacklist\\\":true,\\\"blacklist_samples_reached\\\":false,\\\"exclude_nan_labels\\\":true,\\\"verbosity\\\":20,\\\"_debug_log\\\":\\\"azureml_automl.log\\\",\\\"show_warnings\\\":false,\\\"model_explainability\\\":true,\\\"service_url\\\":null,\\\"sdk_url\\\":null,\\\"sdk_packages\\\":null,\\\"enable_onnx_compatible_models\\\":false,\\\"enable_split_onnx_featurizer_estimator_models\\\":false,\\\"vm_type\\\":\\\"STANDARD_D2_V2\\\",\\\"telemetry_verbosity\\\":20,\\\"send_telemetry\\\":true,\\\"enable_dnn\\\":false,\\\"scenario\\\":\\\"SDK-1.13.0\\\",\\\"environment_label\\\":null,\\\"save_mlflow\\\":false,\\\"force_text_dnn\\\":false,\\\"enable_feature_sweeping\\\":true,\\\"enable_early_stopping\\\":true,\\\"early_stopping_n_iters\\\":10,\\\"metrics\\\":null,\\\"enable_metric_confidence\\\":false,\\\"enable_ensembling\\\":true,\\\"enable_stack_ensembling\\\":true,\\\"ensemble_iterations\\\":15,\\\"enable_tf\\\":false,\\\"enable_subsampling\\\":null,\\\"subsample_seed\\\":null,\\\"enable_nimbusml\\\":false,\\\"enable_streaming\\\":false,\\\"force_streaming\\\":false,\\\"track_child_runs\\\":true,\\\"allowed_private_models\\\":[],\\\"label_column_name\\\":\\\"diagnosis\\\",\\\"weight_column_name\\\":null,\\\"cv_split_column_names\\\":null,\\\"enable_local_managed\\\":false,\\\"_local_managed_run_id\\\":null,\\\"cost_mode\\\":1,\\\"lag_length\\\":0,\\\"metric_operation\\\":\\\"maximize\\\",\\\"preprocess\\\":true}\", \"DataPrepJsonString\": \"{\\\\\\\"training_data\\\\\\\": {\\\\\\\"datasetId\\\\\\\": \\\\\\\"9faa8d2c-1370-4937-b024-2f1a7ab0fcd5\\\\\\\"}, \\\\\\\"datasets\\\\\\\": 0}\", \"EnableSubsampling\": null, \"runTemplate\": \"AutoML\", \"azureml.runsource\": \"automl\", \"display_task_type\": \"classification\", \"dependencies_versions\": \"{\\\"azureml-widgets\\\": \\\"1.26.0\\\", \\\"azureml-train\\\": \\\"1.26.0\\\", \\\"azureml-train-restclients-hyperdrive\\\": \\\"1.26.0\\\", \\\"azureml-train-core\\\": \\\"1.26.0\\\", \\\"azureml-train-automl\\\": \\\"1.26.0\\\", \\\"azureml-train-automl-runtime\\\": \\\"1.26.0\\\", \\\"azureml-train-automl-client\\\": \\\"1.26.0\\\", \\\"azureml-tensorboard\\\": \\\"1.26.0\\\", \\\"azureml-telemetry\\\": \\\"1.26.0\\\", \\\"azureml-sdk\\\": \\\"1.26.0\\\", \\\"azureml-samples\\\": \\\"0+unknown\\\", \\\"azureml-pipeline\\\": \\\"1.26.0\\\", \\\"azureml-pipeline-steps\\\": \\\"1.26.0\\\", \\\"azureml-pipeline-core\\\": \\\"1.26.0\\\", \\\"azureml-opendatasets\\\": \\\"1.26.0\\\", \\\"azureml-model-management-sdk\\\": \\\"1.0.1b6.post1\\\", \\\"azureml-mlflow\\\": \\\"1.26.0\\\", \\\"azureml-interpret\\\": \\\"1.26.0\\\", \\\"azureml-explain-model\\\": \\\"1.26.0\\\", \\\"azureml-defaults\\\": \\\"1.26.0\\\", \\\"azureml-dataset-runtime\\\": \\\"1.26.0\\\", \\\"azureml-dataprep\\\": \\\"2.13.2\\\", \\\"azureml-dataprep-rslex\\\": \\\"1.11.2\\\", \\\"azureml-dataprep-native\\\": \\\"32.0.0\\\", \\\"azureml-datadrift\\\": \\\"1.26.0\\\", \\\"azureml-core\\\": \\\"1.26.0\\\", \\\"azureml-contrib-services\\\": \\\"1.26.0\\\", \\\"azureml-contrib-server\\\": \\\"1.26.0\\\", \\\"azureml-contrib-reinforcementlearning\\\": \\\"1.26.0\\\", \\\"azureml-contrib-pipeline-steps\\\": \\\"1.26.0\\\", \\\"azureml-contrib-notebook\\\": \\\"1.26.0\\\", \\\"azureml-contrib-gbdt\\\": \\\"1.26.0\\\", \\\"azureml-contrib-fairness\\\": \\\"1.26.0\\\", \\\"azureml-contrib-dataset\\\": \\\"1.26.0\\\", \\\"azureml-cli-common\\\": \\\"1.26.0\\\", \\\"azureml-automl-runtime\\\": \\\"1.26.0\\\", \\\"azureml-automl-dnn-nlp\\\": \\\"1.26.0\\\", \\\"azureml-automl-core\\\": \\\"1.26.0\\\", \\\"azureml-accel-models\\\": \\\"1.26.0\\\"}\", \"_aml_system_scenario_identification\": \"Remote.Parent\", \"ClientType\": \"SDK\", \"environment_cpu_name\": \"AzureML-AutoML\", \"environment_cpu_label\": \"prod\", \"environment_gpu_name\": \"AzureML-AutoML-GPU\", \"environment_gpu_label\": \"prod\", \"root_attribution\": \"automl\", \"attribution\": \"AutoML\", \"Orchestrator\": \"AutoML\", \"CancelUri\": \"https://southcentralus.experiments.azureml.net/jasmine/v1.0/subscriptions/6971f5ac-8af1-446e-8034-05acea24681f/resourceGroups/aml-quickstarts-143185/providers/Microsoft.MachineLearningServices/workspaces/quick-starts-ws-143185/experimentids/57af3b3f-6365-4634-932a-b9585e269c44/cancel/AutoML_a5550912-ff01-4234-a43b-4f360b456122\", \"ClientSdkVersion\": \"1.26.0\", \"snapshotId\": \"00000000-0000-0000-0000-000000000000\", \"SetupRunId\": \"AutoML_a5550912-ff01-4234-a43b-4f360b456122_setup\", \"SetupRunContainerId\": \"dcid.AutoML_a5550912-ff01-4234-a43b-4f360b456122_setup\", \"FeaturizationRunJsonPath\": \"featurizer_container.json\", \"FeaturizationRunId\": \"AutoML_a5550912-ff01-4234-a43b-4f360b456122_featurize\", \"ProblemInfoJsonString\": \"{\\\"dataset_num_categorical\\\": 0, \\\"is_sparse\\\": false, \\\"subsampling\\\": false, \\\"dataset_classes\\\": 2, \\\"dataset_features\\\": 5, \\\"dataset_samples\\\": 569, \\\"single_frequency_class_detected\\\": false}\", \"ModelExplainRunId\": \"AutoML_a5550912-ff01-4234-a43b-4f360b456122_ModelExplain\"}, \"tags\": {\"model_explain_run\": \"best_run\", \"_aml_system_azureml.automlComponent\": \"AutoML\", \"pipeline_id\": \"\", \"score\": \"\", \"predicted_cost\": \"\", \"fit_time\": \"\", \"training_percent\": \"\", \"iteration\": \"\", \"run_preprocessor\": \"\", \"run_algorithm\": \"\", \"dynamic_whitelisting_iterations\": \"<25>;<30>;<34>;\", \"automl_best_child_run_id\": \"AutoML_a5550912-ff01-4234-a43b-4f360b456122_38\", \"model_explain_best_run_child_id\": \"AutoML_a5550912-ff01-4234-a43b-4f360b456122_38\"}, \"end_time_utc\": \"2021-04-19T20:38:32.857733Z\", \"status\": \"Completed\", \"log_files\": {}, \"log_groups\": [], \"run_duration\": \"0:20:02\", \"run_number\": \"1\", \"run_queued_details\": {\"status\": \"Completed\", \"details\": null}}, \"child_runs\": [{\"run_id\": \"AutoML_a5550912-ff01-4234-a43b-4f360b456122_1\", \"run_number\": 5, \"metric\": null, \"status\": \"Completed\", \"run_type\": \"azureml.scriptrun\", \"training_percent\": \"100\", \"start_time\": \"2021-04-19T20:27:49.561283Z\", \"end_time\": \"2021-04-19T20:28:40.930639Z\", \"created_time\": \"2021-04-19T20:27:39.202855Z\", \"created_time_dt\": \"2021-04-19T20:27:39.202855Z\", \"duration\": \"0:01:01\", \"iteration\": \"1\", \"goal\": \"accuracy_max\", \"run_name\": \"MaxAbsScaler, XGBoostClassifier\", \"run_properties\": \"copy=True\", \"primary_metric\": 0.92262071, \"best_metric\": 0.92440615}, {\"run_id\": \"AutoML_a5550912-ff01-4234-a43b-4f360b456122_0\", \"run_number\": 6, \"metric\": null, \"status\": \"Completed\", \"run_type\": \"azureml.scriptrun\", \"training_percent\": \"100\", \"start_time\": \"2021-04-19T20:27:54.166159Z\", \"end_time\": \"2021-04-19T20:28:42.899484Z\", \"created_time\": \"2021-04-19T20:27:39.207499Z\", \"created_time_dt\": \"2021-04-19T20:27:39.207499Z\", \"duration\": \"0:01:03\", \"iteration\": \"0\", \"goal\": \"accuracy_max\", \"run_name\": \"MaxAbsScaler, LightGBM\", \"run_properties\": \"copy=True\", \"primary_metric\": 0.92440615, \"best_metric\": 0.92440615}, {\"run_id\": \"AutoML_a5550912-ff01-4234-a43b-4f360b456122_3\", \"run_number\": 7, \"metric\": null, \"status\": \"Completed\", \"run_type\": \"azureml.scriptrun\", \"training_percent\": \"100\", \"start_time\": \"2021-04-19T20:27:50.228062Z\", \"end_time\": \"2021-04-19T20:32:54.011038Z\", \"created_time\": \"2021-04-19T20:27:39.274431Z\", \"created_time_dt\": \"2021-04-19T20:27:39.274431Z\", \"duration\": \"0:05:14\", \"iteration\": \"3\", \"goal\": \"accuracy_max\", \"run_name\": \"MinMaxScaler, RandomForest\", \"run_properties\": \"copy=True, feature_range=(0, 1\", \"primary_metric\": 0.91558764, \"best_metric\": 0.92440615}, {\"run_id\": \"AutoML_a5550912-ff01-4234-a43b-4f360b456122_4\", \"run_number\": 8, \"metric\": null, \"status\": \"Completed\", \"run_type\": \"azureml.scriptrun\", \"training_percent\": \"100\", \"start_time\": \"2021-04-19T20:27:49.779774Z\", \"end_time\": \"2021-04-19T20:29:52.948715Z\", \"created_time\": \"2021-04-19T20:27:39.357099Z\", \"created_time_dt\": \"2021-04-19T20:27:39.357099Z\", \"duration\": \"0:02:13\", \"iteration\": \"4\", \"goal\": \"accuracy_max\", \"run_name\": \"MinMaxScaler, RandomForest\", \"run_properties\": \"copy=True, feature_range=(0, 1\", \"primary_metric\": 0.93140817, \"best_metric\": 0.93140817}, {\"run_id\": \"AutoML_a5550912-ff01-4234-a43b-4f360b456122_2\", \"run_number\": 9, \"metric\": null, \"status\": \"Completed\", \"run_type\": \"azureml.scriptrun\", \"training_percent\": \"100\", \"start_time\": \"2021-04-19T20:27:49.319702Z\", \"end_time\": \"2021-04-19T20:29:55.81987Z\", \"created_time\": \"2021-04-19T20:27:39.382772Z\", \"created_time_dt\": \"2021-04-19T20:27:39.382772Z\", \"duration\": \"0:02:16\", \"iteration\": \"2\", \"goal\": \"accuracy_max\", \"run_name\": \"MinMaxScaler, RandomForest\", \"run_properties\": \"copy=True, feature_range=(0, 1\", \"primary_metric\": 0.91561869, \"best_metric\": 0.92440615}, {\"run_id\": \"AutoML_a5550912-ff01-4234-a43b-4f360b456122_5\", \"run_number\": 10, \"metric\": null, \"status\": \"Completed\", \"run_type\": \"azureml.scriptrun\", \"training_percent\": \"100\", \"start_time\": \"2021-04-19T20:28:57.214909Z\", \"end_time\": \"2021-04-19T20:29:43.30707Z\", \"created_time\": \"2021-04-19T20:28:44.569743Z\", \"created_time_dt\": \"2021-04-19T20:28:44.569743Z\", \"duration\": \"0:00:58\", \"iteration\": \"5\", \"goal\": \"accuracy_max\", \"run_name\": \"MaxAbsScaler, LightGBM\", \"run_properties\": \"copy=True\", \"primary_metric\": 0.93140817, \"best_metric\": 0.93140817}, {\"run_id\": \"AutoML_a5550912-ff01-4234-a43b-4f360b456122_6\", \"run_number\": 11, \"metric\": null, \"status\": \"Completed\", \"run_type\": \"azureml.scriptrun\", \"training_percent\": \"100\", \"start_time\": \"2021-04-19T20:29:00.580589Z\", \"end_time\": \"2021-04-19T20:29:42.405277Z\", \"created_time\": \"2021-04-19T20:28:50.614995Z\", \"created_time_dt\": \"2021-04-19T20:28:50.614995Z\", \"duration\": \"0:00:51\", \"iteration\": \"6\", \"goal\": \"accuracy_max\", \"run_name\": \"SparseNormalizer, XGBoostClassifier\", \"run_properties\": \"<azureml.automl.runtime.shared.model_wrappers.SparseNormalizer object at 0x7fcdca4cd320\", \"primary_metric\": 0.92611396, \"best_metric\": 0.93140817}, {\"run_id\": \"AutoML_a5550912-ff01-4234-a43b-4f360b456122_7\", \"run_number\": 12, \"metric\": null, \"status\": \"Completed\", \"run_type\": \"azureml.scriptrun\", \"training_percent\": \"100\", \"start_time\": \"2021-04-19T20:29:59.157072Z\", \"end_time\": \"2021-04-19T20:30:42.160169Z\", \"created_time\": \"2021-04-19T20:29:46.323481Z\", \"created_time_dt\": \"2021-04-19T20:29:46.323481Z\", \"duration\": \"0:00:55\", \"iteration\": \"7\", \"goal\": \"accuracy_max\", \"run_name\": \"TruncatedSVDWrapper, XGBoostClassifier\", \"run_properties\": \"n_components=0.6036842105263158, random_state=None\", \"primary_metric\": 0.88568545, \"best_metric\": 0.93140817}, {\"run_id\": \"AutoML_a5550912-ff01-4234-a43b-4f360b456122_8\", \"run_number\": 13, \"metric\": null, \"status\": \"Completed\", \"run_type\": \"azureml.scriptrun\", \"training_percent\": \"100\", \"start_time\": \"2021-04-19T20:30:00.709366Z\", \"end_time\": \"2021-04-19T20:30:42.647835Z\", \"created_time\": \"2021-04-19T20:29:52.658682Z\", \"created_time_dt\": \"2021-04-19T20:29:52.658682Z\", \"duration\": \"0:00:49\", \"iteration\": \"8\", \"goal\": \"accuracy_max\", \"run_name\": \"MinMaxScaler, SVM\", \"run_properties\": \"copy=True, feature_range=(0, 1\", \"primary_metric\": 0.91561869, \"best_metric\": 0.93140817}, {\"run_id\": \"AutoML_a5550912-ff01-4234-a43b-4f360b456122_9\", \"run_number\": 14, \"metric\": null, \"status\": \"Completed\", \"run_type\": \"azureml.scriptrun\", \"training_percent\": \"100\", \"start_time\": \"2021-04-19T20:30:05.320855Z\", \"end_time\": \"2021-04-19T20:32:17.308362Z\", \"created_time\": \"2021-04-19T20:29:56.265489Z\", \"created_time_dt\": \"2021-04-19T20:29:56.265489Z\", \"duration\": \"0:02:21\", \"iteration\": \"9\", \"goal\": \"accuracy_max\", \"run_name\": \"MaxAbsScaler, LightGBM\", \"run_properties\": \"copy=True\", \"primary_metric\": 0.92614501, \"best_metric\": 0.93140817}, {\"run_id\": \"AutoML_a5550912-ff01-4234-a43b-4f360b456122_10\", \"run_number\": 15, \"metric\": null, \"status\": \"Completed\", \"run_type\": \"azureml.scriptrun\", \"training_percent\": \"100\", \"start_time\": \"2021-04-19T20:30:11.235275Z\", \"end_time\": \"2021-04-19T20:31:03.162875Z\", \"created_time\": \"2021-04-19T20:30:00.772633Z\", \"created_time_dt\": \"2021-04-19T20:30:00.772633Z\", \"duration\": \"0:01:02\", \"iteration\": \"10\", \"goal\": \"accuracy_max\", \"run_name\": \"RobustScaler, SVM\", \"run_properties\": \"copy=True, quantile_range=[10, 90], with_centering=True,\\n             with_scaling=True\", \"primary_metric\": 0.91386431, \"best_metric\": 0.93140817}, {\"run_id\": \"AutoML_a5550912-ff01-4234-a43b-4f360b456122_11\", \"run_number\": 16, \"metric\": null, \"status\": \"Completed\", \"run_type\": \"azureml.scriptrun\", \"training_percent\": \"100\", \"start_time\": \"2021-04-19T20:30:57.717754Z\", \"end_time\": \"2021-04-19T20:31:41.534728Z\", \"created_time\": \"2021-04-19T20:30:44.144896Z\", \"created_time_dt\": \"2021-04-19T20:30:44.144896Z\", \"duration\": \"0:00:57\", \"iteration\": \"11\", \"goal\": \"accuracy_max\", \"run_name\": \"StandardScalerWrapper, XGBoostClassifier\", \"run_properties\": \"<azureml.automl.runtime.shared.model_wrappers.StandardScalerWrapper object at 0x7f4e35777a20\", \"primary_metric\": 0.89799721, \"best_metric\": 0.93140817}, {\"run_id\": \"AutoML_a5550912-ff01-4234-a43b-4f360b456122_12\", \"run_number\": 17, \"metric\": null, \"status\": \"Completed\", \"run_type\": \"azureml.scriptrun\", \"training_percent\": \"100\", \"start_time\": \"2021-04-19T20:31:00.592122Z\", \"end_time\": \"2021-04-19T20:31:43.385923Z\", \"created_time\": \"2021-04-19T20:30:49.1146Z\", \"created_time_dt\": \"2021-04-19T20:30:49.1146Z\", \"duration\": \"0:00:54\", \"iteration\": \"12\", \"goal\": \"accuracy_max\", \"run_name\": \"SparseNormalizer, LightGBM\", \"run_properties\": \"<azureml.automl.runtime.shared.model_wrappers.SparseNormalizer object at 0x7f7df2f630f0\", \"primary_metric\": 0.91206334, \"best_metric\": 0.93140817}, {\"run_id\": \"AutoML_a5550912-ff01-4234-a43b-4f360b456122_13\", \"run_number\": 18, \"metric\": null, \"status\": \"Completed\", \"run_type\": \"azureml.scriptrun\", \"training_percent\": \"100\", \"start_time\": \"2021-04-19T20:31:16.042668Z\", \"end_time\": \"2021-04-19T20:32:04.133425Z\", \"created_time\": \"2021-04-19T20:31:05.173519Z\", \"created_time_dt\": \"2021-04-19T20:31:05.173519Z\", \"duration\": \"0:00:58\", \"iteration\": \"13\", \"goal\": \"accuracy_max\", \"run_name\": \"StandardScalerWrapper, LightGBM\", \"run_properties\": \"<azureml.automl.runtime.shared.model_wrappers.StandardScalerWrapper object at 0x7f28f5108ba8\", \"primary_metric\": 0.92963825, \"best_metric\": 0.93140817}, {\"run_id\": \"AutoML_a5550912-ff01-4234-a43b-4f360b456122_14\", \"run_number\": 19, \"metric\": null, \"status\": \"Completed\", \"run_type\": \"azureml.scriptrun\", \"training_percent\": \"100\", \"start_time\": \"2021-04-19T20:31:54.571176Z\", \"end_time\": \"2021-04-19T20:32:48.610411Z\", \"created_time\": \"2021-04-19T20:31:43.527466Z\", \"created_time_dt\": \"2021-04-19T20:31:43.527466Z\", \"duration\": \"0:01:05\", \"iteration\": \"14\", \"goal\": \"accuracy_max\", \"run_name\": \"MinMaxScaler, LightGBM\", \"run_properties\": \"copy=True, feature_range=(0, 1\", \"primary_metric\": 0.92616053, \"best_metric\": 0.93140817}, {\"run_id\": \"AutoML_a5550912-ff01-4234-a43b-4f360b456122_15\", \"run_number\": 20, \"metric\": null, \"status\": \"Completed\", \"run_type\": \"azureml.scriptrun\", \"training_percent\": \"100\", \"start_time\": \"2021-04-19T20:31:57.466017Z\", \"end_time\": \"2021-04-19T20:32:47.533303Z\", \"created_time\": \"2021-04-19T20:31:48.262677Z\", \"created_time_dt\": \"2021-04-19T20:31:48.262677Z\", \"duration\": \"0:00:59\", \"iteration\": \"15\", \"goal\": \"accuracy_max\", \"run_name\": \"RobustScaler, LightGBM\", \"run_properties\": \"copy=True, quantile_range=[10, 90], with_centering=False,\\n             with_scaling=False\", \"primary_metric\": 0.93142369, \"best_metric\": 0.93142369}, {\"run_id\": \"AutoML_a5550912-ff01-4234-a43b-4f360b456122_16\", \"run_number\": 21, \"metric\": null, \"status\": \"Completed\", \"run_type\": \"azureml.scriptrun\", \"training_percent\": \"100\", \"start_time\": \"2021-04-19T20:32:22.98133Z\", \"end_time\": \"2021-04-19T20:33:10.027494Z\", \"created_time\": \"2021-04-19T20:32:08.713289Z\", \"created_time_dt\": \"2021-04-19T20:32:08.713289Z\", \"duration\": \"0:01:01\", \"iteration\": \"16\", \"goal\": \"accuracy_max\", \"run_name\": \"MaxAbsScaler, LightGBM\", \"run_properties\": \"copy=True\", \"primary_metric\": 0.91734203, \"best_metric\": 0.93142369}, {\"run_id\": \"AutoML_a5550912-ff01-4234-a43b-4f360b456122_17\", \"run_number\": 22, \"metric\": null, \"status\": \"Completed\", \"run_type\": \"azureml.scriptrun\", \"training_percent\": \"100\", \"start_time\": \"2021-04-19T20:32:26.966005Z\", \"end_time\": \"2021-04-19T20:33:11.708115Z\", \"created_time\": \"2021-04-19T20:32:19.360246Z\", \"created_time_dt\": \"2021-04-19T20:32:19.360246Z\", \"duration\": \"0:00:52\", \"iteration\": \"17\", \"goal\": \"accuracy_max\", \"run_name\": \"StandardScalerWrapper, ExtremeRandomTrees\", \"run_properties\": \"<azureml.automl.runtime.shared.model_wrappers.StandardScalerWrapper object at 0x7f49e0465860\", \"primary_metric\": 0.8734358, \"best_metric\": 0.93142369}, {\"run_id\": \"AutoML_a5550912-ff01-4234-a43b-4f360b456122_18\", \"run_number\": 23, \"metric\": null, \"status\": \"Completed\", \"run_type\": \"azureml.scriptrun\", \"training_percent\": \"100\", \"start_time\": \"2021-04-19T20:32:57.881275Z\", \"end_time\": \"2021-04-19T20:33:48.412821Z\", \"created_time\": \"2021-04-19T20:32:50.144123Z\", \"created_time_dt\": \"2021-04-19T20:32:50.144123Z\", \"duration\": \"0:00:58\", \"iteration\": \"18\", \"goal\": \"accuracy_max\", \"run_name\": \"SparseNormalizer, XGBoostClassifier\", \"run_properties\": \"<azureml.automl.runtime.shared.model_wrappers.SparseNormalizer object at 0x7f1706af1e48\", \"primary_metric\": 0.92612948, \"best_metric\": 0.93142369}, {\"run_id\": \"AutoML_a5550912-ff01-4234-a43b-4f360b456122_19\", \"run_number\": 24, \"metric\": null, \"status\": \"Completed\", \"run_type\": \"azureml.scriptrun\", \"training_percent\": \"100\", \"start_time\": \"2021-04-19T20:33:03.077677Z\", \"end_time\": \"2021-04-19T20:33:54.37791Z\", \"created_time\": \"2021-04-19T20:32:53.383982Z\", \"created_time_dt\": \"2021-04-19T20:32:53.383982Z\", \"duration\": \"0:01:00\", \"iteration\": \"19\", \"goal\": \"accuracy_max\", \"run_name\": \"SparseNormalizer, XGBoostClassifier\", \"run_properties\": \"<azureml.automl.runtime.shared.model_wrappers.SparseNormalizer object at 0x7f2620715fd0\", \"primary_metric\": 0.9208508, \"best_metric\": 0.93142369}, {\"run_id\": \"AutoML_a5550912-ff01-4234-a43b-4f360b456122_20\", \"run_number\": 25, \"metric\": null, \"status\": \"Completed\", \"run_type\": \"azureml.scriptrun\", \"training_percent\": \"100\", \"start_time\": \"2021-04-19T20:33:08.536631Z\", \"end_time\": \"2021-04-19T20:33:57.303185Z\", \"created_time\": \"2021-04-19T20:32:58.500995Z\", \"created_time_dt\": \"2021-04-19T20:32:58.500995Z\", \"duration\": \"0:00:58\", \"iteration\": \"20\", \"goal\": \"accuracy_max\", \"run_name\": \"RobustScaler, LightGBM\", \"run_properties\": \"copy=True, quantile_range=[10, 90], with_centering=True,\\n             with_scaling=False\", \"primary_metric\": 0.91030896, \"best_metric\": 0.93142369}, {\"run_id\": \"AutoML_a5550912-ff01-4234-a43b-4f360b456122_21\", \"run_number\": 26, \"metric\": null, \"status\": \"Completed\", \"run_type\": \"azureml.scriptrun\", \"training_percent\": \"100\", \"start_time\": \"2021-04-19T20:33:19.985007Z\", \"end_time\": \"2021-04-19T20:34:07.717286Z\", \"created_time\": \"2021-04-19T20:33:11.989802Z\", \"created_time_dt\": \"2021-04-19T20:33:11.989802Z\", \"duration\": \"0:00:55\", \"iteration\": \"21\", \"goal\": \"accuracy_max\", \"run_name\": \"MinMaxScaler, LightGBM\", \"run_properties\": \"copy=True, feature_range=(0, 1\", \"primary_metric\": 0.92262071, \"best_metric\": 0.93142369}, {\"run_id\": \"AutoML_a5550912-ff01-4234-a43b-4f360b456122_22\", \"run_number\": 27, \"metric\": null, \"status\": \"Completed\", \"run_type\": \"azureml.scriptrun\", \"training_percent\": \"100\", \"start_time\": \"2021-04-19T20:33:25.022461Z\", \"end_time\": \"2021-04-19T20:34:10.795369Z\", \"created_time\": \"2021-04-19T20:33:15.106564Z\", \"created_time_dt\": \"2021-04-19T20:33:15.106564Z\", \"duration\": \"0:00:55\", \"iteration\": \"22\", \"goal\": \"accuracy_max\", \"run_name\": \"SparseNormalizer, XGBoostClassifier\", \"run_properties\": \"<azureml.automl.runtime.shared.model_wrappers.SparseNormalizer object at 0x7fa7b11ee390\", \"primary_metric\": 0.91381773, \"best_metric\": 0.93142369}, {\"run_id\": \"AutoML_a5550912-ff01-4234-a43b-4f360b456122_23\", \"run_number\": 28, \"metric\": null, \"status\": \"Completed\", \"run_type\": \"azureml.scriptrun\", \"training_percent\": \"100\", \"start_time\": \"2021-04-19T20:34:01.713355Z\", \"end_time\": \"2021-04-19T20:34:53.448691Z\", \"created_time\": \"2021-04-19T20:33:51.203573Z\", \"created_time_dt\": \"2021-04-19T20:33:51.203573Z\", \"duration\": \"0:01:02\", \"iteration\": \"23\", \"goal\": \"accuracy_max\", \"run_name\": \"SparseNormalizer, XGBoostClassifier\", \"run_properties\": \"<azureml.automl.runtime.shared.model_wrappers.SparseNormalizer object at 0x7ffa34df74e0\", \"primary_metric\": 0.91908089, \"best_metric\": 0.93142369}, {\"run_id\": \"AutoML_a5550912-ff01-4234-a43b-4f360b456122_24\", \"run_number\": 29, \"metric\": null, \"status\": \"Completed\", \"run_type\": \"azureml.scriptrun\", \"training_percent\": \"100\", \"start_time\": \"2021-04-19T20:34:06.237912Z\", \"end_time\": \"2021-04-19T20:34:52.017975Z\", \"created_time\": \"2021-04-19T20:33:56.179325Z\", \"created_time_dt\": \"2021-04-19T20:33:56.179325Z\", \"duration\": \"0:00:55\", \"iteration\": \"24\", \"goal\": \"accuracy_max\", \"run_name\": \"StandardScalerWrapper, SGD\", \"run_properties\": \"<azureml.automl.runtime.shared.model_wrappers.StandardScalerWrapper object at 0x7efd111feeb8\", \"primary_metric\": 0.92617606, \"best_metric\": 0.93142369}, {\"run_id\": \"AutoML_a5550912-ff01-4234-a43b-4f360b456122_25\", \"run_number\": 30, \"metric\": null, \"status\": \"Completed\", \"run_type\": \"azureml.scriptrun\", \"training_percent\": \"100\", \"start_time\": \"2021-04-19T20:34:10.901657Z\", \"end_time\": \"2021-04-19T20:34:57.024511Z\", \"created_time\": \"2021-04-19T20:34:00.738454Z\", \"created_time_dt\": \"2021-04-19T20:34:00.738454Z\", \"duration\": \"0:00:56\", \"iteration\": \"25\", \"goal\": \"accuracy_max\", \"run_name\": \"StandardScalerWrapper, LightGBM\", \"run_properties\": \"<azureml.automl.runtime.shared.model_wrappers.StandardScalerWrapper object at 0x7f2a1bdc1dd8\", \"primary_metric\": 0.627356, \"best_metric\": 0.93142369}, {\"run_id\": \"AutoML_a5550912-ff01-4234-a43b-4f360b456122_26\", \"run_number\": 31, \"metric\": null, \"status\": \"Completed\", \"run_type\": \"azureml.scriptrun\", \"training_percent\": \"100\", \"start_time\": \"2021-04-19T20:34:19.576501Z\", \"end_time\": \"2021-04-19T20:35:01.758364Z\", \"created_time\": \"2021-04-19T20:34:09.398187Z\", \"created_time_dt\": \"2021-04-19T20:34:09.398187Z\", \"duration\": \"0:00:52\", \"iteration\": \"26\", \"goal\": \"accuracy_max\", \"run_name\": \"SparseNormalizer, LightGBM\", \"run_properties\": \"<azureml.automl.runtime.shared.model_wrappers.SparseNormalizer object at 0x7fa17e3c5438\", \"primary_metric\": 0.90680019, \"best_metric\": 0.93142369}, {\"run_id\": \"AutoML_a5550912-ff01-4234-a43b-4f360b456122_27\", \"run_number\": 32, \"metric\": null, \"status\": \"Completed\", \"run_type\": \"azureml.scriptrun\", \"training_percent\": \"100\", \"start_time\": \"2021-04-19T20:34:20.999566Z\", \"end_time\": \"2021-04-19T20:35:11.757792Z\", \"created_time\": \"2021-04-19T20:34:13.696531Z\", \"created_time_dt\": \"2021-04-19T20:34:13.696531Z\", \"duration\": \"0:00:58\", \"iteration\": \"27\", \"goal\": \"accuracy_max\", \"run_name\": \"MaxAbsScaler, ExtremeRandomTrees\", \"run_properties\": \"copy=True\", \"primary_metric\": 0.89978264, \"best_metric\": 0.93142369}, {\"run_id\": \"AutoML_a5550912-ff01-4234-a43b-4f360b456122_28\", \"run_number\": 33, \"metric\": null, \"status\": \"Completed\", \"run_type\": \"azureml.scriptrun\", \"training_percent\": \"100\", \"start_time\": \"2021-04-19T20:35:04.513035Z\", \"end_time\": \"2021-04-19T20:36:01.61105Z\", \"created_time\": \"2021-04-19T20:34:54.268781Z\", \"created_time_dt\": \"2021-04-19T20:34:54.268781Z\", \"duration\": \"0:01:07\", \"iteration\": \"28\", \"goal\": \"accuracy_max\", \"run_name\": \"StandardScalerWrapper, LightGBM\", \"run_properties\": \"<azureml.automl.runtime.shared.model_wrappers.StandardScalerWrapper object at 0x7f6ebc00de80\", \"primary_metric\": 0.89976712, \"best_metric\": 0.93142369}, {\"run_id\": \"AutoML_a5550912-ff01-4234-a43b-4f360b456122_29\", \"run_number\": 34, \"metric\": null, \"status\": \"Completed\", \"run_type\": \"azureml.scriptrun\", \"training_percent\": \"100\", \"start_time\": \"2021-04-19T20:35:11.160631Z\", \"end_time\": \"2021-04-19T20:35:57.266983Z\", \"created_time\": \"2021-04-19T20:34:58.38205Z\", \"created_time_dt\": \"2021-04-19T20:34:58.38205Z\", \"duration\": \"0:00:58\", \"iteration\": \"29\", \"goal\": \"accuracy_max\", \"run_name\": \"MaxAbsScaler, LightGBM\", \"run_properties\": \"copy=True\", \"primary_metric\": 0.91207887, \"best_metric\": 0.93142369}, {\"run_id\": \"AutoML_a5550912-ff01-4234-a43b-4f360b456122_31\", \"run_number\": 35, \"metric\": null, \"status\": \"Completed\", \"run_type\": \"azureml.scriptrun\", \"training_percent\": \"100\", \"start_time\": \"2021-04-19T20:35:16.865039Z\", \"end_time\": \"2021-04-19T20:36:02.629957Z\", \"created_time\": \"2021-04-19T20:35:04.757014Z\", \"created_time_dt\": \"2021-04-19T20:35:04.757014Z\", \"duration\": \"0:00:57\", \"iteration\": \"31\", \"goal\": \"accuracy_max\", \"run_name\": \"SparseNormalizer, ExtremeRandomTrees\", \"run_properties\": \"<azureml.automl.runtime.shared.model_wrappers.SparseNormalizer object at 0x7f4c24642a20\", \"primary_metric\": 0.87342028, \"best_metric\": 0.93142369}, {\"run_id\": \"AutoML_a5550912-ff01-4234-a43b-4f360b456122_30\", \"run_number\": 36, \"metric\": null, \"status\": \"Completed\", \"run_type\": \"azureml.scriptrun\", \"training_percent\": \"100\", \"start_time\": \"2021-04-19T20:35:15.364302Z\", \"end_time\": \"2021-04-19T20:35:57.952857Z\", \"created_time\": \"2021-04-19T20:35:05.183795Z\", \"created_time_dt\": \"2021-04-19T20:35:05.183795Z\", \"duration\": \"0:00:52\", \"iteration\": \"30\", \"goal\": \"accuracy_max\", \"run_name\": \"MinMaxScaler, LightGBM\", \"run_properties\": \"copy=True, feature_range=(0, 1\", \"primary_metric\": 0.91207887, \"best_metric\": 0.93142369}, {\"run_id\": \"AutoML_a5550912-ff01-4234-a43b-4f360b456122_32\", \"run_number\": 37, \"metric\": null, \"status\": \"Completed\", \"run_type\": \"azureml.scriptrun\", \"training_percent\": \"100\", \"start_time\": \"2021-04-19T20:35:25.136891Z\", \"end_time\": \"2021-04-19T20:36:18.839836Z\", \"created_time\": \"2021-04-19T20:35:13.791587Z\", \"created_time_dt\": \"2021-04-19T20:35:13.791587Z\", \"duration\": \"0:01:05\", \"iteration\": \"32\", \"goal\": \"accuracy_max\", \"run_name\": \"MaxAbsScaler, ExtremeRandomTrees\", \"run_properties\": \"copy=True\", \"primary_metric\": 0.8962894, \"best_metric\": 0.93142369}, {\"run_id\": \"AutoML_a5550912-ff01-4234-a43b-4f360b456122_33\", \"run_number\": 38, \"metric\": null, \"status\": \"Canceled\", \"run_type\": \"azureml.scriptrun\", \"training_percent\": \"100\", \"start_time\": \"2021-04-19T20:36:08.080682Z\", \"end_time\": \"2021-04-19T20:37:04.105597Z\", \"created_time\": \"2021-04-19T20:35:58.995543Z\", \"created_time_dt\": \"2021-04-19T20:35:58.995543Z\", \"duration\": \"0:01:05\", \"iteration\": \"33\", \"goal\": \"accuracy_max\", \"run_name\": \"MaxAbsScaler, LightGBM\", \"run_properties\": \"copy=True\", \"primary_metric\": 0.91032448, \"best_metric\": 0.93142369}, {\"run_id\": \"AutoML_a5550912-ff01-4234-a43b-4f360b456122_35\", \"run_number\": 39, \"metric\": null, \"status\": \"Canceled\", \"run_type\": \"azureml.scriptrun\", \"training_percent\": \"100\", \"start_time\": \"2021-04-19T20:36:14.479212Z\", \"end_time\": \"2021-04-19T20:37:04.018988Z\", \"created_time\": \"2021-04-19T20:36:04.721201Z\", \"created_time_dt\": \"2021-04-19T20:36:04.721201Z\", \"duration\": \"0:00:59\", \"iteration\": \"35\", \"goal\": \"accuracy_max\", \"run_name\": \"StandardScalerWrapper, RandomForest\", \"run_properties\": \"<azureml.automl.runtime.shared.model_wrappers.StandardScalerWrapper object at 0x7fe001897828\", \"primary_metric\": 0.92439062, \"best_metric\": 0.93142369}, {\"run_id\": \"AutoML_a5550912-ff01-4234-a43b-4f360b456122_34\", \"run_number\": 40, \"metric\": null, \"status\": \"Completed\", \"run_type\": \"azureml.scriptrun\", \"training_percent\": \"100\", \"start_time\": \"2021-04-19T20:36:17.505687Z\", \"end_time\": \"2021-04-19T20:36:57.603884Z\", \"created_time\": \"2021-04-19T20:36:04.943574Z\", \"created_time_dt\": \"2021-04-19T20:36:04.943574Z\", \"duration\": \"0:00:52\", \"iteration\": \"34\", \"goal\": \"accuracy_max\", \"run_name\": \"MinMaxScaler, LightGBM\", \"run_properties\": \"copy=True, feature_range=(0, 1\", \"primary_metric\": 0.92262071, \"best_metric\": 0.93142369}, {\"run_id\": \"AutoML_a5550912-ff01-4234-a43b-4f360b456122_36\", \"run_number\": 41, \"metric\": null, \"status\": \"Canceled\", \"run_type\": \"azureml.scriptrun\", \"training_percent\": \"100\", \"start_time\": \"2021-04-19T20:36:22.36626Z\", \"end_time\": \"2021-04-19T20:37:04.827447Z\", \"created_time\": \"2021-04-19T20:36:12.021614Z\", \"created_time_dt\": \"2021-04-19T20:36:12.021614Z\", \"duration\": \"0:00:52\", \"iteration\": \"36\", \"goal\": \"accuracy_max\", \"run_name\": \"StandardScalerWrapper, XGBoostClassifier\", \"run_properties\": \"<azureml.automl.runtime.shared.model_wrappers.StandardScalerWrapper object at 0x7f3fedf0e240\", \"primary_metric\": 0.91737308, \"best_metric\": 0.93142369}, {\"run_id\": \"AutoML_a5550912-ff01-4234-a43b-4f360b456122_37\", \"run_number\": 42, \"metric\": null, \"status\": \"Canceled\", \"run_type\": \"azureml.scriptrun\", \"training_percent\": \"100\", \"start_time\": \"2021-04-19T20:36:32.973506Z\", \"end_time\": \"2021-04-19T20:37:03.938469Z\", \"created_time\": \"2021-04-19T20:36:20.519574Z\", \"created_time_dt\": \"2021-04-19T20:36:20.519574Z\", \"duration\": \"0:00:43\", \"iteration\": \"37\", \"goal\": \"accuracy_max\", \"run_name\": \"RobustScaler, LightGBM\", \"run_properties\": \"copy=True, quantile_range=[25, 75], with_centering=False,\\n             with_scaling=True\", \"primary_metric\": 0.89448843, \"best_metric\": 0.93142369}, {\"run_id\": \"AutoML_a5550912-ff01-4234-a43b-4f360b456122_38\", \"run_number\": 43, \"metric\": null, \"status\": \"Completed\", \"run_type\": \"azureml.scriptrun\", \"training_percent\": \"100\", \"start_time\": \"2021-04-19T20:37:17.249771Z\", \"end_time\": \"2021-04-19T20:38:27.535626Z\", \"created_time\": \"2021-04-19T20:37:06.623868Z\", \"created_time_dt\": \"2021-04-19T20:37:06.623868Z\", \"duration\": \"0:01:20\", \"iteration\": \"38\", \"goal\": \"accuracy_max\", \"run_name\": \"VotingEnsemble\", \"run_properties\": \"classification_labels=None,\\n                              estimators=[('15',\\n                                           Pipeline(memory=None,\\n                                                    steps=[('robustscaler',\\n                                                            RobustScaler(copy=True,\\n                                                                         quantile_range=[10,\\n                                                                                         90],\\n                                                                         with_centering=False,\\n                                                                         with_scaling=False\", \"primary_metric\": 0.93845676, \"best_metric\": 0.93845676}, {\"run_id\": \"AutoML_a5550912-ff01-4234-a43b-4f360b456122_39\", \"run_number\": 44, \"metric\": null, \"status\": \"Completed\", \"run_type\": \"azureml.scriptrun\", \"training_percent\": \"100\", \"start_time\": \"2021-04-19T20:37:15.88361Z\", \"end_time\": \"2021-04-19T20:38:23.875477Z\", \"created_time\": \"2021-04-19T20:37:06.710417Z\", \"created_time_dt\": \"2021-04-19T20:37:06.710417Z\", \"duration\": \"0:01:17\", \"iteration\": \"39\", \"goal\": \"accuracy_max\", \"run_name\": \"StackEnsemble\", \"run_properties\": \"base_learners=[('15',\\n                                        Pipeline(memory=None,\\n                                                 steps=[('robustscaler',\\n                                                         RobustScaler(copy=True,\\n                                                                      quantile_range=[10,\\n                                                                                      90],\\n                                                                      with_centering=False,\\n                                                                      with_scaling=False\", \"primary_metric\": 0.93140817, \"best_metric\": 0.93845676}], \"children_metrics\": {\"categories\": [0], \"series\": {\"balanced_accuracy\": [{\"categories\": [\"0\", \"1\", \"2\", \"3\", \"4\", \"5\", \"6\", \"7\", \"8\", \"9\", \"10\", \"11\", \"12\", \"13\", \"14\", \"15\", \"16\", \"17\", \"18\", \"19\", \"20\", \"21\", \"22\", \"23\", \"24\", \"25\", \"26\", \"27\", \"28\", \"29\", \"30\", \"31\", \"32\", \"33\", \"34\", \"35\", \"36\", \"37\", \"38\", \"39\"], \"mode\": \"markers\", \"name\": \"balanced_accuracy\", \"stepped\": false, \"type\": \"scatter\", \"data\": [0.9169465588428338, 0.9137181580021647, 0.9047920253796903, 0.9013985512786528, 0.9240956440234862, 0.9230176508614436, 0.9160641261809633, 0.8701546493951152, 0.9031202006043433, 0.9124542877541764, 0.9035778651180866, 0.8757120303650472, 0.8951046724128993, 0.92224704299567, 0.9190126251249364, 0.9224481841519776, 0.9006674372769758, 0.8351862862100008, 0.9158151226224204, 0.9083460923094003, 0.8938529603768977, 0.9143058665250816, 0.9015156005982268, 0.9028082174433315, 0.9180666316924544, 0.5, 0.8933102127328635, 0.8823174236256506, 0.8774957538879011, 0.8938196111900194, 0.8945009869200649, 0.8635450997490649, 0.8929395845394422, 0.8881191240929741, 0.9111462467630839, 0.9179911492788575, 0.904429151820499, 0.8694961521979495, 0.9301693985170276, 0.9208215724300711]}, {\"categories\": [\"0\", \"1\", \"2\", \"3\", \"4\", \"5\", \"6\", \"7\", \"8\", \"9\", \"10\", \"11\", \"12\", \"13\", \"14\", \"15\", \"16\", \"17\", \"18\", \"19\", \"20\", \"21\", \"22\", \"23\", \"24\", \"25\", \"26\", \"27\", \"28\", \"29\", \"30\", \"31\", \"32\", \"33\", \"34\", \"35\", \"36\", \"37\", \"38\", \"39\"], \"mode\": \"lines\", \"name\": \"balanced_accuracy_max\", \"stepped\": true, \"type\": \"scatter\", \"data\": [0.9169465588428338, 0.9169465588428338, 0.9169465588428338, 0.9169465588428338, 0.9240956440234862, 0.9240956440234862, 0.9240956440234862, 0.9240956440234862, 0.9240956440234862, 0.9240956440234862, 0.9240956440234862, 0.9240956440234862, 0.9240956440234862, 0.9240956440234862, 0.9240956440234862, 0.9240956440234862, 0.9240956440234862, 0.9240956440234862, 0.9240956440234862, 0.9240956440234862, 0.9240956440234862, 0.9240956440234862, 0.9240956440234862, 0.9240956440234862, 0.9240956440234862, 0.9240956440234862, 0.9240956440234862, 0.9240956440234862, 0.9240956440234862, 0.9240956440234862, 0.9240956440234862, 0.9240956440234862, 0.9240956440234862, 0.9240956440234862, 0.9240956440234862, 0.9240956440234862, 0.9240956440234862, 0.9240956440234862, 0.9301693985170276, 0.9301693985170276]}], \"AUC_macro\": [{\"categories\": [\"0\", \"1\", \"2\", \"3\", \"4\", \"5\", \"6\", \"7\", \"8\", \"9\", \"10\", \"11\", \"12\", \"13\", \"14\", \"15\", \"16\", \"17\", \"18\", \"19\", \"20\", \"21\", \"22\", \"23\", \"24\", \"25\", \"26\", \"27\", \"28\", \"29\", \"30\", \"31\", \"32\", \"33\", \"34\", \"35\", \"36\", \"37\", \"38\", \"39\"], \"mode\": \"markers\", \"name\": \"AUC_macro\", \"stepped\": false, \"type\": \"scatter\", \"data\": [0.980456139560934, 0.9788043826455024, 0.96844376552677, 0.9720462274009256, 0.9748276729241692, 0.9801638956106651, 0.9770192205551821, 0.9573930908219108, 0.935866834527863, 0.975442349275718, 0.9453292773741208, 0.9585461192452245, 0.9596490438340088, 0.9781771845845455, 0.9796584584519404, 0.9802724146234402, 0.9715645702409466, 0.9731418519379723, 0.97848707955344, 0.9619776057611318, 0.9719456774004449, 0.9801804887709527, 0.9566835325066954, 0.9537935369761449, 0.9806509300884292, 0.9605375301396293, 0.9449822366751786, 0.9639677071217234, 0.9731885843135437, 0.9702576125241376, 0.9691985212340919, 0.9392131037500171, 0.964462890367866, 0.9665184459612213, 0.9776143948272091, 0.9673922038943372, 0.9661821245659322, 0.9713260974445708, 0.9793274133256528, 0.9800507092048744]}, {\"categories\": [\"0\", \"1\", \"2\", \"3\", \"4\", \"5\", \"6\", \"7\", \"8\", \"9\", \"10\", \"11\", \"12\", \"13\", \"14\", \"15\", \"16\", \"17\", \"18\", \"19\", \"20\", \"21\", \"22\", \"23\", \"24\", \"25\", \"26\", \"27\", \"28\", \"29\", \"30\", \"31\", \"32\", \"33\", \"34\", \"35\", \"36\", \"37\", \"38\", \"39\"], \"mode\": \"lines\", \"name\": \"AUC_macro_max\", \"stepped\": true, \"type\": \"scatter\", \"data\": [0.980456139560934, 0.980456139560934, 0.980456139560934, 0.980456139560934, 0.980456139560934, 0.980456139560934, 0.980456139560934, 0.980456139560934, 0.980456139560934, 0.980456139560934, 0.980456139560934, 0.980456139560934, 0.980456139560934, 0.980456139560934, 0.980456139560934, 0.980456139560934, 0.980456139560934, 0.980456139560934, 0.980456139560934, 0.980456139560934, 0.980456139560934, 0.980456139560934, 0.980456139560934, 0.980456139560934, 0.9806509300884292, 0.9806509300884292, 0.9806509300884292, 0.9806509300884292, 0.9806509300884292, 0.9806509300884292, 0.9806509300884292, 0.9806509300884292, 0.9806509300884292, 0.9806509300884292, 0.9806509300884292, 0.9806509300884292, 0.9806509300884292, 0.9806509300884292, 0.9806509300884292, 0.9806509300884292]}], \"precision_score_micro\": [{\"categories\": [\"0\", \"1\", \"2\", \"3\", \"4\", \"5\", \"6\", \"7\", \"8\", \"9\", \"10\", \"11\", \"12\", \"13\", \"14\", \"15\", \"16\", \"17\", \"18\", \"19\", \"20\", \"21\", \"22\", \"23\", \"24\", \"25\", \"26\", \"27\", \"28\", \"29\", \"30\", \"31\", \"32\", \"33\", \"34\", \"35\", \"36\", \"37\", \"38\", \"39\"], \"mode\": \"markers\", \"name\": \"precision_score_micro\", \"stepped\": false, \"type\": \"scatter\", \"data\": [0.924406148113647, 0.9226207110697097, 0.915618692749573, 0.9155876416705482, 0.9314081664337837, 0.9314081664337837, 0.9261139574600218, 0.8856854525694768, 0.915618692749573, 0.9261450085390466, 0.9138643067846607, 0.8979972054028877, 0.912063344201211, 0.9296382549293588, 0.9261605340785592, 0.9314236919732961, 0.9173420276354604, 0.8734358018941158, 0.9261294829995341, 0.9208507995652848, 0.9103089582362986, 0.9226207110697097, 0.9138177301661232, 0.9190808880608602, 0.9261760596180716, 0.6273560006210216, 0.9068001863064742, 0.899782642446825, 0.8997671169073126, 0.9120788697407235, 0.9120788697407235, 0.8734202763546033, 0.8962893960565129, 0.9103244837758112, 0.9226207110697097, 0.9243906225741345, 0.9173730787144854, 0.8944884334730633, 0.9384567613724576, 0.9314081664337834]}, {\"categories\": [\"0\", \"1\", \"2\", \"3\", \"4\", \"5\", \"6\", \"7\", \"8\", \"9\", \"10\", \"11\", \"12\", \"13\", \"14\", \"15\", \"16\", \"17\", \"18\", \"19\", \"20\", \"21\", \"22\", \"23\", \"24\", \"25\", \"26\", \"27\", \"28\", \"29\", \"30\", \"31\", \"32\", \"33\", \"34\", \"35\", \"36\", \"37\", \"38\", \"39\"], \"mode\": \"lines\", \"name\": \"precision_score_micro_max\", \"stepped\": true, \"type\": \"scatter\", \"data\": [0.924406148113647, 0.924406148113647, 0.924406148113647, 0.924406148113647, 0.9314081664337837, 0.9314081664337837, 0.9314081664337837, 0.9314081664337837, 0.9314081664337837, 0.9314081664337837, 0.9314081664337837, 0.9314081664337837, 0.9314081664337837, 0.9314081664337837, 0.9314081664337837, 0.9314236919732961, 0.9314236919732961, 0.9314236919732961, 0.9314236919732961, 0.9314236919732961, 0.9314236919732961, 0.9314236919732961, 0.9314236919732961, 0.9314236919732961, 0.9314236919732961, 0.9314236919732961, 0.9314236919732961, 0.9314236919732961, 0.9314236919732961, 0.9314236919732961, 0.9314236919732961, 0.9314236919732961, 0.9314236919732961, 0.9314236919732961, 0.9314236919732961, 0.9314236919732961, 0.9314236919732961, 0.9314236919732961, 0.9384567613724576, 0.9384567613724576]}], \"average_precision_score_weighted\": [{\"categories\": [\"0\", \"1\", \"2\", \"3\", \"4\", \"5\", \"6\", \"7\", \"8\", \"9\", \"10\", \"11\", \"12\", \"13\", \"14\", \"15\", \"16\", \"17\", \"18\", \"19\", \"20\", \"21\", \"22\", \"23\", \"24\", \"25\", \"26\", \"27\", \"28\", \"29\", \"30\", \"31\", \"32\", \"33\", \"34\", \"35\", \"36\", \"37\", \"38\", \"39\"], \"mode\": \"markers\", \"name\": \"average_precision_score_weighted\", \"stepped\": false, \"type\": \"scatter\", \"data\": [0.9822124287241889, 0.9807379755477619, 0.9688307794185966, 0.9728580246714692, 0.9757737275048781, 0.981572962132417, 0.9765762826214157, 0.961177715956025, 0.9318189669608451, 0.977378359447761, 0.9461180679721238, 0.9572698793228265, 0.9586381448144687, 0.979778498864427, 0.9816792685244117, 0.9819120504231286, 0.9730196461008432, 0.9761428480665029, 0.9770897144370123, 0.9595815082321068, 0.9739874307436039, 0.9818205269750324, 0.9532413765398117, 0.95444878518053, 0.9824017646670751, 0.95809075879366, 0.9437850767967335, 0.9677686122747928, 0.9751602468463402, 0.9711266592221908, 0.9658511468670168, 0.9449907963664463, 0.9683975939500946, 0.9633397149369293, 0.979141269296391, 0.9684853715923459, 0.9657136188495938, 0.972485696446318, 0.981035515059052, 0.9817868115133036]}, {\"categories\": [\"0\", \"1\", \"2\", \"3\", \"4\", \"5\", \"6\", \"7\", \"8\", \"9\", \"10\", \"11\", \"12\", \"13\", \"14\", \"15\", \"16\", \"17\", \"18\", \"19\", \"20\", \"21\", \"22\", \"23\", \"24\", \"25\", \"26\", \"27\", \"28\", \"29\", \"30\", \"31\", \"32\", \"33\", \"34\", \"35\", \"36\", \"37\", \"38\", \"39\"], \"mode\": \"lines\", \"name\": \"average_precision_score_weighted_max\", \"stepped\": true, \"type\": \"scatter\", \"data\": [0.9822124287241889, 0.9822124287241889, 0.9822124287241889, 0.9822124287241889, 0.9822124287241889, 0.9822124287241889, 0.9822124287241889, 0.9822124287241889, 0.9822124287241889, 0.9822124287241889, 0.9822124287241889, 0.9822124287241889, 0.9822124287241889, 0.9822124287241889, 0.9822124287241889, 0.9822124287241889, 0.9822124287241889, 0.9822124287241889, 0.9822124287241889, 0.9822124287241889, 0.9822124287241889, 0.9822124287241889, 0.9822124287241889, 0.9822124287241889, 0.9824017646670751, 0.9824017646670751, 0.9824017646670751, 0.9824017646670751, 0.9824017646670751, 0.9824017646670751, 0.9824017646670751, 0.9824017646670751, 0.9824017646670751, 0.9824017646670751, 0.9824017646670751, 0.9824017646670751, 0.9824017646670751, 0.9824017646670751, 0.9824017646670751, 0.9824017646670751]}], \"AUC_weighted\": [{\"categories\": [\"0\", \"1\", \"2\", \"3\", \"4\", \"5\", \"6\", \"7\", \"8\", \"9\", \"10\", \"11\", \"12\", \"13\", \"14\", \"15\", \"16\", \"17\", \"18\", \"19\", \"20\", \"21\", \"22\", \"23\", \"24\", \"25\", \"26\", \"27\", \"28\", \"29\", \"30\", \"31\", \"32\", \"33\", \"34\", \"35\", \"36\", \"37\", \"38\", \"39\"], \"mode\": \"markers\", \"name\": \"AUC_weighted\", \"stepped\": false, \"type\": \"scatter\", \"data\": [0.980456139560934, 0.9788043826455024, 0.96844376552677, 0.9720462274009257, 0.9748276729241692, 0.9801638956106649, 0.9770192205551821, 0.9573930908219108, 0.935866834527863, 0.9754423492757182, 0.9453292773741208, 0.9585461192452245, 0.9596490438340088, 0.9781771845845453, 0.9796584584519404, 0.9802724146234402, 0.9715645702409466, 0.9731418519379723, 0.97848707955344, 0.9619776057611318, 0.9719456774004449, 0.9801804887709527, 0.9566835325066954, 0.9537935369761449, 0.9806509300884292, 0.9605375301396293, 0.9449822366751786, 0.9639677071217234, 0.9731885843135437, 0.9702576125241376, 0.9691985212340919, 0.9392131037500171, 0.964462890367866, 0.9665184459612213, 0.9776143948272094, 0.9673922038943372, 0.9661821245659322, 0.9713260974445708, 0.9793274133256528, 0.9800507092048744]}, {\"categories\": [\"0\", \"1\", \"2\", \"3\", \"4\", \"5\", \"6\", \"7\", \"8\", \"9\", \"10\", \"11\", \"12\", \"13\", \"14\", \"15\", \"16\", \"17\", \"18\", \"19\", \"20\", \"21\", \"22\", \"23\", \"24\", \"25\", \"26\", \"27\", \"28\", \"29\", \"30\", \"31\", \"32\", \"33\", \"34\", \"35\", \"36\", \"37\", \"38\", \"39\"], \"mode\": \"lines\", \"name\": \"AUC_weighted_max\", \"stepped\": true, \"type\": \"scatter\", \"data\": [0.980456139560934, 0.980456139560934, 0.980456139560934, 0.980456139560934, 0.980456139560934, 0.980456139560934, 0.980456139560934, 0.980456139560934, 0.980456139560934, 0.980456139560934, 0.980456139560934, 0.980456139560934, 0.980456139560934, 0.980456139560934, 0.980456139560934, 0.980456139560934, 0.980456139560934, 0.980456139560934, 0.980456139560934, 0.980456139560934, 0.980456139560934, 0.980456139560934, 0.980456139560934, 0.980456139560934, 0.9806509300884292, 0.9806509300884292, 0.9806509300884292, 0.9806509300884292, 0.9806509300884292, 0.9806509300884292, 0.9806509300884292, 0.9806509300884292, 0.9806509300884292, 0.9806509300884292, 0.9806509300884292, 0.9806509300884292, 0.9806509300884292, 0.9806509300884292, 0.9806509300884292, 0.9806509300884292]}], \"precision_score_macro\": [{\"categories\": [\"0\", \"1\", \"2\", \"3\", \"4\", \"5\", \"6\", \"7\", \"8\", \"9\", \"10\", \"11\", \"12\", \"13\", \"14\", \"15\", \"16\", \"17\", \"18\", \"19\", \"20\", \"21\", \"22\", \"23\", \"24\", \"25\", \"26\", \"27\", \"28\", \"29\", \"30\", \"31\", \"32\", \"33\", \"34\", \"35\", \"36\", \"37\", \"38\", \"39\"], \"mode\": \"markers\", \"name\": \"precision_score_macro\", \"stepped\": false, \"type\": \"scatter\", \"data\": [0.9211067593599044, 0.91980059517124, 0.9144047126278034, 0.9188559399175993, 0.9290370665839364, 0.9301462206975071, 0.9267016701490386, 0.8838061875526664, 0.9150141704489532, 0.9303036968901746, 0.9111149897230442, 0.9096849761048492, 0.9188609731341929, 0.9265157504710636, 0.9235067210030822, 0.9297925822221597, 0.9234931087562668, 0.9094527560788801, 0.926777201236334, 0.924108937135253, 0.9140809079758853, 0.9194963965862589, 0.9154868481252414, 0.9267675899881782, 0.9241461278908002, 0.3136780003105108, 0.9089548696225543, 0.9053248866307246, 0.910720374666521, 0.9198130463069487, 0.9187627699517943, 0.8687042470827464, 0.8887135047639385, 0.9224970422533687, 0.9244117834843516, 0.9208565709141547, 0.9187197016615128, 0.9087556568340881, 0.9375634321406665, 0.932007287307254]}, {\"categories\": [\"0\", \"1\", \"2\", \"3\", \"4\", \"5\", \"6\", \"7\", \"8\", \"9\", \"10\", \"11\", \"12\", \"13\", \"14\", \"15\", \"16\", \"17\", \"18\", \"19\", \"20\", \"21\", \"22\", \"23\", \"24\", \"25\", \"26\", \"27\", \"28\", \"29\", \"30\", \"31\", \"32\", \"33\", \"34\", \"35\", \"36\", \"37\", \"38\", \"39\"], \"mode\": \"lines\", \"name\": \"precision_score_macro_max\", \"stepped\": true, \"type\": \"scatter\", \"data\": [0.9211067593599044, 0.9211067593599044, 0.9211067593599044, 0.9211067593599044, 0.9290370665839364, 0.9301462206975071, 0.9301462206975071, 0.9301462206975071, 0.9301462206975071, 0.9303036968901746, 0.9303036968901746, 0.9303036968901746, 0.9303036968901746, 0.9303036968901746, 0.9303036968901746, 0.9303036968901746, 0.9303036968901746, 0.9303036968901746, 0.9303036968901746, 0.9303036968901746, 0.9303036968901746, 0.9303036968901746, 0.9303036968901746, 0.9303036968901746, 0.9303036968901746, 0.9303036968901746, 0.9303036968901746, 0.9303036968901746, 0.9303036968901746, 0.9303036968901746, 0.9303036968901746, 0.9303036968901746, 0.9303036968901746, 0.9303036968901746, 0.9303036968901746, 0.9303036968901746, 0.9303036968901746, 0.9303036968901746, 0.9375634321406665, 0.9375634321406665]}], \"average_precision_score_macro\": [{\"categories\": [\"0\", \"1\", \"2\", \"3\", \"4\", \"5\", \"6\", \"7\", \"8\", \"9\", \"10\", \"11\", \"12\", \"13\", \"14\", \"15\", \"16\", \"17\", \"18\", \"19\", \"20\", \"21\", \"22\", \"23\", \"24\", \"25\", \"26\", \"27\", \"28\", \"29\", \"30\", \"31\", \"32\", \"33\", \"34\", \"35\", \"36\", \"37\", \"38\", \"39\"], \"mode\": \"markers\", \"name\": \"average_precision_score_macro\", \"stepped\": false, \"type\": \"scatter\", \"data\": [0.9799668723739134, 0.9784634122826601, 0.96470006833576, 0.9691053981605956, 0.9737040751220732, 0.9794273751160285, 0.9727939477195477, 0.9569005937935685, 0.9305148506176039, 0.9750065627356295, 0.94518391862158, 0.9525375868532464, 0.9547685048084789, 0.9776044100938248, 0.9798584261080169, 0.9797400730011644, 0.9708821846376967, 0.9735966932728981, 0.9729981786030402, 0.9567745310302804, 0.9712737085704637, 0.9795397654150649, 0.9507546209098114, 0.950709859876885, 0.9802095800865585, 0.9536961841876673, 0.940494750664638, 0.9643720168554083, 0.9724023949340358, 0.9689868820515691, 0.9620695677995703, 0.9405181765243936, 0.9651893769845892, 0.9595677943027047, 0.9770894401560328, 0.9660966980114842, 0.9624476407158878, 0.9702392543141695, 0.978975776725386, 0.9797996115798322]}, {\"categories\": [\"0\", \"1\", \"2\", \"3\", \"4\", \"5\", \"6\", \"7\", \"8\", \"9\", \"10\", \"11\", \"12\", \"13\", \"14\", \"15\", \"16\", \"17\", \"18\", \"19\", \"20\", \"21\", \"22\", \"23\", \"24\", \"25\", \"26\", \"27\", \"28\", \"29\", \"30\", \"31\", \"32\", \"33\", \"34\", \"35\", \"36\", \"37\", \"38\", \"39\"], \"mode\": \"lines\", \"name\": \"average_precision_score_macro_max\", \"stepped\": true, \"type\": \"scatter\", \"data\": [0.9799668723739134, 0.9799668723739134, 0.9799668723739134, 0.9799668723739134, 0.9799668723739134, 0.9799668723739134, 0.9799668723739134, 0.9799668723739134, 0.9799668723739134, 0.9799668723739134, 0.9799668723739134, 0.9799668723739134, 0.9799668723739134, 0.9799668723739134, 0.9799668723739134, 0.9799668723739134, 0.9799668723739134, 0.9799668723739134, 0.9799668723739134, 0.9799668723739134, 0.9799668723739134, 0.9799668723739134, 0.9799668723739134, 0.9799668723739134, 0.9802095800865585, 0.9802095800865585, 0.9802095800865585, 0.9802095800865585, 0.9802095800865585, 0.9802095800865585, 0.9802095800865585, 0.9802095800865585, 0.9802095800865585, 0.9802095800865585, 0.9802095800865585, 0.9802095800865585, 0.9802095800865585, 0.9802095800865585, 0.9802095800865585, 0.9802095800865585]}], \"accuracy\": [{\"categories\": [\"0\", \"1\", \"2\", \"3\", \"4\", \"5\", \"6\", \"7\", \"8\", \"9\", \"10\", \"11\", \"12\", \"13\", \"14\", \"15\", \"16\", \"17\", \"18\", \"19\", \"20\", \"21\", \"22\", \"23\", \"24\", \"25\", \"26\", \"27\", \"28\", \"29\", \"30\", \"31\", \"32\", \"33\", \"34\", \"35\", \"36\", \"37\", \"38\", \"39\"], \"mode\": \"markers\", \"name\": \"accuracy\", \"stepped\": false, \"type\": \"scatter\", \"data\": [0.924406148113647, 0.9226207110697097, 0.915618692749573, 0.9155876416705482, 0.9314081664337837, 0.9314081664337837, 0.9261139574600218, 0.8856854525694768, 0.915618692749573, 0.9261450085390466, 0.9138643067846607, 0.8979972054028877, 0.912063344201211, 0.9296382549293588, 0.9261605340785592, 0.9314236919732961, 0.9173420276354604, 0.8734358018941158, 0.9261294829995341, 0.9208507995652848, 0.9103089582362986, 0.9226207110697097, 0.9138177301661232, 0.9190808880608602, 0.9261760596180716, 0.6273560006210216, 0.9068001863064742, 0.899782642446825, 0.8997671169073126, 0.9120788697407235, 0.9120788697407235, 0.8734202763546033, 0.8962893960565129, 0.9103244837758112, 0.9226207110697097, 0.9243906225741345, 0.9173730787144854, 0.8944884334730633, 0.9384567613724576, 0.9314081664337834]}, {\"categories\": [\"0\", \"1\", \"2\", \"3\", \"4\", \"5\", \"6\", \"7\", \"8\", \"9\", \"10\", \"11\", \"12\", \"13\", \"14\", \"15\", \"16\", \"17\", \"18\", \"19\", \"20\", \"21\", \"22\", \"23\", \"24\", \"25\", \"26\", \"27\", \"28\", \"29\", \"30\", \"31\", \"32\", \"33\", \"34\", \"35\", \"36\", \"37\", \"38\", \"39\"], \"mode\": \"lines\", \"name\": \"accuracy_max\", \"stepped\": true, \"type\": \"scatter\", \"data\": [0.924406148113647, 0.924406148113647, 0.924406148113647, 0.924406148113647, 0.9314081664337837, 0.9314081664337837, 0.9314081664337837, 0.9314081664337837, 0.9314081664337837, 0.9314081664337837, 0.9314081664337837, 0.9314081664337837, 0.9314081664337837, 0.9314081664337837, 0.9314081664337837, 0.9314236919732961, 0.9314236919732961, 0.9314236919732961, 0.9314236919732961, 0.9314236919732961, 0.9314236919732961, 0.9314236919732961, 0.9314236919732961, 0.9314236919732961, 0.9314236919732961, 0.9314236919732961, 0.9314236919732961, 0.9314236919732961, 0.9314236919732961, 0.9314236919732961, 0.9314236919732961, 0.9314236919732961, 0.9314236919732961, 0.9314236919732961, 0.9314236919732961, 0.9314236919732961, 0.9314236919732961, 0.9314236919732961, 0.9384567613724576, 0.9384567613724576]}], \"average_precision_score_micro\": [{\"categories\": [\"0\", \"1\", \"2\", \"3\", \"4\", \"5\", \"6\", \"7\", \"8\", \"9\", \"10\", \"11\", \"12\", \"13\", \"14\", \"15\", \"16\", \"17\", \"18\", \"19\", \"20\", \"21\", \"22\", \"23\", \"24\", \"25\", \"26\", \"27\", \"28\", \"29\", \"30\", \"31\", \"32\", \"33\", \"34\", \"35\", \"36\", \"37\", \"38\", \"39\"], \"mode\": \"markers\", \"name\": \"average_precision_score_micro\", \"stepped\": false, \"type\": \"scatter\", \"data\": [0.9816574410420792, 0.98067090611261, 0.9679530248484471, 0.9707725400986998, 0.9756887268279156, 0.9815742927321157, 0.97366697560087, 0.9621563189318127, 0.9364771803309233, 0.9740059015762739, 0.9519329332807723, 0.9587945816101454, 0.956294890624255, 0.9798370930724749, 0.9813746434188741, 0.9818471509287715, 0.9683875632467093, 0.9485395045752183, 0.9764259499340753, 0.9572797023581365, 0.9688735915411565, 0.9817513443540407, 0.957156904102755, 0.9553224765408762, 0.982758753183371, 0.8636665600617188, 0.9403279349166518, 0.9678207348470872, 0.9646426012780172, 0.9690109574680583, 0.9575626156141158, 0.9472576891699515, 0.9679133398602836, 0.9513266500910447, 0.9784696098489377, 0.9701164055261223, 0.9660202264945245, 0.9586189514509684, 0.9821255934419204, 0.9810948750498231]}, {\"categories\": [\"0\", \"1\", \"2\", \"3\", \"4\", \"5\", \"6\", \"7\", \"8\", \"9\", \"10\", \"11\", \"12\", \"13\", \"14\", \"15\", \"16\", \"17\", \"18\", \"19\", \"20\", \"21\", \"22\", \"23\", \"24\", \"25\", \"26\", \"27\", \"28\", \"29\", \"30\", \"31\", \"32\", \"33\", \"34\", \"35\", \"36\", \"37\", \"38\", \"39\"], \"mode\": \"lines\", \"name\": \"average_precision_score_micro_max\", \"stepped\": true, \"type\": \"scatter\", \"data\": [0.9816574410420792, 0.9816574410420792, 0.9816574410420792, 0.9816574410420792, 0.9816574410420792, 0.9816574410420792, 0.9816574410420792, 0.9816574410420792, 0.9816574410420792, 0.9816574410420792, 0.9816574410420792, 0.9816574410420792, 0.9816574410420792, 0.9816574410420792, 0.9816574410420792, 0.9818471509287715, 0.9818471509287715, 0.9818471509287715, 0.9818471509287715, 0.9818471509287715, 0.9818471509287715, 0.9818471509287715, 0.9818471509287715, 0.9818471509287715, 0.982758753183371, 0.982758753183371, 0.982758753183371, 0.982758753183371, 0.982758753183371, 0.982758753183371, 0.982758753183371, 0.982758753183371, 0.982758753183371, 0.982758753183371, 0.982758753183371, 0.982758753183371, 0.982758753183371, 0.982758753183371, 0.982758753183371, 0.982758753183371]}], \"recall_score_macro\": [{\"categories\": [\"0\", \"1\", \"2\", \"3\", \"4\", \"5\", \"6\", \"7\", \"8\", \"9\", \"10\", \"11\", \"12\", \"13\", \"14\", \"15\", \"16\", \"17\", \"18\", \"19\", \"20\", \"21\", \"22\", \"23\", \"24\", \"25\", \"26\", \"27\", \"28\", \"29\", \"30\", \"31\", \"32\", \"33\", \"34\", \"35\", \"36\", \"37\", \"38\", \"39\"], \"mode\": \"markers\", \"name\": \"recall_score_macro\", \"stepped\": false, \"type\": \"scatter\", \"data\": [0.9169465588428338, 0.9137181580021647, 0.9047920253796903, 0.9013985512786528, 0.9240956440234862, 0.9230176508614436, 0.9160641261809633, 0.8701546493951152, 0.9031202006043433, 0.9124542877541764, 0.9035778651180866, 0.8757120303650472, 0.8951046724128993, 0.92224704299567, 0.9190126251249364, 0.9224481841519776, 0.9006674372769758, 0.8351862862100008, 0.9158151226224204, 0.9083460923094003, 0.8938529603768977, 0.9143058665250816, 0.9015156005982268, 0.9028082174433315, 0.9180666316924544, 0.5, 0.8933102127328635, 0.8823174236256506, 0.8774957538879011, 0.8938196111900194, 0.8945009869200649, 0.8635450997490649, 0.8929395845394422, 0.8881191240929741, 0.9111462467630839, 0.9179911492788575, 0.904429151820499, 0.8694961521979495, 0.9301693985170276, 0.9208215724300711]}, {\"categories\": [\"0\", \"1\", \"2\", \"3\", \"4\", \"5\", \"6\", \"7\", \"8\", \"9\", \"10\", \"11\", \"12\", \"13\", \"14\", \"15\", \"16\", \"17\", \"18\", \"19\", \"20\", \"21\", \"22\", \"23\", \"24\", \"25\", \"26\", \"27\", \"28\", \"29\", \"30\", \"31\", \"32\", \"33\", \"34\", \"35\", \"36\", \"37\", \"38\", \"39\"], \"mode\": \"lines\", \"name\": \"recall_score_macro_max\", \"stepped\": true, \"type\": \"scatter\", \"data\": [0.9169465588428338, 0.9169465588428338, 0.9169465588428338, 0.9169465588428338, 0.9240956440234862, 0.9240956440234862, 0.9240956440234862, 0.9240956440234862, 0.9240956440234862, 0.9240956440234862, 0.9240956440234862, 0.9240956440234862, 0.9240956440234862, 0.9240956440234862, 0.9240956440234862, 0.9240956440234862, 0.9240956440234862, 0.9240956440234862, 0.9240956440234862, 0.9240956440234862, 0.9240956440234862, 0.9240956440234862, 0.9240956440234862, 0.9240956440234862, 0.9240956440234862, 0.9240956440234862, 0.9240956440234862, 0.9240956440234862, 0.9240956440234862, 0.9240956440234862, 0.9240956440234862, 0.9240956440234862, 0.9240956440234862, 0.9240956440234862, 0.9240956440234862, 0.9240956440234862, 0.9240956440234862, 0.9240956440234862, 0.9301693985170276, 0.9301693985170276]}], \"f1_score_micro\": [{\"categories\": [\"0\", \"1\", \"2\", \"3\", \"4\", \"5\", \"6\", \"7\", \"8\", \"9\", \"10\", \"11\", \"12\", \"13\", \"14\", \"15\", \"16\", \"17\", \"18\", \"19\", \"20\", \"21\", \"22\", \"23\", \"24\", \"25\", \"26\", \"27\", \"28\", \"29\", \"30\", \"31\", \"32\", \"33\", \"34\", \"35\", \"36\", \"37\", \"38\", \"39\"], \"mode\": \"markers\", \"name\": \"f1_score_micro\", \"stepped\": false, \"type\": \"scatter\", \"data\": [0.924406148113647, 0.9226207110697097, 0.915618692749573, 0.9155876416705482, 0.9314081664337837, 0.9314081664337837, 0.9261139574600218, 0.8856854525694768, 0.915618692749573, 0.9261450085390466, 0.9138643067846607, 0.8979972054028877, 0.912063344201211, 0.9296382549293588, 0.9261605340785592, 0.9314236919732961, 0.9173420276354604, 0.8734358018941158, 0.9261294829995341, 0.9208507995652848, 0.9103089582362986, 0.9226207110697097, 0.9138177301661232, 0.9190808880608602, 0.9261760596180716, 0.6273560006210216, 0.9068001863064742, 0.899782642446825, 0.8997671169073126, 0.9120788697407235, 0.9120788697407235, 0.8734202763546033, 0.8962893960565129, 0.9103244837758112, 0.9226207110697097, 0.9243906225741345, 0.9173730787144854, 0.8944884334730633, 0.9384567613724576, 0.9314081664337834]}, {\"categories\": [\"0\", \"1\", \"2\", \"3\", \"4\", \"5\", \"6\", \"7\", \"8\", \"9\", \"10\", \"11\", \"12\", \"13\", \"14\", \"15\", \"16\", \"17\", \"18\", \"19\", \"20\", \"21\", \"22\", \"23\", \"24\", \"25\", \"26\", \"27\", \"28\", \"29\", \"30\", \"31\", \"32\", \"33\", \"34\", \"35\", \"36\", \"37\", \"38\", \"39\"], \"mode\": \"lines\", \"name\": \"f1_score_micro_max\", \"stepped\": true, \"type\": \"scatter\", \"data\": [0.924406148113647, 0.924406148113647, 0.924406148113647, 0.924406148113647, 0.9314081664337837, 0.9314081664337837, 0.9314081664337837, 0.9314081664337837, 0.9314081664337837, 0.9314081664337837, 0.9314081664337837, 0.9314081664337837, 0.9314081664337837, 0.9314081664337837, 0.9314081664337837, 0.9314236919732961, 0.9314236919732961, 0.9314236919732961, 0.9314236919732961, 0.9314236919732961, 0.9314236919732961, 0.9314236919732961, 0.9314236919732961, 0.9314236919732961, 0.9314236919732961, 0.9314236919732961, 0.9314236919732961, 0.9314236919732961, 0.9314236919732961, 0.9314236919732961, 0.9314236919732961, 0.9314236919732961, 0.9314236919732961, 0.9314236919732961, 0.9314236919732961, 0.9314236919732961, 0.9314236919732961, 0.9314236919732961, 0.9384567613724576, 0.9384567613724576]}], \"recall_score_weighted\": [{\"categories\": [\"0\", \"1\", \"2\", \"3\", \"4\", \"5\", \"6\", \"7\", \"8\", \"9\", \"10\", \"11\", \"12\", \"13\", \"14\", \"15\", \"16\", \"17\", \"18\", \"19\", \"20\", \"21\", \"22\", \"23\", \"24\", \"25\", \"26\", \"27\", \"28\", \"29\", \"30\", \"31\", \"32\", \"33\", \"34\", \"35\", \"36\", \"37\", \"38\", \"39\"], \"mode\": \"markers\", \"name\": \"recall_score_weighted\", \"stepped\": false, \"type\": \"scatter\", \"data\": [0.924406148113647, 0.9226207110697097, 0.915618692749573, 0.9155876416705482, 0.9314081664337837, 0.9314081664337837, 0.9261139574600218, 0.8856854525694768, 0.915618692749573, 0.9261450085390466, 0.9138643067846607, 0.8979972054028877, 0.912063344201211, 0.9296382549293588, 0.9261605340785592, 0.9314236919732961, 0.9173420276354604, 0.8734358018941158, 0.9261294829995341, 0.9208507995652848, 0.9103089582362986, 0.9226207110697097, 0.9138177301661232, 0.9190808880608602, 0.9261760596180716, 0.6273560006210216, 0.9068001863064742, 0.899782642446825, 0.8997671169073126, 0.9120788697407235, 0.9120788697407235, 0.8734202763546033, 0.8962893960565129, 0.9103244837758112, 0.9226207110697097, 0.9243906225741345, 0.9173730787144854, 0.8944884334730633, 0.9384567613724576, 0.9314081664337834]}, {\"categories\": [\"0\", \"1\", \"2\", \"3\", \"4\", \"5\", \"6\", \"7\", \"8\", \"9\", \"10\", \"11\", \"12\", \"13\", \"14\", \"15\", \"16\", \"17\", \"18\", \"19\", \"20\", \"21\", \"22\", \"23\", \"24\", \"25\", \"26\", \"27\", \"28\", \"29\", \"30\", \"31\", \"32\", \"33\", \"34\", \"35\", \"36\", \"37\", \"38\", \"39\"], \"mode\": \"lines\", \"name\": \"recall_score_weighted_max\", \"stepped\": true, \"type\": \"scatter\", \"data\": [0.924406148113647, 0.924406148113647, 0.924406148113647, 0.924406148113647, 0.9314081664337837, 0.9314081664337837, 0.9314081664337837, 0.9314081664337837, 0.9314081664337837, 0.9314081664337837, 0.9314081664337837, 0.9314081664337837, 0.9314081664337837, 0.9314081664337837, 0.9314081664337837, 0.9314236919732961, 0.9314236919732961, 0.9314236919732961, 0.9314236919732961, 0.9314236919732961, 0.9314236919732961, 0.9314236919732961, 0.9314236919732961, 0.9314236919732961, 0.9314236919732961, 0.9314236919732961, 0.9314236919732961, 0.9314236919732961, 0.9314236919732961, 0.9314236919732961, 0.9314236919732961, 0.9314236919732961, 0.9314236919732961, 0.9314236919732961, 0.9314236919732961, 0.9314236919732961, 0.9314236919732961, 0.9314236919732961, 0.9384567613724576, 0.9384567613724576]}], \"recall_score_micro\": [{\"categories\": [\"0\", \"1\", \"2\", \"3\", \"4\", \"5\", \"6\", \"7\", \"8\", \"9\", \"10\", \"11\", \"12\", \"13\", \"14\", \"15\", \"16\", \"17\", \"18\", \"19\", \"20\", \"21\", \"22\", \"23\", \"24\", \"25\", \"26\", \"27\", \"28\", \"29\", \"30\", \"31\", \"32\", \"33\", \"34\", \"35\", \"36\", \"37\", \"38\", \"39\"], \"mode\": \"markers\", \"name\": \"recall_score_micro\", \"stepped\": false, \"type\": \"scatter\", \"data\": [0.924406148113647, 0.9226207110697097, 0.915618692749573, 0.9155876416705482, 0.9314081664337837, 0.9314081664337837, 0.9261139574600218, 0.8856854525694768, 0.915618692749573, 0.9261450085390466, 0.9138643067846607, 0.8979972054028877, 0.912063344201211, 0.9296382549293588, 0.9261605340785592, 0.9314236919732961, 0.9173420276354604, 0.8734358018941158, 0.9261294829995341, 0.9208507995652848, 0.9103089582362986, 0.9226207110697097, 0.9138177301661232, 0.9190808880608602, 0.9261760596180716, 0.6273560006210216, 0.9068001863064742, 0.899782642446825, 0.8997671169073126, 0.9120788697407235, 0.9120788697407235, 0.8734202763546033, 0.8962893960565129, 0.9103244837758112, 0.9226207110697097, 0.9243906225741345, 0.9173730787144854, 0.8944884334730633, 0.9384567613724576, 0.9314081664337834]}, {\"categories\": [\"0\", \"1\", \"2\", \"3\", \"4\", \"5\", \"6\", \"7\", \"8\", \"9\", \"10\", \"11\", \"12\", \"13\", \"14\", \"15\", \"16\", \"17\", \"18\", \"19\", \"20\", \"21\", \"22\", \"23\", \"24\", \"25\", \"26\", \"27\", \"28\", \"29\", \"30\", \"31\", \"32\", \"33\", \"34\", \"35\", \"36\", \"37\", \"38\", \"39\"], \"mode\": \"lines\", \"name\": \"recall_score_micro_max\", \"stepped\": true, \"type\": \"scatter\", \"data\": [0.924406148113647, 0.924406148113647, 0.924406148113647, 0.924406148113647, 0.9314081664337837, 0.9314081664337837, 0.9314081664337837, 0.9314081664337837, 0.9314081664337837, 0.9314081664337837, 0.9314081664337837, 0.9314081664337837, 0.9314081664337837, 0.9314081664337837, 0.9314081664337837, 0.9314236919732961, 0.9314236919732961, 0.9314236919732961, 0.9314236919732961, 0.9314236919732961, 0.9314236919732961, 0.9314236919732961, 0.9314236919732961, 0.9314236919732961, 0.9314236919732961, 0.9314236919732961, 0.9314236919732961, 0.9314236919732961, 0.9314236919732961, 0.9314236919732961, 0.9314236919732961, 0.9314236919732961, 0.9314236919732961, 0.9314236919732961, 0.9314236919732961, 0.9314236919732961, 0.9314236919732961, 0.9314236919732961, 0.9384567613724576, 0.9384567613724576]}], \"f1_score_macro\": [{\"categories\": [\"0\", \"1\", \"2\", \"3\", \"4\", \"5\", \"6\", \"7\", \"8\", \"9\", \"10\", \"11\", \"12\", \"13\", \"14\", \"15\", \"16\", \"17\", \"18\", \"19\", \"20\", \"21\", \"22\", \"23\", \"24\", \"25\", \"26\", \"27\", \"28\", \"29\", \"30\", \"31\", \"32\", \"33\", \"34\", \"35\", \"36\", \"37\", \"38\", \"39\"], \"mode\": \"markers\", \"name\": \"f1_score_macro\", \"stepped\": false, \"type\": \"scatter\", \"data\": [0.9185165118262966, 0.9163249255053444, 0.9085399180627791, 0.9079255527605481, 0.9262578081949828, 0.9259145033834306, 0.9199251176906491, 0.8755533044643962, 0.9079690590595509, 0.9193038449918539, 0.9064185404693939, 0.8862755709772594, 0.9032866565765467, 0.9240535355292672, 0.9203247670391821, 0.9254680491301368, 0.9091078767688721, 0.8527222125728638, 0.9197101043200873, 0.9135780545327549, 0.9015284563827853, 0.9164214157330426, 0.9062750343003418, 0.9112013487390627, 0.9202122837306408, 0.3853330691002781, 0.8984770536576974, 0.889377839383193, 0.8883074069049932, 0.9029100516796822, 0.9031289807615257, 0.8636724311055985, 0.8892441706720392, 0.9003811447554734, 0.9158431490841725, 0.9188114023960388, 0.9098320106245245, 0.8818651226508207, 0.9333944200499623, 0.9253630931796863]}, {\"categories\": [\"0\", \"1\", \"2\", \"3\", \"4\", \"5\", \"6\", \"7\", \"8\", \"9\", \"10\", \"11\", \"12\", \"13\", \"14\", \"15\", \"16\", \"17\", \"18\", \"19\", \"20\", \"21\", \"22\", \"23\", \"24\", \"25\", \"26\", \"27\", \"28\", \"29\", \"30\", \"31\", \"32\", \"33\", \"34\", \"35\", \"36\", \"37\", \"38\", \"39\"], \"mode\": \"lines\", \"name\": \"f1_score_macro_max\", \"stepped\": true, \"type\": \"scatter\", \"data\": [0.9185165118262966, 0.9185165118262966, 0.9185165118262966, 0.9185165118262966, 0.9262578081949828, 0.9262578081949828, 0.9262578081949828, 0.9262578081949828, 0.9262578081949828, 0.9262578081949828, 0.9262578081949828, 0.9262578081949828, 0.9262578081949828, 0.9262578081949828, 0.9262578081949828, 0.9262578081949828, 0.9262578081949828, 0.9262578081949828, 0.9262578081949828, 0.9262578081949828, 0.9262578081949828, 0.9262578081949828, 0.9262578081949828, 0.9262578081949828, 0.9262578081949828, 0.9262578081949828, 0.9262578081949828, 0.9262578081949828, 0.9262578081949828, 0.9262578081949828, 0.9262578081949828, 0.9262578081949828, 0.9262578081949828, 0.9262578081949828, 0.9262578081949828, 0.9262578081949828, 0.9262578081949828, 0.9262578081949828, 0.9333944200499623, 0.9333944200499623]}], \"f1_score_weighted\": [{\"categories\": [\"0\", \"1\", \"2\", \"3\", \"4\", \"5\", \"6\", \"7\", \"8\", \"9\", \"10\", \"11\", \"12\", \"13\", \"14\", \"15\", \"16\", \"17\", \"18\", \"19\", \"20\", \"21\", \"22\", \"23\", \"24\", \"25\", \"26\", \"27\", \"28\", \"29\", \"30\", \"31\", \"32\", \"33\", \"34\", \"35\", \"36\", \"37\", \"38\", \"39\"], \"mode\": \"markers\", \"name\": \"f1_score_weighted\", \"stepped\": false, \"type\": \"scatter\", \"data\": [0.9241779729343014, 0.9222768167417161, 0.9150028108768762, 0.9145140308231875, 0.931160961023979, 0.9310847729688263, 0.9254231210905273, 0.8847633514454005, 0.9149241203285339, 0.9252269696909338, 0.9133701925588055, 0.8952594148921327, 0.9105489292016969, 0.9293563357748995, 0.925878090131411, 0.931019983550242, 0.9160115147834207, 0.8663734139932592, 0.9254407564620163, 0.9198421129479548, 0.908958120047125, 0.9222736358089602, 0.912888178647683, 0.9177598734125864, 0.9258759944502712, 0.48404586304148695, 0.9056835016687883, 0.8980365768405749, 0.8972543679682146, 0.910393444765832, 0.9105223807188153, 0.8728766958686928, 0.8965486447470399, 0.9084145904547778, 0.9218048266862725, 0.9241823791956068, 0.916485892165837, 0.8914801268967082, 0.9381710057032244, 0.9308561035814872]}, {\"categories\": [\"0\", \"1\", \"2\", \"3\", \"4\", \"5\", \"6\", \"7\", \"8\", \"9\", \"10\", \"11\", \"12\", \"13\", \"14\", \"15\", \"16\", \"17\", \"18\", \"19\", \"20\", \"21\", \"22\", \"23\", \"24\", \"25\", \"26\", \"27\", \"28\", \"29\", \"30\", \"31\", \"32\", \"33\", \"34\", \"35\", \"36\", \"37\", \"38\", \"39\"], \"mode\": \"lines\", \"name\": \"f1_score_weighted_max\", \"stepped\": true, \"type\": \"scatter\", \"data\": [0.9241779729343014, 0.9241779729343014, 0.9241779729343014, 0.9241779729343014, 0.931160961023979, 0.931160961023979, 0.931160961023979, 0.931160961023979, 0.931160961023979, 0.931160961023979, 0.931160961023979, 0.931160961023979, 0.931160961023979, 0.931160961023979, 0.931160961023979, 0.931160961023979, 0.931160961023979, 0.931160961023979, 0.931160961023979, 0.931160961023979, 0.931160961023979, 0.931160961023979, 0.931160961023979, 0.931160961023979, 0.931160961023979, 0.931160961023979, 0.931160961023979, 0.931160961023979, 0.931160961023979, 0.931160961023979, 0.931160961023979, 0.931160961023979, 0.931160961023979, 0.931160961023979, 0.931160961023979, 0.931160961023979, 0.931160961023979, 0.931160961023979, 0.9381710057032244, 0.9381710057032244]}], \"matthews_correlation\": [{\"categories\": [\"0\", \"1\", \"2\", \"3\", \"4\", \"5\", \"6\", \"7\", \"8\", \"9\", \"10\", \"11\", \"12\", \"13\", \"14\", \"15\", \"16\", \"17\", \"18\", \"19\", \"20\", \"21\", \"22\", \"23\", \"24\", \"25\", \"26\", \"27\", \"28\", \"29\", \"30\", \"31\", \"32\", \"33\", \"34\", \"35\", \"36\", \"37\", \"38\", \"39\"], \"mode\": \"markers\", \"name\": \"matthews_correlation\", \"stepped\": false, \"type\": \"scatter\", \"data\": [0.8379904309232561, 0.8334736354549545, 0.8190693241404888, 0.8199466076428292, 0.8531062085286238, 0.8530873465391602, 0.8426121906192285, 0.753787575659387, 0.8180021224897874, 0.8424794965583532, 0.8145908779802049, 0.7843377797273106, 0.81343588130934, 0.8487316730552802, 0.8424086639762333, 0.8521547718214407, 0.8237251900567552, 0.740261294367148, 0.8424153142270627, 0.8321305930900463, 0.80757795981776, 0.8337443179089845, 0.8167304915484644, 0.8290637487368718, 0.8421154305783436, 0.0, 0.8019261582316639, 0.7869262706559542, 0.7872613286632294, 0.8130248266399402, 0.8127029027686541, 0.7319500482588369, 0.781497619490416, 0.8097216413109859, 0.8353096440448133, 0.8387728983914793, 0.822924591296801, 0.7769826720363502, 0.8676767575086488, 0.8526830746125424]}, {\"categories\": [\"0\", \"1\", \"2\", \"3\", \"4\", \"5\", \"6\", \"7\", \"8\", \"9\", \"10\", \"11\", \"12\", \"13\", \"14\", \"15\", \"16\", \"17\", \"18\", \"19\", \"20\", \"21\", \"22\", \"23\", \"24\", \"25\", \"26\", \"27\", \"28\", \"29\", \"30\", \"31\", \"32\", \"33\", \"34\", \"35\", \"36\", \"37\", \"38\", \"39\"], \"mode\": \"lines\", \"name\": \"matthews_correlation_max\", \"stepped\": true, \"type\": \"scatter\", \"data\": [0.8379904309232561, 0.8379904309232561, 0.8379904309232561, 0.8379904309232561, 0.8531062085286238, 0.8531062085286238, 0.8531062085286238, 0.8531062085286238, 0.8531062085286238, 0.8531062085286238, 0.8531062085286238, 0.8531062085286238, 0.8531062085286238, 0.8531062085286238, 0.8531062085286238, 0.8531062085286238, 0.8531062085286238, 0.8531062085286238, 0.8531062085286238, 0.8531062085286238, 0.8531062085286238, 0.8531062085286238, 0.8531062085286238, 0.8531062085286238, 0.8531062085286238, 0.8531062085286238, 0.8531062085286238, 0.8531062085286238, 0.8531062085286238, 0.8531062085286238, 0.8531062085286238, 0.8531062085286238, 0.8531062085286238, 0.8531062085286238, 0.8531062085286238, 0.8531062085286238, 0.8531062085286238, 0.8531062085286238, 0.8676767575086488, 0.8676767575086488]}], \"precision_score_weighted\": [{\"categories\": [\"0\", \"1\", \"2\", \"3\", \"4\", \"5\", \"6\", \"7\", \"8\", \"9\", \"10\", \"11\", \"12\", \"13\", \"14\", \"15\", \"16\", \"17\", \"18\", \"19\", \"20\", \"21\", \"22\", \"23\", \"24\", \"25\", \"26\", \"27\", \"28\", \"29\", \"30\", \"31\", \"32\", \"33\", \"34\", \"35\", \"36\", \"37\", \"38\", \"39\"], \"mode\": \"markers\", \"name\": \"precision_score_weighted\", \"stepped\": false, \"type\": \"scatter\", \"data\": [0.9248510995787148, 0.9227167179886905, 0.9162691288254505, 0.9173257666170371, 0.9314814024222826, 0.931957200901218, 0.9273953712210152, 0.8863934812395617, 0.9161990446629276, 0.9279928233404661, 0.9145637435477738, 0.9037848447288092, 0.9155845809492072, 0.9296719080896713, 0.9272644917830792, 0.9317611678339224, 0.9199029336551705, 0.89289465069632, 0.9276386674692825, 0.923630558986196, 0.9118720981071811, 0.9227762762869919, 0.9159760238468031, 0.922814565644566, 0.9272088558541547, 0.3943182961215727, 0.909317142910463, 0.9040435598865825, 0.9048701683593163, 0.9155480405495174, 0.9150696524335296, 0.8766467810496176, 0.8995994199944688, 0.9149157667920061, 0.924437053892891, 0.9250428964107241, 0.9186964841718313, 0.9010755129311742, 0.9387245502385161, 0.9321457753561534]}, {\"categories\": [\"0\", \"1\", \"2\", \"3\", \"4\", \"5\", \"6\", \"7\", \"8\", \"9\", \"10\", \"11\", \"12\", \"13\", \"14\", \"15\", \"16\", \"17\", \"18\", \"19\", \"20\", \"21\", \"22\", \"23\", \"24\", \"25\", \"26\", \"27\", \"28\", \"29\", \"30\", \"31\", \"32\", \"33\", \"34\", \"35\", \"36\", \"37\", \"38\", \"39\"], \"mode\": \"lines\", \"name\": \"precision_score_weighted_max\", \"stepped\": true, \"type\": \"scatter\", \"data\": [0.9248510995787148, 0.9248510995787148, 0.9248510995787148, 0.9248510995787148, 0.9314814024222826, 0.931957200901218, 0.931957200901218, 0.931957200901218, 0.931957200901218, 0.931957200901218, 0.931957200901218, 0.931957200901218, 0.931957200901218, 0.931957200901218, 0.931957200901218, 0.931957200901218, 0.931957200901218, 0.931957200901218, 0.931957200901218, 0.931957200901218, 0.931957200901218, 0.931957200901218, 0.931957200901218, 0.931957200901218, 0.931957200901218, 0.931957200901218, 0.931957200901218, 0.931957200901218, 0.931957200901218, 0.931957200901218, 0.931957200901218, 0.931957200901218, 0.931957200901218, 0.931957200901218, 0.931957200901218, 0.931957200901218, 0.931957200901218, 0.931957200901218, 0.9387245502385161, 0.9387245502385161]}], \"norm_macro_recall\": [{\"categories\": [\"0\", \"1\", \"2\", \"3\", \"4\", \"5\", \"6\", \"7\", \"8\", \"9\", \"10\", \"11\", \"12\", \"13\", \"14\", \"15\", \"16\", \"17\", \"18\", \"19\", \"20\", \"21\", \"22\", \"23\", \"24\", \"25\", \"26\", \"27\", \"28\", \"29\", \"30\", \"31\", \"32\", \"33\", \"34\", \"35\", \"36\", \"37\", \"38\", \"39\"], \"mode\": \"markers\", \"name\": \"norm_macro_recall\", \"stepped\": false, \"type\": \"scatter\", \"data\": [0.8338931176856678, 0.8274363160043292, 0.8095840507593806, 0.8027971025573057, 0.8481912880469725, 0.8460353017228874, 0.8321282523619263, 0.7403092987902308, 0.8062404012086863, 0.8249085755083527, 0.807155730236173, 0.7514240607300945, 0.7902093448257986, 0.8444940859913398, 0.8380252502498727, 0.8448963683039553, 0.8013348745539519, 0.6703725724200019, 0.8316302452448407, 0.8166921846188007, 0.7877059207537953, 0.8286117330501632, 0.8030312011964537, 0.805616434886663, 0.8361332633849091, 0.0, 0.786620425465727, 0.7646348472513009, 0.7549915077758025, 0.7876392223800389, 0.7890019738401298, 0.7270901994981299, 0.7858791690788844, 0.7762382481859483, 0.8222924935261677, 0.835982298557715, 0.8088583036409979, 0.7389923043958992, 0.8603387970340552, 0.8416431448601424]}, {\"categories\": [\"0\", \"1\", \"2\", \"3\", \"4\", \"5\", \"6\", \"7\", \"8\", \"9\", \"10\", \"11\", \"12\", \"13\", \"14\", \"15\", \"16\", \"17\", \"18\", \"19\", \"20\", \"21\", \"22\", \"23\", \"24\", \"25\", \"26\", \"27\", \"28\", \"29\", \"30\", \"31\", \"32\", \"33\", \"34\", \"35\", \"36\", \"37\", \"38\", \"39\"], \"mode\": \"lines\", \"name\": \"norm_macro_recall_max\", \"stepped\": true, \"type\": \"scatter\", \"data\": [0.8338931176856678, 0.8338931176856678, 0.8338931176856678, 0.8338931176856678, 0.8481912880469725, 0.8481912880469725, 0.8481912880469725, 0.8481912880469725, 0.8481912880469725, 0.8481912880469725, 0.8481912880469725, 0.8481912880469725, 0.8481912880469725, 0.8481912880469725, 0.8481912880469725, 0.8481912880469725, 0.8481912880469725, 0.8481912880469725, 0.8481912880469725, 0.8481912880469725, 0.8481912880469725, 0.8481912880469725, 0.8481912880469725, 0.8481912880469725, 0.8481912880469725, 0.8481912880469725, 0.8481912880469725, 0.8481912880469725, 0.8481912880469725, 0.8481912880469725, 0.8481912880469725, 0.8481912880469725, 0.8481912880469725, 0.8481912880469725, 0.8481912880469725, 0.8481912880469725, 0.8481912880469725, 0.8481912880469725, 0.8603387970340552, 0.8603387970340552]}], \"weighted_accuracy\": [{\"categories\": [\"0\", \"1\", \"2\", \"3\", \"4\", \"5\", \"6\", \"7\", \"8\", \"9\", \"10\", \"11\", \"12\", \"13\", \"14\", \"15\", \"16\", \"17\", \"18\", \"19\", \"20\", \"21\", \"22\", \"23\", \"24\", \"25\", \"26\", \"27\", \"28\", \"29\", \"30\", \"31\", \"32\", \"33\", \"34\", \"35\", \"36\", \"37\", \"38\", \"39\"], \"mode\": \"markers\", \"name\": \"weighted_accuracy\", \"stepped\": false, \"type\": \"scatter\", \"data\": [0.9308519491806369, 0.930335212253531, 0.9250663481151312, 0.9280149083375197, 0.9378269850578225, 0.9387516709306384, 0.9350431701940389, 0.8991855969202336, 0.9264192128805645, 0.9381109068721848, 0.9227454978101477, 0.9175379539428443, 0.9269290063586733, 0.9360517128258626, 0.9324665152931244, 0.9391909402268583, 0.9318942165258612, 0.9067841645080437, 0.9352538245499851, 0.931971630186684, 0.9246254868731631, 0.92975494001754, 0.9247058380578851, 0.9334078165938813, 0.933324184916391, 0.7373853936974661, 0.9187703700756874, 0.9151093907091747, 0.9192043035533833, 0.928033663949593, 0.9273977820419473, 0.8822413239307932, 0.8994438985603244, 0.9294465218731751, 0.9327633429470863, 0.929915814475291, 0.9286891279550383, 0.9162767341531455, 0.9456543198486271, 0.9406073869916047]}, {\"categories\": [\"0\", \"1\", \"2\", \"3\", \"4\", \"5\", \"6\", \"7\", \"8\", \"9\", \"10\", \"11\", \"12\", \"13\", \"14\", \"15\", \"16\", \"17\", \"18\", \"19\", \"20\", \"21\", \"22\", \"23\", \"24\", \"25\", \"26\", \"27\", \"28\", \"29\", \"30\", \"31\", \"32\", \"33\", \"34\", \"35\", \"36\", \"37\", \"38\", \"39\"], \"mode\": \"lines\", \"name\": \"weighted_accuracy_max\", \"stepped\": true, \"type\": \"scatter\", \"data\": [0.9308519491806369, 0.9308519491806369, 0.9308519491806369, 0.9308519491806369, 0.9378269850578225, 0.9387516709306384, 0.9387516709306384, 0.9387516709306384, 0.9387516709306384, 0.9387516709306384, 0.9387516709306384, 0.9387516709306384, 0.9387516709306384, 0.9387516709306384, 0.9387516709306384, 0.9391909402268583, 0.9391909402268583, 0.9391909402268583, 0.9391909402268583, 0.9391909402268583, 0.9391909402268583, 0.9391909402268583, 0.9391909402268583, 0.9391909402268583, 0.9391909402268583, 0.9391909402268583, 0.9391909402268583, 0.9391909402268583, 0.9391909402268583, 0.9391909402268583, 0.9391909402268583, 0.9391909402268583, 0.9391909402268583, 0.9391909402268583, 0.9391909402268583, 0.9391909402268583, 0.9391909402268583, 0.9391909402268583, 0.9456543198486271, 0.9456543198486271]}], \"log_loss\": [{\"categories\": [\"0\", \"1\", \"2\", \"3\", \"4\", \"5\", \"6\", \"7\", \"8\", \"9\", \"10\", \"11\", \"12\", \"13\", \"14\", \"15\", \"16\", \"17\", \"18\", \"19\", \"20\", \"21\", \"22\", \"23\", \"24\", \"25\", \"26\", \"27\", \"28\", \"29\", \"30\", \"31\", \"32\", \"33\", \"34\", \"35\", \"36\", \"37\", \"38\", \"39\"], \"mode\": \"markers\", \"name\": \"log_loss\", \"stepped\": false, \"type\": \"scatter\", \"data\": [0.23258020647063762, 0.18652531490887583, 0.27426027367224104, 0.2750073500132201, 0.2463957389219918, 0.17401263922975696, 0.18927703657085013, 0.27479511833668535, 0.2940627187392776, 0.2688531374000095, 0.25303898584291795, 0.3683639262381666, 0.2738774781564913, 0.184523245937892, 0.18411259005519673, 0.17602922555194503, 0.2915192965492512, 0.43710523997333084, 0.1836865339856105, 0.24412643114921248, 0.2994802319138968, 0.1792888690618235, 0.3460459630847862, 0.2747954078557997, 0.17278398163543235, 0.6278809642270932, 0.27569675861498916, 0.2688692021450807, 0.3479226292458707, 0.25743109804475833, 0.375346286400014, 0.40751644289120376, 0.3470440341303422, 0.41006616095807563, 0.19152439618197262, 0.27598948472363366, 0.34649956355294415, 0.3670232607555273, 0.19372163924394945, 0.1989062800438401]}, {\"categories\": [\"0\", \"1\", \"2\", \"3\", \"4\", \"5\", \"6\", \"7\", \"8\", \"9\", \"10\", \"11\", \"12\", \"13\", \"14\", \"15\", \"16\", \"17\", \"18\", \"19\", \"20\", \"21\", \"22\", \"23\", \"24\", \"25\", \"26\", \"27\", \"28\", \"29\", \"30\", \"31\", \"32\", \"33\", \"34\", \"35\", \"36\", \"37\", \"38\", \"39\"], \"mode\": \"lines\", \"name\": \"log_loss_min\", \"stepped\": true, \"type\": \"scatter\", \"data\": [0.23258020647063762, 0.18652531490887583, 0.18652531490887583, 0.18652531490887583, 0.18652531490887583, 0.17401263922975696, 0.17401263922975696, 0.17401263922975696, 0.17401263922975696, 0.17401263922975696, 0.17401263922975696, 0.17401263922975696, 0.17401263922975696, 0.17401263922975696, 0.17401263922975696, 0.17401263922975696, 0.17401263922975696, 0.17401263922975696, 0.17401263922975696, 0.17401263922975696, 0.17401263922975696, 0.17401263922975696, 0.17401263922975696, 0.17401263922975696, 0.17278398163543235, 0.17278398163543235, 0.17278398163543235, 0.17278398163543235, 0.17278398163543235, 0.17278398163543235, 0.17278398163543235, 0.17278398163543235, 0.17278398163543235, 0.17278398163543235, 0.17278398163543235, 0.17278398163543235, 0.17278398163543235, 0.17278398163543235, 0.17278398163543235, 0.17278398163543235]}], \"AUC_micro\": [{\"categories\": [\"0\", \"1\", \"2\", \"3\", \"4\", \"5\", \"6\", \"7\", \"8\", \"9\", \"10\", \"11\", \"12\", \"13\", \"14\", \"15\", \"16\", \"17\", \"18\", \"19\", \"20\", \"21\", \"22\", \"23\", \"24\", \"25\", \"26\", \"27\", \"28\", \"29\", \"30\", \"31\", \"32\", \"33\", \"34\", \"35\", \"36\", \"37\", \"38\", \"39\"], \"mode\": \"markers\", \"name\": \"AUC_micro\", \"stepped\": false, \"type\": \"scatter\", \"data\": [0.9807295935753144, 0.9799942564422371, 0.9691581023707458, 0.9712870995252645, 0.9766440976278513, 0.9811278016084323, 0.9768029156293107, 0.9612394963072429, 0.9476771686178926, 0.973984134735361, 0.9548250091397243, 0.9627721377477159, 0.9605468381374646, 0.97945788653417, 0.9806299394253275, 0.9810929191608224, 0.9697353060627145, 0.9467854094445851, 0.9786432078922289, 0.9646305551921841, 0.9686075061415789, 0.9810555057682526, 0.9633438010806461, 0.9591788961324534, 0.9818829741187256, 0.8419195098760005, 0.949158308944063, 0.9664389069297055, 0.9641489043141547, 0.9707770622916897, 0.9604717389744385, 0.9462577929904443, 0.966367979005016, 0.9539443981763602, 0.978295409051445, 0.9711078989803932, 0.9690340306279532, 0.9599863929167671, 0.9814900328615483, 0.9807750095748057]}, {\"categories\": [\"0\", \"1\", \"2\", \"3\", \"4\", \"5\", \"6\", \"7\", \"8\", \"9\", \"10\", \"11\", \"12\", \"13\", \"14\", \"15\", \"16\", \"17\", \"18\", \"19\", \"20\", \"21\", \"22\", \"23\", \"24\", \"25\", \"26\", \"27\", \"28\", \"29\", \"30\", \"31\", \"32\", \"33\", \"34\", \"35\", \"36\", \"37\", \"38\", \"39\"], \"mode\": \"lines\", \"name\": \"AUC_micro_max\", \"stepped\": true, \"type\": \"scatter\", \"data\": [0.9807295935753144, 0.9807295935753144, 0.9807295935753144, 0.9807295935753144, 0.9807295935753144, 0.9811278016084323, 0.9811278016084323, 0.9811278016084323, 0.9811278016084323, 0.9811278016084323, 0.9811278016084323, 0.9811278016084323, 0.9811278016084323, 0.9811278016084323, 0.9811278016084323, 0.9811278016084323, 0.9811278016084323, 0.9811278016084323, 0.9811278016084323, 0.9811278016084323, 0.9811278016084323, 0.9811278016084323, 0.9811278016084323, 0.9811278016084323, 0.9818829741187256, 0.9818829741187256, 0.9818829741187256, 0.9818829741187256, 0.9818829741187256, 0.9818829741187256, 0.9818829741187256, 0.9818829741187256, 0.9818829741187256, 0.9818829741187256, 0.9818829741187256, 0.9818829741187256, 0.9818829741187256, 0.9818829741187256, 0.9818829741187256, 0.9818829741187256]}]}, \"metricName\": null, \"primaryMetricName\": \"accuracy\", \"showLegend\": false}, \"run_metrics\": [{\"name\": \"experiment_status\", \"run_id\": \"AutoML_a5550912-ff01-4234-a43b-4f360b456122\", \"categories\": [0, 1, 2, 3, 4, 5, 6, 7, 8, 9, 10, 11, 12, 13], \"series\": [{\"data\": [\"DatasetEvaluation\", \"FeaturesGeneration\", \"DatasetFeaturization\", \"DatasetFeaturizationCompleted\", \"DatasetCrossValidationSplit\", \"ModelSelection\", \"BestRunExplainModel\", \"ModelExplanationDataSetSetup\", \"PickSurrogateModel\", \"EngineeredFeatureExplanations\", \"EngineeredFeatureExplanations\", \"RawFeaturesExplanations\", \"RawFeaturesExplanations\", \"BestRunExplainModel\"]}]}, {\"name\": \"experiment_status_description\", \"run_id\": \"AutoML_a5550912-ff01-4234-a43b-4f360b456122\", \"categories\": [0, 1, 2, 3, 4, 5, 6, 7, 8, 9, 10, 11, 12, 13], \"series\": [{\"data\": [\"Gathering dataset statistics.\", \"Generating features for the dataset.\", \"Beginning to fit featurizers and featurize the dataset.\", \"Completed fit featurizers and featurizing the dataset.\", \"Generating individually featurized CV splits.\", \"Beginning model selection.\", \"Best run model explanations started\", \"Model explanations data setup completed\", \"Choosing LightGBM as the surrogate model for explanations\", \"Computation of engineered features started\", \"Computation of engineered features completed\", \"Computation of raw features started\", \"Computation of raw features completed\", \"Best run model explanations completed\"]}]}, {\"name\": \"f1_score_weighted\", \"run_id\": \"AutoML_a5550912-ff01-4234-a43b-4f360b456122\", \"categories\": [0], \"series\": [{\"data\": [0.9381710057032244]}]}, {\"name\": \"precision_score_macro\", \"run_id\": \"AutoML_a5550912-ff01-4234-a43b-4f360b456122\", \"categories\": [0], \"series\": [{\"data\": [0.9375634321406665]}]}, {\"name\": \"average_precision_score_macro\", \"run_id\": \"AutoML_a5550912-ff01-4234-a43b-4f360b456122\", \"categories\": [0], \"series\": [{\"data\": [0.978975776725386]}]}, {\"name\": \"norm_macro_recall\", \"run_id\": \"AutoML_a5550912-ff01-4234-a43b-4f360b456122\", \"categories\": [0], \"series\": [{\"data\": [0.8603387970340552]}]}, {\"name\": \"accuracy\", \"run_id\": \"AutoML_a5550912-ff01-4234-a43b-4f360b456122\", \"categories\": [0], \"series\": [{\"data\": [0.9384567613724576]}]}, {\"name\": \"f1_score_macro\", \"run_id\": \"AutoML_a5550912-ff01-4234-a43b-4f360b456122\", \"categories\": [0], \"series\": [{\"data\": [0.9333944200499623]}]}, {\"name\": \"log_loss\", \"run_id\": \"AutoML_a5550912-ff01-4234-a43b-4f360b456122\", \"categories\": [0], \"series\": [{\"data\": [0.19372163924394945]}]}, {\"name\": \"weighted_accuracy\", \"run_id\": \"AutoML_a5550912-ff01-4234-a43b-4f360b456122\", \"categories\": [0], \"series\": [{\"data\": [0.9456543198486271]}]}, {\"name\": \"f1_score_micro\", \"run_id\": \"AutoML_a5550912-ff01-4234-a43b-4f360b456122\", \"categories\": [0], \"series\": [{\"data\": [0.9384567613724576]}]}, {\"name\": \"balanced_accuracy\", \"run_id\": \"AutoML_a5550912-ff01-4234-a43b-4f360b456122\", \"categories\": [0], \"series\": [{\"data\": [0.9301693985170276]}]}, {\"name\": \"precision_score_weighted\", \"run_id\": \"AutoML_a5550912-ff01-4234-a43b-4f360b456122\", \"categories\": [0], \"series\": [{\"data\": [0.9387245502385161]}]}, {\"name\": \"recall_score_micro\", \"run_id\": \"AutoML_a5550912-ff01-4234-a43b-4f360b456122\", \"categories\": [0], \"series\": [{\"data\": [0.9384567613724576]}]}, {\"name\": \"AUC_weighted\", \"run_id\": \"AutoML_a5550912-ff01-4234-a43b-4f360b456122\", \"categories\": [0], \"series\": [{\"data\": [0.9793274133256528]}]}, {\"name\": \"average_precision_score_weighted\", \"run_id\": \"AutoML_a5550912-ff01-4234-a43b-4f360b456122\", \"categories\": [0], \"series\": [{\"data\": [0.981035515059052]}]}, {\"name\": \"average_precision_score_micro\", \"run_id\": \"AutoML_a5550912-ff01-4234-a43b-4f360b456122\", \"categories\": [0], \"series\": [{\"data\": [0.9821255934419204]}]}, {\"name\": \"AUC_macro\", \"run_id\": \"AutoML_a5550912-ff01-4234-a43b-4f360b456122\", \"categories\": [0], \"series\": [{\"data\": [0.9793274133256528]}]}, {\"name\": \"recall_score_macro\", \"run_id\": \"AutoML_a5550912-ff01-4234-a43b-4f360b456122\", \"categories\": [0], \"series\": [{\"data\": [0.9301693985170276]}]}, {\"name\": \"recall_score_weighted\", \"run_id\": \"AutoML_a5550912-ff01-4234-a43b-4f360b456122\", \"categories\": [0], \"series\": [{\"data\": [0.9384567613724576]}]}, {\"name\": \"AUC_micro\", \"run_id\": \"AutoML_a5550912-ff01-4234-a43b-4f360b456122\", \"categories\": [0], \"series\": [{\"data\": [0.9814900328615483]}]}, {\"name\": \"precision_score_micro\", \"run_id\": \"AutoML_a5550912-ff01-4234-a43b-4f360b456122\", \"categories\": [0], \"series\": [{\"data\": [0.9384567613724576]}]}, {\"name\": \"matthews_correlation\", \"run_id\": \"AutoML_a5550912-ff01-4234-a43b-4f360b456122\", \"categories\": [0], \"series\": [{\"data\": [0.8676767575086488]}]}], \"run_logs\": \"\\nRun is completed.\", \"graph\": {}, \"widget_settings\": {\"childWidgetDisplay\": \"popup\", \"send_telemetry\": false, \"log_level\": \"INFO\", \"sdk_version\": \"1.26.0\"}, \"loading\": false}"
          },
          "metadata": {}
        },
        {
          "output_type": "display_data",
          "data": {
            "text/plain": "<IPython.core.display.HTML object>",
            "text/html": "<table style=\"width:100%\"><tr><th>Experiment</th><th>Id</th><th>Type</th><th>Status</th><th>Details Page</th><th>Docs Page</th></tr><tr><td>AutoMLversion</td><td>AutoML_a5550912-ff01-4234-a43b-4f360b456122</td><td>automl</td><td>NotStarted</td><td><a href=\"https://ml.azure.com/runs/AutoML_a5550912-ff01-4234-a43b-4f360b456122?wsid=/subscriptions/6971f5ac-8af1-446e-8034-05acea24681f/resourcegroups/aml-quickstarts-143185/workspaces/quick-starts-ws-143185&amp;tid=660b3398-b80e-49d2-bc5b-ac1dc93b5254\" target=\"_blank\" rel=\"noopener\">Link to Azure Machine Learning studio</a></td><td><a href=\"https://docs.microsoft.com/en-us/python/api/overview/azure/ml/intro?view=azure-ml-py\" target=\"_blank\" rel=\"noopener\">Link to Documentation</a></td></tr></table>"
          },
          "metadata": {}
        },
        {
          "output_type": "stream",
          "name": "stdout",
          "text": [
            "\n",
            "\n",
            "****************************************************************************************************\n",
            "DATA GUARDRAILS: \n",
            "\n",
            "TYPE:         Class balancing detection\n",
            "STATUS:       PASSED\n",
            "DESCRIPTION:  Your inputs were analyzed, and all classes are balanced in your training data.\n",
            "              Learn more about imbalanced data: https://aka.ms/AutomatedMLImbalancedData\n",
            "\n",
            "****************************************************************************************************\n",
            "\n",
            "TYPE:         Missing feature values imputation\n",
            "STATUS:       PASSED\n",
            "DESCRIPTION:  No feature missing values were detected in the training data.\n",
            "              Learn more about missing value imputation: https://aka.ms/AutomatedMLFeaturization\n",
            "\n",
            "****************************************************************************************************\n",
            "\n",
            "TYPE:         High cardinality feature detection\n",
            "STATUS:       PASSED\n",
            "DESCRIPTION:  Your inputs were analyzed, and no high cardinality features were detected.\n",
            "              Learn more about high cardinality feature handling: https://aka.ms/AutomatedMLFeaturization\n",
            "\n",
            "****************************************************************************************************\n",
            "\n",
            "****************************************************************************************************\n",
            "ITERATION: The iteration being evaluated.\n",
            "PIPELINE: A summary description of the pipeline being evaluated.\n",
            "DURATION: Time taken for the current iteration.\n",
            "METRIC: The result of computing score on the fitted pipeline.\n",
            "BEST: The best observed score thus far.\n",
            "****************************************************************************************************\n",
            "\n",
            " ITERATION   PIPELINE                                       DURATION      METRIC      BEST\n",
            "         0   MaxAbsScaler LightGBM                          0:00:49       0.9244    0.9244\n",
            "         1   MaxAbsScaler XGBoostClassifier                 0:00:51       0.9226    0.9244\n",
            "         2   MinMaxScaler RandomForest                      0:02:07       0.9156    0.9244\n",
            "         3   MinMaxScaler RandomForest                      0:05:04       0.9156    0.9244\n",
            "         4   MinMaxScaler RandomForest                      0:02:03       0.9314    0.9314\n",
            "         5   MaxAbsScaler LightGBM                          0:00:46       0.9314    0.9314\n",
            "         6   SparseNormalizer XGBoostClassifier             0:00:42       0.9261    0.9314\n",
            "         7   TruncatedSVDWrapper XGBoostClassifier          0:00:43       0.8857    0.9314\n",
            "         8   MinMaxScaler SVM                               0:00:42       0.9156    0.9314\n",
            "         9   MaxAbsScaler LightGBM                          0:02:12       0.9261    0.9314\n",
            "        10   RobustScaler SVM                               0:00:52       0.9139    0.9314\n",
            "        11   StandardScalerWrapper XGBoostClassifier        0:00:44       0.8980    0.9314\n",
            "        12   SparseNormalizer LightGBM                      0:00:43       0.9121    0.9314\n",
            "        13   StandardScalerWrapper LightGBM                 0:00:48       0.9296    0.9314\n",
            "        14   MinMaxScaler LightGBM                          0:00:54       0.9262    0.9314\n",
            "        15   RobustScaler LightGBM                          0:00:50       0.9314    0.9314\n",
            "        16   MaxAbsScaler LightGBM                          0:00:47       0.9173    0.9314\n",
            "        17   StandardScalerWrapper ExtremeRandomTrees       0:00:45       0.8734    0.9314\n",
            "        18   SparseNormalizer XGBoostClassifier             0:00:51       0.9261    0.9314\n",
            "        19   SparseNormalizer XGBoostClassifier             0:00:51       0.9209    0.9314\n",
            "        20   RobustScaler LightGBM                          0:00:49       0.9103    0.9314\n",
            "        21   MinMaxScaler LightGBM                          0:00:48       0.9226    0.9314\n",
            "        22   SparseNormalizer XGBoostClassifier             0:00:46       0.9138    0.9314\n",
            "        23   SparseNormalizer XGBoostClassifier             0:00:52       0.9191    0.9314\n",
            "        24   StandardScalerWrapper SGD                      0:00:46       0.9262    0.9314\n",
            "        25   StandardScalerWrapper LightGBM                 0:00:46       0.6274    0.9314\n",
            "        26   SparseNormalizer LightGBM                      0:00:42       0.9068    0.9314\n",
            "        27   MaxAbsScaler ExtremeRandomTrees                0:00:51       0.8998    0.9314\n",
            "        28   StandardScalerWrapper LightGBM                 0:00:57       0.8998    0.9314\n",
            "        29   MaxAbsScaler LightGBM                          0:00:46       0.9121    0.9314\n",
            "        30   MinMaxScaler LightGBM                          0:00:43       0.9121    0.9314\n",
            "        31   SparseNormalizer ExtremeRandomTrees            0:00:46       0.8734    0.9314\n",
            "        32   MaxAbsScaler ExtremeRandomTrees                0:00:54       0.8963    0.9314\n",
            "        33   MaxAbsScaler LightGBM                          0:00:56       0.9103    0.9314\n",
            "        34   MinMaxScaler LightGBM                          0:00:40       0.9226    0.9314\n",
            "        35   StandardScalerWrapper RandomForest             0:00:50       0.9244    0.9314\n",
            "        36   StandardScalerWrapper XGBoostClassifier        0:00:42       0.9174    0.9314\n",
            "        37   RobustScaler LightGBM                          0:00:31       0.8945    0.9314\n",
            "        38    VotingEnsemble                                0:01:10       0.9385    0.9385\n",
            "        39    StackEnsemble                                 0:01:08       0.9314    0.9385\n"
          ]
        },
        {
          "output_type": "execute_result",
          "execution_count": 10,
          "data": {
            "text/plain": "{'runId': 'AutoML_a5550912-ff01-4234-a43b-4f360b456122',\n 'target': 'automl-compute',\n 'status': 'Completed',\n 'startTimeUtc': '2021-04-19T20:18:48.861984Z',\n 'endTimeUtc': '2021-04-19T20:38:32.857733Z',\n 'properties': {'num_iterations': '1000',\n  'training_type': 'TrainFull',\n  'acquisition_function': 'EI',\n  'primary_metric': 'accuracy',\n  'train_split': '0',\n  'acquisition_parameter': '0',\n  'num_cross_validation': '5',\n  'target': 'automl-compute',\n  'AMLSettingsJsonString': '{\"path\":null,\"name\":\"AutoMLversion\",\"subscription_id\":\"6971f5ac-8af1-446e-8034-05acea24681f\",\"resource_group\":\"aml-quickstarts-143185\",\"workspace_name\":\"quick-starts-ws-143185\",\"region\":\"southcentralus\",\"compute_target\":\"automl-compute\",\"spark_service\":null,\"azure_service\":\"remote\",\"many_models\":false,\"pipeline_fetch_max_batch_size\":1,\"enable_batch_run\":false,\"enable_run_restructure\":false,\"iterations\":1000,\"primary_metric\":\"accuracy\",\"task_type\":\"classification\",\"data_script\":null,\"test_size\":0.0,\"validation_size\":0.0,\"n_cross_validations\":5,\"y_min\":null,\"y_max\":null,\"num_classes\":null,\"featurization\":\"auto\",\"_ignore_package_version_incompatibilities\":false,\"is_timeseries\":false,\"max_cores_per_iteration\":1,\"max_concurrent_iterations\":5,\"iteration_timeout_minutes\":null,\"mem_in_mb\":null,\"enforce_time_on_windows\":false,\"experiment_timeout_minutes\":30,\"experiment_exit_score\":null,\"whitelist_models\":null,\"blacklist_algos\":[\"TensorFlowLinearClassifier\",\"TensorFlowDNN\"],\"supported_models\":[\"LinearSVM\",\"KNN\",\"GradientBoosting\",\"TensorFlowLinearClassifier\",\"ExtremeRandomTrees\",\"SVM\",\"RandomForest\",\"BernoulliNaiveBayes\",\"MultinomialNaiveBayes\",\"LightGBM\",\"AveragedPerceptronClassifier\",\"LogisticRegression\",\"TensorFlowDNN\",\"XGBoostClassifier\",\"DecisionTree\",\"SGD\"],\"private_models\":[],\"auto_blacklist\":true,\"blacklist_samples_reached\":false,\"exclude_nan_labels\":true,\"verbosity\":20,\"_debug_log\":\"azureml_automl.log\",\"show_warnings\":false,\"model_explainability\":true,\"service_url\":null,\"sdk_url\":null,\"sdk_packages\":null,\"enable_onnx_compatible_models\":false,\"enable_split_onnx_featurizer_estimator_models\":false,\"vm_type\":\"STANDARD_D2_V2\",\"telemetry_verbosity\":20,\"send_telemetry\":true,\"enable_dnn\":false,\"scenario\":\"SDK-1.13.0\",\"environment_label\":null,\"save_mlflow\":false,\"force_text_dnn\":false,\"enable_feature_sweeping\":true,\"enable_early_stopping\":true,\"early_stopping_n_iters\":10,\"metrics\":null,\"enable_metric_confidence\":false,\"enable_ensembling\":true,\"enable_stack_ensembling\":true,\"ensemble_iterations\":15,\"enable_tf\":false,\"enable_subsampling\":null,\"subsample_seed\":null,\"enable_nimbusml\":false,\"enable_streaming\":false,\"force_streaming\":false,\"track_child_runs\":true,\"allowed_private_models\":[],\"label_column_name\":\"diagnosis\",\"weight_column_name\":null,\"cv_split_column_names\":null,\"enable_local_managed\":false,\"_local_managed_run_id\":null,\"cost_mode\":1,\"lag_length\":0,\"metric_operation\":\"maximize\",\"preprocess\":true}',\n  'DataPrepJsonString': '{\\\\\"training_data\\\\\": {\\\\\"datasetId\\\\\": \\\\\"9faa8d2c-1370-4937-b024-2f1a7ab0fcd5\\\\\"}, \\\\\"datasets\\\\\": 0}',\n  'EnableSubsampling': None,\n  'runTemplate': 'AutoML',\n  'azureml.runsource': 'automl',\n  'display_task_type': 'classification',\n  'dependencies_versions': '{\"azureml-widgets\": \"1.26.0\", \"azureml-train\": \"1.26.0\", \"azureml-train-restclients-hyperdrive\": \"1.26.0\", \"azureml-train-core\": \"1.26.0\", \"azureml-train-automl\": \"1.26.0\", \"azureml-train-automl-runtime\": \"1.26.0\", \"azureml-train-automl-client\": \"1.26.0\", \"azureml-tensorboard\": \"1.26.0\", \"azureml-telemetry\": \"1.26.0\", \"azureml-sdk\": \"1.26.0\", \"azureml-samples\": \"0+unknown\", \"azureml-pipeline\": \"1.26.0\", \"azureml-pipeline-steps\": \"1.26.0\", \"azureml-pipeline-core\": \"1.26.0\", \"azureml-opendatasets\": \"1.26.0\", \"azureml-model-management-sdk\": \"1.0.1b6.post1\", \"azureml-mlflow\": \"1.26.0\", \"azureml-interpret\": \"1.26.0\", \"azureml-explain-model\": \"1.26.0\", \"azureml-defaults\": \"1.26.0\", \"azureml-dataset-runtime\": \"1.26.0\", \"azureml-dataprep\": \"2.13.2\", \"azureml-dataprep-rslex\": \"1.11.2\", \"azureml-dataprep-native\": \"32.0.0\", \"azureml-datadrift\": \"1.26.0\", \"azureml-core\": \"1.26.0\", \"azureml-contrib-services\": \"1.26.0\", \"azureml-contrib-server\": \"1.26.0\", \"azureml-contrib-reinforcementlearning\": \"1.26.0\", \"azureml-contrib-pipeline-steps\": \"1.26.0\", \"azureml-contrib-notebook\": \"1.26.0\", \"azureml-contrib-gbdt\": \"1.26.0\", \"azureml-contrib-fairness\": \"1.26.0\", \"azureml-contrib-dataset\": \"1.26.0\", \"azureml-cli-common\": \"1.26.0\", \"azureml-automl-runtime\": \"1.26.0\", \"azureml-automl-dnn-nlp\": \"1.26.0\", \"azureml-automl-core\": \"1.26.0\", \"azureml-accel-models\": \"1.26.0\"}',\n  '_aml_system_scenario_identification': 'Remote.Parent',\n  'ClientType': 'SDK',\n  'environment_cpu_name': 'AzureML-AutoML',\n  'environment_cpu_label': 'prod',\n  'environment_gpu_name': 'AzureML-AutoML-GPU',\n  'environment_gpu_label': 'prod',\n  'root_attribution': 'automl',\n  'attribution': 'AutoML',\n  'Orchestrator': 'AutoML',\n  'CancelUri': 'https://southcentralus.experiments.azureml.net/jasmine/v1.0/subscriptions/6971f5ac-8af1-446e-8034-05acea24681f/resourceGroups/aml-quickstarts-143185/providers/Microsoft.MachineLearningServices/workspaces/quick-starts-ws-143185/experimentids/57af3b3f-6365-4634-932a-b9585e269c44/cancel/AutoML_a5550912-ff01-4234-a43b-4f360b456122',\n  'ClientSdkVersion': '1.26.0',\n  'snapshotId': '00000000-0000-0000-0000-000000000000',\n  'SetupRunId': 'AutoML_a5550912-ff01-4234-a43b-4f360b456122_setup',\n  'SetupRunContainerId': 'dcid.AutoML_a5550912-ff01-4234-a43b-4f360b456122_setup',\n  'FeaturizationRunJsonPath': 'featurizer_container.json',\n  'FeaturizationRunId': 'AutoML_a5550912-ff01-4234-a43b-4f360b456122_featurize',\n  'ProblemInfoJsonString': '{\"dataset_num_categorical\": 0, \"is_sparse\": false, \"subsampling\": false, \"dataset_classes\": 2, \"dataset_features\": 5, \"dataset_samples\": 569, \"single_frequency_class_detected\": false}',\n  'ModelExplainRunId': 'AutoML_a5550912-ff01-4234-a43b-4f360b456122_ModelExplain'},\n 'inputDatasets': [{'dataset': {'id': '9faa8d2c-1370-4937-b024-2f1a7ab0fcd5'}, 'consumptionDetails': {'type': 'RunInput', 'inputName': 'training_data', 'mechanism': 'Direct'}}],\n 'outputDatasets': [],\n 'logFiles': {},\n 'submittedBy': 'ODL_User 143185'}"
          },
          "metadata": {}
        }
      ],
      "execution_count": 10,
      "metadata": {
        "gather": {
          "logged": 1618865375410
        },
        "jupyter": {
          "outputs_hidden": false,
          "source_hidden": false
        },
        "nteract": {
          "transient": {
            "deleting": false
          }
        }
      }
    },
    {
      "cell_type": "markdown",
      "source": [
        "## Best Model\n",
        "\n",
        "TODO: In the cell below, get the best model from the automl experiments and display all the properties of the model.\n",
        "\n"
      ],
      "metadata": {}
    },
    {
      "cell_type": "code",
      "source": [
        "best_run, fitted_model = remote_run.get_output()\n",
        "print(best_run)\n",
        "print(fitted_model)"
      ],
      "outputs": [
        {
          "output_type": "stream",
          "name": "stdout",
          "text": [
            "Run(Experiment: AutoMLversion,\n",
            "Id: AutoML_a5550912-ff01-4234-a43b-4f360b456122_38,\n",
            "Type: azureml.scriptrun,\n",
            "Status: Completed)\n",
            "Pipeline(memory=None,\n",
            "         steps=[('datatransformer',\n",
            "                 DataTransformer(enable_dnn=None, enable_feature_sweeping=None,\n",
            "                                 feature_sweeping_config=None,\n",
            "                                 feature_sweeping_timeout=None,\n",
            "                                 featurization_config=None, force_text_dnn=None,\n",
            "                                 is_cross_validation=None,\n",
            "                                 is_onnx_compatible=None, logger=None,\n",
            "                                 observer=None, task=None, working_dir=None)),\n",
            "                ('prefittedsoftvotingclassifier',...\n",
            "                                                                                               random_state=0,\n",
            "                                                                                               reg_alpha=1.875,\n",
            "                                                                                               reg_lambda=0.10416666666666667,\n",
            "                                                                                               scale_pos_weight=1,\n",
            "                                                                                               seed=None,\n",
            "                                                                                               silent=None,\n",
            "                                                                                               subsample=0.9,\n",
            "                                                                                               tree_method='auto',\n",
            "                                                                                               verbose=-10,\n",
            "                                                                                               verbosity=0))],\n",
            "                                                                     verbose=False))],\n",
            "                                               flatten_transform=None,\n",
            "                                               weights=[0.16666666666666666,\n",
            "                                                        0.16666666666666666,\n",
            "                                                        0.16666666666666666,\n",
            "                                                        0.16666666666666666,\n",
            "                                                        0.16666666666666666,\n",
            "                                                        0.16666666666666666]))],\n",
            "         verbose=False)\n"
          ]
        }
      ],
      "execution_count": 11,
      "metadata": {
        "gather": {
          "logged": 1618865648075
        },
        "jupyter": {
          "outputs_hidden": false,
          "source_hidden": false
        },
        "nteract": {
          "transient": {
            "deleting": false
          }
        }
      }
    },
    {
      "cell_type": "code",
      "source": [
        "#TODO: Save the best model\n",
        "from azureml.core.model import Model\n",
        "best_run.register_model(model_path='outputs/model.pkl', model_name='breastcancer_bestautoml', model_framework=Model.Framework.SCIKITLEARN)\n",
        "model = ws.models['breastcancer_bestautoml']"
      ],
      "outputs": [],
      "execution_count": 12,
      "metadata": {
        "gather": {
          "logged": 1618865751065
        },
        "jupyter": {
          "outputs_hidden": false,
          "source_hidden": false
        },
        "nteract": {
          "transient": {
            "deleting": false
          }
        }
      }
    },
    {
      "cell_type": "code",
      "source": [
        "print(model)"
      ],
      "outputs": [
        {
          "output_type": "stream",
          "name": "stdout",
          "text": [
            "Model(workspace=Workspace.create(name='quick-starts-ws-143185', subscription_id='6971f5ac-8af1-446e-8034-05acea24681f', resource_group='aml-quickstarts-143185'), name=breastcancer_bestautoml, id=breastcancer_bestautoml:1, version=1, tags={}, properties={})\n"
          ]
        }
      ],
      "execution_count": 13,
      "metadata": {
        "gather": {
          "logged": 1618865752986
        }
      }
    },
    {
      "cell_type": "markdown",
      "source": [
        "## Model Deployment\n",
        "\n",
        "Remember you have to deploy only one of the two models you trained.. Perform the steps in the rest of this notebook only if you wish to deploy this model.\n",
        "\n",
        "TODO: In the cell below, register the model, create an inference config and deploy the model as a web service."
      ],
      "metadata": {}
    },
    {
      "cell_type": "code",
      "source": [
        "from azureml.core import Environment\n",
        "best_run.download_file('outputs/conda_env_v_1_0_0.yml','conda_env.yml')\n",
        "myenv = Environment.from_conda_specification(name=\"myenv\", file_path=\"conda_env.yml\")\n",
        "best_run.download_file('outputs/scoring_file_v_1_0_0.py', 'score.py')"
      ],
      "outputs": [],
      "execution_count": 14,
      "metadata": {
        "gather": {
          "logged": 1618866012006
        },
        "jupyter": {
          "outputs_hidden": false,
          "source_hidden": false
        },
        "nteract": {
          "transient": {
            "deleting": false
          }
        }
      }
    },
    {
      "cell_type": "code",
      "source": [
        "from azureml.core.webservice import AciWebservice, Webservice\n",
        "from azureml.core.model import InferenceConfig\n",
        "\n",
        "# Configure the scoring environment\n",
        "inference_config = InferenceConfig(entry_script='score.py',\n",
        "                                   environment=myenv)\n",
        "\n",
        "service_name = 'automl-service'\n",
        "deployment_config = AciWebservice.deploy_configuration(cpu_cores = 1, memory_gb = 1, auth_enabled=True)\n",
        "aci_service = Model.deploy(workspace=ws,\n",
        "                           name= service_name,\n",
        "                           models= [model],\n",
        "                           inference_config= inference_config,\n",
        "                           deployment_config=deployment_config)\n",
        "aci_service.wait_for_deployment(show_output = True)"
      ],
      "outputs": [
        {
          "output_type": "stream",
          "name": "stdout",
          "text": [
            "Tips: You can try get_logs(): https://aka.ms/debugimage#dockerlog or local deployment: https://aka.ms/debugimage#debug-locally to debug if deployment takes longer than 10 minutes.\n",
            "Running\n",
            "2021-04-19 21:00:58+00:00 Creating Container Registry if not exists..\n",
            "2021-04-19 21:01:25+00:00 Registering the environment.\n",
            "2021-04-19 21:01:27+00:00 Building image..\n",
            "2021-04-19 21:17:23+00:00 Generating deployment configuration.\n",
            "2021-04-19 21:17:25+00:00 Submitting deployment to compute..\n",
            "2021-04-19 21:17:34+00:00 Checking the status of deployment automl-service..\n",
            "2021-04-19 21:22:07+00:00 Checking the status of inference endpoint automl-service.\n",
            "Succeeded\n",
            "ACI service creation operation finished, operation \"Succeeded\"\n"
          ]
        }
      ],
      "execution_count": 15,
      "metadata": {
        "gather": {
          "logged": 1618867332298
        }
      }
    },
    {
      "cell_type": "code",
      "source": [
        "print(aci_service.state)"
      ],
      "outputs": [
        {
          "output_type": "stream",
          "name": "stdout",
          "text": [
            "Healthy\n"
          ]
        }
      ],
      "execution_count": 16,
      "metadata": {
        "gather": {
          "logged": 1618867410749
        }
      }
    },
    {
      "cell_type": "code",
      "source": [
        "# Enable AppInsights\n",
        "aci_service.update(enable_app_insights=True)\n",
        "print('AppInsights enabled!')"
      ],
      "outputs": [
        {
          "output_type": "stream",
          "name": "stdout",
          "text": [
            "AppInsights enabled!\n"
          ]
        }
      ],
      "execution_count": 17,
      "metadata": {
        "gather": {
          "logged": 1618867414952
        }
      }
    },
    {
      "cell_type": "markdown",
      "source": [
        "TODO: In the cell below, send a request to the web service you deployed to test it."
      ],
      "metadata": {
        "collapsed": true,
        "gather": {
          "logged": 1598431657736
        },
        "jupyter": {
          "outputs_hidden": false,
          "source_hidden": false
        },
        "nteract": {
          "transient": {
            "deleting": false
          }
        }
      }
    },
    {
      "cell_type": "code",
      "source": [
        "endpoint = aci_service.scoring_uri\n",
        "primary, secondary = aci_service.get_keys()\n",
        "print(primary)\n",
        "print(endpoint)"
      ],
      "outputs": [
        {
          "output_type": "stream",
          "name": "stdout",
          "text": [
            "DGElI2iWjrG5ucSqnJUcwqBvZxq4BoTW\n",
            "http://02c760bb-9f7b-4c00-85fb-a94ad0030cc3.southcentralus.azurecontainer.io/score\n"
          ]
        }
      ],
      "execution_count": 18,
      "metadata": {
        "gather": {
          "logged": 1618867562459
        },
        "jupyter": {
          "outputs_hidden": false,
          "source_hidden": false
        },
        "nteract": {
          "transient": {
            "deleting": false
          }
        }
      }
    },
    {
      "cell_type": "code",
      "source": [
        "!python endpoint.py"
      ],
      "outputs": [
        {
          "output_type": "stream",
          "name": "stdout",
          "text": [
            "{\"result\": [1, 0]}\r\n"
          ]
        }
      ],
      "execution_count": 19,
      "metadata": {}
    },
    {
      "cell_type": "markdown",
      "source": [
        "TODO: In the cell below, print the logs of the web service and delete the service"
      ],
      "metadata": {
        "collapsed": true,
        "gather": {
          "logged": 1598432765711
        },
        "jupyter": {
          "outputs_hidden": false,
          "source_hidden": false
        },
        "nteract": {
          "transient": {
            "deleting": false
          }
        }
      }
    },
    {
      "cell_type": "code",
      "source": [
        "aci_service.delete()\n",
        "print('Service deleted.')"
      ],
      "outputs": [
        {
          "output_type": "stream",
          "name": "stdout",
          "text": [
            "Service deleted.\n"
          ]
        }
      ],
      "execution_count": 20,
      "metadata": {
        "jupyter": {
          "outputs_hidden": false,
          "source_hidden": false
        },
        "nteract": {
          "transient": {
            "deleting": false
          }
        },
        "gather": {
          "logged": 1618868188764
        }
      }
    },
    {
      "cell_type": "code",
      "source": [],
      "outputs": [],
      "execution_count": null,
      "metadata": {}
    }
  ],
  "metadata": {
    "kernel_info": {
      "name": "python3"
    },
    "kernelspec": {
      "name": "python3",
      "language": "python",
      "display_name": "Python 3"
    },
    "language_info": {
      "name": "python",
      "version": "3.6.9",
      "mimetype": "text/x-python",
      "codemirror_mode": {
        "name": "ipython",
        "version": 3
      },
      "pygments_lexer": "ipython3",
      "nbconvert_exporter": "python",
      "file_extension": ".py"
    },
    "nteract": {
      "version": "nteract-front-end@1.0.0"
    },
    "microsoft": {
      "host": {
        "AzureML": {
          "notebookHasBeenCompleted": true
        }
      }
    }
  },
  "nbformat": 4,
  "nbformat_minor": 2
}