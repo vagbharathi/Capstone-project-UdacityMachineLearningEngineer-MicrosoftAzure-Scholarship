{
  "cells": [
    {
      "cell_type": "markdown",
      "source": [
        "# Automated ML\n",
        "\n",
        "TODO: Import Dependencies. In the cell below, import all the dependencies that you will need to complete the project."
      ],
      "metadata": {}
    },
    {
      "cell_type": "code",
      "source": [
        "import logging\n",
        "import os\n",
        "import csv\n",
        "\n",
        "from matplotlib import pyplot as plt\n",
        "import numpy as np\n",
        "import pandas as pd\n",
        "from sklearn import datasets\n",
        "import pkg_resources\n",
        "\n",
        "import azureml.core\n",
        "from azureml.core.experiment import Experiment\n",
        "from azureml.core.workspace import Workspace\n",
        "from azureml.train.automl import AutoMLConfig\n",
        "from azureml.core.dataset import Dataset\n",
        "from azureml.core.compute import ComputeTarget, AmlCompute\n",
        "from azureml.data.dataset_factory import TabularDatasetFactory\n",
        "from azureml.core.compute_target import ComputeTargetException\n",
        "\n",
        "# Check core SDK version number\n",
        "print(\"SDK version:\", azureml.core.VERSION)"
      ],
      "outputs": [
        {
          "output_type": "stream",
          "name": "stdout",
          "text": [
            "SDK version: 1.26.0\n"
          ]
        }
      ],
      "execution_count": 1,
      "metadata": {
        "gather": {
          "logged": 1618828187382
        },
        "jupyter": {
          "outputs_hidden": false,
          "source_hidden": false
        },
        "nteract": {
          "transient": {
            "deleting": false
          }
        }
      }
    },
    {
      "cell_type": "markdown",
      "source": [
        "## Dataset\n",
        "\n",
        "### Overview\n",
        "TODO: In this markdown cell, give an overview of the dataset you are using. Also mention the task you will be performing.\n",
        "\n",
        "\n",
        "TODO: Get data. In the cell below, write code to access the data you will be using in this project. Remember that the dataset needs to be external."
      ],
      "metadata": {}
    },
    {
      "cell_type": "code",
      "source": [
        "ws = Workspace.from_config()\n",
        "\n",
        "# choose a name for experiment\n",
        "experiment_name = 'AutoMLversion'\n",
        "\n",
        "experiment=Experiment(ws, experiment_name)"
      ],
      "outputs": [
        {
          "output_type": "stream",
          "name": "stdout",
          "text": [
            "Performing interactive authentication. Please follow the instructions on the terminal.\n",
            "To sign in, use a web browser to open the page https://microsoft.com/devicelogin and enter the code FF6G68NJ6 to authenticate.\n",
            "You have logged in. Now let us find all the subscriptions to which you have access...\n",
            "Interactive authentication successfully completed.\n"
          ]
        }
      ],
      "execution_count": 2,
      "metadata": {
        "gather": {
          "logged": 1618828238120
        },
        "jupyter": {
          "outputs_hidden": false,
          "source_hidden": false
        },
        "nteract": {
          "transient": {
            "deleting": false
          }
        }
      }
    },
    {
      "cell_type": "code",
      "source": [
        "amlcompute_cluster_name = \"automl-compute\"\n",
        "\n",
        "# Verify that cluster does not exist already\n",
        "try:\n",
        "    training_cluster = ComputeTarget(workspace=ws, name=amlcompute_cluster_name)\n",
        "    print('Found existing cluster, use it.')\n",
        "except ComputeTargetException:\n",
        "    compute_config = AmlCompute.provisioning_configuration(vm_size='STANDARD_D2_V2',# for GPU, use \"STANDARD_NC6\"\n",
        "                                                           #vm_priority = 'lowpriority', # optional\n",
        "                                                           max_nodes=6)\n",
        "    training_cluster = ComputeTarget.create(ws, amlcompute_cluster_name, compute_config)\n",
        "\n",
        "training_cluster.wait_for_completion(show_output=True, min_node_count = 1, timeout_in_minutes = 10)\n"
      ],
      "outputs": [
        {
          "output_type": "stream",
          "name": "stdout",
          "text": [
            "Creating....\n",
            "SucceededProvisioning operation finished, operation \"Succeeded\"\n",
            "Succeeded.....................................................................................................................\n",
            "AmlCompute wait for completion finished\n",
            "\n",
            "Wait timeout has been reached\n",
            "Current provisioning state of AmlCompute is \"Succeeded\" and current node count is \"0\"\n"
          ]
        }
      ],
      "execution_count": 3,
      "metadata": {
        "gather": {
          "logged": 1618828869765
        }
      }
    },
    {
      "cell_type": "code",
      "source": [
        "found = False\n",
        "key = \"**Breast Cancer Classification**\"\n",
        "description_text = \"**Breast Cancer Classification Dataset for Capstone Peoject Udacity**\"\n",
        "\n",
        "if key in ws.datasets.keys(): \n",
        "        found = True\n",
        "        dataset = ws.datasets[key] \n",
        "\n",
        "if not found:\n",
        "        # Create AML Dataset and register it into Workspace\n",
        "        example_data = 'https://raw.githubusercontent.com/vagbharathi/Capstone-project-UdacityMachineLearningEngineer-MicrosoftAzure-Scholarship/main/nd00333-capstone-master/starter_file/breast_cancer_data.csv\n",
        "        dataset = Dataset.Tabular.from_delimited_files(example_data)        \n",
        "        #Register Dataset in Workspace\n",
        "        dataset = dataset.register(workspace=ws,\n",
        "                                   name=key,\n",
        "                                   description=description_text)\n",
        "\n",
        "\n",
        "df = dataset.to_pandas_dataframe()\n",
        "df.describe()"
      ],
      "outputs": [
        {
          "output_type": "execute_result",
          "execution_count": 5,
          "data": {
            "text/plain": "       Favorite Color Favorite Music Genre Favorite Beverage  \\\ncount              66                   66                66   \nunique              3                    7                 6   \ntop              Cool                 Rock     Doesn't drink   \nfreq               37                   19                14   \n\n       Favorite Soft Drink Gender  \ncount                   66     66  \nunique                   4      2  \ntop        Coca Cola/Pepsi      M  \nfreq                    32     33  ",
            "text/html": "<div>\n<style scoped>\n    .dataframe tbody tr th:only-of-type {\n        vertical-align: middle;\n    }\n\n    .dataframe tbody tr th {\n        vertical-align: top;\n    }\n\n    .dataframe thead th {\n        text-align: right;\n    }\n</style>\n<table border=\"1\" class=\"dataframe\">\n  <thead>\n    <tr style=\"text-align: right;\">\n      <th></th>\n      <th>Favorite Color</th>\n      <th>Favorite Music Genre</th>\n      <th>Favorite Beverage</th>\n      <th>Favorite Soft Drink</th>\n      <th>Gender</th>\n    </tr>\n  </thead>\n  <tbody>\n    <tr>\n      <th>count</th>\n      <td>66</td>\n      <td>66</td>\n      <td>66</td>\n      <td>66</td>\n      <td>66</td>\n    </tr>\n    <tr>\n      <th>unique</th>\n      <td>3</td>\n      <td>7</td>\n      <td>6</td>\n      <td>4</td>\n      <td>2</td>\n    </tr>\n    <tr>\n      <th>top</th>\n      <td>Cool</td>\n      <td>Rock</td>\n      <td>Doesn't drink</td>\n      <td>Coca Cola/Pepsi</td>\n      <td>M</td>\n    </tr>\n    <tr>\n      <th>freq</th>\n      <td>37</td>\n      <td>19</td>\n      <td>14</td>\n      <td>32</td>\n      <td>33</td>\n    </tr>\n  </tbody>\n</table>\n</div>"
          },
          "metadata": {}
        }
      ],
      "execution_count": 5,
      "metadata": {
        "gather": {
          "logged": 1618829016755
        }
      }
    },
    {
      "cell_type": "code",
      "source": [
        "dataset.take(5).to_pandas_dataframe()"
      ],
      "outputs": [
        {
          "output_type": "execute_result",
          "execution_count": 6,
          "data": {
            "text/plain": "  Favorite Color Favorite Music Genre Favorite Beverage Favorite Soft Drink  \\\n0           Cool                 Rock             Vodka          7UP/Sprite   \n1        Neutral              Hip hop             Vodka     Coca Cola/Pepsi   \n2           Warm                 Rock              Wine     Coca Cola/Pepsi   \n3           Warm     Folk/Traditional           Whiskey               Fanta   \n4           Cool                 Rock             Vodka     Coca Cola/Pepsi   \n\n  Gender  \n0      F  \n1      F  \n2      F  \n3      F  \n4      F  ",
            "text/html": "<div>\n<style scoped>\n    .dataframe tbody tr th:only-of-type {\n        vertical-align: middle;\n    }\n\n    .dataframe tbody tr th {\n        vertical-align: top;\n    }\n\n    .dataframe thead th {\n        text-align: right;\n    }\n</style>\n<table border=\"1\" class=\"dataframe\">\n  <thead>\n    <tr style=\"text-align: right;\">\n      <th></th>\n      <th>Favorite Color</th>\n      <th>Favorite Music Genre</th>\n      <th>Favorite Beverage</th>\n      <th>Favorite Soft Drink</th>\n      <th>Gender</th>\n    </tr>\n  </thead>\n  <tbody>\n    <tr>\n      <th>0</th>\n      <td>Cool</td>\n      <td>Rock</td>\n      <td>Vodka</td>\n      <td>7UP/Sprite</td>\n      <td>F</td>\n    </tr>\n    <tr>\n      <th>1</th>\n      <td>Neutral</td>\n      <td>Hip hop</td>\n      <td>Vodka</td>\n      <td>Coca Cola/Pepsi</td>\n      <td>F</td>\n    </tr>\n    <tr>\n      <th>2</th>\n      <td>Warm</td>\n      <td>Rock</td>\n      <td>Wine</td>\n      <td>Coca Cola/Pepsi</td>\n      <td>F</td>\n    </tr>\n    <tr>\n      <th>3</th>\n      <td>Warm</td>\n      <td>Folk/Traditional</td>\n      <td>Whiskey</td>\n      <td>Fanta</td>\n      <td>F</td>\n    </tr>\n    <tr>\n      <th>4</th>\n      <td>Cool</td>\n      <td>Rock</td>\n      <td>Vodka</td>\n      <td>Coca Cola/Pepsi</td>\n      <td>F</td>\n    </tr>\n  </tbody>\n</table>\n</div>"
          },
          "metadata": {}
        }
      ],
      "execution_count": 6,
      "metadata": {
        "gather": {
          "logged": 1618829030995
        }
      }
    },
    {
      "cell_type": "code",
      "source": [
        "# Split data into train and test sets\n",
        "train, test = dataset.random_split(percentage=0.75, seed=121)"
      ],
      "outputs": [],
      "execution_count": null,
      "metadata": {}
    },
    {
      "cell_type": "markdown",
      "source": [
        "## AutoML Configuration\n",
        "\n",
        "TODO: Explain why you chose the automl settings and cofiguration you used below."
      ],
      "metadata": {}
    },
    {
      "cell_type": "code",
      "source": [
        "# TODO: Put your automl settings here\n",
        "automl_settings = {\n",
        "    \"experiment_timeout_minutes\": 30,\n",
        "    \"max_concurrent_iterations\": 5,\n",
        "    \"primary_metric\" : 'accuracy'\n",
        "}\n",
        "\n",
        "# TODO: Put your automl config here\n",
        "automl_config = AutoMLConfig(compute_target=training_cluster,\n",
        "                             task = \"classification\",\n",
        "                             training_data=dataset,\n",
        "                             label_column_name=\"Gender\",   \n",
        "                             enable_early_stopping= True,\n",
        "                             n_cross_validations=5,\n",
        "                             featurization= 'auto',\n",
        "                             debug_log = \"automl_errors.log\",\n",
        "                             **automl_settings)"
      ],
      "outputs": [],
      "execution_count": 7,
      "metadata": {
        "gather": {
          "logged": 1618829041171
        },
        "jupyter": {
          "outputs_hidden": false,
          "source_hidden": false
        },
        "nteract": {
          "transient": {
            "deleting": false
          }
        }
      }
    },
    {
      "cell_type": "code",
      "source": [
        "# TODO: Submit your experiment\n",
        "remote_run = experiment.submit(automl_config)"
      ],
      "outputs": [
        {
          "output_type": "stream",
          "name": "stdout",
          "text": [
            "Submitting remote run.\n"
          ]
        },
        {
          "output_type": "display_data",
          "data": {
            "text/plain": "<IPython.core.display.HTML object>",
            "text/html": "<table style=\"width:100%\"><tr><th>Experiment</th><th>Id</th><th>Type</th><th>Status</th><th>Details Page</th><th>Docs Page</th></tr><tr><td>AutoMLversion</td><td>AutoML_dc2020ee-9a83-4286-abbe-67cae4d0bb33</td><td>automl</td><td>NotStarted</td><td><a href=\"https://ml.azure.com/runs/AutoML_dc2020ee-9a83-4286-abbe-67cae4d0bb33?wsid=/subscriptions/610d6e37-4747-4a20-80eb-3aad70a55f43/resourcegroups/aml-quickstarts-143135/workspaces/quick-starts-ws-143135&amp;tid=660b3398-b80e-49d2-bc5b-ac1dc93b5254\" target=\"_blank\" rel=\"noopener\">Link to Azure Machine Learning studio</a></td><td><a href=\"https://docs.microsoft.com/en-us/python/api/overview/azure/ml/intro?view=azure-ml-py\" target=\"_blank\" rel=\"noopener\">Link to Documentation</a></td></tr></table>"
          },
          "metadata": {}
        }
      ],
      "execution_count": 8,
      "metadata": {
        "gather": {
          "logged": 1618829052065
        },
        "jupyter": {
          "outputs_hidden": false,
          "source_hidden": false
        },
        "nteract": {
          "transient": {
            "deleting": false
          }
        }
      }
    },
    {
      "cell_type": "markdown",
      "source": [
        "## Run Details\n",
        "\n",
        "OPTIONAL: Write about the different models trained and their performance. Why do you think some models did better than others?\n",
        "\n",
        "TODO: In the cell below, use the `RunDetails` widget to show the different experiments."
      ],
      "metadata": {}
    },
    {
      "cell_type": "code",
      "source": [
        "from azureml.widgets import RunDetails\n",
        "RunDetails(remote_run).show()\n",
        "remote_run.wait_for_completion(show_output=True)"
      ],
      "outputs": [
        {
          "output_type": "display_data",
          "data": {
            "text/plain": "_AutoMLWidget(widget_settings={'childWidgetDisplay': 'popup', 'send_telemetry': False, 'log_level': 'INFO', 's…",
            "application/vnd.jupyter.widget-view+json": {
              "version_major": 2,
              "version_minor": 0,
              "model_id": "45afcb7819c944eab241a6f769ea16d2"
            }
          },
          "metadata": {}
        },
        {
          "output_type": "display_data",
          "data": {
            "application/aml.mini.widget.v1": "{\"status\": \"Completed\", \"workbench_run_details_uri\": \"https://ml.azure.com/runs/AutoML_dc2020ee-9a83-4286-abbe-67cae4d0bb33?wsid=/subscriptions/610d6e37-4747-4a20-80eb-3aad70a55f43/resourcegroups/aml-quickstarts-143135/workspaces/quick-starts-ws-143135&tid=660b3398-b80e-49d2-bc5b-ac1dc93b5254\", \"run_id\": \"AutoML_dc2020ee-9a83-4286-abbe-67cae4d0bb33\", \"run_properties\": {\"run_id\": \"AutoML_dc2020ee-9a83-4286-abbe-67cae4d0bb33\", \"created_utc\": \"2021-04-19T10:44:10.462865Z\", \"properties\": {\"num_iterations\": \"1000\", \"training_type\": \"TrainFull\", \"acquisition_function\": \"EI\", \"primary_metric\": \"accuracy\", \"train_split\": \"0\", \"acquisition_parameter\": \"0\", \"num_cross_validation\": \"5\", \"target\": \"automl-compute\", \"AMLSettingsJsonString\": \"{\\\"path\\\":null,\\\"name\\\":\\\"AutoMLversion\\\",\\\"subscription_id\\\":\\\"610d6e37-4747-4a20-80eb-3aad70a55f43\\\",\\\"resource_group\\\":\\\"aml-quickstarts-143135\\\",\\\"workspace_name\\\":\\\"quick-starts-ws-143135\\\",\\\"region\\\":\\\"southcentralus\\\",\\\"compute_target\\\":\\\"automl-compute\\\",\\\"spark_service\\\":null,\\\"azure_service\\\":\\\"remote\\\",\\\"many_models\\\":false,\\\"pipeline_fetch_max_batch_size\\\":1,\\\"enable_batch_run\\\":false,\\\"enable_run_restructure\\\":false,\\\"iterations\\\":1000,\\\"primary_metric\\\":\\\"accuracy\\\",\\\"task_type\\\":\\\"classification\\\",\\\"data_script\\\":null,\\\"test_size\\\":0.0,\\\"validation_size\\\":0.0,\\\"n_cross_validations\\\":5,\\\"y_min\\\":null,\\\"y_max\\\":null,\\\"num_classes\\\":null,\\\"featurization\\\":\\\"auto\\\",\\\"_ignore_package_version_incompatibilities\\\":false,\\\"is_timeseries\\\":false,\\\"max_cores_per_iteration\\\":1,\\\"max_concurrent_iterations\\\":5,\\\"iteration_timeout_minutes\\\":null,\\\"mem_in_mb\\\":null,\\\"enforce_time_on_windows\\\":false,\\\"experiment_timeout_minutes\\\":30,\\\"experiment_exit_score\\\":null,\\\"whitelist_models\\\":null,\\\"blacklist_algos\\\":[\\\"TensorFlowLinearClassifier\\\",\\\"TensorFlowDNN\\\"],\\\"supported_models\\\":[\\\"GradientBoosting\\\",\\\"ExtremeRandomTrees\\\",\\\"KNN\\\",\\\"MultinomialNaiveBayes\\\",\\\"LightGBM\\\",\\\"TensorFlowLinearClassifier\\\",\\\"SGD\\\",\\\"SVM\\\",\\\"DecisionTree\\\",\\\"RandomForest\\\",\\\"LogisticRegression\\\",\\\"TensorFlowDNN\\\",\\\"XGBoostClassifier\\\",\\\"BernoulliNaiveBayes\\\",\\\"LinearSVM\\\",\\\"AveragedPerceptronClassifier\\\"],\\\"private_models\\\":[],\\\"auto_blacklist\\\":true,\\\"blacklist_samples_reached\\\":false,\\\"exclude_nan_labels\\\":true,\\\"verbosity\\\":20,\\\"_debug_log\\\":\\\"azureml_automl.log\\\",\\\"show_warnings\\\":false,\\\"model_explainability\\\":true,\\\"service_url\\\":null,\\\"sdk_url\\\":null,\\\"sdk_packages\\\":null,\\\"enable_onnx_compatible_models\\\":false,\\\"enable_split_onnx_featurizer_estimator_models\\\":false,\\\"vm_type\\\":\\\"STANDARD_D2_V2\\\",\\\"telemetry_verbosity\\\":20,\\\"send_telemetry\\\":true,\\\"enable_dnn\\\":false,\\\"scenario\\\":\\\"SDK-1.13.0\\\",\\\"environment_label\\\":null,\\\"save_mlflow\\\":false,\\\"force_text_dnn\\\":false,\\\"enable_feature_sweeping\\\":true,\\\"enable_early_stopping\\\":true,\\\"early_stopping_n_iters\\\":10,\\\"metrics\\\":null,\\\"enable_metric_confidence\\\":false,\\\"enable_ensembling\\\":true,\\\"enable_stack_ensembling\\\":true,\\\"ensemble_iterations\\\":15,\\\"enable_tf\\\":false,\\\"enable_subsampling\\\":null,\\\"subsample_seed\\\":null,\\\"enable_nimbusml\\\":false,\\\"enable_streaming\\\":false,\\\"force_streaming\\\":false,\\\"track_child_runs\\\":true,\\\"allowed_private_models\\\":[],\\\"label_column_name\\\":\\\"Gender\\\",\\\"weight_column_name\\\":null,\\\"cv_split_column_names\\\":null,\\\"enable_local_managed\\\":false,\\\"_local_managed_run_id\\\":null,\\\"cost_mode\\\":1,\\\"lag_length\\\":0,\\\"metric_operation\\\":\\\"maximize\\\",\\\"preprocess\\\":true}\", \"DataPrepJsonString\": \"{\\\\\\\"training_data\\\\\\\": {\\\\\\\"datasetId\\\\\\\": \\\\\\\"79cd9fdd-77db-46b6-bfad-6d9aa56decee\\\\\\\"}, \\\\\\\"datasets\\\\\\\": 0}\", \"EnableSubsampling\": null, \"runTemplate\": \"AutoML\", \"azureml.runsource\": \"automl\", \"display_task_type\": \"classification\", \"dependencies_versions\": \"{\\\"azureml-widgets\\\": \\\"1.26.0\\\", \\\"azureml-train\\\": \\\"1.26.0\\\", \\\"azureml-train-restclients-hyperdrive\\\": \\\"1.26.0\\\", \\\"azureml-train-core\\\": \\\"1.26.0\\\", \\\"azureml-train-automl\\\": \\\"1.26.0\\\", \\\"azureml-train-automl-runtime\\\": \\\"1.26.0\\\", \\\"azureml-train-automl-client\\\": \\\"1.26.0\\\", \\\"azureml-tensorboard\\\": \\\"1.26.0\\\", \\\"azureml-telemetry\\\": \\\"1.26.0\\\", \\\"azureml-sdk\\\": \\\"1.26.0\\\", \\\"azureml-samples\\\": \\\"0+unknown\\\", \\\"azureml-pipeline\\\": \\\"1.26.0\\\", \\\"azureml-pipeline-steps\\\": \\\"1.26.0\\\", \\\"azureml-pipeline-core\\\": \\\"1.26.0\\\", \\\"azureml-opendatasets\\\": \\\"1.26.0\\\", \\\"azureml-model-management-sdk\\\": \\\"1.0.1b6.post1\\\", \\\"azureml-mlflow\\\": \\\"1.26.0\\\", \\\"azureml-interpret\\\": \\\"1.26.0\\\", \\\"azureml-explain-model\\\": \\\"1.26.0\\\", \\\"azureml-defaults\\\": \\\"1.26.0\\\", \\\"azureml-dataset-runtime\\\": \\\"1.26.0\\\", \\\"azureml-dataprep\\\": \\\"2.13.2\\\", \\\"azureml-dataprep-rslex\\\": \\\"1.11.2\\\", \\\"azureml-dataprep-native\\\": \\\"32.0.0\\\", \\\"azureml-datadrift\\\": \\\"1.26.0\\\", \\\"azureml-core\\\": \\\"1.26.0\\\", \\\"azureml-contrib-services\\\": \\\"1.26.0\\\", \\\"azureml-contrib-server\\\": \\\"1.26.0\\\", \\\"azureml-contrib-reinforcementlearning\\\": \\\"1.26.0\\\", \\\"azureml-contrib-pipeline-steps\\\": \\\"1.26.0\\\", \\\"azureml-contrib-notebook\\\": \\\"1.26.0\\\", \\\"azureml-contrib-gbdt\\\": \\\"1.26.0\\\", \\\"azureml-contrib-fairness\\\": \\\"1.26.0\\\", \\\"azureml-contrib-dataset\\\": \\\"1.26.0\\\", \\\"azureml-cli-common\\\": \\\"1.26.0\\\", \\\"azureml-automl-runtime\\\": \\\"1.26.0\\\", \\\"azureml-automl-dnn-nlp\\\": \\\"1.26.0\\\", \\\"azureml-automl-core\\\": \\\"1.26.0\\\", \\\"azureml-accel-models\\\": \\\"1.26.0\\\"}\", \"_aml_system_scenario_identification\": \"Remote.Parent\", \"ClientType\": \"SDK\", \"environment_cpu_name\": \"AzureML-AutoML\", \"environment_cpu_label\": \"prod\", \"environment_gpu_name\": \"AzureML-AutoML-GPU\", \"environment_gpu_label\": \"prod\", \"root_attribution\": \"automl\", \"attribution\": \"AutoML\", \"Orchestrator\": \"AutoML\", \"CancelUri\": \"https://southcentralus.experiments.azureml.net/jasmine/v1.0/subscriptions/610d6e37-4747-4a20-80eb-3aad70a55f43/resourceGroups/aml-quickstarts-143135/providers/Microsoft.MachineLearningServices/workspaces/quick-starts-ws-143135/experimentids/0b6de9e8-3ca2-415b-b539-b2ef2fb7833c/cancel/AutoML_dc2020ee-9a83-4286-abbe-67cae4d0bb33\", \"ClientSdkVersion\": \"1.26.0\", \"snapshotId\": \"00000000-0000-0000-0000-000000000000\", \"SetupRunId\": \"AutoML_dc2020ee-9a83-4286-abbe-67cae4d0bb33_setup\", \"SetupRunContainerId\": \"dcid.AutoML_dc2020ee-9a83-4286-abbe-67cae4d0bb33_setup\", \"FeaturizationRunJsonPath\": \"featurizer_container.json\", \"FeaturizationRunId\": \"AutoML_dc2020ee-9a83-4286-abbe-67cae4d0bb33_featurize\", \"ProblemInfoJsonString\": \"{\\\"dataset_num_categorical\\\": 0, \\\"is_sparse\\\": true, \\\"subsampling\\\": false, \\\"dataset_classes\\\": 2, \\\"dataset_features\\\": 15, \\\"dataset_samples\\\": 66, \\\"single_frequency_class_detected\\\": false}\", \"ModelExplainRunId\": \"AutoML_dc2020ee-9a83-4286-abbe-67cae4d0bb33_ModelExplain\"}, \"tags\": {\"model_explain_run\": \"best_run\", \"_aml_system_azureml.automlComponent\": \"AutoML\", \"pipeline_id\": \"\", \"score\": \"\", \"predicted_cost\": \"\", \"fit_time\": \"\", \"training_percent\": \"\", \"iteration\": \"\", \"run_preprocessor\": \"\", \"run_algorithm\": \"\", \"dynamic_whitelisting_iterations\": \"<25>;<30>;<35>;<38>;<45>;<50>;\", \"automl_best_child_run_id\": \"AutoML_dc2020ee-9a83-4286-abbe-67cae4d0bb33_53\", \"model_explain_best_run_child_id\": \"AutoML_dc2020ee-9a83-4286-abbe-67cae4d0bb33_53\"}, \"end_time_utc\": \"2021-04-19T11:10:48.899619Z\", \"status\": \"Completed\", \"log_files\": {}, \"log_groups\": [], \"run_duration\": \"0:26:38\", \"run_number\": \"1\", \"run_queued_details\": {\"status\": \"Completed\", \"details\": null}}, \"child_runs\": [{\"run_id\": \"AutoML_dc2020ee-9a83-4286-abbe-67cae4d0bb33_0\", \"run_number\": 5, \"metric\": null, \"status\": \"Completed\", \"run_type\": \"azureml.scriptrun\", \"training_percent\": \"100\", \"start_time\": \"2021-04-19T10:56:50.254924Z\", \"end_time\": \"2021-04-19T11:02:03.510286Z\", \"created_time\": \"2021-04-19T10:54:24.845038Z\", \"created_time_dt\": \"2021-04-19T10:54:24.845038Z\", \"duration\": \"0:07:38\", \"iteration\": \"0\", \"goal\": \"accuracy_max\", \"run_name\": \"MaxAbsScaler, LightGBM\", \"run_properties\": \"copy=True\", \"primary_metric\": 0.33186813, \"best_metric\": 0.33186813}, {\"run_id\": \"AutoML_dc2020ee-9a83-4286-abbe-67cae4d0bb33_2\", \"run_number\": 6, \"metric\": null, \"status\": \"Completed\", \"run_type\": \"azureml.scriptrun\", \"training_percent\": \"100\", \"start_time\": \"2021-04-19T10:55:45.255155Z\", \"end_time\": \"2021-04-19T10:56:36.526217Z\", \"created_time\": \"2021-04-19T10:54:24.924771Z\", \"created_time_dt\": \"2021-04-19T10:54:24.924771Z\", \"duration\": \"0:02:11\", \"iteration\": \"2\", \"goal\": \"accuracy_max\", \"run_name\": \"MaxAbsScaler, RandomForest\", \"run_properties\": \"copy=True\", \"primary_metric\": 0.51538462, \"best_metric\": 0.51538462}, {\"run_id\": \"AutoML_dc2020ee-9a83-4286-abbe-67cae4d0bb33_1\", \"run_number\": 7, \"metric\": null, \"status\": \"Completed\", \"run_type\": \"azureml.scriptrun\", \"training_percent\": \"100\", \"start_time\": \"2021-04-19T10:56:55.85207Z\", \"end_time\": \"2021-04-19T11:00:02.853586Z\", \"created_time\": \"2021-04-19T10:54:24.929006Z\", \"created_time_dt\": \"2021-04-19T10:54:24.929006Z\", \"duration\": \"0:05:37\", \"iteration\": \"1\", \"goal\": \"accuracy_max\", \"run_name\": \"MaxAbsScaler, XGBoostClassifier\", \"run_properties\": \"copy=True\", \"primary_metric\": 0.47142857, \"best_metric\": 0.47142857}, {\"run_id\": \"AutoML_dc2020ee-9a83-4286-abbe-67cae4d0bb33_4\", \"run_number\": 8, \"metric\": null, \"status\": \"Completed\", \"run_type\": \"azureml.scriptrun\", \"training_percent\": \"100\", \"start_time\": \"2021-04-19T10:54:36.259078Z\", \"end_time\": \"2021-04-19T10:55:27.3139Z\", \"created_time\": \"2021-04-19T10:54:24.958682Z\", \"created_time_dt\": \"2021-04-19T10:54:24.958682Z\", \"duration\": \"0:01:02\", \"iteration\": \"4\", \"goal\": \"accuracy_max\", \"run_name\": \"MaxAbsScaler, RandomForest\", \"run_properties\": \"copy=True\", \"primary_metric\": 0.52857143, \"best_metric\": 0.52857143}, {\"run_id\": \"AutoML_dc2020ee-9a83-4286-abbe-67cae4d0bb33_3\", \"run_number\": 9, \"metric\": null, \"status\": \"Completed\", \"run_type\": \"azureml.scriptrun\", \"training_percent\": \"100\", \"start_time\": \"2021-04-19T10:56:50.894828Z\", \"end_time\": \"2021-04-19T10:58:56.213088Z\", \"created_time\": \"2021-04-19T10:54:24.959314Z\", \"created_time_dt\": \"2021-04-19T10:54:24.959314Z\", \"duration\": \"0:04:31\", \"iteration\": \"3\", \"goal\": \"accuracy_max\", \"run_name\": \"MaxAbsScaler, RandomForest\", \"run_properties\": \"copy=True\", \"primary_metric\": 0.45604396, \"best_metric\": 0.51538462}, {\"run_id\": \"AutoML_dc2020ee-9a83-4286-abbe-67cae4d0bb33_5\", \"run_number\": 10, \"metric\": null, \"status\": \"Completed\", \"run_type\": \"azureml.scriptrun\", \"training_percent\": \"100\", \"start_time\": \"2021-04-19T10:56:53.785532Z\", \"end_time\": \"2021-04-19T10:57:45.57216Z\", \"created_time\": \"2021-04-19T10:55:31.850436Z\", \"created_time_dt\": \"2021-04-19T10:55:31.850436Z\", \"duration\": \"0:02:13\", \"iteration\": \"5\", \"goal\": \"accuracy_max\", \"run_name\": \"MaxAbsScaler, RandomForest\", \"run_properties\": \"copy=True\", \"primary_metric\": 0.43956044, \"best_metric\": 0.52857143}, {\"run_id\": \"AutoML_dc2020ee-9a83-4286-abbe-67cae4d0bb33_6\", \"run_number\": 11, \"metric\": null, \"status\": \"Completed\", \"run_type\": \"azureml.scriptrun\", \"training_percent\": \"100\", \"start_time\": \"2021-04-19T10:56:58.835801Z\", \"end_time\": \"2021-04-19T11:02:24.183691Z\", \"created_time\": \"2021-04-19T10:56:39.696618Z\", \"created_time_dt\": \"2021-04-19T10:56:39.696618Z\", \"duration\": \"0:05:44\", \"iteration\": \"6\", \"goal\": \"accuracy_max\", \"run_name\": \"SparseNormalizer, XGBoostClassifier\", \"run_properties\": \"<azureml.automl.runtime.shared.model_wrappers.SparseNormalizer object at 0x7f4932a03e48\", \"primary_metric\": 0.47142857, \"best_metric\": 0.52857143}, {\"run_id\": \"AutoML_dc2020ee-9a83-4286-abbe-67cae4d0bb33_7\", \"run_number\": 12, \"metric\": null, \"status\": \"Completed\", \"run_type\": \"azureml.scriptrun\", \"training_percent\": \"100\", \"start_time\": \"2021-04-19T10:57:58.82365Z\", \"end_time\": \"2021-04-19T10:58:43.70415Z\", \"created_time\": \"2021-04-19T10:57:48.74743Z\", \"created_time_dt\": \"2021-04-19T10:57:48.74743Z\", \"duration\": \"0:00:54\", \"iteration\": \"7\", \"goal\": \"accuracy_max\", \"run_name\": \"SparseNormalizer, XGBoostClassifier\", \"run_properties\": \"<azureml.automl.runtime.shared.model_wrappers.SparseNormalizer object at 0x7fcd0eaa0ba8\", \"primary_metric\": 0.44065934, \"best_metric\": 0.52857143}, {\"run_id\": \"AutoML_dc2020ee-9a83-4286-abbe-67cae4d0bb33_8\", \"run_number\": 13, \"metric\": null, \"status\": \"Completed\", \"run_type\": \"azureml.scriptrun\", \"training_percent\": \"100\", \"start_time\": \"2021-04-19T10:59:00.558871Z\", \"end_time\": \"2021-04-19T10:59:49.846111Z\", \"created_time\": \"2021-04-19T10:58:45.562971Z\", \"created_time_dt\": \"2021-04-19T10:58:45.562971Z\", \"duration\": \"0:01:04\", \"iteration\": \"8\", \"goal\": \"accuracy_max\", \"run_name\": \"MaxAbsScaler, RandomForest\", \"run_properties\": \"copy=True\", \"primary_metric\": 0.44065934, \"best_metric\": 0.52857143}, {\"run_id\": \"AutoML_dc2020ee-9a83-4286-abbe-67cae4d0bb33_9\", \"run_number\": 14, \"metric\": null, \"status\": \"Completed\", \"run_type\": \"azureml.scriptrun\", \"training_percent\": \"100\", \"start_time\": \"2021-04-19T10:59:08.575681Z\", \"end_time\": \"2021-04-19T10:59:54.517653Z\", \"created_time\": \"2021-04-19T10:58:57.954068Z\", \"created_time_dt\": \"2021-04-19T10:58:57.954068Z\", \"duration\": \"0:00:56\", \"iteration\": \"9\", \"goal\": \"accuracy_max\", \"run_name\": \"SparseNormalizer, XGBoostClassifier\", \"run_properties\": \"<azureml.automl.runtime.shared.model_wrappers.SparseNormalizer object at 0x7f3ccd262080\", \"primary_metric\": 0.34725275, \"best_metric\": 0.52857143}, {\"run_id\": \"AutoML_dc2020ee-9a83-4286-abbe-67cae4d0bb33_10\", \"run_number\": 15, \"metric\": null, \"status\": \"Completed\", \"run_type\": \"azureml.scriptrun\", \"training_percent\": \"100\", \"start_time\": \"2021-04-19T11:00:06.33311Z\", \"end_time\": \"2021-04-19T11:00:53.600021Z\", \"created_time\": \"2021-04-19T10:59:51.775164Z\", \"created_time_dt\": \"2021-04-19T10:59:51.775164Z\", \"duration\": \"0:01:01\", \"iteration\": \"10\", \"goal\": \"accuracy_max\", \"run_name\": \"SparseNormalizer, LightGBM\", \"run_properties\": \"<azureml.automl.runtime.shared.model_wrappers.SparseNormalizer object at 0x7f8e8bc667b8\", \"primary_metric\": 0.45604396, \"best_metric\": 0.52857143}, {\"run_id\": \"AutoML_dc2020ee-9a83-4286-abbe-67cae4d0bb33_11\", \"run_number\": 16, \"metric\": null, \"status\": \"Completed\", \"run_type\": \"azureml.scriptrun\", \"training_percent\": \"100\", \"start_time\": \"2021-04-19T11:00:13.219748Z\", \"end_time\": \"2021-04-19T11:00:54.972093Z\", \"created_time\": \"2021-04-19T10:59:56.425189Z\", \"created_time_dt\": \"2021-04-19T10:59:56.425189Z\", \"duration\": \"0:00:58\", \"iteration\": \"11\", \"goal\": \"accuracy_max\", \"run_name\": \"MaxAbsScaler, LogisticRegression\", \"run_properties\": \"copy=True\", \"primary_metric\": 0.41098901, \"best_metric\": 0.52857143}, {\"run_id\": \"AutoML_dc2020ee-9a83-4286-abbe-67cae4d0bb33_12\", \"run_number\": 17, \"metric\": null, \"status\": \"Completed\", \"run_type\": \"azureml.scriptrun\", \"training_percent\": \"100\", \"start_time\": \"2021-04-19T11:00:13.4158Z\", \"end_time\": \"2021-04-19T11:00:55.47328Z\", \"created_time\": \"2021-04-19T11:00:04.455434Z\", \"created_time_dt\": \"2021-04-19T11:00:04.455434Z\", \"duration\": \"0:00:51\", \"iteration\": \"12\", \"goal\": \"accuracy_max\", \"run_name\": \"MaxAbsScaler, LightGBM\", \"run_properties\": \"copy=True\", \"primary_metric\": 0.37802198, \"best_metric\": 0.52857143}, {\"run_id\": \"AutoML_dc2020ee-9a83-4286-abbe-67cae4d0bb33_13\", \"run_number\": 18, \"metric\": null, \"status\": \"Completed\", \"run_type\": \"azureml.scriptrun\", \"training_percent\": \"100\", \"start_time\": \"2021-04-19T11:01:05.917525Z\", \"end_time\": \"2021-04-19T11:02:00.236581Z\", \"created_time\": \"2021-04-19T11:00:55.575032Z\", \"created_time_dt\": \"2021-04-19T11:00:55.575032Z\", \"duration\": \"0:01:04\", \"iteration\": \"13\", \"goal\": \"accuracy_max\", \"run_name\": \"MaxAbsScaler, RandomForest\", \"run_properties\": \"copy=True\", \"primary_metric\": 0.47142857, \"best_metric\": 0.52857143}, {\"run_id\": \"AutoML_dc2020ee-9a83-4286-abbe-67cae4d0bb33_14\", \"run_number\": 19, \"metric\": null, \"status\": \"Completed\", \"run_type\": \"azureml.scriptrun\", \"training_percent\": \"100\", \"start_time\": \"2021-04-19T11:01:08.900256Z\", \"end_time\": \"2021-04-19T11:03:10.075711Z\", \"created_time\": \"2021-04-19T11:00:58.778198Z\", \"created_time_dt\": \"2021-04-19T11:00:58.778198Z\", \"duration\": \"0:02:11\", \"iteration\": \"14\", \"goal\": \"accuracy_max\", \"run_name\": \"SparseNormalizer, XGBoostClassifier\", \"run_properties\": \"<azureml.automl.runtime.shared.model_wrappers.SparseNormalizer object at 0x7f19cdcd7668\", \"primary_metric\": 0.47142857, \"best_metric\": 0.52857143}, {\"run_id\": \"AutoML_dc2020ee-9a83-4286-abbe-67cae4d0bb33_15\", \"run_number\": 20, \"metric\": null, \"status\": \"Completed\", \"run_type\": \"azureml.scriptrun\", \"training_percent\": \"100\", \"start_time\": \"2021-04-19T11:01:09.317035Z\", \"end_time\": \"2021-04-19T11:01:52.856594Z\", \"created_time\": \"2021-04-19T11:00:58.880135Z\", \"created_time_dt\": \"2021-04-19T11:00:58.880135Z\", \"duration\": \"0:00:53\", \"iteration\": \"15\", \"goal\": \"accuracy_max\", \"run_name\": \"SparseNormalizer, XGBoostClassifier\", \"run_properties\": \"<azureml.automl.runtime.shared.model_wrappers.SparseNormalizer object at 0x7fefed0d7908\", \"primary_metric\": 0.45604396, \"best_metric\": 0.52857143}, {\"run_id\": \"AutoML_dc2020ee-9a83-4286-abbe-67cae4d0bb33_16\", \"run_number\": 21, \"metric\": null, \"status\": \"Completed\", \"run_type\": \"azureml.scriptrun\", \"training_percent\": \"100\", \"start_time\": \"2021-04-19T11:02:05.671035Z\", \"end_time\": \"2021-04-19T11:02:47.720221Z\", \"created_time\": \"2021-04-19T11:01:54.895745Z\", \"created_time_dt\": \"2021-04-19T11:01:54.895745Z\", \"duration\": \"0:00:52\", \"iteration\": \"16\", \"goal\": \"accuracy_max\", \"run_name\": \"SparseNormalizer, XGBoostClassifier\", \"run_properties\": \"<azureml.automl.runtime.shared.model_wrappers.SparseNormalizer object at 0x7f0291f862b0\", \"primary_metric\": 0.42527473, \"best_metric\": 0.52857143}, {\"run_id\": \"AutoML_dc2020ee-9a83-4286-abbe-67cae4d0bb33_17\", \"run_number\": 22, \"metric\": null, \"status\": \"Completed\", \"run_type\": \"azureml.scriptrun\", \"training_percent\": \"100\", \"start_time\": \"2021-04-19T11:02:13.942607Z\", \"end_time\": \"2021-04-19T11:02:59.494487Z\", \"created_time\": \"2021-04-19T11:02:02.060921Z\", \"created_time_dt\": \"2021-04-19T11:02:02.060921Z\", \"duration\": \"0:00:57\", \"iteration\": \"17\", \"goal\": \"accuracy_max\", \"run_name\": \"StandardScalerWrapper, XGBoostClassifier\", \"run_properties\": \"<azureml.automl.runtime.shared.model_wrappers.StandardScalerWrapper object at 0x7f268a5bd7f0\", \"primary_metric\": 0.39340659, \"best_metric\": 0.52857143}, {\"run_id\": \"AutoML_dc2020ee-9a83-4286-abbe-67cae4d0bb33_18\", \"run_number\": 23, \"metric\": null, \"status\": \"Completed\", \"run_type\": \"azureml.scriptrun\", \"training_percent\": \"100\", \"start_time\": \"2021-04-19T11:02:18.094195Z\", \"end_time\": \"2021-04-19T11:03:07.441974Z\", \"created_time\": \"2021-04-19T11:02:07.640103Z\", \"created_time_dt\": \"2021-04-19T11:02:07.640103Z\", \"duration\": \"0:00:59\", \"iteration\": \"18\", \"goal\": \"accuracy_max\", \"run_name\": \"StandardScalerWrapper, GradientBoosting\", \"run_properties\": \"<azureml.automl.runtime.shared.model_wrappers.StandardScalerWrapper object at 0x7f6b1adb8400\", \"primary_metric\": 0.34835165, \"best_metric\": 0.52857143}, {\"run_id\": \"AutoML_dc2020ee-9a83-4286-abbe-67cae4d0bb33_19\", \"run_number\": 24, \"metric\": null, \"status\": \"Completed\", \"run_type\": \"azureml.scriptrun\", \"training_percent\": \"100\", \"start_time\": \"2021-04-19T11:02:37.575907Z\", \"end_time\": \"2021-04-19T11:03:26.751626Z\", \"created_time\": \"2021-04-19T11:02:26.378441Z\", \"created_time_dt\": \"2021-04-19T11:02:26.378441Z\", \"duration\": \"0:01:00\", \"iteration\": \"19\", \"goal\": \"accuracy_max\", \"run_name\": \"MaxAbsScaler, ExtremeRandomTrees\", \"run_properties\": \"copy=True\", \"primary_metric\": 0.5, \"best_metric\": 0.52857143}, {\"run_id\": \"AutoML_dc2020ee-9a83-4286-abbe-67cae4d0bb33_20\", \"run_number\": 25, \"metric\": null, \"status\": \"Completed\", \"run_type\": \"azureml.scriptrun\", \"training_percent\": \"100\", \"start_time\": \"2021-04-19T11:03:01.812551Z\", \"end_time\": \"2021-04-19T11:03:51.185192Z\", \"created_time\": \"2021-04-19T11:02:49.437705Z\", \"created_time_dt\": \"2021-04-19T11:02:49.437705Z\", \"duration\": \"0:01:01\", \"iteration\": \"20\", \"goal\": \"accuracy_max\", \"run_name\": \"MaxAbsScaler, LightGBM\", \"run_properties\": \"copy=True\", \"primary_metric\": 0.36373626, \"best_metric\": 0.52857143}, {\"run_id\": \"AutoML_dc2020ee-9a83-4286-abbe-67cae4d0bb33_21\", \"run_number\": 26, \"metric\": null, \"status\": \"Completed\", \"run_type\": \"azureml.scriptrun\", \"training_percent\": \"100\", \"start_time\": \"2021-04-19T11:03:08.870926Z\", \"end_time\": \"2021-04-19T11:03:48.328986Z\", \"created_time\": \"2021-04-19T11:03:01.298307Z\", \"created_time_dt\": \"2021-04-19T11:03:01.298307Z\", \"duration\": \"0:00:47\", \"iteration\": \"21\", \"goal\": \"accuracy_max\", \"run_name\": \"SparseNormalizer, RandomForest\", \"run_properties\": \"<azureml.automl.runtime.shared.model_wrappers.SparseNormalizer object at 0x7f1749f63208\", \"primary_metric\": 0.48571429, \"best_metric\": 0.52857143}, {\"run_id\": \"AutoML_dc2020ee-9a83-4286-abbe-67cae4d0bb33_22\", \"run_number\": 27, \"metric\": null, \"status\": \"Completed\", \"run_type\": \"azureml.scriptrun\", \"training_percent\": \"100\", \"start_time\": \"2021-04-19T11:03:16.62828Z\", \"end_time\": \"2021-04-19T11:04:01.892328Z\", \"created_time\": \"2021-04-19T11:03:09.123978Z\", \"created_time_dt\": \"2021-04-19T11:03:09.123978Z\", \"duration\": \"0:00:52\", \"iteration\": \"22\", \"goal\": \"accuracy_max\", \"run_name\": \"MaxAbsScaler, LightGBM\", \"run_properties\": \"copy=True\", \"primary_metric\": 0.34725275, \"best_metric\": 0.52857143}, {\"run_id\": \"AutoML_dc2020ee-9a83-4286-abbe-67cae4d0bb33_23\", \"run_number\": 28, \"metric\": null, \"status\": \"Completed\", \"run_type\": \"azureml.scriptrun\", \"training_percent\": \"100\", \"start_time\": \"2021-04-19T11:03:23.552095Z\", \"end_time\": \"2021-04-19T11:04:11.907832Z\", \"created_time\": \"2021-04-19T11:03:12.146306Z\", \"created_time_dt\": \"2021-04-19T11:03:12.146306Z\", \"duration\": \"0:00:59\", \"iteration\": \"23\", \"goal\": \"accuracy_max\", \"run_name\": \"SparseNormalizer, XGBoostClassifier\", \"run_properties\": \"<azureml.automl.runtime.shared.model_wrappers.SparseNormalizer object at 0x7f7c0f9a2f60\", \"primary_metric\": 0.39340659, \"best_metric\": 0.52857143}, {\"run_id\": \"AutoML_dc2020ee-9a83-4286-abbe-67cae4d0bb33_24\", \"run_number\": 29, \"metric\": null, \"status\": \"Completed\", \"run_type\": \"azureml.scriptrun\", \"training_percent\": \"100\", \"start_time\": \"2021-04-19T11:03:39.312699Z\", \"end_time\": \"2021-04-19T11:04:27.464332Z\", \"created_time\": \"2021-04-19T11:03:28.523123Z\", \"created_time_dt\": \"2021-04-19T11:03:28.523123Z\", \"duration\": \"0:00:58\", \"iteration\": \"24\", \"goal\": \"accuracy_max\", \"run_name\": \"MaxAbsScaler, ExtremeRandomTrees\", \"run_properties\": \"copy=True\", \"primary_metric\": 0.44065934, \"best_metric\": 0.52857143}, {\"run_id\": \"AutoML_dc2020ee-9a83-4286-abbe-67cae4d0bb33_25\", \"run_number\": 30, \"metric\": null, \"status\": \"Completed\", \"run_type\": \"azureml.scriptrun\", \"training_percent\": \"100\", \"start_time\": \"2021-04-19T11:03:58.675632Z\", \"end_time\": \"2021-04-19T11:04:52.101801Z\", \"created_time\": \"2021-04-19T11:03:50.937363Z\", \"created_time_dt\": \"2021-04-19T11:03:50.937363Z\", \"duration\": \"0:01:01\", \"iteration\": \"25\", \"goal\": \"accuracy_max\", \"run_name\": \"SparseNormalizer, RandomForest\", \"run_properties\": \"<azureml.automl.runtime.shared.model_wrappers.SparseNormalizer object at 0x7fdc46c41780\", \"primary_metric\": 0.33296703, \"best_metric\": 0.52857143}, {\"run_id\": \"AutoML_dc2020ee-9a83-4286-abbe-67cae4d0bb33_26\", \"run_number\": 31, \"metric\": null, \"status\": \"Completed\", \"run_type\": \"azureml.scriptrun\", \"training_percent\": \"100\", \"start_time\": \"2021-04-19T11:04:03.999134Z\", \"end_time\": \"2021-04-19T11:04:43.806815Z\", \"created_time\": \"2021-04-19T11:03:53.931228Z\", \"created_time_dt\": \"2021-04-19T11:03:53.931228Z\", \"duration\": \"0:00:49\", \"iteration\": \"26\", \"goal\": \"accuracy_max\", \"run_name\": \"TruncatedSVDWrapper, XGBoostClassifier\", \"run_properties\": \"n_components=0.3068421052631579, random_state=None\", \"primary_metric\": 0.44175824, \"best_metric\": 0.52857143}, {\"run_id\": \"AutoML_dc2020ee-9a83-4286-abbe-67cae4d0bb33_27\", \"run_number\": 32, \"metric\": null, \"status\": \"Completed\", \"run_type\": \"azureml.scriptrun\", \"training_percent\": \"100\", \"start_time\": \"2021-04-19T11:04:11.334988Z\", \"end_time\": \"2021-04-19T11:04:54.894966Z\", \"created_time\": \"2021-04-19T11:04:03.677588Z\", \"created_time_dt\": \"2021-04-19T11:04:03.677588Z\", \"duration\": \"0:00:51\", \"iteration\": \"27\", \"goal\": \"accuracy_max\", \"run_name\": \"StandardScalerWrapper, XGBoostClassifier\", \"run_properties\": \"<azureml.automl.runtime.shared.model_wrappers.StandardScalerWrapper object at 0x7f68a5326b00\", \"primary_metric\": 0.40879121, \"best_metric\": 0.52857143}, {\"run_id\": \"AutoML_dc2020ee-9a83-4286-abbe-67cae4d0bb33_28\", \"run_number\": 33, \"metric\": null, \"status\": \"Completed\", \"run_type\": \"azureml.scriptrun\", \"training_percent\": \"100\", \"start_time\": \"2021-04-19T11:04:24.865383Z\", \"end_time\": \"2021-04-19T11:05:05.329263Z\", \"created_time\": \"2021-04-19T11:04:13.528504Z\", \"created_time_dt\": \"2021-04-19T11:04:13.528504Z\", \"duration\": \"0:00:51\", \"iteration\": \"28\", \"goal\": \"accuracy_max\", \"run_name\": \"MaxAbsScaler, LightGBM\", \"run_properties\": \"copy=True\", \"primary_metric\": 0.39340659, \"best_metric\": 0.52857143}, {\"run_id\": \"AutoML_dc2020ee-9a83-4286-abbe-67cae4d0bb33_29\", \"run_number\": 34, \"metric\": null, \"status\": \"Completed\", \"run_type\": \"azureml.scriptrun\", \"training_percent\": \"100\", \"start_time\": \"2021-04-19T11:04:38.422675Z\", \"end_time\": \"2021-04-19T11:05:24.184888Z\", \"created_time\": \"2021-04-19T11:04:29.205312Z\", \"created_time_dt\": \"2021-04-19T11:04:29.205312Z\", \"duration\": \"0:00:54\", \"iteration\": \"29\", \"goal\": \"accuracy_max\", \"run_name\": \"MaxAbsScaler, LightGBM\", \"run_properties\": \"copy=True\", \"primary_metric\": 0.37802198, \"best_metric\": 0.52857143}, {\"run_id\": \"AutoML_dc2020ee-9a83-4286-abbe-67cae4d0bb33_30\", \"run_number\": 35, \"metric\": null, \"status\": \"Completed\", \"run_type\": \"azureml.scriptrun\", \"training_percent\": \"100\", \"start_time\": \"2021-04-19T11:04:57.012825Z\", \"end_time\": \"2021-04-19T11:05:45.606055Z\", \"created_time\": \"2021-04-19T11:04:47.105443Z\", \"created_time_dt\": \"2021-04-19T11:04:47.105443Z\", \"duration\": \"0:00:58\", \"iteration\": \"30\", \"goal\": \"accuracy_max\", \"run_name\": \"TruncatedSVDWrapper, RandomForest\", \"run_properties\": \"n_components=0.7521052631578947, random_state=None\", \"primary_metric\": 0.36373626, \"best_metric\": 0.52857143}, {\"run_id\": \"AutoML_dc2020ee-9a83-4286-abbe-67cae4d0bb33_31\", \"run_number\": 36, \"metric\": null, \"status\": \"Completed\", \"run_type\": \"azureml.scriptrun\", \"training_percent\": \"100\", \"start_time\": \"2021-04-19T11:05:01.522888Z\", \"end_time\": \"2021-04-19T11:05:43.366445Z\", \"created_time\": \"2021-04-19T11:04:53.716903Z\", \"created_time_dt\": \"2021-04-19T11:04:53.716903Z\", \"duration\": \"0:00:49\", \"iteration\": \"31\", \"goal\": \"accuracy_max\", \"run_name\": \"MaxAbsScaler, LogisticRegression\", \"run_properties\": \"copy=True\", \"primary_metric\": 0.3956044, \"best_metric\": 0.52857143}, {\"run_id\": \"AutoML_dc2020ee-9a83-4286-abbe-67cae4d0bb33_32\", \"run_number\": 37, \"metric\": null, \"status\": \"Completed\", \"run_type\": \"azureml.scriptrun\", \"training_percent\": \"100\", \"start_time\": \"2021-04-19T11:05:08.329506Z\", \"end_time\": \"2021-04-19T11:05:51.115552Z\", \"created_time\": \"2021-04-19T11:04:56.662875Z\", \"created_time_dt\": \"2021-04-19T11:04:56.662875Z\", \"duration\": \"0:00:54\", \"iteration\": \"32\", \"goal\": \"accuracy_max\", \"run_name\": \"MaxAbsScaler, LogisticRegression\", \"run_properties\": \"copy=True\", \"primary_metric\": 0.3956044, \"best_metric\": 0.52857143}, {\"run_id\": \"AutoML_dc2020ee-9a83-4286-abbe-67cae4d0bb33_33\", \"run_number\": 38, \"metric\": null, \"status\": \"Completed\", \"run_type\": \"azureml.scriptrun\", \"training_percent\": \"100\", \"start_time\": \"2021-04-19T11:05:17.711271Z\", \"end_time\": \"2021-04-19T11:06:03.807949Z\", \"created_time\": \"2021-04-19T11:05:07.115779Z\", \"created_time_dt\": \"2021-04-19T11:05:07.115779Z\", \"duration\": \"0:00:56\", \"iteration\": \"33\", \"goal\": \"accuracy_max\", \"run_name\": \"StandardScalerWrapper, LogisticRegression\", \"run_properties\": \"<azureml.automl.runtime.shared.model_wrappers.StandardScalerWrapper object at 0x7fb628f2df28\", \"primary_metric\": 0.41098901, \"best_metric\": 0.52857143}, {\"run_id\": \"AutoML_dc2020ee-9a83-4286-abbe-67cae4d0bb33_34\", \"run_number\": 39, \"metric\": null, \"status\": \"Canceled\", \"run_type\": \"azureml.scriptrun\", \"training_percent\": \"100\", \"start_time\": \"2021-04-19T11:05:34.27794Z\", \"end_time\": \"2021-04-19T11:06:11.456828Z\", \"created_time\": \"2021-04-19T11:05:25.918373Z\", \"created_time_dt\": \"2021-04-19T11:05:25.918373Z\", \"duration\": \"0:00:45\", \"iteration\": \"34\", \"goal\": \"accuracy_max\", \"run_name\": \"SparseNormalizer, ExtremeRandomTrees\", \"run_properties\": \"<azureml.automl.runtime.shared.model_wrappers.SparseNormalizer object at 0x7f185b312ef0\", \"primary_metric\": 0.56043956, \"best_metric\": 0.56043956}, {\"run_id\": \"AutoML_dc2020ee-9a83-4286-abbe-67cae4d0bb33_35\", \"run_number\": 40, \"metric\": null, \"status\": \"Canceled\", \"run_type\": \"azureml.scriptrun\", \"training_percent\": \"100\", \"start_time\": \"2021-04-19T11:05:58.492641Z\", \"end_time\": \"2021-04-19T11:06:10.973244Z\", \"created_time\": \"2021-04-19T11:05:46.184699Z\", \"created_time_dt\": \"2021-04-19T11:05:46.184699Z\", \"duration\": \"0:00:24\", \"iteration\": \"35\", \"goal\": null, \"run_name\": \"Canceled\", \"run_properties\": null}, {\"run_id\": \"AutoML_dc2020ee-9a83-4286-abbe-67cae4d0bb33_36\", \"run_number\": 41, \"metric\": null, \"status\": \"Canceled\", \"run_type\": \"azureml.scriptrun\", \"training_percent\": \"100\", \"start_time\": \"2021-04-19T11:05:59.959918Z\", \"end_time\": \"2021-04-19T11:06:10.64253Z\", \"created_time\": \"2021-04-19T11:05:49.663289Z\", \"created_time_dt\": \"2021-04-19T11:05:49.663289Z\", \"duration\": \"0:00:20\", \"iteration\": \"36\", \"goal\": null, \"run_name\": \"Canceled\", \"run_properties\": null}, {\"run_id\": \"AutoML_dc2020ee-9a83-4286-abbe-67cae4d0bb33_37\", \"run_number\": 42, \"metric\": null, \"status\": \"Canceled\", \"run_type\": \"azureml.scriptrun\", \"training_percent\": \"100\", \"start_time\": \"2021-04-19T11:06:03.847513Z\", \"end_time\": \"2021-04-19T11:06:10.483498Z\", \"created_time\": \"2021-04-19T11:05:53.345141Z\", \"created_time_dt\": \"2021-04-19T11:05:53.345141Z\", \"duration\": \"0:00:17\", \"iteration\": \"37\", \"goal\": null, \"run_name\": \"Canceled\", \"run_properties\": null}, {\"run_id\": \"AutoML_dc2020ee-9a83-4286-abbe-67cae4d0bb33_38\", \"run_number\": 43, \"metric\": null, \"status\": \"Completed\", \"run_type\": \"azureml.scriptrun\", \"training_percent\": \"100\", \"start_time\": \"2021-04-19T11:06:22.715796Z\", \"end_time\": \"2021-04-19T11:07:13.618106Z\", \"created_time\": \"2021-04-19T11:06:13.981657Z\", \"created_time_dt\": \"2021-04-19T11:06:13.981657Z\", \"duration\": \"0:00:59\", \"iteration\": \"38\", \"goal\": \"accuracy_max\", \"run_name\": \"StandardScalerWrapper, RandomForest\", \"run_properties\": \"<azureml.automl.runtime.shared.model_wrappers.StandardScalerWrapper object at 0x7fde238676a0\", \"primary_metric\": 0.48571429, \"best_metric\": 0.56043956}, {\"run_id\": \"AutoML_dc2020ee-9a83-4286-abbe-67cae4d0bb33_39\", \"run_number\": 44, \"metric\": null, \"status\": \"Completed\", \"run_type\": \"azureml.scriptrun\", \"training_percent\": \"100\", \"start_time\": \"2021-04-19T11:06:26.223505Z\", \"end_time\": \"2021-04-19T11:07:12.435661Z\", \"created_time\": \"2021-04-19T11:06:13.993552Z\", \"created_time_dt\": \"2021-04-19T11:06:13.993552Z\", \"duration\": \"0:00:58\", \"iteration\": \"39\", \"goal\": \"accuracy_max\", \"run_name\": \"StandardScalerWrapper, XGBoostClassifier\", \"run_properties\": \"<azureml.automl.runtime.shared.model_wrappers.StandardScalerWrapper object at 0x7f7783a4bc50\", \"primary_metric\": 0.40989011, \"best_metric\": 0.56043956}, {\"run_id\": \"AutoML_dc2020ee-9a83-4286-abbe-67cae4d0bb33_40\", \"run_number\": 45, \"metric\": null, \"status\": \"Completed\", \"run_type\": \"azureml.scriptrun\", \"training_percent\": \"100\", \"start_time\": \"2021-04-19T11:06:24.140458Z\", \"end_time\": \"2021-04-19T11:07:08.373523Z\", \"created_time\": \"2021-04-19T11:06:14.040383Z\", \"created_time_dt\": \"2021-04-19T11:06:14.040383Z\", \"duration\": \"0:00:54\", \"iteration\": \"40\", \"goal\": \"accuracy_max\", \"run_name\": \"SparseNormalizer, XGBoostClassifier\", \"run_properties\": \"<azureml.automl.runtime.shared.model_wrappers.SparseNormalizer object at 0x7f38f89b4e10\", \"primary_metric\": 0.40989011, \"best_metric\": 0.56043956}, {\"run_id\": \"AutoML_dc2020ee-9a83-4286-abbe-67cae4d0bb33_42\", \"run_number\": 46, \"metric\": null, \"status\": \"Completed\", \"run_type\": \"azureml.scriptrun\", \"training_percent\": \"100\", \"start_time\": \"2021-04-19T11:06:25.436085Z\", \"end_time\": \"2021-04-19T11:07:08.452672Z\", \"created_time\": \"2021-04-19T11:06:14.071194Z\", \"created_time_dt\": \"2021-04-19T11:06:14.071194Z\", \"duration\": \"0:00:54\", \"iteration\": \"42\", \"goal\": \"accuracy_max\", \"run_name\": \"StandardScalerWrapper, XGBoostClassifier\", \"run_properties\": \"<azureml.automl.runtime.shared.model_wrappers.StandardScalerWrapper object at 0x7eff2b67b7b8\", \"primary_metric\": 0.40879121, \"best_metric\": 0.56043956}, {\"run_id\": \"AutoML_dc2020ee-9a83-4286-abbe-67cae4d0bb33_41\", \"run_number\": 47, \"metric\": null, \"status\": \"Completed\", \"run_type\": \"azureml.scriptrun\", \"training_percent\": \"100\", \"start_time\": \"2021-04-19T11:06:24.278045Z\", \"end_time\": \"2021-04-19T11:07:17.388291Z\", \"created_time\": \"2021-04-19T11:06:14.012007Z\", \"created_time_dt\": \"2021-04-19T11:06:14.012007Z\", \"duration\": \"0:01:03\", \"iteration\": \"41\", \"goal\": \"accuracy_max\", \"run_name\": \"MaxAbsScaler, LightGBM\", \"run_properties\": \"copy=True\", \"primary_metric\": 0.36373626, \"best_metric\": 0.56043956}, {\"run_id\": \"AutoML_dc2020ee-9a83-4286-abbe-67cae4d0bb33_44\", \"run_number\": 48, \"metric\": null, \"status\": \"Completed\", \"run_type\": \"azureml.scriptrun\", \"training_percent\": \"100\", \"start_time\": \"2021-04-19T11:07:19.367804Z\", \"end_time\": \"2021-04-19T11:08:01.633426Z\", \"created_time\": \"2021-04-19T11:07:10.61203Z\", \"created_time_dt\": \"2021-04-19T11:07:10.61203Z\", \"duration\": \"0:00:51\", \"iteration\": \"44\", \"goal\": \"accuracy_max\", \"run_name\": \"StandardScalerWrapper, XGBoostClassifier\", \"run_properties\": \"<azureml.automl.runtime.shared.model_wrappers.StandardScalerWrapper object at 0x7f8661cf8ba8\", \"primary_metric\": 0.43626374, \"best_metric\": 0.56043956}, {\"run_id\": \"AutoML_dc2020ee-9a83-4286-abbe-67cae4d0bb33_43\", \"run_number\": 49, \"metric\": null, \"status\": \"Completed\", \"run_type\": \"azureml.scriptrun\", \"training_percent\": \"100\", \"start_time\": \"2021-04-19T11:07:23.866426Z\", \"end_time\": \"2021-04-19T11:08:02.113296Z\", \"created_time\": \"2021-04-19T11:07:10.622871Z\", \"created_time_dt\": \"2021-04-19T11:07:10.622871Z\", \"duration\": \"0:00:51\", \"iteration\": \"43\", \"goal\": \"accuracy_max\", \"run_name\": \"StandardScalerWrapper, LightGBM\", \"run_properties\": \"<azureml.automl.runtime.shared.model_wrappers.StandardScalerWrapper object at 0x7faef8b414a8\", \"primary_metric\": 0.37802198, \"best_metric\": 0.56043956}, {\"run_id\": \"AutoML_dc2020ee-9a83-4286-abbe-67cae4d0bb33_45\", \"run_number\": 50, \"metric\": null, \"status\": \"Completed\", \"run_type\": \"azureml.scriptrun\", \"training_percent\": \"100\", \"start_time\": \"2021-04-19T11:07:24.214586Z\", \"end_time\": \"2021-04-19T11:08:20.077817Z\", \"created_time\": \"2021-04-19T11:07:15.579772Z\", \"created_time_dt\": \"2021-04-19T11:07:15.579772Z\", \"duration\": \"0:01:04\", \"iteration\": \"45\", \"goal\": \"accuracy_max\", \"run_name\": \"SparseNormalizer, ExtremeRandomTrees\", \"run_properties\": \"<azureml.automl.runtime.shared.model_wrappers.SparseNormalizer object at 0x7f47a05c0668\", \"primary_metric\": 0.39340659, \"best_metric\": 0.56043956}, {\"run_id\": \"AutoML_dc2020ee-9a83-4286-abbe-67cae4d0bb33_46\", \"run_number\": 51, \"metric\": null, \"status\": \"Completed\", \"run_type\": \"azureml.scriptrun\", \"training_percent\": \"100\", \"start_time\": \"2021-04-19T11:07:27.823371Z\", \"end_time\": \"2021-04-19T11:08:12.038585Z\", \"created_time\": \"2021-04-19T11:07:19.435215Z\", \"created_time_dt\": \"2021-04-19T11:07:19.435215Z\", \"duration\": \"0:00:52\", \"iteration\": \"46\", \"goal\": \"accuracy_max\", \"run_name\": \"StandardScalerWrapper, XGBoostClassifier\", \"run_properties\": \"<azureml.automl.runtime.shared.model_wrappers.StandardScalerWrapper object at 0x7f43d04c8b70\", \"primary_metric\": 0.40769231, \"best_metric\": 0.56043956}, {\"run_id\": \"AutoML_dc2020ee-9a83-4286-abbe-67cae4d0bb33_47\", \"run_number\": 52, \"metric\": null, \"status\": \"Completed\", \"run_type\": \"azureml.scriptrun\", \"training_percent\": \"100\", \"start_time\": \"2021-04-19T11:07:30.254576Z\", \"end_time\": \"2021-04-19T11:08:13.097666Z\", \"created_time\": \"2021-04-19T11:07:19.492303Z\", \"created_time_dt\": \"2021-04-19T11:07:19.492303Z\", \"duration\": \"0:00:53\", \"iteration\": \"47\", \"goal\": \"accuracy_max\", \"run_name\": \"StandardScalerWrapper, XGBoostClassifier\", \"run_properties\": \"<azureml.automl.runtime.shared.model_wrappers.StandardScalerWrapper object at 0x7f82cf30a080\", \"primary_metric\": 0.39340659, \"best_metric\": 0.56043956}, {\"run_id\": \"AutoML_dc2020ee-9a83-4286-abbe-67cae4d0bb33_48\", \"run_number\": 53, \"metric\": null, \"status\": \"Canceled\", \"run_type\": \"azureml.scriptrun\", \"training_percent\": \"100\", \"start_time\": \"2021-04-19T11:08:14.187679Z\", \"end_time\": \"2021-04-19T11:09:06.492693Z\", \"created_time\": \"2021-04-19T11:08:03.432297Z\", \"created_time_dt\": \"2021-04-19T11:08:03.432297Z\", \"duration\": \"0:01:03\", \"iteration\": \"48\", \"goal\": \"accuracy_max\", \"run_name\": \"MaxAbsScaler, LightGBM\", \"run_properties\": \"copy=True\", \"primary_metric\": 0.39340659, \"best_metric\": 0.56043956}, {\"run_id\": \"AutoML_dc2020ee-9a83-4286-abbe-67cae4d0bb33_49\", \"run_number\": 54, \"metric\": null, \"status\": \"Completed\", \"run_type\": \"azureml.scriptrun\", \"training_percent\": \"100\", \"start_time\": \"2021-04-19T11:08:16.890337Z\", \"end_time\": \"2021-04-19T11:08:59.851215Z\", \"created_time\": \"2021-04-19T11:08:06.559058Z\", \"created_time_dt\": \"2021-04-19T11:08:06.559058Z\", \"duration\": \"0:00:53\", \"iteration\": \"49\", \"goal\": \"accuracy_max\", \"run_name\": \"SparseNormalizer, XGBoostClassifier\", \"run_properties\": \"<azureml.automl.runtime.shared.model_wrappers.SparseNormalizer object at 0x7fb48a6d6860\", \"primary_metric\": 0.40879121, \"best_metric\": 0.56043956}, {\"run_id\": \"AutoML_dc2020ee-9a83-4286-abbe-67cae4d0bb33_50\", \"run_number\": 55, \"metric\": null, \"status\": \"Canceled\", \"run_type\": \"azureml.scriptrun\", \"training_percent\": \"100\", \"start_time\": \"2021-04-19T11:08:24.930448Z\", \"end_time\": \"2021-04-19T11:09:06.659744Z\", \"created_time\": \"2021-04-19T11:08:14.655024Z\", \"created_time_dt\": \"2021-04-19T11:08:14.655024Z\", \"duration\": \"0:00:52\", \"iteration\": \"50\", \"goal\": \"accuracy_max\", \"run_name\": \"TruncatedSVDWrapper, ExtremeRandomTrees\", \"run_properties\": \"n_components=0.8510526315789474, random_state=None\", \"primary_metric\": 0.39450549, \"best_metric\": 0.56043956}, {\"run_id\": \"AutoML_dc2020ee-9a83-4286-abbe-67cae4d0bb33_51\", \"run_number\": 56, \"metric\": null, \"status\": \"Canceled\", \"run_type\": \"azureml.scriptrun\", \"training_percent\": \"100\", \"start_time\": \"2021-04-19T11:08:28.576769Z\", \"end_time\": \"2021-04-19T11:09:06.817202Z\", \"created_time\": \"2021-04-19T11:08:18.204093Z\", \"created_time_dt\": \"2021-04-19T11:08:18.204093Z\", \"duration\": \"0:00:48\", \"iteration\": \"51\", \"goal\": \"accuracy_max\", \"run_name\": \"StandardScalerWrapper, LightGBM\", \"run_properties\": \"<azureml.automl.runtime.shared.model_wrappers.StandardScalerWrapper object at 0x7f82a5f34fd0\", \"primary_metric\": 0.37802198, \"best_metric\": 0.56043956}, {\"run_id\": \"AutoML_dc2020ee-9a83-4286-abbe-67cae4d0bb33_52\", \"run_number\": 57, \"metric\": null, \"status\": \"Canceled\", \"run_type\": \"azureml.scriptrun\", \"training_percent\": \"100\", \"start_time\": \"2021-04-19T11:08:32.998731Z\", \"end_time\": \"2021-04-19T11:09:06.651511Z\", \"created_time\": \"2021-04-19T11:08:21.903326Z\", \"created_time_dt\": \"2021-04-19T11:08:21.903326Z\", \"duration\": \"0:00:44\", \"iteration\": \"52\", \"goal\": \"accuracy_max\", \"run_name\": \"MaxAbsScaler, LightGBM\", \"run_properties\": \"copy=True\", \"primary_metric\": 0.39340659, \"best_metric\": 0.56043956}, {\"run_id\": \"AutoML_dc2020ee-9a83-4286-abbe-67cae4d0bb33_53\", \"run_number\": 58, \"metric\": null, \"status\": \"Completed\", \"run_type\": \"azureml.scriptrun\", \"training_percent\": \"100\", \"start_time\": \"2021-04-19T11:09:18.620187Z\", \"end_time\": \"2021-04-19T11:10:34.683949Z\", \"created_time\": \"2021-04-19T11:09:07.640647Z\", \"created_time_dt\": \"2021-04-19T11:09:07.640647Z\", \"duration\": \"0:01:27\", \"iteration\": \"53\", \"goal\": \"accuracy_max\", \"run_name\": \"VotingEnsemble\", \"run_properties\": \"classification_labels=None,\\n                              estimators=[('34',\\n                                           Pipeline(memory=None,\\n                                                    steps=[('sparsenormalizer',\\n                                                            <azureml.automl.runtime.shared.model_wrappers.SparseNormalizer object at 0x7fc6d41071d0>\", \"primary_metric\": 0.56043956, \"best_metric\": 0.56043956}, {\"run_id\": \"AutoML_dc2020ee-9a83-4286-abbe-67cae4d0bb33_54\", \"run_number\": 59, \"metric\": null, \"status\": \"Completed\", \"run_type\": \"azureml.scriptrun\", \"training_percent\": \"100\", \"start_time\": \"2021-04-19T11:09:17.472761Z\", \"end_time\": \"2021-04-19T11:10:43.399344Z\", \"created_time\": \"2021-04-19T11:09:07.679353Z\", \"created_time_dt\": \"2021-04-19T11:09:07.679353Z\", \"duration\": \"0:01:35\", \"iteration\": \"54\", \"goal\": \"accuracy_max\", \"run_name\": \"StackEnsemble\", \"run_properties\": \"base_learners=[('34',\\n                                        Pipeline(memory=None,\\n                                                 steps=[('sparsenormalizer',\\n                                                         <azureml.automl.runtime.shared.model_wrappers.SparseNormalizer object at 0x7f6f069c9d68>\", \"primary_metric\": 0.40879121, \"best_metric\": 0.56043956}], \"children_metrics\": {\"categories\": [0], \"series\": {\"AUC_macro\": [{\"categories\": [\"0\", \"1\", \"2\", \"3\", \"4\", \"5\", \"6\", \"7\", \"8\", \"9\", \"10\", \"11\", \"12\", \"13\", \"14\", \"15\", \"16\", \"17\", \"18\", \"19\", \"20\", \"21\", \"22\", \"23\", \"24\", \"25\", \"26\", \"27\", \"28\", \"29\", \"30\", \"31\", \"32\", \"33\", \"34\", \"38\", \"39\", \"40\", \"41\", \"42\", \"43\", \"44\", \"45\", \"46\", \"47\", \"48\", \"49\", \"50\", \"51\", \"52\", \"53\", \"54\"], \"mode\": \"markers\", \"name\": \"AUC_macro\", \"stepped\": false, \"type\": \"scatter\", \"data\": [0.3436309523809523, 0.5019246031746032, 0.5330753968253967, 0.46585317460317466, 0.5309325396825397, 0.47454365079365085, 0.5120833333333333, 0.4914484126984127, 0.46585317460317455, 0.42134920634920636, 0.43220238095238095, 0.4059722222222222, 0.39869047619047615, 0.4354960317460318, 0.5176785714285714, 0.5093452380952381, 0.4915674603174603, 0.42172619047619053, 0.4434325396825397, 0.48839285714285713, 0.32126984126984126, 0.49398809523809534, 0.36134920634920636, 0.5, 0.47541666666666665, 0.3710119047619048, 0.4967261904761905, 0.4691468253968254, 0.5155555555555555, 0.4575, 0.3484325396825397, 0.3602579365079365, 0.35831349206349206, 0.45188492063492064, 0.5319642857142857, 0.5005753968253968, 0.46910714285714283, 0.42740079365079364, 0.381984126984127, 0.40755952380952376, 0.3875793650793651, 0.4380357142857143, 0.40769841269841267, 0.44361111111111107, 0.5, 0.5, 0.4384722222222222, 0.45029761904761906, 0.4336904761904762, 0.5, 0.5319642857142857, 0.42720238095238094]}, {\"categories\": [\"0\", \"1\", \"2\", \"3\", \"4\", \"5\", \"6\", \"7\", \"8\", \"9\", \"10\", \"11\", \"12\", \"13\", \"14\", \"15\", \"16\", \"17\", \"18\", \"19\", \"20\", \"21\", \"22\", \"23\", \"24\", \"25\", \"26\", \"27\", \"28\", \"29\", \"30\", \"31\", \"32\", \"33\", \"34\", \"38\", \"39\", \"40\", \"41\", \"42\", \"43\", \"44\", \"45\", \"46\", \"47\", \"48\", \"49\", \"50\", \"51\", \"52\", \"53\", \"54\"], \"mode\": \"lines\", \"name\": \"AUC_macro_max\", \"stepped\": true, \"type\": \"scatter\", \"data\": [0.3436309523809523, 0.5019246031746032, 0.5330753968253967, 0.5330753968253967, 0.5330753968253967, 0.5330753968253967, 0.5330753968253967, 0.5330753968253967, 0.5330753968253967, 0.5330753968253967, 0.5330753968253967, 0.5330753968253967, 0.5330753968253967, 0.5330753968253967, 0.5330753968253967, 0.5330753968253967, 0.5330753968253967, 0.5330753968253967, 0.5330753968253967, 0.5330753968253967, 0.5330753968253967, 0.5330753968253967, 0.5330753968253967, 0.5330753968253967, 0.5330753968253967, 0.5330753968253967, 0.5330753968253967, 0.5330753968253967, 0.5330753968253967, 0.5330753968253967, 0.5330753968253967, 0.5330753968253967, 0.5330753968253967, 0.5330753968253967, 0.5330753968253967, 0.5330753968253967, 0.5330753968253967, 0.5330753968253967, 0.5330753968253967, 0.5330753968253967, 0.5330753968253967, 0.5330753968253967, 0.5330753968253967, 0.5330753968253967, 0.5330753968253967, 0.5330753968253967, 0.5330753968253967, 0.5330753968253967, 0.5330753968253967, 0.5330753968253967, 0.5330753968253967, 0.5330753968253967]}], \"AUC_weighted\": [{\"categories\": [\"0\", \"1\", \"2\", \"3\", \"4\", \"5\", \"6\", \"7\", \"8\", \"9\", \"10\", \"11\", \"12\", \"13\", \"14\", \"15\", \"16\", \"17\", \"18\", \"19\", \"20\", \"21\", \"22\", \"23\", \"24\", \"25\", \"26\", \"27\", \"28\", \"29\", \"30\", \"31\", \"32\", \"33\", \"34\", \"38\", \"39\", \"40\", \"41\", \"42\", \"43\", \"44\", \"45\", \"46\", \"47\", \"48\", \"49\", \"50\", \"51\", \"52\", \"53\", \"54\"], \"mode\": \"markers\", \"name\": \"AUC_weighted\", \"stepped\": false, \"type\": \"scatter\", \"data\": [0.3436309523809523, 0.5019246031746032, 0.5330753968253967, 0.46585317460317466, 0.5309325396825397, 0.47454365079365085, 0.5120833333333333, 0.4914484126984127, 0.46585317460317455, 0.42134920634920636, 0.43220238095238095, 0.4059722222222222, 0.39869047619047615, 0.4354960317460318, 0.5176785714285714, 0.509345238095238, 0.4915674603174603, 0.42172619047619053, 0.4434325396825397, 0.48839285714285713, 0.32126984126984126, 0.49398809523809534, 0.36134920634920636, 0.5, 0.47541666666666665, 0.3710119047619048, 0.4967261904761905, 0.4691468253968254, 0.5155555555555555, 0.4575, 0.3484325396825397, 0.3602579365079365, 0.3583134920634921, 0.45188492063492064, 0.5319642857142857, 0.5005753968253968, 0.4691071428571429, 0.42740079365079364, 0.381984126984127, 0.40755952380952376, 0.3875793650793651, 0.4380357142857143, 0.40769841269841267, 0.44361111111111107, 0.5, 0.5, 0.4384722222222222, 0.45029761904761906, 0.4336904761904762, 0.5, 0.5319642857142857, 0.42720238095238094]}, {\"categories\": [\"0\", \"1\", \"2\", \"3\", \"4\", \"5\", \"6\", \"7\", \"8\", \"9\", \"10\", \"11\", \"12\", \"13\", \"14\", \"15\", \"16\", \"17\", \"18\", \"19\", \"20\", \"21\", \"22\", \"23\", \"24\", \"25\", \"26\", \"27\", \"28\", \"29\", \"30\", \"31\", \"32\", \"33\", \"34\", \"38\", \"39\", \"40\", \"41\", \"42\", \"43\", \"44\", \"45\", \"46\", \"47\", \"48\", \"49\", \"50\", \"51\", \"52\", \"53\", \"54\"], \"mode\": \"lines\", \"name\": \"AUC_weighted_max\", \"stepped\": true, \"type\": \"scatter\", \"data\": [0.3436309523809523, 0.5019246031746032, 0.5330753968253967, 0.5330753968253967, 0.5330753968253967, 0.5330753968253967, 0.5330753968253967, 0.5330753968253967, 0.5330753968253967, 0.5330753968253967, 0.5330753968253967, 0.5330753968253967, 0.5330753968253967, 0.5330753968253967, 0.5330753968253967, 0.5330753968253967, 0.5330753968253967, 0.5330753968253967, 0.5330753968253967, 0.5330753968253967, 0.5330753968253967, 0.5330753968253967, 0.5330753968253967, 0.5330753968253967, 0.5330753968253967, 0.5330753968253967, 0.5330753968253967, 0.5330753968253967, 0.5330753968253967, 0.5330753968253967, 0.5330753968253967, 0.5330753968253967, 0.5330753968253967, 0.5330753968253967, 0.5330753968253967, 0.5330753968253967, 0.5330753968253967, 0.5330753968253967, 0.5330753968253967, 0.5330753968253967, 0.5330753968253967, 0.5330753968253967, 0.5330753968253967, 0.5330753968253967, 0.5330753968253967, 0.5330753968253967, 0.5330753968253967, 0.5330753968253967, 0.5330753968253967, 0.5330753968253967, 0.5330753968253967, 0.5330753968253967]}], \"average_precision_score_weighted\": [{\"categories\": [\"0\", \"1\", \"2\", \"3\", \"4\", \"5\", \"6\", \"7\", \"8\", \"9\", \"10\", \"11\", \"12\", \"13\", \"14\", \"15\", \"16\", \"17\", \"18\", \"19\", \"20\", \"21\", \"22\", \"23\", \"24\", \"25\", \"26\", \"27\", \"28\", \"29\", \"30\", \"31\", \"32\", \"33\", \"34\", \"38\", \"39\", \"40\", \"41\", \"42\", \"43\", \"44\", \"45\", \"46\", \"47\", \"48\", \"49\", \"50\", \"51\", \"52\", \"53\", \"54\"], \"mode\": \"markers\", \"name\": \"average_precision_score_weighted\", \"stepped\": false, \"type\": \"scatter\", \"data\": [0.47884561714232043, 0.607428792209012, 0.6264897892095693, 0.5882119162888394, 0.6121358190039509, 0.5794373788604558, 0.6064931466579818, 0.5994104003444664, 0.5820388921213097, 0.5282166307441033, 0.5474472353043781, 0.549367348158557, 0.4963152598317434, 0.5651463127836754, 0.6154008201810399, 0.6147276228045458, 0.6087686214884017, 0.5364246132378001, 0.576796109873033, 0.6070645319271694, 0.4693237806149894, 0.5907311857861308, 0.4774665840874632, 0.5280763192851105, 0.5886097236097236, 0.5074495315429381, 0.6196500111610002, 0.5920884914840958, 0.5410316118557877, 0.5161011150022139, 0.5226612490074029, 0.5181383268745907, 0.5201282417216484, 0.5731877341218, 0.6393922621944601, 0.6052618504816307, 0.602908330985254, 0.56121865314173, 0.4960256074816515, 0.550661710084787, 0.49243811133921034, 0.5822032820659194, 0.5089723310877157, 0.5285103541147498, 0.5280763192851105, 0.5280763192851105, 0.5622617766848536, 0.574392216452656, 0.5070844906009742, 0.5280763192851105, 0.6393922621944601, 0.5658774436796415]}, {\"categories\": [\"0\", \"1\", \"2\", \"3\", \"4\", \"5\", \"6\", \"7\", \"8\", \"9\", \"10\", \"11\", \"12\", \"13\", \"14\", \"15\", \"16\", \"17\", \"18\", \"19\", \"20\", \"21\", \"22\", \"23\", \"24\", \"25\", \"26\", \"27\", \"28\", \"29\", \"30\", \"31\", \"32\", \"33\", \"34\", \"38\", \"39\", \"40\", \"41\", \"42\", \"43\", \"44\", \"45\", \"46\", \"47\", \"48\", \"49\", \"50\", \"51\", \"52\", \"53\", \"54\"], \"mode\": \"lines\", \"name\": \"average_precision_score_weighted_max\", \"stepped\": true, \"type\": \"scatter\", \"data\": [0.47884561714232043, 0.607428792209012, 0.6264897892095693, 0.6264897892095693, 0.6264897892095693, 0.6264897892095693, 0.6264897892095693, 0.6264897892095693, 0.6264897892095693, 0.6264897892095693, 0.6264897892095693, 0.6264897892095693, 0.6264897892095693, 0.6264897892095693, 0.6264897892095693, 0.6264897892095693, 0.6264897892095693, 0.6264897892095693, 0.6264897892095693, 0.6264897892095693, 0.6264897892095693, 0.6264897892095693, 0.6264897892095693, 0.6264897892095693, 0.6264897892095693, 0.6264897892095693, 0.6264897892095693, 0.6264897892095693, 0.6264897892095693, 0.6264897892095693, 0.6264897892095693, 0.6264897892095693, 0.6264897892095693, 0.6264897892095693, 0.6393922621944601, 0.6393922621944601, 0.6393922621944601, 0.6393922621944601, 0.6393922621944601, 0.6393922621944601, 0.6393922621944601, 0.6393922621944601, 0.6393922621944601, 0.6393922621944601, 0.6393922621944601, 0.6393922621944601, 0.6393922621944601, 0.6393922621944601, 0.6393922621944601, 0.6393922621944601, 0.6393922621944601, 0.6393922621944601]}], \"norm_macro_recall\": [{\"categories\": [\"0\", \"1\", \"2\", \"3\", \"4\", \"5\", \"6\", \"7\", \"8\", \"9\", \"10\", \"11\", \"12\", \"13\", \"14\", \"15\", \"16\", \"17\", \"18\", \"19\", \"20\", \"21\", \"22\", \"23\", \"24\", \"25\", \"26\", \"27\", \"28\", \"29\", \"30\", \"31\", \"32\", \"33\", \"34\", \"38\", \"39\", \"40\", \"41\", \"42\", \"43\", \"44\", \"45\", \"46\", \"47\", \"48\", \"49\", \"50\", \"51\", \"52\", \"53\", \"54\"], \"mode\": \"markers\", \"name\": \"norm_macro_recall\", \"stepped\": false, \"type\": \"scatter\", \"data\": [0.0, 0.0676190476190476, 0.07238095238095235, 0.05404761904761903, 0.11071428571428563, 0.043888888888888866, 0.07555555555555556, 0.031111111111111135, 0.06761904761904765, 0.0, 0.08285714285714288, 0.04928571428571429, 0.0, 0.045396825396825415, 0.07555555555555556, 0.045396825396825415, 0.011111111111111117, 0.0, 0.0, 0.0676190476190476, 0.009523809523809535, 0.10238095238095232, 0.0, 0.0, 0.04761904761904758, 0.0, 0.01428571428571428, 0.06000000000000001, 0.0, 0.0, 0.01428571428571428, 0.01428571428571428, 0.01428571428571428, 0.01928571428571426, 0.15650793650793648, 0.058730158730158744, 0.06000000000000001, 0.06000000000000001, 0.009523809523809535, 0.075, 0.0, 0.11666666666666665, 0.0, 0.025, 0.0, 0.0, 0.06000000000000001, 0.03928571428571428, 0.0, 0.0, 0.15650793650793648, 0.025]}, {\"categories\": [\"0\", \"1\", \"2\", \"3\", \"4\", \"5\", \"6\", \"7\", \"8\", \"9\", \"10\", \"11\", \"12\", \"13\", \"14\", \"15\", \"16\", \"17\", \"18\", \"19\", \"20\", \"21\", \"22\", \"23\", \"24\", \"25\", \"26\", \"27\", \"28\", \"29\", \"30\", \"31\", \"32\", \"33\", \"34\", \"38\", \"39\", \"40\", \"41\", \"42\", \"43\", \"44\", \"45\", \"46\", \"47\", \"48\", \"49\", \"50\", \"51\", \"52\", \"53\", \"54\"], \"mode\": \"lines\", \"name\": \"norm_macro_recall_max\", \"stepped\": true, \"type\": \"scatter\", \"data\": [0.0, 0.0676190476190476, 0.07238095238095235, 0.07238095238095235, 0.11071428571428563, 0.11071428571428563, 0.11071428571428563, 0.11071428571428563, 0.11071428571428563, 0.11071428571428563, 0.11071428571428563, 0.11071428571428563, 0.11071428571428563, 0.11071428571428563, 0.11071428571428563, 0.11071428571428563, 0.11071428571428563, 0.11071428571428563, 0.11071428571428563, 0.11071428571428563, 0.11071428571428563, 0.11071428571428563, 0.11071428571428563, 0.11071428571428563, 0.11071428571428563, 0.11071428571428563, 0.11071428571428563, 0.11071428571428563, 0.11071428571428563, 0.11071428571428563, 0.11071428571428563, 0.11071428571428563, 0.11071428571428563, 0.11071428571428563, 0.15650793650793648, 0.15650793650793648, 0.15650793650793648, 0.15650793650793648, 0.15650793650793648, 0.15650793650793648, 0.15650793650793648, 0.15650793650793648, 0.15650793650793648, 0.15650793650793648, 0.15650793650793648, 0.15650793650793648, 0.15650793650793648, 0.15650793650793648, 0.15650793650793648, 0.15650793650793648, 0.15650793650793648, 0.15650793650793648]}], \"balanced_accuracy\": [{\"categories\": [\"0\", \"1\", \"2\", \"3\", \"4\", \"5\", \"6\", \"7\", \"8\", \"9\", \"10\", \"11\", \"12\", \"13\", \"14\", \"15\", \"16\", \"17\", \"18\", \"19\", \"20\", \"21\", \"22\", \"23\", \"24\", \"25\", \"26\", \"27\", \"28\", \"29\", \"30\", \"31\", \"32\", \"33\", \"34\", \"38\", \"39\", \"40\", \"41\", \"42\", \"43\", \"44\", \"45\", \"46\", \"47\", \"48\", \"49\", \"50\", \"51\", \"52\", \"53\", \"54\"], \"mode\": \"markers\", \"name\": \"balanced_accuracy\", \"stepped\": false, \"type\": \"scatter\", \"data\": [0.3699206349206349, 0.4663095238095238, 0.5136904761904761, 0.4589682539682539, 0.5228571428571429, 0.4548015873015873, 0.46075396825396825, 0.43853174603174605, 0.4496428571428572, 0.39214285714285707, 0.4830952380952381, 0.42242063492063486, 0.4575, 0.4676984126984127, 0.46075396825396825, 0.4551984126984127, 0.4284126984126984, 0.4004761904761905, 0.3588095238095238, 0.4913095238095238, 0.36837301587301585, 0.4978571428571429, 0.4086904761904762, 0.5, 0.43380952380952376, 0.36952380952380953, 0.447420634920635, 0.4432539682539682, 0.5, 0.4575, 0.40575396825396826, 0.40242063492063496, 0.37214285714285716, 0.39492063492063495, 0.5557539682539683, 0.49603174603174605, 0.42519841269841263, 0.4196428571428571, 0.4247619047619048, 0.4340873015873016, 0.4575, 0.4471428571428572, 0.5, 0.44000000000000006, 0.5, 0.5, 0.4404761904761904, 0.4629761904761904, 0.4575, 0.5, 0.5557539682539683, 0.5125]}, {\"categories\": [\"0\", \"1\", \"2\", \"3\", \"4\", \"5\", \"6\", \"7\", \"8\", \"9\", \"10\", \"11\", \"12\", \"13\", \"14\", \"15\", \"16\", \"17\", \"18\", \"19\", \"20\", \"21\", \"22\", \"23\", \"24\", \"25\", \"26\", \"27\", \"28\", \"29\", \"30\", \"31\", \"32\", \"33\", \"34\", \"38\", \"39\", \"40\", \"41\", \"42\", \"43\", \"44\", \"45\", \"46\", \"47\", \"48\", \"49\", \"50\", \"51\", \"52\", \"53\", \"54\"], \"mode\": \"lines\", \"name\": \"balanced_accuracy_max\", \"stepped\": true, \"type\": \"scatter\", \"data\": [0.3699206349206349, 0.4663095238095238, 0.5136904761904761, 0.5136904761904761, 0.5228571428571429, 0.5228571428571429, 0.5228571428571429, 0.5228571428571429, 0.5228571428571429, 0.5228571428571429, 0.5228571428571429, 0.5228571428571429, 0.5228571428571429, 0.5228571428571429, 0.5228571428571429, 0.5228571428571429, 0.5228571428571429, 0.5228571428571429, 0.5228571428571429, 0.5228571428571429, 0.5228571428571429, 0.5228571428571429, 0.5228571428571429, 0.5228571428571429, 0.5228571428571429, 0.5228571428571429, 0.5228571428571429, 0.5228571428571429, 0.5228571428571429, 0.5228571428571429, 0.5228571428571429, 0.5228571428571429, 0.5228571428571429, 0.5228571428571429, 0.5557539682539683, 0.5557539682539683, 0.5557539682539683, 0.5557539682539683, 0.5557539682539683, 0.5557539682539683, 0.5557539682539683, 0.5557539682539683, 0.5557539682539683, 0.5557539682539683, 0.5557539682539683, 0.5557539682539683, 0.5557539682539683, 0.5557539682539683, 0.5557539682539683, 0.5557539682539683, 0.5557539682539683, 0.5557539682539683]}], \"AUC_micro\": [{\"categories\": [\"0\", \"1\", \"2\", \"3\", \"4\", \"5\", \"6\", \"7\", \"8\", \"9\", \"10\", \"11\", \"12\", \"13\", \"14\", \"15\", \"16\", \"17\", \"18\", \"19\", \"20\", \"21\", \"22\", \"23\", \"24\", \"25\", \"26\", \"27\", \"28\", \"29\", \"30\", \"31\", \"32\", \"33\", \"34\", \"38\", \"39\", \"40\", \"41\", \"42\", \"43\", \"44\", \"45\", \"46\", \"47\", \"48\", \"49\", \"50\", \"51\", \"52\", \"53\", \"54\"], \"mode\": \"markers\", \"name\": \"AUC_micro\", \"stepped\": false, \"type\": \"scatter\", \"data\": [0.31256490761985267, 0.5118343195266272, 0.5255886970172684, 0.4631445477599323, 0.5360342953749548, 0.47461055428088395, 0.5145272310107475, 0.4817171839149861, 0.4492331843980196, 0.3685786740731796, 0.4132351165318198, 0.39821881415288013, 0.3366018596787827, 0.4431107354184277, 0.507752686873566, 0.5004468059413114, 0.46331360946745564, 0.3881475667189953, 0.40124381113392105, 0.5142011834319528, 0.3263555126192489, 0.4829006158676489, 0.30370728172925976, 0.39340659340659345, 0.46547518415650285, 0.3401883830455259, 0.49085255403936723, 0.4119369641347664, 0.40169061707523246, 0.3650042265426881, 0.31329549571307813, 0.3611218451877793, 0.3838123415046492, 0.44759690858591955, 0.534035744475305, 0.5026506460572395, 0.43005675643038277, 0.42115686511290906, 0.34981886245622507, 0.3668820190798213, 0.3318681318681318, 0.4136939983093829, 0.34908827436299966, 0.3797578794831542, 0.39340659340659345, 0.39340659340659345, 0.38614297790121965, 0.3575292839029103, 0.3531699070160608, 0.39340659340659345, 0.534035744475305, 0.3614961961115807]}, {\"categories\": [\"0\", \"1\", \"2\", \"3\", \"4\", \"5\", \"6\", \"7\", \"8\", \"9\", \"10\", \"11\", \"12\", \"13\", \"14\", \"15\", \"16\", \"17\", \"18\", \"19\", \"20\", \"21\", \"22\", \"23\", \"24\", \"25\", \"26\", \"27\", \"28\", \"29\", \"30\", \"31\", \"32\", \"33\", \"34\", \"38\", \"39\", \"40\", \"41\", \"42\", \"43\", \"44\", \"45\", \"46\", \"47\", \"48\", \"49\", \"50\", \"51\", \"52\", \"53\", \"54\"], \"mode\": \"lines\", \"name\": \"AUC_micro_max\", \"stepped\": true, \"type\": \"scatter\", \"data\": [0.31256490761985267, 0.5118343195266272, 0.5255886970172684, 0.5255886970172684, 0.5360342953749548, 0.5360342953749548, 0.5360342953749548, 0.5360342953749548, 0.5360342953749548, 0.5360342953749548, 0.5360342953749548, 0.5360342953749548, 0.5360342953749548, 0.5360342953749548, 0.5360342953749548, 0.5360342953749548, 0.5360342953749548, 0.5360342953749548, 0.5360342953749548, 0.5360342953749548, 0.5360342953749548, 0.5360342953749548, 0.5360342953749548, 0.5360342953749548, 0.5360342953749548, 0.5360342953749548, 0.5360342953749548, 0.5360342953749548, 0.5360342953749548, 0.5360342953749548, 0.5360342953749548, 0.5360342953749548, 0.5360342953749548, 0.5360342953749548, 0.5360342953749548, 0.5360342953749548, 0.5360342953749548, 0.5360342953749548, 0.5360342953749548, 0.5360342953749548, 0.5360342953749548, 0.5360342953749548, 0.5360342953749548, 0.5360342953749548, 0.5360342953749548, 0.5360342953749548, 0.5360342953749548, 0.5360342953749548, 0.5360342953749548, 0.5360342953749548, 0.5360342953749548, 0.5360342953749548]}], \"average_precision_score_macro\": [{\"categories\": [\"0\", \"1\", \"2\", \"3\", \"4\", \"5\", \"6\", \"7\", \"8\", \"9\", \"10\", \"11\", \"12\", \"13\", \"14\", \"15\", \"16\", \"17\", \"18\", \"19\", \"20\", \"21\", \"22\", \"23\", \"24\", \"25\", \"26\", \"27\", \"28\", \"29\", \"30\", \"31\", \"32\", \"33\", \"34\", \"38\", \"39\", \"40\", \"41\", \"42\", \"43\", \"44\", \"45\", \"46\", \"47\", \"48\", \"49\", \"50\", \"51\", \"52\", \"53\", \"54\"], \"mode\": \"markers\", \"name\": \"average_precision_score_macro\", \"stepped\": false, \"type\": \"scatter\", \"data\": [0.4555689938368509, 0.5839696410291648, 0.596312899292066, 0.5602816623411861, 0.5859736505778173, 0.5555904966946634, 0.5810095336762003, 0.5723391696486935, 0.5574200097741764, 0.5054476224833367, 0.5261403622832195, 0.5225286036714607, 0.46888321995464854, 0.5421059465226132, 0.5902616704283371, 0.5885447345864014, 0.5856615324710562, 0.5199239340906008, 0.552001187524997, 0.580908766387933, 0.447152996474425, 0.5691428710178711, 0.45397520997521, 0.5, 0.5685435367102034, 0.4848567944401278, 0.6005661784203451, 0.5691963746130412, 0.5132371794871794, 0.48863553113553115, 0.5010514578014578, 0.49028253955039675, 0.4944599362277934, 0.5460291771720343, 0.6095071934238601, 0.5752592469259137, 0.5780111015527682, 0.5376727064822303, 0.469685464997965, 0.525447600239267, 0.4667953078667365, 0.5564652249205821, 0.4871521668366907, 0.5034850843600844, 0.5, 0.5, 0.5363636101552768, 0.5560957977207976, 0.4796524507238793, 0.5, 0.6095071934238601, 0.5352310143560144]}, {\"categories\": [\"0\", \"1\", \"2\", \"3\", \"4\", \"5\", \"6\", \"7\", \"8\", \"9\", \"10\", \"11\", \"12\", \"13\", \"14\", \"15\", \"16\", \"17\", \"18\", \"19\", \"20\", \"21\", \"22\", \"23\", \"24\", \"25\", \"26\", \"27\", \"28\", \"29\", \"30\", \"31\", \"32\", \"33\", \"34\", \"38\", \"39\", \"40\", \"41\", \"42\", \"43\", \"44\", \"45\", \"46\", \"47\", \"48\", \"49\", \"50\", \"51\", \"52\", \"53\", \"54\"], \"mode\": \"lines\", \"name\": \"average_precision_score_macro_max\", \"stepped\": true, \"type\": \"scatter\", \"data\": [0.4555689938368509, 0.5839696410291648, 0.596312899292066, 0.596312899292066, 0.596312899292066, 0.596312899292066, 0.596312899292066, 0.596312899292066, 0.596312899292066, 0.596312899292066, 0.596312899292066, 0.596312899292066, 0.596312899292066, 0.596312899292066, 0.596312899292066, 0.596312899292066, 0.596312899292066, 0.596312899292066, 0.596312899292066, 0.596312899292066, 0.596312899292066, 0.596312899292066, 0.596312899292066, 0.596312899292066, 0.596312899292066, 0.596312899292066, 0.6005661784203451, 0.6005661784203451, 0.6005661784203451, 0.6005661784203451, 0.6005661784203451, 0.6005661784203451, 0.6005661784203451, 0.6005661784203451, 0.6095071934238601, 0.6095071934238601, 0.6095071934238601, 0.6095071934238601, 0.6095071934238601, 0.6095071934238601, 0.6095071934238601, 0.6095071934238601, 0.6095071934238601, 0.6095071934238601, 0.6095071934238601, 0.6095071934238601, 0.6095071934238601, 0.6095071934238601, 0.6095071934238601, 0.6095071934238601, 0.6095071934238601, 0.6095071934238601]}], \"matthews_correlation\": [{\"categories\": [\"0\", \"1\", \"2\", \"3\", \"4\", \"5\", \"6\", \"7\", \"8\", \"9\", \"10\", \"11\", \"12\", \"13\", \"14\", \"15\", \"16\", \"17\", \"18\", \"19\", \"20\", \"21\", \"22\", \"23\", \"24\", \"25\", \"26\", \"27\", \"28\", \"29\", \"30\", \"31\", \"32\", \"33\", \"34\", \"38\", \"39\", \"40\", \"41\", \"42\", \"43\", \"44\", \"45\", \"46\", \"47\", \"48\", \"49\", \"50\", \"51\", \"52\", \"53\", \"54\"], \"mode\": \"markers\", \"name\": \"matthews_correlation\", \"stepped\": false, \"type\": \"scatter\", \"data\": [-0.2718365672046815, -0.06916479180368881, 0.026743276236941133, -0.09211796749774712, 0.04544230023796238, -0.09398322683392206, -0.079035728594502, -0.12430439415258476, -0.09907701167372306, -0.2208657188151002, -0.0696468349930384, -0.1497902777007994, -0.08295150620062533, -0.0675491722072745, -0.079035728594502, -0.09050067840789981, -0.14359010843829906, -0.1962652061274693, -0.2816960592927707, -0.017525013854256578, -0.2695056808756106, -0.011105743602459583, -0.17996805564338625, 0.0, -0.13259829654534347, -0.2583055807386355, -0.10385251050406252, -0.1206578807927499, 0.0, -0.08295150620062533, -0.20046252028788897, -0.1916835170694305, -0.2530632937386244, -0.2035770202343447, 0.11211043468422317, -0.011492259027639586, -0.14966484116458378, -0.16279195573784172, -0.14870189597629807, -0.12606825400417798, -0.08295150620062533, -0.09781145510389663, 0.0, -0.09491306005909919, 0.0, 0.0, -0.15407204803803984, -0.061314295785343274, -0.08295150620062533, 0.0, 0.11211043468422317, 0.045643546458763846]}, {\"categories\": [\"0\", \"1\", \"2\", \"3\", \"4\", \"5\", \"6\", \"7\", \"8\", \"9\", \"10\", \"11\", \"12\", \"13\", \"14\", \"15\", \"16\", \"17\", \"18\", \"19\", \"20\", \"21\", \"22\", \"23\", \"24\", \"25\", \"26\", \"27\", \"28\", \"29\", \"30\", \"31\", \"32\", \"33\", \"34\", \"38\", \"39\", \"40\", \"41\", \"42\", \"43\", \"44\", \"45\", \"46\", \"47\", \"48\", \"49\", \"50\", \"51\", \"52\", \"53\", \"54\"], \"mode\": \"lines\", \"name\": \"matthews_correlation_max\", \"stepped\": true, \"type\": \"scatter\", \"data\": [-0.2718365672046815, -0.06916479180368881, 0.026743276236941133, 0.026743276236941133, 0.04544230023796238, 0.04544230023796238, 0.04544230023796238, 0.04544230023796238, 0.04544230023796238, 0.04544230023796238, 0.04544230023796238, 0.04544230023796238, 0.04544230023796238, 0.04544230023796238, 0.04544230023796238, 0.04544230023796238, 0.04544230023796238, 0.04544230023796238, 0.04544230023796238, 0.04544230023796238, 0.04544230023796238, 0.04544230023796238, 0.04544230023796238, 0.04544230023796238, 0.04544230023796238, 0.04544230023796238, 0.04544230023796238, 0.04544230023796238, 0.04544230023796238, 0.04544230023796238, 0.04544230023796238, 0.04544230023796238, 0.04544230023796238, 0.04544230023796238, 0.11211043468422317, 0.11211043468422317, 0.11211043468422317, 0.11211043468422317, 0.11211043468422317, 0.11211043468422317, 0.11211043468422317, 0.11211043468422317, 0.11211043468422317, 0.11211043468422317, 0.11211043468422317, 0.11211043468422317, 0.11211043468422317, 0.11211043468422317, 0.11211043468422317, 0.11211043468422317, 0.11211043468422317, 0.11211043468422317]}], \"average_precision_score_micro\": [{\"categories\": [\"0\", \"1\", \"2\", \"3\", \"4\", \"5\", \"6\", \"7\", \"8\", \"9\", \"10\", \"11\", \"12\", \"13\", \"14\", \"15\", \"16\", \"17\", \"18\", \"19\", \"20\", \"21\", \"22\", \"23\", \"24\", \"25\", \"26\", \"27\", \"28\", \"29\", \"30\", \"31\", \"32\", \"33\", \"34\", \"38\", \"39\", \"40\", \"41\", \"42\", \"43\", \"44\", \"45\", \"46\", \"47\", \"48\", \"49\", \"50\", \"51\", \"52\", \"53\", \"54\"], \"mode\": \"markers\", \"name\": \"average_precision_score_micro\", \"stepped\": false, \"type\": \"scatter\", \"data\": [0.4196975935402224, 0.5598297135164434, 0.5708200164612227, 0.5287825012570545, 0.5612312057837981, 0.5258534037668829, 0.5609912584428127, 0.5347774324662148, 0.5092948324726417, 0.455808604076093, 0.4838377398181115, 0.4769483270312609, 0.43564612432744304, 0.511474825745507, 0.5548480121040775, 0.5435260189776046, 0.5268675796652422, 0.4791788454540974, 0.49133461254012245, 0.5720895618728487, 0.43011417993023865, 0.534903488559951, 0.41163336049702365, 0.46074145634585195, 0.5237872852986137, 0.4497908793951611, 0.5653051637838081, 0.5012584465490618, 0.4582387905852676, 0.44945940506380067, 0.44301305176544614, 0.4562739675523731, 0.4682788053545665, 0.504686953579979, 0.5882869320973165, 0.5498555558241243, 0.5199204526436405, 0.4990781094265982, 0.4458688864313503, 0.4696720838164977, 0.4289336034559609, 0.5096632539220156, 0.4389233089972094, 0.45809428257274015, 0.46074145634585195, 0.46074145634585195, 0.46604009057939677, 0.4626603002140627, 0.44320693958056595, 0.46074145634585195, 0.5882869320973165, 0.45128777572001405]}, {\"categories\": [\"0\", \"1\", \"2\", \"3\", \"4\", \"5\", \"6\", \"7\", \"8\", \"9\", \"10\", \"11\", \"12\", \"13\", \"14\", \"15\", \"16\", \"17\", \"18\", \"19\", \"20\", \"21\", \"22\", \"23\", \"24\", \"25\", \"26\", \"27\", \"28\", \"29\", \"30\", \"31\", \"32\", \"33\", \"34\", \"38\", \"39\", \"40\", \"41\", \"42\", \"43\", \"44\", \"45\", \"46\", \"47\", \"48\", \"49\", \"50\", \"51\", \"52\", \"53\", \"54\"], \"mode\": \"lines\", \"name\": \"average_precision_score_micro_max\", \"stepped\": true, \"type\": \"scatter\", \"data\": [0.4196975935402224, 0.5598297135164434, 0.5708200164612227, 0.5708200164612227, 0.5708200164612227, 0.5708200164612227, 0.5708200164612227, 0.5708200164612227, 0.5708200164612227, 0.5708200164612227, 0.5708200164612227, 0.5708200164612227, 0.5708200164612227, 0.5708200164612227, 0.5708200164612227, 0.5708200164612227, 0.5708200164612227, 0.5708200164612227, 0.5708200164612227, 0.5720895618728487, 0.5720895618728487, 0.5720895618728487, 0.5720895618728487, 0.5720895618728487, 0.5720895618728487, 0.5720895618728487, 0.5720895618728487, 0.5720895618728487, 0.5720895618728487, 0.5720895618728487, 0.5720895618728487, 0.5720895618728487, 0.5720895618728487, 0.5720895618728487, 0.5882869320973165, 0.5882869320973165, 0.5882869320973165, 0.5882869320973165, 0.5882869320973165, 0.5882869320973165, 0.5882869320973165, 0.5882869320973165, 0.5882869320973165, 0.5882869320973165, 0.5882869320973165, 0.5882869320973165, 0.5882869320973165, 0.5882869320973165, 0.5882869320973165, 0.5882869320973165, 0.5882869320973165, 0.5882869320973165]}], \"f1_score_weighted\": [{\"categories\": [\"0\", \"1\", \"2\", \"3\", \"4\", \"5\", \"6\", \"7\", \"8\", \"9\", \"10\", \"11\", \"12\", \"13\", \"14\", \"15\", \"16\", \"17\", \"18\", \"19\", \"20\", \"21\", \"22\", \"23\", \"24\", \"25\", \"26\", \"27\", \"28\", \"29\", \"30\", \"31\", \"32\", \"33\", \"34\", \"38\", \"39\", \"40\", \"41\", \"42\", \"43\", \"44\", \"45\", \"46\", \"47\", \"48\", \"49\", \"50\", \"51\", \"52\", \"53\", \"54\"], \"mode\": \"markers\", \"name\": \"f1_score_weighted\", \"stepped\": false, \"type\": \"scatter\", \"data\": [0.3035764235764236, 0.47423883306236253, 0.5193736981972277, 0.4461383061383062, 0.5326204514439808, 0.43699633699633705, 0.47092241092241094, 0.4436147186147187, 0.4443889443889444, 0.3066216136804372, 0.427774186597716, 0.4145387945387945, 0.2446392685401973, 0.47401098901098904, 0.47092241092241094, 0.4603046953046953, 0.4284365634365635, 0.3934132534132534, 0.3494638694638694, 0.5053011041246336, 0.3544805194805195, 0.48346653346653345, 0.2823170293758529, 0.22415752805845682, 0.44383590265943207, 0.30272550978433327, 0.4469796869796869, 0.3928071928071928, 0.22415752805845682, 0.2446392685401973, 0.33799533799533804, 0.4013519813519813, 0.39743589743589747, 0.41728271728271726, 0.563003663003663, 0.4827888777888778, 0.4082850482850483, 0.40790542790542794, 0.293360985419809, 0.39900765900765894, 0.2446392685401973, 0.430562378797673, 0.22415752805845682, 0.3240159152852652, 0.22415752805845682, 0.22415752805845682, 0.3860872460872461, 0.33448564507388034, 0.2446392685401973, 0.22415752805845682, 0.563003663003663, 0.254021781452122]}, {\"categories\": [\"0\", \"1\", \"2\", \"3\", \"4\", \"5\", \"6\", \"7\", \"8\", \"9\", \"10\", \"11\", \"12\", \"13\", \"14\", \"15\", \"16\", \"17\", \"18\", \"19\", \"20\", \"21\", \"22\", \"23\", \"24\", \"25\", \"26\", \"27\", \"28\", \"29\", \"30\", \"31\", \"32\", \"33\", \"34\", \"38\", \"39\", \"40\", \"41\", \"42\", \"43\", \"44\", \"45\", \"46\", \"47\", \"48\", \"49\", \"50\", \"51\", \"52\", \"53\", \"54\"], \"mode\": \"lines\", \"name\": \"f1_score_weighted_max\", \"stepped\": true, \"type\": \"scatter\", \"data\": [0.3035764235764236, 0.47423883306236253, 0.5193736981972277, 0.5193736981972277, 0.5326204514439808, 0.5326204514439808, 0.5326204514439808, 0.5326204514439808, 0.5326204514439808, 0.5326204514439808, 0.5326204514439808, 0.5326204514439808, 0.5326204514439808, 0.5326204514439808, 0.5326204514439808, 0.5326204514439808, 0.5326204514439808, 0.5326204514439808, 0.5326204514439808, 0.5326204514439808, 0.5326204514439808, 0.5326204514439808, 0.5326204514439808, 0.5326204514439808, 0.5326204514439808, 0.5326204514439808, 0.5326204514439808, 0.5326204514439808, 0.5326204514439808, 0.5326204514439808, 0.5326204514439808, 0.5326204514439808, 0.5326204514439808, 0.5326204514439808, 0.563003663003663, 0.563003663003663, 0.563003663003663, 0.563003663003663, 0.563003663003663, 0.563003663003663, 0.563003663003663, 0.563003663003663, 0.563003663003663, 0.563003663003663, 0.563003663003663, 0.563003663003663, 0.563003663003663, 0.563003663003663, 0.563003663003663, 0.563003663003663, 0.563003663003663, 0.563003663003663]}], \"accuracy\": [{\"categories\": [\"0\", \"1\", \"2\", \"3\", \"4\", \"5\", \"6\", \"7\", \"8\", \"9\", \"10\", \"11\", \"12\", \"13\", \"14\", \"15\", \"16\", \"17\", \"18\", \"19\", \"20\", \"21\", \"22\", \"23\", \"24\", \"25\", \"26\", \"27\", \"28\", \"29\", \"30\", \"31\", \"32\", \"33\", \"34\", \"38\", \"39\", \"40\", \"41\", \"42\", \"43\", \"44\", \"45\", \"46\", \"47\", \"48\", \"49\", \"50\", \"51\", \"52\", \"53\", \"54\"], \"mode\": \"markers\", \"name\": \"accuracy\", \"stepped\": false, \"type\": \"scatter\", \"data\": [0.33186813186813185, 0.47142857142857136, 0.5153846153846153, 0.45604395604395603, 0.5285714285714286, 0.4395604395604396, 0.47142857142857153, 0.4406593406593407, 0.4406593406593407, 0.3472527472527473, 0.45604395604395603, 0.41098901098901097, 0.37802197802197807, 0.47142857142857136, 0.47142857142857153, 0.45604395604395603, 0.4252747252747254, 0.3934065934065934, 0.34835164835164834, 0.5, 0.3637362637362637, 0.48571428571428577, 0.34725274725274724, 0.39340659340659345, 0.4406593406593407, 0.332967032967033, 0.4417582417582418, 0.40879120879120884, 0.39340659340659345, 0.37802197802197807, 0.3637362637362638, 0.39560439560439564, 0.39560439560439564, 0.41098901098901097, 0.5604395604395604, 0.48571428571428565, 0.4098901098901099, 0.4098901098901099, 0.3637362637362638, 0.4087912087912088, 0.37802197802197807, 0.4362637362637363, 0.39340659340659345, 0.4076923076923077, 0.39340659340659345, 0.39340659340659345, 0.4087912087912088, 0.3945054945054945, 0.37802197802197807, 0.39340659340659345, 0.5604395604395604, 0.40879120879120884]}, {\"categories\": [\"0\", \"1\", \"2\", \"3\", \"4\", \"5\", \"6\", \"7\", \"8\", \"9\", \"10\", \"11\", \"12\", \"13\", \"14\", \"15\", \"16\", \"17\", \"18\", \"19\", \"20\", \"21\", \"22\", \"23\", \"24\", \"25\", \"26\", \"27\", \"28\", \"29\", \"30\", \"31\", \"32\", \"33\", \"34\", \"38\", \"39\", \"40\", \"41\", \"42\", \"43\", \"44\", \"45\", \"46\", \"47\", \"48\", \"49\", \"50\", \"51\", \"52\", \"53\", \"54\"], \"mode\": \"lines\", \"name\": \"accuracy_max\", \"stepped\": true, \"type\": \"scatter\", \"data\": [0.33186813186813185, 0.47142857142857136, 0.5153846153846153, 0.5153846153846153, 0.5285714285714286, 0.5285714285714286, 0.5285714285714286, 0.5285714285714286, 0.5285714285714286, 0.5285714285714286, 0.5285714285714286, 0.5285714285714286, 0.5285714285714286, 0.5285714285714286, 0.5285714285714286, 0.5285714285714286, 0.5285714285714286, 0.5285714285714286, 0.5285714285714286, 0.5285714285714286, 0.5285714285714286, 0.5285714285714286, 0.5285714285714286, 0.5285714285714286, 0.5285714285714286, 0.5285714285714286, 0.5285714285714286, 0.5285714285714286, 0.5285714285714286, 0.5285714285714286, 0.5285714285714286, 0.5285714285714286, 0.5285714285714286, 0.5285714285714286, 0.5604395604395604, 0.5604395604395604, 0.5604395604395604, 0.5604395604395604, 0.5604395604395604, 0.5604395604395604, 0.5604395604395604, 0.5604395604395604, 0.5604395604395604, 0.5604395604395604, 0.5604395604395604, 0.5604395604395604, 0.5604395604395604, 0.5604395604395604, 0.5604395604395604, 0.5604395604395604, 0.5604395604395604, 0.5604395604395604]}], \"recall_score_macro\": [{\"categories\": [\"0\", \"1\", \"2\", \"3\", \"4\", \"5\", \"6\", \"7\", \"8\", \"9\", \"10\", \"11\", \"12\", \"13\", \"14\", \"15\", \"16\", \"17\", \"18\", \"19\", \"20\", \"21\", \"22\", \"23\", \"24\", \"25\", \"26\", \"27\", \"28\", \"29\", \"30\", \"31\", \"32\", \"33\", \"34\", \"38\", \"39\", \"40\", \"41\", \"42\", \"43\", \"44\", \"45\", \"46\", \"47\", \"48\", \"49\", \"50\", \"51\", \"52\", \"53\", \"54\"], \"mode\": \"markers\", \"name\": \"recall_score_macro\", \"stepped\": false, \"type\": \"scatter\", \"data\": [0.3699206349206349, 0.4663095238095238, 0.5136904761904761, 0.4589682539682539, 0.5228571428571429, 0.4548015873015873, 0.46075396825396825, 0.43853174603174605, 0.4496428571428572, 0.39214285714285707, 0.4830952380952381, 0.42242063492063486, 0.4575, 0.4676984126984127, 0.46075396825396825, 0.4551984126984127, 0.4284126984126984, 0.4004761904761905, 0.3588095238095238, 0.4913095238095238, 0.36837301587301585, 0.4978571428571429, 0.4086904761904762, 0.5, 0.43380952380952376, 0.36952380952380953, 0.447420634920635, 0.4432539682539682, 0.5, 0.4575, 0.40575396825396826, 0.40242063492063496, 0.37214285714285716, 0.39492063492063495, 0.5557539682539683, 0.49603174603174605, 0.42519841269841263, 0.4196428571428571, 0.4247619047619048, 0.4340873015873016, 0.4575, 0.4471428571428572, 0.5, 0.44000000000000006, 0.5, 0.5, 0.4404761904761904, 0.4629761904761904, 0.4575, 0.5, 0.5557539682539683, 0.5125]}, {\"categories\": [\"0\", \"1\", \"2\", \"3\", \"4\", \"5\", \"6\", \"7\", \"8\", \"9\", \"10\", \"11\", \"12\", \"13\", \"14\", \"15\", \"16\", \"17\", \"18\", \"19\", \"20\", \"21\", \"22\", \"23\", \"24\", \"25\", \"26\", \"27\", \"28\", \"29\", \"30\", \"31\", \"32\", \"33\", \"34\", \"38\", \"39\", \"40\", \"41\", \"42\", \"43\", \"44\", \"45\", \"46\", \"47\", \"48\", \"49\", \"50\", \"51\", \"52\", \"53\", \"54\"], \"mode\": \"lines\", \"name\": \"recall_score_macro_max\", \"stepped\": true, \"type\": \"scatter\", \"data\": [0.3699206349206349, 0.4663095238095238, 0.5136904761904761, 0.5136904761904761, 0.5228571428571429, 0.5228571428571429, 0.5228571428571429, 0.5228571428571429, 0.5228571428571429, 0.5228571428571429, 0.5228571428571429, 0.5228571428571429, 0.5228571428571429, 0.5228571428571429, 0.5228571428571429, 0.5228571428571429, 0.5228571428571429, 0.5228571428571429, 0.5228571428571429, 0.5228571428571429, 0.5228571428571429, 0.5228571428571429, 0.5228571428571429, 0.5228571428571429, 0.5228571428571429, 0.5228571428571429, 0.5228571428571429, 0.5228571428571429, 0.5228571428571429, 0.5228571428571429, 0.5228571428571429, 0.5228571428571429, 0.5228571428571429, 0.5228571428571429, 0.5557539682539683, 0.5557539682539683, 0.5557539682539683, 0.5557539682539683, 0.5557539682539683, 0.5557539682539683, 0.5557539682539683, 0.5557539682539683, 0.5557539682539683, 0.5557539682539683, 0.5557539682539683, 0.5557539682539683, 0.5557539682539683, 0.5557539682539683, 0.5557539682539683, 0.5557539682539683, 0.5557539682539683, 0.5557539682539683]}], \"log_loss\": [{\"categories\": [\"0\", \"1\", \"2\", \"3\", \"4\", \"5\", \"6\", \"7\", \"8\", \"9\", \"10\", \"11\", \"12\", \"13\", \"14\", \"15\", \"16\", \"17\", \"18\", \"19\", \"20\", \"21\", \"22\", \"23\", \"24\", \"25\", \"26\", \"27\", \"28\", \"29\", \"30\", \"31\", \"32\", \"33\", \"34\", \"38\", \"39\", \"40\", \"41\", \"42\", \"43\", \"44\", \"45\", \"46\", \"47\", \"48\", \"49\", \"50\", \"51\", \"52\", \"53\", \"54\"], \"mode\": \"markers\", \"name\": \"log_loss\", \"stepped\": false, \"type\": \"scatter\", \"data\": [0.7775838985820896, 0.8842719976099669, 1.8607713111679236, 0.7887536589380975, 1.431310356833618, 0.7523963821537795, 0.8004022486106537, 0.7670453186319096, 0.7428539637443595, 0.7058384198220029, 0.7754492552835259, 0.8297734255635516, 0.7135442383594425, 0.77093313844782, 0.7711075936384685, 0.8343676241661449, 0.746037056100182, 0.7077123130768153, 0.7808606395920343, 0.8582640463364483, 0.733364338260423, 3.4403756807114108, 0.7362860999284576, 0.7028802922204586, 0.7718638713296174, 0.7592861676556313, 0.7592679884428919, 0.7204208769523782, 0.7085893206746947, 0.7123774349649767, 0.7515852321617208, 0.916841918676895, 0.8681081925689325, 0.7304479180065403, 0.8289905784134651, 0.9731288211110897, 0.7443206872305568, 0.7811431259636035, 0.7367802190874265, 0.7238932529399273, 0.7149508350001301, 0.708845090918621, 0.7103836796046106, 0.7041740464280091, 0.7056386661199193, 0.7087654788401931, 0.7365862748879209, 0.7163573514339848, 0.7150366205677277, 0.7087654788401931, 0.8289905784134651, 0.7124571754142813]}, {\"categories\": [\"0\", \"1\", \"2\", \"3\", \"4\", \"5\", \"6\", \"7\", \"8\", \"9\", \"10\", \"11\", \"12\", \"13\", \"14\", \"15\", \"16\", \"17\", \"18\", \"19\", \"20\", \"21\", \"22\", \"23\", \"24\", \"25\", \"26\", \"27\", \"28\", \"29\", \"30\", \"31\", \"32\", \"33\", \"34\", \"38\", \"39\", \"40\", \"41\", \"42\", \"43\", \"44\", \"45\", \"46\", \"47\", \"48\", \"49\", \"50\", \"51\", \"52\", \"53\", \"54\"], \"mode\": \"lines\", \"name\": \"log_loss_min\", \"stepped\": true, \"type\": \"scatter\", \"data\": [0.7775838985820896, 0.7775838985820896, 0.7775838985820896, 0.7775838985820896, 0.7775838985820896, 0.7523963821537795, 0.7523963821537795, 0.7523963821537795, 0.7428539637443595, 0.7058384198220029, 0.7058384198220029, 0.7058384198220029, 0.7058384198220029, 0.7058384198220029, 0.7058384198220029, 0.7058384198220029, 0.7058384198220029, 0.7058384198220029, 0.7058384198220029, 0.7058384198220029, 0.7058384198220029, 0.7058384198220029, 0.7058384198220029, 0.7028802922204586, 0.7028802922204586, 0.7028802922204586, 0.7028802922204586, 0.7028802922204586, 0.7028802922204586, 0.7028802922204586, 0.7028802922204586, 0.7028802922204586, 0.7028802922204586, 0.7028802922204586, 0.7028802922204586, 0.7028802922204586, 0.7028802922204586, 0.7028802922204586, 0.7028802922204586, 0.7028802922204586, 0.7028802922204586, 0.7028802922204586, 0.7028802922204586, 0.7028802922204586, 0.7028802922204586, 0.7028802922204586, 0.7028802922204586, 0.7028802922204586, 0.7028802922204586, 0.7028802922204586, 0.7028802922204586, 0.7028802922204586]}], \"weighted_accuracy\": [{\"categories\": [\"0\", \"1\", \"2\", \"3\", \"4\", \"5\", \"6\", \"7\", \"8\", \"9\", \"10\", \"11\", \"12\", \"13\", \"14\", \"15\", \"16\", \"17\", \"18\", \"19\", \"20\", \"21\", \"22\", \"23\", \"24\", \"25\", \"26\", \"27\", \"28\", \"29\", \"30\", \"31\", \"32\", \"33\", \"34\", \"38\", \"39\", \"40\", \"41\", \"42\", \"43\", \"44\", \"45\", \"46\", \"47\", \"48\", \"49\", \"50\", \"51\", \"52\", \"53\", \"54\"], \"mode\": \"markers\", \"name\": \"weighted_accuracy\", \"stepped\": false, \"type\": \"scatter\", \"data\": [0.3010570655691907, 0.4748568625179714, 0.5157398763976806, 0.4533680473695327, 0.5325039213415007, 0.4274026478424104, 0.4792959164900757, 0.44218251442822004, 0.43330440648401136, 0.31272531530856285, 0.436684105450358, 0.4010243593325201, 0.31104388768133223, 0.4742776895769311, 0.4792959164900757, 0.45630016148704355, 0.4218520451618618, 0.3878556292202969, 0.3399005730405217, 0.5068568625179715, 0.3619543884274432, 0.4747738159320255, 0.2980075360620328, 0.3020551236363884, 0.44564337937190396, 0.3062322551631564, 0.4369794155122954, 0.3814615599512131, 0.3020551236363884, 0.31104388768133223, 0.3296466227403738, 0.3897884042763404, 0.41416000163531175, 0.42423761080941114, 0.5627671656639024, 0.4756762355121592, 0.39774836639161626, 0.4021874203637206, 0.314948712532621, 0.3884500923269806, 0.31104388768133223, 0.4309968724661183, 0.3020551236363884, 0.3845984151102813, 0.3020551236363884, 0.3020551236363884, 0.384882387010173, 0.33906768146850996, 0.31104388768133223, 0.3020551236363884, 0.5627671656639024, 0.32003265172627604]}, {\"categories\": [\"0\", \"1\", \"2\", \"3\", \"4\", \"5\", \"6\", \"7\", \"8\", \"9\", \"10\", \"11\", \"12\", \"13\", \"14\", \"15\", \"16\", \"17\", \"18\", \"19\", \"20\", \"21\", \"22\", \"23\", \"24\", \"25\", \"26\", \"27\", \"28\", \"29\", \"30\", \"31\", \"32\", \"33\", \"34\", \"38\", \"39\", \"40\", \"41\", \"42\", \"43\", \"44\", \"45\", \"46\", \"47\", \"48\", \"49\", \"50\", \"51\", \"52\", \"53\", \"54\"], \"mode\": \"lines\", \"name\": \"weighted_accuracy_max\", \"stepped\": true, \"type\": \"scatter\", \"data\": [0.3010570655691907, 0.4748568625179714, 0.5157398763976806, 0.5157398763976806, 0.5325039213415007, 0.5325039213415007, 0.5325039213415007, 0.5325039213415007, 0.5325039213415007, 0.5325039213415007, 0.5325039213415007, 0.5325039213415007, 0.5325039213415007, 0.5325039213415007, 0.5325039213415007, 0.5325039213415007, 0.5325039213415007, 0.5325039213415007, 0.5325039213415007, 0.5325039213415007, 0.5325039213415007, 0.5325039213415007, 0.5325039213415007, 0.5325039213415007, 0.5325039213415007, 0.5325039213415007, 0.5325039213415007, 0.5325039213415007, 0.5325039213415007, 0.5325039213415007, 0.5325039213415007, 0.5325039213415007, 0.5325039213415007, 0.5325039213415007, 0.5627671656639024, 0.5627671656639024, 0.5627671656639024, 0.5627671656639024, 0.5627671656639024, 0.5627671656639024, 0.5627671656639024, 0.5627671656639024, 0.5627671656639024, 0.5627671656639024, 0.5627671656639024, 0.5627671656639024, 0.5627671656639024, 0.5627671656639024, 0.5627671656639024, 0.5627671656639024, 0.5627671656639024, 0.5627671656639024]}], \"precision_score_micro\": [{\"categories\": [\"0\", \"1\", \"2\", \"3\", \"4\", \"5\", \"6\", \"7\", \"8\", \"9\", \"10\", \"11\", \"12\", \"13\", \"14\", \"15\", \"16\", \"17\", \"18\", \"19\", \"20\", \"21\", \"22\", \"23\", \"24\", \"25\", \"26\", \"27\", \"28\", \"29\", \"30\", \"31\", \"32\", \"33\", \"34\", \"38\", \"39\", \"40\", \"41\", \"42\", \"43\", \"44\", \"45\", \"46\", \"47\", \"48\", \"49\", \"50\", \"51\", \"52\", \"53\", \"54\"], \"mode\": \"markers\", \"name\": \"precision_score_micro\", \"stepped\": false, \"type\": \"scatter\", \"data\": [0.33186813186813185, 0.47142857142857136, 0.5153846153846153, 0.45604395604395603, 0.5285714285714286, 0.4395604395604396, 0.47142857142857153, 0.4406593406593407, 0.4406593406593407, 0.3472527472527473, 0.45604395604395603, 0.41098901098901097, 0.37802197802197807, 0.47142857142857136, 0.47142857142857153, 0.45604395604395603, 0.4252747252747254, 0.3934065934065934, 0.34835164835164834, 0.5, 0.3637362637362637, 0.48571428571428577, 0.34725274725274724, 0.39340659340659345, 0.4406593406593407, 0.332967032967033, 0.4417582417582418, 0.40879120879120884, 0.39340659340659345, 0.37802197802197807, 0.3637362637362638, 0.39560439560439564, 0.39560439560439564, 0.41098901098901097, 0.5604395604395604, 0.48571428571428565, 0.4098901098901099, 0.4098901098901099, 0.3637362637362638, 0.4087912087912088, 0.37802197802197807, 0.4362637362637363, 0.39340659340659345, 0.4076923076923077, 0.39340659340659345, 0.39340659340659345, 0.4087912087912088, 0.3945054945054945, 0.37802197802197807, 0.39340659340659345, 0.5604395604395604, 0.40879120879120884]}, {\"categories\": [\"0\", \"1\", \"2\", \"3\", \"4\", \"5\", \"6\", \"7\", \"8\", \"9\", \"10\", \"11\", \"12\", \"13\", \"14\", \"15\", \"16\", \"17\", \"18\", \"19\", \"20\", \"21\", \"22\", \"23\", \"24\", \"25\", \"26\", \"27\", \"28\", \"29\", \"30\", \"31\", \"32\", \"33\", \"34\", \"38\", \"39\", \"40\", \"41\", \"42\", \"43\", \"44\", \"45\", \"46\", \"47\", \"48\", \"49\", \"50\", \"51\", \"52\", \"53\", \"54\"], \"mode\": \"lines\", \"name\": \"precision_score_micro_max\", \"stepped\": true, \"type\": \"scatter\", \"data\": [0.33186813186813185, 0.47142857142857136, 0.5153846153846153, 0.5153846153846153, 0.5285714285714286, 0.5285714285714286, 0.5285714285714286, 0.5285714285714286, 0.5285714285714286, 0.5285714285714286, 0.5285714285714286, 0.5285714285714286, 0.5285714285714286, 0.5285714285714286, 0.5285714285714286, 0.5285714285714286, 0.5285714285714286, 0.5285714285714286, 0.5285714285714286, 0.5285714285714286, 0.5285714285714286, 0.5285714285714286, 0.5285714285714286, 0.5285714285714286, 0.5285714285714286, 0.5285714285714286, 0.5285714285714286, 0.5285714285714286, 0.5285714285714286, 0.5285714285714286, 0.5285714285714286, 0.5285714285714286, 0.5285714285714286, 0.5285714285714286, 0.5604395604395604, 0.5604395604395604, 0.5604395604395604, 0.5604395604395604, 0.5604395604395604, 0.5604395604395604, 0.5604395604395604, 0.5604395604395604, 0.5604395604395604, 0.5604395604395604, 0.5604395604395604, 0.5604395604395604, 0.5604395604395604, 0.5604395604395604, 0.5604395604395604, 0.5604395604395604, 0.5604395604395604, 0.5604395604395604]}], \"f1_score_micro\": [{\"categories\": [\"0\", \"1\", \"2\", \"3\", \"4\", \"5\", \"6\", \"7\", \"8\", \"9\", \"10\", \"11\", \"12\", \"13\", \"14\", \"15\", \"16\", \"17\", \"18\", \"19\", \"20\", \"21\", \"22\", \"23\", \"24\", \"25\", \"26\", \"27\", \"28\", \"29\", \"30\", \"31\", \"32\", \"33\", \"34\", \"38\", \"39\", \"40\", \"41\", \"42\", \"43\", \"44\", \"45\", \"46\", \"47\", \"48\", \"49\", \"50\", \"51\", \"52\", \"53\", \"54\"], \"mode\": \"markers\", \"name\": \"f1_score_micro\", \"stepped\": false, \"type\": \"scatter\", \"data\": [0.33186813186813185, 0.47142857142857136, 0.5153846153846153, 0.45604395604395603, 0.5285714285714286, 0.4395604395604396, 0.47142857142857153, 0.4406593406593407, 0.4406593406593407, 0.3472527472527473, 0.45604395604395603, 0.41098901098901097, 0.37802197802197807, 0.47142857142857136, 0.47142857142857153, 0.45604395604395603, 0.4252747252747254, 0.3934065934065934, 0.34835164835164834, 0.5, 0.3637362637362637, 0.48571428571428577, 0.34725274725274724, 0.39340659340659345, 0.4406593406593407, 0.332967032967033, 0.4417582417582418, 0.40879120879120884, 0.39340659340659345, 0.37802197802197807, 0.3637362637362638, 0.39560439560439564, 0.39560439560439564, 0.41098901098901097, 0.5604395604395604, 0.48571428571428565, 0.4098901098901099, 0.4098901098901099, 0.3637362637362638, 0.4087912087912088, 0.37802197802197807, 0.4362637362637363, 0.39340659340659345, 0.4076923076923077, 0.39340659340659345, 0.39340659340659345, 0.4087912087912088, 0.3945054945054945, 0.37802197802197807, 0.39340659340659345, 0.5604395604395604, 0.40879120879120884]}, {\"categories\": [\"0\", \"1\", \"2\", \"3\", \"4\", \"5\", \"6\", \"7\", \"8\", \"9\", \"10\", \"11\", \"12\", \"13\", \"14\", \"15\", \"16\", \"17\", \"18\", \"19\", \"20\", \"21\", \"22\", \"23\", \"24\", \"25\", \"26\", \"27\", \"28\", \"29\", \"30\", \"31\", \"32\", \"33\", \"34\", \"38\", \"39\", \"40\", \"41\", \"42\", \"43\", \"44\", \"45\", \"46\", \"47\", \"48\", \"49\", \"50\", \"51\", \"52\", \"53\", \"54\"], \"mode\": \"lines\", \"name\": \"f1_score_micro_max\", \"stepped\": true, \"type\": \"scatter\", \"data\": [0.33186813186813185, 0.47142857142857136, 0.5153846153846153, 0.5153846153846153, 0.5285714285714286, 0.5285714285714286, 0.5285714285714286, 0.5285714285714286, 0.5285714285714286, 0.5285714285714286, 0.5285714285714286, 0.5285714285714286, 0.5285714285714286, 0.5285714285714286, 0.5285714285714286, 0.5285714285714286, 0.5285714285714286, 0.5285714285714286, 0.5285714285714286, 0.5285714285714286, 0.5285714285714286, 0.5285714285714286, 0.5285714285714286, 0.5285714285714286, 0.5285714285714286, 0.5285714285714286, 0.5285714285714286, 0.5285714285714286, 0.5285714285714286, 0.5285714285714286, 0.5285714285714286, 0.5285714285714286, 0.5285714285714286, 0.5285714285714286, 0.5604395604395604, 0.5604395604395604, 0.5604395604395604, 0.5604395604395604, 0.5604395604395604, 0.5604395604395604, 0.5604395604395604, 0.5604395604395604, 0.5604395604395604, 0.5604395604395604, 0.5604395604395604, 0.5604395604395604, 0.5604395604395604, 0.5604395604395604, 0.5604395604395604, 0.5604395604395604, 0.5604395604395604, 0.5604395604395604]}], \"precision_score_macro\": [{\"categories\": [\"0\", \"1\", \"2\", \"3\", \"4\", \"5\", \"6\", \"7\", \"8\", \"9\", \"10\", \"11\", \"12\", \"13\", \"14\", \"15\", \"16\", \"17\", \"18\", \"19\", \"20\", \"21\", \"22\", \"23\", \"24\", \"25\", \"26\", \"27\", \"28\", \"29\", \"30\", \"31\", \"32\", \"33\", \"34\", \"38\", \"39\", \"40\", \"41\", \"42\", \"43\", \"44\", \"45\", \"46\", \"47\", \"48\", \"49\", \"50\", \"51\", \"52\", \"53\", \"54\"], \"mode\": \"markers\", \"name\": \"precision_score_macro\", \"stepped\": false, \"type\": \"scatter\", \"data\": [0.35643939393939394, 0.46452380952380945, 0.513095238095238, 0.44801587301587303, 0.5226190476190476, 0.4511904761904762, 0.4601587301587301, 0.4371428571428571, 0.4511904761904762, 0.3175152625152625, 0.4338888888888889, 0.42777777777777776, 0.2177655677655678, 0.4647619047619048, 0.4601587301587301, 0.4542857142857143, 0.4279761904761904, 0.40309523809523806, 0.3594047619047619, 0.4911904761904761, 0.36174603174603176, 0.4911904761904761, 0.28054029304029304, 0.19670329670329673, 0.43357142857142855, 0.3029120879120879, 0.44869047619047625, 0.43489177489177483, 0.19670329670329673, 0.2177655677655678, 0.39173160173160176, 0.4058333333333334, 0.37476190476190474, 0.4013095238095238, 0.5563492063492064, 0.4923809523809524, 0.42507936507936506, 0.41730158730158734, 0.29573870573870575, 0.44035714285714284, 0.2177655677655678, 0.45515873015873015, 0.19670329670329673, 0.3602930402930403, 0.19670329670329673, 0.19670329670329673, 0.3920238095238095, 0.4143406593406594, 0.2177655677655678, 0.19670329670329673, 0.5563492063492064, 0.29990842490842495]}, {\"categories\": [\"0\", \"1\", \"2\", \"3\", \"4\", \"5\", \"6\", \"7\", \"8\", \"9\", \"10\", \"11\", \"12\", \"13\", \"14\", \"15\", \"16\", \"17\", \"18\", \"19\", \"20\", \"21\", \"22\", \"23\", \"24\", \"25\", \"26\", \"27\", \"28\", \"29\", \"30\", \"31\", \"32\", \"33\", \"34\", \"38\", \"39\", \"40\", \"41\", \"42\", \"43\", \"44\", \"45\", \"46\", \"47\", \"48\", \"49\", \"50\", \"51\", \"52\", \"53\", \"54\"], \"mode\": \"lines\", \"name\": \"precision_score_macro_max\", \"stepped\": true, \"type\": \"scatter\", \"data\": [0.35643939393939394, 0.46452380952380945, 0.513095238095238, 0.513095238095238, 0.5226190476190476, 0.5226190476190476, 0.5226190476190476, 0.5226190476190476, 0.5226190476190476, 0.5226190476190476, 0.5226190476190476, 0.5226190476190476, 0.5226190476190476, 0.5226190476190476, 0.5226190476190476, 0.5226190476190476, 0.5226190476190476, 0.5226190476190476, 0.5226190476190476, 0.5226190476190476, 0.5226190476190476, 0.5226190476190476, 0.5226190476190476, 0.5226190476190476, 0.5226190476190476, 0.5226190476190476, 0.5226190476190476, 0.5226190476190476, 0.5226190476190476, 0.5226190476190476, 0.5226190476190476, 0.5226190476190476, 0.5226190476190476, 0.5226190476190476, 0.5563492063492064, 0.5563492063492064, 0.5563492063492064, 0.5563492063492064, 0.5563492063492064, 0.5563492063492064, 0.5563492063492064, 0.5563492063492064, 0.5563492063492064, 0.5563492063492064, 0.5563492063492064, 0.5563492063492064, 0.5563492063492064, 0.5563492063492064, 0.5563492063492064, 0.5563492063492064, 0.5563492063492064, 0.5563492063492064]}], \"precision_score_weighted\": [{\"categories\": [\"0\", \"1\", \"2\", \"3\", \"4\", \"5\", \"6\", \"7\", \"8\", \"9\", \"10\", \"11\", \"12\", \"13\", \"14\", \"15\", \"16\", \"17\", \"18\", \"19\", \"20\", \"21\", \"22\", \"23\", \"24\", \"25\", \"26\", \"27\", \"28\", \"29\", \"30\", \"31\", \"32\", \"33\", \"34\", \"38\", \"39\", \"40\", \"41\", \"42\", \"43\", \"44\", \"45\", \"46\", \"47\", \"48\", \"49\", \"50\", \"51\", \"52\", \"53\", \"54\"], \"mode\": \"markers\", \"name\": \"precision_score_weighted\", \"stepped\": false, \"type\": \"scatter\", \"data\": [0.3723326673326674, 0.49102564102564106, 0.5398063840920984, 0.4829792429792429, 0.5493301936159078, 0.47835164835164834, 0.48410256410256414, 0.4650549450549451, 0.4778754578754579, 0.3145637268714192, 0.44020146520146514, 0.4556166056166056, 0.19342671980034618, 0.4933333333333333, 0.48410256410256414, 0.481978021978022, 0.45536630036630044, 0.42974358974358984, 0.3812637362637363, 0.5187807430664574, 0.3812210012210012, 0.516080586080586, 0.2667441532826148, 0.15744475304914865, 0.45952380952380956, 0.3033566799500865, 0.4757692307692308, 0.4571495171495171, 0.15744475304914865, 0.19342671980034618, 0.40951714951714946, 0.4318131868131868, 0.40384615384615385, 0.4298534798534798, 0.5805860805860805, 0.5185347985347986, 0.45045177045177054, 0.44617826617826617, 0.28080398234244386, 0.46562271062271066, 0.19342671980034618, 0.4927716727716728, 0.15744475304914865, 0.37326007326007327, 0.15744475304914865, 0.15744475304914865, 0.397930402930403, 0.4193273759207825, 0.19342671980034618, 0.15744475304914865, 0.5805860805860805, 0.2829871593607857]}, {\"categories\": [\"0\", \"1\", \"2\", \"3\", \"4\", \"5\", \"6\", \"7\", \"8\", \"9\", \"10\", \"11\", \"12\", \"13\", \"14\", \"15\", \"16\", \"17\", \"18\", \"19\", \"20\", \"21\", \"22\", \"23\", \"24\", \"25\", \"26\", \"27\", \"28\", \"29\", \"30\", \"31\", \"32\", \"33\", \"34\", \"38\", \"39\", \"40\", \"41\", \"42\", \"43\", \"44\", \"45\", \"46\", \"47\", \"48\", \"49\", \"50\", \"51\", \"52\", \"53\", \"54\"], \"mode\": \"lines\", \"name\": \"precision_score_weighted_max\", \"stepped\": true, \"type\": \"scatter\", \"data\": [0.3723326673326674, 0.49102564102564106, 0.5398063840920984, 0.5398063840920984, 0.5493301936159078, 0.5493301936159078, 0.5493301936159078, 0.5493301936159078, 0.5493301936159078, 0.5493301936159078, 0.5493301936159078, 0.5493301936159078, 0.5493301936159078, 0.5493301936159078, 0.5493301936159078, 0.5493301936159078, 0.5493301936159078, 0.5493301936159078, 0.5493301936159078, 0.5493301936159078, 0.5493301936159078, 0.5493301936159078, 0.5493301936159078, 0.5493301936159078, 0.5493301936159078, 0.5493301936159078, 0.5493301936159078, 0.5493301936159078, 0.5493301936159078, 0.5493301936159078, 0.5493301936159078, 0.5493301936159078, 0.5493301936159078, 0.5493301936159078, 0.5805860805860805, 0.5805860805860805, 0.5805860805860805, 0.5805860805860805, 0.5805860805860805, 0.5805860805860805, 0.5805860805860805, 0.5805860805860805, 0.5805860805860805, 0.5805860805860805, 0.5805860805860805, 0.5805860805860805, 0.5805860805860805, 0.5805860805860805, 0.5805860805860805, 0.5805860805860805, 0.5805860805860805, 0.5805860805860805]}], \"recall_score_weighted\": [{\"categories\": [\"0\", \"1\", \"2\", \"3\", \"4\", \"5\", \"6\", \"7\", \"8\", \"9\", \"10\", \"11\", \"12\", \"13\", \"14\", \"15\", \"16\", \"17\", \"18\", \"19\", \"20\", \"21\", \"22\", \"23\", \"24\", \"25\", \"26\", \"27\", \"28\", \"29\", \"30\", \"31\", \"32\", \"33\", \"34\", \"38\", \"39\", \"40\", \"41\", \"42\", \"43\", \"44\", \"45\", \"46\", \"47\", \"48\", \"49\", \"50\", \"51\", \"52\", \"53\", \"54\"], \"mode\": \"markers\", \"name\": \"recall_score_weighted\", \"stepped\": false, \"type\": \"scatter\", \"data\": [0.33186813186813185, 0.47142857142857136, 0.5153846153846153, 0.45604395604395603, 0.5285714285714286, 0.4395604395604396, 0.47142857142857153, 0.4406593406593407, 0.4406593406593407, 0.3472527472527473, 0.45604395604395603, 0.41098901098901097, 0.37802197802197807, 0.47142857142857136, 0.47142857142857153, 0.45604395604395603, 0.4252747252747254, 0.3934065934065934, 0.34835164835164834, 0.5, 0.3637362637362637, 0.48571428571428577, 0.34725274725274724, 0.39340659340659345, 0.4406593406593407, 0.332967032967033, 0.4417582417582418, 0.40879120879120884, 0.39340659340659345, 0.37802197802197807, 0.3637362637362638, 0.39560439560439564, 0.39560439560439564, 0.41098901098901097, 0.5604395604395604, 0.48571428571428565, 0.4098901098901099, 0.4098901098901099, 0.3637362637362638, 0.4087912087912088, 0.37802197802197807, 0.4362637362637363, 0.39340659340659345, 0.4076923076923077, 0.39340659340659345, 0.39340659340659345, 0.4087912087912088, 0.3945054945054945, 0.37802197802197807, 0.39340659340659345, 0.5604395604395604, 0.40879120879120884]}, {\"categories\": [\"0\", \"1\", \"2\", \"3\", \"4\", \"5\", \"6\", \"7\", \"8\", \"9\", \"10\", \"11\", \"12\", \"13\", \"14\", \"15\", \"16\", \"17\", \"18\", \"19\", \"20\", \"21\", \"22\", \"23\", \"24\", \"25\", \"26\", \"27\", \"28\", \"29\", \"30\", \"31\", \"32\", \"33\", \"34\", \"38\", \"39\", \"40\", \"41\", \"42\", \"43\", \"44\", \"45\", \"46\", \"47\", \"48\", \"49\", \"50\", \"51\", \"52\", \"53\", \"54\"], \"mode\": \"lines\", \"name\": \"recall_score_weighted_max\", \"stepped\": true, \"type\": \"scatter\", \"data\": [0.33186813186813185, 0.47142857142857136, 0.5153846153846153, 0.5153846153846153, 0.5285714285714286, 0.5285714285714286, 0.5285714285714286, 0.5285714285714286, 0.5285714285714286, 0.5285714285714286, 0.5285714285714286, 0.5285714285714286, 0.5285714285714286, 0.5285714285714286, 0.5285714285714286, 0.5285714285714286, 0.5285714285714286, 0.5285714285714286, 0.5285714285714286, 0.5285714285714286, 0.5285714285714286, 0.5285714285714286, 0.5285714285714286, 0.5285714285714286, 0.5285714285714286, 0.5285714285714286, 0.5285714285714286, 0.5285714285714286, 0.5285714285714286, 0.5285714285714286, 0.5285714285714286, 0.5285714285714286, 0.5285714285714286, 0.5285714285714286, 0.5604395604395604, 0.5604395604395604, 0.5604395604395604, 0.5604395604395604, 0.5604395604395604, 0.5604395604395604, 0.5604395604395604, 0.5604395604395604, 0.5604395604395604, 0.5604395604395604, 0.5604395604395604, 0.5604395604395604, 0.5604395604395604, 0.5604395604395604, 0.5604395604395604, 0.5604395604395604, 0.5604395604395604, 0.5604395604395604]}], \"f1_score_macro\": [{\"categories\": [\"0\", \"1\", \"2\", \"3\", \"4\", \"5\", \"6\", \"7\", \"8\", \"9\", \"10\", \"11\", \"12\", \"13\", \"14\", \"15\", \"16\", \"17\", \"18\", \"19\", \"20\", \"21\", \"22\", \"23\", \"24\", \"25\", \"26\", \"27\", \"28\", \"29\", \"30\", \"31\", \"32\", \"33\", \"34\", \"38\", \"39\", \"40\", \"41\", \"42\", \"43\", \"44\", \"45\", \"46\", \"47\", \"48\", \"49\", \"50\", \"51\", \"52\", \"53\", \"54\"], \"mode\": \"markers\", \"name\": \"f1_score_macro\", \"stepped\": false, \"type\": \"scatter\", \"data\": [0.31574203574203574, 0.45826944297532535, 0.5049960497019321, 0.4303074703074704, 0.5162681109739934, 0.43070512820512813, 0.4535686535686536, 0.42829087579087577, 0.43536130536130535, 0.3235090399796282, 0.4335956200662083, 0.40636363636363637, 0.2839540920036276, 0.4575549450549451, 0.4535686535686536, 0.44573676323676326, 0.4160664335664335, 0.38359307359307354, 0.34361638361638364, 0.48698739169327415, 0.3466891441891442, 0.4767116217116218, 0.3097572362278245, 0.28132782937736495, 0.4273170620229444, 0.3137388102093984, 0.43598734598734606, 0.39952713952713953, 0.28132782937736495, 0.2839540920036276, 0.3513320013320014, 0.3915284715284716, 0.3711904761904762, 0.39496753246753247, 0.5484737484737485, 0.47479770229770235, 0.4032634032634032, 0.39821844821844826, 0.3211217050922934, 0.40004329004329, 0.2839540920036276, 0.4186401833460658, 0.28132782937736495, 0.3306207586702943, 0.28132782937736495, 0.28132782937736495, 0.3941699966699967, 0.3641984812573048, 0.2839540920036276, 0.28132782937736495, 0.5484737484737485, 0.3068180254557963]}, {\"categories\": [\"0\", \"1\", \"2\", \"3\", \"4\", \"5\", \"6\", \"7\", \"8\", \"9\", \"10\", \"11\", \"12\", \"13\", \"14\", \"15\", \"16\", \"17\", \"18\", \"19\", \"20\", \"21\", \"22\", \"23\", \"24\", \"25\", \"26\", \"27\", \"28\", \"29\", \"30\", \"31\", \"32\", \"33\", \"34\", \"38\", \"39\", \"40\", \"41\", \"42\", \"43\", \"44\", \"45\", \"46\", \"47\", \"48\", \"49\", \"50\", \"51\", \"52\", \"53\", \"54\"], \"mode\": \"lines\", \"name\": \"f1_score_macro_max\", \"stepped\": true, \"type\": \"scatter\", \"data\": [0.31574203574203574, 0.45826944297532535, 0.5049960497019321, 0.5049960497019321, 0.5162681109739934, 0.5162681109739934, 0.5162681109739934, 0.5162681109739934, 0.5162681109739934, 0.5162681109739934, 0.5162681109739934, 0.5162681109739934, 0.5162681109739934, 0.5162681109739934, 0.5162681109739934, 0.5162681109739934, 0.5162681109739934, 0.5162681109739934, 0.5162681109739934, 0.5162681109739934, 0.5162681109739934, 0.5162681109739934, 0.5162681109739934, 0.5162681109739934, 0.5162681109739934, 0.5162681109739934, 0.5162681109739934, 0.5162681109739934, 0.5162681109739934, 0.5162681109739934, 0.5162681109739934, 0.5162681109739934, 0.5162681109739934, 0.5162681109739934, 0.5484737484737485, 0.5484737484737485, 0.5484737484737485, 0.5484737484737485, 0.5484737484737485, 0.5484737484737485, 0.5484737484737485, 0.5484737484737485, 0.5484737484737485, 0.5484737484737485, 0.5484737484737485, 0.5484737484737485, 0.5484737484737485, 0.5484737484737485, 0.5484737484737485, 0.5484737484737485, 0.5484737484737485, 0.5484737484737485]}], \"recall_score_micro\": [{\"categories\": [\"0\", \"1\", \"2\", \"3\", \"4\", \"5\", \"6\", \"7\", \"8\", \"9\", \"10\", \"11\", \"12\", \"13\", \"14\", \"15\", \"16\", \"17\", \"18\", \"19\", \"20\", \"21\", \"22\", \"23\", \"24\", \"25\", \"26\", \"27\", \"28\", \"29\", \"30\", \"31\", \"32\", \"33\", \"34\", \"38\", \"39\", \"40\", \"41\", \"42\", \"43\", \"44\", \"45\", \"46\", \"47\", \"48\", \"49\", \"50\", \"51\", \"52\", \"53\", \"54\"], \"mode\": \"markers\", \"name\": \"recall_score_micro\", \"stepped\": false, \"type\": \"scatter\", \"data\": [0.33186813186813185, 0.47142857142857136, 0.5153846153846153, 0.45604395604395603, 0.5285714285714286, 0.4395604395604396, 0.47142857142857153, 0.4406593406593407, 0.4406593406593407, 0.3472527472527473, 0.45604395604395603, 0.41098901098901097, 0.37802197802197807, 0.47142857142857136, 0.47142857142857153, 0.45604395604395603, 0.4252747252747254, 0.3934065934065934, 0.34835164835164834, 0.5, 0.3637362637362637, 0.48571428571428577, 0.34725274725274724, 0.39340659340659345, 0.4406593406593407, 0.332967032967033, 0.4417582417582418, 0.40879120879120884, 0.39340659340659345, 0.37802197802197807, 0.3637362637362638, 0.39560439560439564, 0.39560439560439564, 0.41098901098901097, 0.5604395604395604, 0.48571428571428565, 0.4098901098901099, 0.4098901098901099, 0.3637362637362638, 0.4087912087912088, 0.37802197802197807, 0.4362637362637363, 0.39340659340659345, 0.4076923076923077, 0.39340659340659345, 0.39340659340659345, 0.4087912087912088, 0.3945054945054945, 0.37802197802197807, 0.39340659340659345, 0.5604395604395604, 0.40879120879120884]}, {\"categories\": [\"0\", \"1\", \"2\", \"3\", \"4\", \"5\", \"6\", \"7\", \"8\", \"9\", \"10\", \"11\", \"12\", \"13\", \"14\", \"15\", \"16\", \"17\", \"18\", \"19\", \"20\", \"21\", \"22\", \"23\", \"24\", \"25\", \"26\", \"27\", \"28\", \"29\", \"30\", \"31\", \"32\", \"33\", \"34\", \"38\", \"39\", \"40\", \"41\", \"42\", \"43\", \"44\", \"45\", \"46\", \"47\", \"48\", \"49\", \"50\", \"51\", \"52\", \"53\", \"54\"], \"mode\": \"lines\", \"name\": \"recall_score_micro_max\", \"stepped\": true, \"type\": \"scatter\", \"data\": [0.33186813186813185, 0.47142857142857136, 0.5153846153846153, 0.5153846153846153, 0.5285714285714286, 0.5285714285714286, 0.5285714285714286, 0.5285714285714286, 0.5285714285714286, 0.5285714285714286, 0.5285714285714286, 0.5285714285714286, 0.5285714285714286, 0.5285714285714286, 0.5285714285714286, 0.5285714285714286, 0.5285714285714286, 0.5285714285714286, 0.5285714285714286, 0.5285714285714286, 0.5285714285714286, 0.5285714285714286, 0.5285714285714286, 0.5285714285714286, 0.5285714285714286, 0.5285714285714286, 0.5285714285714286, 0.5285714285714286, 0.5285714285714286, 0.5285714285714286, 0.5285714285714286, 0.5285714285714286, 0.5285714285714286, 0.5285714285714286, 0.5604395604395604, 0.5604395604395604, 0.5604395604395604, 0.5604395604395604, 0.5604395604395604, 0.5604395604395604, 0.5604395604395604, 0.5604395604395604, 0.5604395604395604, 0.5604395604395604, 0.5604395604395604, 0.5604395604395604, 0.5604395604395604, 0.5604395604395604, 0.5604395604395604, 0.5604395604395604, 0.5604395604395604, 0.5604395604395604]}]}, \"metricName\": null, \"primaryMetricName\": \"accuracy\", \"showLegend\": false}, \"run_metrics\": [{\"name\": \"experiment_status\", \"run_id\": \"AutoML_dc2020ee-9a83-4286-abbe-67cae4d0bb33\", \"categories\": [0, 1, 2, 3, 4, 5, 6, 7, 8, 9, 10, 11, 12, 13], \"series\": [{\"data\": [\"DatasetEvaluation\", \"FeaturesGeneration\", \"DatasetFeaturization\", \"DatasetFeaturizationCompleted\", \"DatasetCrossValidationSplit\", \"ModelSelection\", \"BestRunExplainModel\", \"ModelExplanationDataSetSetup\", \"PickSurrogateModel\", \"EngineeredFeatureExplanations\", \"EngineeredFeatureExplanations\", \"RawFeaturesExplanations\", \"RawFeaturesExplanations\", \"BestRunExplainModel\"]}]}, {\"name\": \"experiment_status_description\", \"run_id\": \"AutoML_dc2020ee-9a83-4286-abbe-67cae4d0bb33\", \"categories\": [0, 1, 2, 3, 4, 5, 6, 7, 8, 9, 10, 11, 12, 13], \"series\": [{\"data\": [\"Gathering dataset statistics.\", \"Generating features for the dataset.\", \"Beginning to fit featurizers and featurize the dataset.\", \"Completed fit featurizers and featurizing the dataset.\", \"Generating individually featurized CV splits.\", \"Beginning model selection.\", \"Best run model explanations started\", \"Model explanations data setup completed\", \"Choosing LightGBM as the surrogate model for explanations\", \"Computation of engineered features started\", \"Computation of engineered features completed\", \"Computation of raw features started\", \"Computation of raw features completed\", \"Best run model explanations completed\"]}]}, {\"name\": \"f1_score_macro\", \"run_id\": \"AutoML_dc2020ee-9a83-4286-abbe-67cae4d0bb33\", \"categories\": [0], \"series\": [{\"data\": [0.5484737484737485]}]}, {\"name\": \"f1_score_micro\", \"run_id\": \"AutoML_dc2020ee-9a83-4286-abbe-67cae4d0bb33\", \"categories\": [0], \"series\": [{\"data\": [0.5604395604395604]}]}, {\"name\": \"average_precision_score_micro\", \"run_id\": \"AutoML_dc2020ee-9a83-4286-abbe-67cae4d0bb33\", \"categories\": [0], \"series\": [{\"data\": [0.5882869320973165]}]}, {\"name\": \"recall_score_macro\", \"run_id\": \"AutoML_dc2020ee-9a83-4286-abbe-67cae4d0bb33\", \"categories\": [0], \"series\": [{\"data\": [0.5557539682539683]}]}, {\"name\": \"norm_macro_recall\", \"run_id\": \"AutoML_dc2020ee-9a83-4286-abbe-67cae4d0bb33\", \"categories\": [0], \"series\": [{\"data\": [0.15650793650793648]}]}, {\"name\": \"AUC_micro\", \"run_id\": \"AutoML_dc2020ee-9a83-4286-abbe-67cae4d0bb33\", \"categories\": [0], \"series\": [{\"data\": [0.534035744475305]}]}, {\"name\": \"matthews_correlation\", \"run_id\": \"AutoML_dc2020ee-9a83-4286-abbe-67cae4d0bb33\", \"categories\": [0], \"series\": [{\"data\": [0.11211043468422317]}]}, {\"name\": \"AUC_weighted\", \"run_id\": \"AutoML_dc2020ee-9a83-4286-abbe-67cae4d0bb33\", \"categories\": [0], \"series\": [{\"data\": [0.5319642857142857]}]}, {\"name\": \"log_loss\", \"run_id\": \"AutoML_dc2020ee-9a83-4286-abbe-67cae4d0bb33\", \"categories\": [0], \"series\": [{\"data\": [0.8289905784134651]}]}, {\"name\": \"AUC_macro\", \"run_id\": \"AutoML_dc2020ee-9a83-4286-abbe-67cae4d0bb33\", \"categories\": [0], \"series\": [{\"data\": [0.5319642857142857]}]}, {\"name\": \"recall_score_weighted\", \"run_id\": \"AutoML_dc2020ee-9a83-4286-abbe-67cae4d0bb33\", \"categories\": [0], \"series\": [{\"data\": [0.5604395604395604]}]}, {\"name\": \"average_precision_score_weighted\", \"run_id\": \"AutoML_dc2020ee-9a83-4286-abbe-67cae4d0bb33\", \"categories\": [0], \"series\": [{\"data\": [0.6393922621944601]}]}, {\"name\": \"precision_score_weighted\", \"run_id\": \"AutoML_dc2020ee-9a83-4286-abbe-67cae4d0bb33\", \"categories\": [0], \"series\": [{\"data\": [0.5805860805860805]}]}, {\"name\": \"weighted_accuracy\", \"run_id\": \"AutoML_dc2020ee-9a83-4286-abbe-67cae4d0bb33\", \"categories\": [0], \"series\": [{\"data\": [0.5627671656639024]}]}, {\"name\": \"balanced_accuracy\", \"run_id\": \"AutoML_dc2020ee-9a83-4286-abbe-67cae4d0bb33\", \"categories\": [0], \"series\": [{\"data\": [0.5557539682539683]}]}, {\"name\": \"accuracy\", \"run_id\": \"AutoML_dc2020ee-9a83-4286-abbe-67cae4d0bb33\", \"categories\": [0], \"series\": [{\"data\": [0.5604395604395604]}]}, {\"name\": \"recall_score_micro\", \"run_id\": \"AutoML_dc2020ee-9a83-4286-abbe-67cae4d0bb33\", \"categories\": [0], \"series\": [{\"data\": [0.5604395604395604]}]}, {\"name\": \"f1_score_weighted\", \"run_id\": \"AutoML_dc2020ee-9a83-4286-abbe-67cae4d0bb33\", \"categories\": [0], \"series\": [{\"data\": [0.563003663003663]}]}, {\"name\": \"precision_score_macro\", \"run_id\": \"AutoML_dc2020ee-9a83-4286-abbe-67cae4d0bb33\", \"categories\": [0], \"series\": [{\"data\": [0.5563492063492064]}]}, {\"name\": \"precision_score_micro\", \"run_id\": \"AutoML_dc2020ee-9a83-4286-abbe-67cae4d0bb33\", \"categories\": [0], \"series\": [{\"data\": [0.5604395604395604]}]}, {\"name\": \"average_precision_score_macro\", \"run_id\": \"AutoML_dc2020ee-9a83-4286-abbe-67cae4d0bb33\", \"categories\": [0], \"series\": [{\"data\": [0.6095071934238601]}]}], \"run_logs\": \"\\nRun is completed.\", \"graph\": {}, \"widget_settings\": {\"childWidgetDisplay\": \"popup\", \"send_telemetry\": false, \"log_level\": \"INFO\", \"sdk_version\": \"1.26.0\"}, \"loading\": false}"
          },
          "metadata": {}
        },
        {
          "output_type": "display_data",
          "data": {
            "text/plain": "<IPython.core.display.HTML object>",
            "text/html": "<table style=\"width:100%\"><tr><th>Experiment</th><th>Id</th><th>Type</th><th>Status</th><th>Details Page</th><th>Docs Page</th></tr><tr><td>AutoMLversion</td><td>AutoML_dc2020ee-9a83-4286-abbe-67cae4d0bb33</td><td>automl</td><td>Completed</td><td><a href=\"https://ml.azure.com/runs/AutoML_dc2020ee-9a83-4286-abbe-67cae4d0bb33?wsid=/subscriptions/610d6e37-4747-4a20-80eb-3aad70a55f43/resourcegroups/aml-quickstarts-143135/workspaces/quick-starts-ws-143135&amp;tid=660b3398-b80e-49d2-bc5b-ac1dc93b5254\" target=\"_blank\" rel=\"noopener\">Link to Azure Machine Learning studio</a></td><td><a href=\"https://docs.microsoft.com/en-us/python/api/overview/azure/ml/intro?view=azure-ml-py\" target=\"_blank\" rel=\"noopener\">Link to Documentation</a></td></tr></table>"
          },
          "metadata": {}
        },
        {
          "output_type": "stream",
          "name": "stdout",
          "text": [
            "\n",
            "\n",
            "****************************************************************************************************\n",
            "DATA GUARDRAILS: \n",
            "\n",
            "TYPE:         Class balancing detection\n",
            "STATUS:       PASSED\n",
            "DESCRIPTION:  Your inputs were analyzed, and all classes are balanced in your training data.\n",
            "              Learn more about imbalanced data: https://aka.ms/AutomatedMLImbalancedData\n",
            "\n",
            "****************************************************************************************************\n",
            "\n",
            "TYPE:         Missing feature values imputation\n",
            "STATUS:       PASSED\n",
            "DESCRIPTION:  No feature missing values were detected in the training data.\n",
            "              Learn more about missing value imputation: https://aka.ms/AutomatedMLFeaturization\n",
            "\n",
            "****************************************************************************************************\n",
            "\n",
            "TYPE:         High cardinality feature detection\n",
            "STATUS:       DONE\n",
            "DESCRIPTION:  High cardinality features were detected in your inputs and handled.\n",
            "              Learn more about high cardinality feature handling: https://aka.ms/AutomatedMLFeaturization\n",
            "DETAILS:      High cardinality features refer to columns that contain a large percentage of unique values.\n",
            "+---------------------------------+---------------------------------+\n",
            "|Column name                      |Column Content Type              |\n",
            "+=================================+=================================+\n",
            "|Favorite Music Genre             |categorical_hash                 |\n",
            "|Favorite Beverage                |categorical_hash                 |\n",
            "|Favorite Soft Drink              |categorical_hash                 |\n",
            "+---------------------------------+---------------------------------+\n",
            "\n",
            "****************************************************************************************************\n",
            "\n",
            "****************************************************************************************************\n",
            "ITERATION: The iteration being evaluated.\n",
            "PIPELINE: A summary description of the pipeline being evaluated.\n",
            "DURATION: Time taken for the current iteration.\n",
            "METRIC: The result of computing score on the fitted pipeline.\n",
            "BEST: The best observed score thus far.\n",
            "****************************************************************************************************\n",
            "\n",
            " ITERATION   PIPELINE                                       DURATION      METRIC      BEST\n",
            "         0   MaxAbsScaler LightGBM                          0:05:13       0.3319    0.3319\n",
            "         1   MaxAbsScaler XGBoostClassifier                 0:03:07       0.4714    0.4714\n",
            "         2   MaxAbsScaler RandomForest                      0:00:51       0.5154    0.5154\n",
            "         3   MaxAbsScaler RandomForest                      0:02:05       0.4560    0.5154\n",
            "         4   MaxAbsScaler RandomForest                      0:00:51       0.5286    0.5286\n"
          ]
        }
      ],
      "execution_count": 14,
      "metadata": {
        "gather": {
          "logged": 1618831183575
        },
        "jupyter": {
          "outputs_hidden": false,
          "source_hidden": false
        },
        "nteract": {
          "transient": {
            "deleting": false
          }
        }
      }
    },
    {
      "cell_type": "markdown",
      "source": [
        "## Best Model\n",
        "\n",
        "TODO: In the cell below, get the best model from the automl experiments and display all the properties of the model.\n",
        "\n"
      ],
      "metadata": {}
    },
    {
      "cell_type": "code",
      "source": [
        "best_run, fitted_model = remote_run.get_output()\n",
        "print(best_run)\n",
        "print(fitted_model)"
      ],
      "outputs": [
        {
          "output_type": "stream",
          "name": "stdout",
          "text": [
            "Run(Experiment: AutoMLversion,\n",
            "Id: AutoML_dc2020ee-9a83-4286-abbe-67cae4d0bb33_53,\n",
            "Type: azureml.scriptrun,\n",
            "Status: Completed)\n",
            "Pipeline(memory=None,\n",
            "         steps=[('datatransformer',\n",
            "                 DataTransformer(enable_dnn=None, enable_feature_sweeping=None,\n",
            "                                 feature_sweeping_config=None,\n",
            "                                 feature_sweeping_timeout=None,\n",
            "                                 featurization_config=None, force_text_dnn=None,\n",
            "                                 is_cross_validation=None,\n",
            "                                 is_onnx_compatible=None, logger=None,\n",
            "                                 observer=None, task=None, working_dir=None)),\n",
            "                ('prefittedsoftvotingclassifier',...\n",
            "                                                                                                  max_features='log2',\n",
            "                                                                                                  max_leaf_nodes=None,\n",
            "                                                                                                  max_samples=None,\n",
            "                                                                                                  min_impurity_decrease=0.0,\n",
            "                                                                                                  min_impurity_split=None,\n",
            "                                                                                                  min_samples_leaf=0.01,\n",
            "                                                                                                  min_samples_split=0.10368421052631578,\n",
            "                                                                                                  min_weight_fraction_leaf=0.0,\n",
            "                                                                                                  n_estimators=400,\n",
            "                                                                                                  n_jobs=1,\n",
            "                                                                                                  oob_score=False,\n",
            "                                                                                                  random_state=None,\n",
            "                                                                                                  verbose=0,\n",
            "                                                                                                  warm_start=False))],\n",
            "                                                                     verbose=False))],\n",
            "                                               flatten_transform=None,\n",
            "                                               weights=[1.0]))],\n",
            "         verbose=False)\n",
            "Y_transformer(['LabelEncoder', LabelEncoder()])\n"
          ]
        }
      ],
      "execution_count": 10,
      "metadata": {
        "gather": {
          "logged": 1618831308429
        },
        "jupyter": {
          "outputs_hidden": false,
          "source_hidden": false
        },
        "nteract": {
          "transient": {
            "deleting": false
          }
        }
      }
    },
    {
      "cell_type": "code",
      "source": [
        "#TODO: Save the best model\n",
        "from azureml.core.model import Model\n",
        "best_run.register_model(model_path='outputs/model.pkl', model_name='breastcancer_bestautoml', model_framework=Model.Framework.SCIKITLEARN)\n",
        "model = ws.models['breastcancer_bestautoml']"
      ],
      "outputs": [],
      "execution_count": 12,
      "metadata": {
        "gather": {
          "logged": 1618831366011
        },
        "jupyter": {
          "outputs_hidden": false,
          "source_hidden": false
        },
        "nteract": {
          "transient": {
            "deleting": false
          }
        }
      }
    },
    {
      "cell_type": "code",
      "source": [
        "print(model)"
      ],
      "outputs": [
        {
          "output_type": "stream",
          "name": "stdout",
          "text": [
            "Model(workspace=Workspace.create(name='quick-starts-ws-143135', subscription_id='610d6e37-4747-4a20-80eb-3aad70a55f43', resource_group='aml-quickstarts-143135'), name=genderbest_automlmodel, id=genderbest_automlmodel:2, version=2, tags={}, properties={})\n"
          ]
        }
      ],
      "execution_count": 13,
      "metadata": {
        "gather": {
          "logged": 1618831371086
        }
      }
    },
    {
      "cell_type": "markdown",
      "source": [
        "## Model Deployment\n",
        "\n",
        "Remember you have to deploy only one of the two models you trained.. Perform the steps in the rest of this notebook only if you wish to deploy this model.\n",
        "\n",
        "TODO: In the cell below, register the model, create an inference config and deploy the model as a web service."
      ],
      "metadata": {}
    },
    {
      "cell_type": "code",
      "source": [
        "from azureml.core import Environment\n",
        "best_run.download_file('outputs/conda_env_v_1_0_0.yml','conda_env.yml')\n",
        "myenv = Environment.from_conda_specification(name=\"myenv\", file_path=\"conda_env.yml\")\n",
        "best_run.download_file('outputs/scoring_file_v_1_0_0.py', 'score.py')"
      ],
      "outputs": [],
      "execution_count": null,
      "metadata": {
        "gather": {
          "logged": 1598431435189
        },
        "jupyter": {
          "outputs_hidden": false,
          "source_hidden": false
        },
        "nteract": {
          "transient": {
            "deleting": false
          }
        }
      }
    },
    {
      "cell_type": "code",
      "source": [
        "from azureml.core.webservice import AciWebservice, Webservice\n",
        "from azureml.core.model import InferenceConfig\n",
        "\n",
        "# Configure the scoring environment\n",
        "inference_config = InferenceConfig(entry_script='score.py',\n",
        "                                   environment=myenv)\n",
        "\n",
        "service_name = 'automl-service'\n",
        "deployment_config = AciWebservice.deploy_configuration(cpu_cores = 1, memory_gb = 1, auth_enabled=True)\n",
        "aci_service = Model.deploy(workspace=ws,\n",
        "                           name= service_name,\n",
        "                           models= [model],\n",
        "                           inference_config= inference_config,\n",
        "                           deployment_config=deployment_config)\n",
        "aci_service.wait_for_deployment(show_output = True)"
      ],
      "outputs": [],
      "execution_count": null,
      "metadata": {}
    },
    {
      "cell_type": "code",
      "source": [
        "print(aci_service.state)"
      ],
      "outputs": [],
      "execution_count": null,
      "metadata": {}
    },
    {
      "cell_type": "code",
      "source": [
        "# Enable AppInsights\n",
        "aci_service.update(enable_app_insights=True)\n",
        "print('AppInsights enabled!')"
      ],
      "outputs": [],
      "execution_count": null,
      "metadata": {}
    },
    {
      "cell_type": "markdown",
      "source": [
        "TODO: In the cell below, send a request to the web service you deployed to test it."
      ],
      "metadata": {
        "collapsed": true,
        "gather": {
          "logged": 1598431657736
        },
        "jupyter": {
          "outputs_hidden": false,
          "source_hidden": false
        },
        "nteract": {
          "transient": {
            "deleting": false
          }
        }
      }
    },
    {
      "cell_type": "code",
      "source": [
        "endpoint = aci_service.scoring_uri\n",
        "primary, secondary = aci_service.get_keys()\n",
        "print(primary)\n",
        "print(endpoint)"
      ],
      "outputs": [],
      "execution_count": null,
      "metadata": {
        "gather": {
          "logged": 1598432707604
        },
        "jupyter": {
          "outputs_hidden": false,
          "source_hidden": false
        },
        "nteract": {
          "transient": {
            "deleting": false
          }
        }
      }
    },
    {
      "cell_type": "code",
      "source": [
        "!python endpoint.py"
      ],
      "outputs": [],
      "execution_count": null,
      "metadata": {}
    },
    {
      "cell_type": "markdown",
      "source": [
        "TODO: In the cell below, print the logs of the web service and delete the service"
      ],
      "metadata": {
        "collapsed": true,
        "gather": {
          "logged": 1598432765711
        },
        "jupyter": {
          "outputs_hidden": false,
          "source_hidden": false
        },
        "nteract": {
          "transient": {
            "deleting": false
          }
        }
      }
    },
    {
      "cell_type": "code",
      "source": [
        "aci_service.delete()\n",
        "print('Service deleted.')"
      ],
      "outputs": [],
      "execution_count": null,
      "metadata": {
        "jupyter": {
          "outputs_hidden": false,
          "source_hidden": false
        },
        "nteract": {
          "transient": {
            "deleting": false
          }
        }
      }
    },
    {
      "cell_type": "code",
      "source": [],
      "outputs": [],
      "execution_count": null,
      "metadata": {}
    }
  ],
  "metadata": {
    "kernel_info": {
      "name": "python3"
    },
    "kernelspec": {
      "name": "python3",
      "language": "python",
      "display_name": "Python 3"
    },
    "language_info": {
      "name": "python",
      "version": "3.6.9",
      "mimetype": "text/x-python",
      "codemirror_mode": {
        "name": "ipython",
        "version": 3
      },
      "pygments_lexer": "ipython3",
      "nbconvert_exporter": "python",
      "file_extension": ".py"
    },
    "nteract": {
      "version": "nteract-front-end@1.0.0"
    }
  },
  "nbformat": 4,
  "nbformat_minor": 2
}
